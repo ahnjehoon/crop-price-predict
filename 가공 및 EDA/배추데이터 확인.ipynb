{
 "cells": [
  {
   "cell_type": "code",
   "execution_count": 1,
   "metadata": {},
   "outputs": [],
   "source": [
    "import pandas as pd\n",
    "import numpy as np\n",
    "import seaborn as sns\n",
    "import matplotlib.pyplot as plt\n",
    "%matplotlib inline\n",
    "\n",
    "plt.rc('font', family='Malgun Gothic')"
   ]
  },
  {
   "cell_type": "code",
   "execution_count": 2,
   "metadata": {},
   "outputs": [
    {
     "name": "stderr",
     "output_type": "stream",
     "text": [
      "C:\\ProgramData\\Anaconda3\\lib\\site-packages\\IPython\\core\\interactiveshell.py:3049: DtypeWarning: Columns (16,26) have mixed types. Specify dtype option on import or set low_memory=False.\n",
      "  interactivity=interactivity, compiler=compiler, result=result)\n",
      "C:\\ProgramData\\Anaconda3\\lib\\site-packages\\IPython\\core\\interactiveshell.py:3049: DtypeWarning: Columns (26) have mixed types. Specify dtype option on import or set low_memory=False.\n",
      "  interactivity=interactivity, compiler=compiler, result=result)\n",
      "C:\\ProgramData\\Anaconda3\\lib\\site-packages\\IPython\\core\\interactiveshell.py:3049: DtypeWarning: Columns (16,21,26) have mixed types. Specify dtype option on import or set low_memory=False.\n",
      "  interactivity=interactivity, compiler=compiler, result=result)\n",
      "C:\\ProgramData\\Anaconda3\\lib\\site-packages\\IPython\\core\\interactiveshell.py:3049: DtypeWarning: Columns (16) have mixed types. Specify dtype option on import or set low_memory=False.\n",
      "  interactivity=interactivity, compiler=compiler, result=result)\n"
     ]
    }
   ],
   "source": [
    "df2008 = pd.read_csv(\"C:/농수산가격데이터/1001배추/2008010120081231.csv\")\n",
    "df2009 = pd.read_csv(\"C:/농수산가격데이터/1001배추/2009010120091231.csv\")\n",
    "df2010 = pd.read_csv(\"C:/농수산가격데이터/1001배추/2010010120101231.csv\")\n",
    "df2011 = pd.read_csv(\"C:/농수산가격데이터/1001배추/2011010120111231.csv\")\n",
    "df2012 = pd.read_csv(\"C:/농수산가격데이터/1001배추/2012010120121231.csv\")\n",
    "df2013 = pd.read_csv(\"C:/농수산가격데이터/1001배추/2013010120131231.csv\")\n",
    "df2014 = pd.read_csv(\"C:/농수산가격데이터/1001배추/2014010120141231.csv\")\n",
    "df2015 = pd.read_csv(\"C:/농수산가격데이터/1001배추/2015010120151231.csv\")\n",
    "df2016 = pd.read_csv(\"C:/농수산가격데이터/1001배추/2016010120161231.csv\")\n",
    "df2017 = pd.read_csv(\"C:/농수산가격데이터/1001배추/2017010120171231.csv\")\n",
    "df2018 = pd.read_csv(\"C:/농수산가격데이터/1001배추/2018010120181231.csv\")"
   ]
  },
  {
   "cell_type": "code",
   "execution_count": 3,
   "metadata": {},
   "outputs": [],
   "source": [
    "df = pd.concat((df2008, df2009, df2010, df2011, df2012, df2013, df2014, df2015, df2016, df2017, df2018), axis=0)"
   ]
  },
  {
   "cell_type": "raw",
   "metadata": {},
   "source": [
    "df = df[df['whsalmrktnewcode'] == 1005601]\n",
    "df[['aucsecode','aucsenm','delngde','delngprut','delngqy','stdqlitynewcode','stdqlitynewnm','stdspciesnewcode','stdspciesnewnm','stdmtcnewcode','stdmtcnewnm']].to_csv('C:/배추_가락시장.csv', index=False, encoding='utf-8-sig')"
   ]
  },
  {
   "attachments": {},
   "cell_type": "markdown",
   "metadata": {},
   "source": [
    "### 경매 종류 선택 aucsecode-숫자 aucsenm-한글\n",
    "\n",
    "- 1: 경매\n",
    "\n",
    "- 2: 정가수의\n",
    "\n",
    "  - 경쟁계약에 의하지 않고 임의로 상대를 선정하여 계약을 체결하는 것\n",
    "\n",
    "- 3: 자기계산\n",
    "\n",
    "  - 가격을 정하고 거래(정가매매)\n",
    "      1. 출하자 가격과 수량 정해서 도매법인에게 의견전달\n",
    "      2. 도매법인이 여러 구매자(중도매인, 매매참가인)에게 알려줌\n",
    "      3. 구매 의향 있는 구매자 등장 시 거래성사\n",
    "\n",
    "- 4: 매수도매\n",
    "\n",
    "  - 직접 생산자와 출하약정을 맺고 물량을 구입해 중도매인에게 적정 가격으로 공급하는 제도"
   ]
  },
  {
   "attachments": {},
   "cell_type": "markdown",
   "metadata": {},
   "source": [
    "### 경락일자 delngde\n",
    "### 거래단량 delngprut\n",
    "### 거래량 delngqy"
   ]
  },
  {
   "attachments": {},
   "cell_type": "markdown",
   "metadata": {},
   "source": [
    "### 등급코드 stdqlitynewcode / stdqlitynewnm"
   ]
  },
  {
   "cell_type": "raw",
   "metadata": {},
   "source": [
    "df[['stdqlitynewcode','stdqlitynewnm']].drop_duplicates()"
   ]
  },
  {
   "cell_type": "raw",
   "metadata": {},
   "source": [
    "f, ax = plt.subplots(figsize=(15, 4))\n",
    "sns.countplot(df['stdqlitynewnm'])"
   ]
  },
  {
   "cell_type": "raw",
   "metadata": {},
   "source": [
    "f, ax = plt.subplots(figsize=(15, 4))\n",
    "fig = sns.boxplot(x='stdqlitynewnm', y='sbidpric', data=df)"
   ]
  },
  {
   "cell_type": "markdown",
   "metadata": {},
   "source": [
    "### 품종코드 stdspciesnewcode / stdspciesnewnm\n",
    "- 구품종코드 stdspciescode stdspciesnm\n",
    "- 품목코드 stdprdlstnewcode / stdprdlstnewnm\n",
    "- 구품목코드 stdprdlstnm / stdprdlstcode "
   ]
  },
  {
   "cell_type": "raw",
   "metadata": {},
   "source": [
    "df[['stdspciesnewcode','stdspciesnewnm']].drop_duplicates()"
   ]
  },
  {
   "cell_type": "raw",
   "metadata": {},
   "source": [
    "f, ax = plt.subplots(figsize=(15, 4))\n",
    "sns.countplot(df['stdspciesnewnm'])"
   ]
  },
  {
   "cell_type": "raw",
   "metadata": {},
   "source": [
    "f, ax = plt.subplots(figsize=(15, 4))\n",
    "fig = sns.boxplot(x='stdspciesnewnm', y='sbidpric', data=df)"
   ]
  },
  {
   "cell_type": "markdown",
   "metadata": {},
   "source": [
    "### 산지코드 stdmtcnewcode / stdmtcnewnm\n",
    "- 구산지코드 cprmtccode / cprmtcnm"
   ]
  },
  {
   "cell_type": "raw",
   "metadata": {},
   "source": [
    "df[['stdmtcnewcode','stdmtcnewnm']].drop_duplicates()"
   ]
  },
  {
   "cell_type": "raw",
   "metadata": {},
   "source": [
    "f, ax = plt.subplots(figsize=(15, 4))\n",
    "sns.countplot(df.groupby(\"stdmtcnewcode\").filter(lambda x: len(x) > 50000)['stdmtcnewcode'])"
   ]
  },
  {
   "cell_type": "raw",
   "metadata": {},
   "source": [
    "f, ax = plt.subplots(figsize=(15, 4))\n",
    "sns.countplot(df.groupby(\"stdmtcnewcode\").filter(lambda x: len(x) > 50000)['stdmtcnewnm'])"
   ]
  },
  {
   "cell_type": "raw",
   "metadata": {},
   "source": [
    "f, ax = plt.subplots(figsize=(15, 4))\n",
    "fig = sns.boxplot(x='stdmtcnewnm', y='sbidpric', data=df)"
   ]
  },
  {
   "cell_type": "markdown",
   "metadata": {},
   "source": [
    "### 단위코드 stdunitnewcode / stdunitnewnm"
   ]
  },
  {
   "cell_type": "raw",
   "metadata": {},
   "source": [
    "df[['stdunitnewcode','stdunitnewnm']].drop_duplicates()"
   ]
  },
  {
   "cell_type": "markdown",
   "metadata": {},
   "source": [
    "### 시장코드 whsalmrktnewcode / whsalmrktnewnm\n",
    "- 구시장코드 whsalmrktcode / whsalmrktnm \n",
    "- 가락시장 코드 1005601(신) 110001(구)"
   ]
  },
  {
   "cell_type": "raw",
   "metadata": {},
   "source": [
    "df[['whsalmrktnewcode','whsalmrktnewnm']].drop_duplicates()"
   ]
  },
  {
   "cell_type": "raw",
   "metadata": {},
   "source": [
    "f, ax = plt.subplots(figsize=(15, 4))\n",
    "sns.countplot(df.groupby(\"whsalmrktnewcode\").filter(lambda x: len(x) > 250000)['whsalmrktnewnm'])"
   ]
  },
  {
   "cell_type": "raw",
   "metadata": {},
   "source": [
    "데이터 월단위 가공\n",
    "간단한 모델링"
   ]
  }
 ],
 "metadata": {
  "kernelspec": {
   "display_name": "Python 3",
   "language": "python",
   "name": "python3"
  },
  "language_info": {
   "codemirror_mode": {
    "name": "ipython",
    "version": 3
   },
   "file_extension": ".py",
   "mimetype": "text/x-python",
   "name": "python",
   "nbconvert_exporter": "python",
   "pygments_lexer": "ipython3",
   "version": "3.7.3"
  }
 },
 "nbformat": 4,
 "nbformat_minor": 2
}
