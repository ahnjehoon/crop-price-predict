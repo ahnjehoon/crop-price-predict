{
 "cells": [
  {
   "cell_type": "code",
   "execution_count": 1,
   "metadata": {},
   "outputs": [],
   "source": [
    "import os\n",
    "import pandas as pd\n",
    "import numpy as np\n",
    "import seaborn as sns\n",
    "import matplotlib.pyplot as plt\n",
    "%matplotlib inline\n",
    "plt.rc('font', family='Malgun Gothic')"
   ]
  },
  {
   "cell_type": "code",
   "execution_count": 2,
   "metadata": {},
   "outputs": [],
   "source": [
    "def getData():\n",
    "    df2008 = pd.read_csv(\"C:/농수산가격데이터/1001배추/2008010120081231.csv\")\n",
    "    df2009 = pd.read_csv(\"C:/농수산가격데이터/1001배추/2009010120091231.csv\")\n",
    "    df2010 = pd.read_csv(\"C:/농수산가격데이터/1001배추/2010010120101231.csv\")\n",
    "    df2011 = pd.read_csv(\"C:/농수산가격데이터/1001배추/2011010120111231.csv\")\n",
    "    df2012 = pd.read_csv(\"C:/농수산가격데이터/1001배추/2012010120121231.csv\")\n",
    "    df2013 = pd.read_csv(\"C:/농수산가격데이터/1001배추/2013010120131231.csv\")\n",
    "    df2014 = pd.read_csv(\"C:/농수산가격데이터/1001배추/2014010120141231.csv\")\n",
    "    df2015 = pd.read_csv(\"C:/농수산가격데이터/1001배추/2015010120151231.csv\")\n",
    "    df2016 = pd.read_csv(\"C:/농수산가격데이터/1001배추/2016010120161231.csv\")\n",
    "    df2017 = pd.read_csv(\"C:/농수산가격데이터/1001배추/2017010120171231.csv\")\n",
    "    df2018 = pd.read_csv(\"C:/농수산가격데이터/1001배추/2018010120181231.csv\")\n",
    "    return pd.concat((df2008, df2009, df2010, df2011, df2012, df2013, df2014, df2015, df2016, df2017, df2018), axis=0)"
   ]
  },
  {
   "cell_type": "code",
   "execution_count": 3,
   "metadata": {},
   "outputs": [],
   "source": [
    "def pricTransform(df):\n",
    "    #Kg당 가격(kgperprice)\n",
    "    df['kgperprice'] = ''\n",
    "    #총거래가격(totalprice) = 거래량(delngQy) * 가격(sbidpric)\n",
    "    df['totalprice'] = ''\n",
    "    #총량(totalweight) = 거래단량(delngprut) * 거래량(delngQy) * 단위\n",
    "    df['totalweight'] = ''\n",
    "\n",
    "    df11 = df[(df['stdunitnewcode']==11)]\n",
    "    df12 = df[(df['stdunitnewcode']==12)]\n",
    "    df13 = df[(df['stdunitnewcode']==13)]\n",
    "    for df11 in [df11]:\n",
    "        df11['kgperprice'] = df11['sbidpric'] / df11['delngprut'] * 1000\n",
    "        df11['totalweight'] = df11['delngprut'] * df11['delngqy'] / 1000\n",
    "    for df12 in [df12]:\n",
    "        df12['kgperprice'] = df12['sbidpric'] / df12['delngprut']\n",
    "        df12['totalweight'] = df12['delngprut'] * df12['delngqy']\n",
    "    for df13 in [df13]:\n",
    "        df13['kgperprice'] = df13['sbidpric'] / df13['delngprut'] / 1000\n",
    "        df13['totalweight'] = df13['delngprut'] * df13['delngqy'] / 1000\n",
    "    df = pd.concat([df11, df12, df13])\n",
    "\n",
    "    for df in [df]:\n",
    "        df['totalprice'] = df['sbidpric'] * df['delngqy']\n",
    "        \n",
    "    return df"
   ]
  },
  {
   "cell_type": "code",
   "execution_count": 4,
   "metadata": {},
   "outputs": [
    {
     "name": "stderr",
     "output_type": "stream",
     "text": [
      "C:\\Users\\PC\\AppData\\Local\\Continuum\\anaconda3\\lib\\site-packages\\IPython\\core\\interactiveshell.py:3214: DtypeWarning: Columns (16,26) have mixed types. Specify dtype option on import or set low_memory=False.\n",
      "  if (yield from self.run_code(code, result)):\n",
      "C:\\Users\\PC\\AppData\\Local\\Continuum\\anaconda3\\lib\\site-packages\\IPython\\core\\interactiveshell.py:3214: DtypeWarning: Columns (26) have mixed types. Specify dtype option on import or set low_memory=False.\n",
      "  if (yield from self.run_code(code, result)):\n",
      "C:\\Users\\PC\\AppData\\Local\\Continuum\\anaconda3\\lib\\site-packages\\IPython\\core\\interactiveshell.py:3214: DtypeWarning: Columns (16,21,26) have mixed types. Specify dtype option on import or set low_memory=False.\n",
      "  if (yield from self.run_code(code, result)):\n",
      "C:\\Users\\PC\\AppData\\Local\\Continuum\\anaconda3\\lib\\site-packages\\IPython\\core\\interactiveshell.py:3214: DtypeWarning: Columns (16) have mixed types. Specify dtype option on import or set low_memory=False.\n",
      "  if (yield from self.run_code(code, result)):\n"
     ]
    }
   ],
   "source": [
    "df = getData()"
   ]
  },
  {
   "cell_type": "code",
   "execution_count": 5,
   "metadata": {},
   "outputs": [
    {
     "name": "stderr",
     "output_type": "stream",
     "text": [
      "C:\\Users\\PC\\AppData\\Local\\Continuum\\anaconda3\\lib\\site-packages\\ipykernel_launcher.py:13: SettingWithCopyWarning: \n",
      "A value is trying to be set on a copy of a slice from a DataFrame.\n",
      "Try using .loc[row_indexer,col_indexer] = value instead\n",
      "\n",
      "See the caveats in the documentation: http://pandas.pydata.org/pandas-docs/stable/indexing.html#indexing-view-versus-copy\n",
      "  del sys.path[0]\n",
      "C:\\Users\\PC\\AppData\\Local\\Continuum\\anaconda3\\lib\\site-packages\\ipykernel_launcher.py:14: SettingWithCopyWarning: \n",
      "A value is trying to be set on a copy of a slice from a DataFrame.\n",
      "Try using .loc[row_indexer,col_indexer] = value instead\n",
      "\n",
      "See the caveats in the documentation: http://pandas.pydata.org/pandas-docs/stable/indexing.html#indexing-view-versus-copy\n",
      "  \n",
      "C:\\Users\\PC\\AppData\\Local\\Continuum\\anaconda3\\lib\\site-packages\\ipykernel_launcher.py:16: SettingWithCopyWarning: \n",
      "A value is trying to be set on a copy of a slice from a DataFrame.\n",
      "Try using .loc[row_indexer,col_indexer] = value instead\n",
      "\n",
      "See the caveats in the documentation: http://pandas.pydata.org/pandas-docs/stable/indexing.html#indexing-view-versus-copy\n",
      "  app.launch_new_instance()\n",
      "C:\\Users\\PC\\AppData\\Local\\Continuum\\anaconda3\\lib\\site-packages\\ipykernel_launcher.py:17: SettingWithCopyWarning: \n",
      "A value is trying to be set on a copy of a slice from a DataFrame.\n",
      "Try using .loc[row_indexer,col_indexer] = value instead\n",
      "\n",
      "See the caveats in the documentation: http://pandas.pydata.org/pandas-docs/stable/indexing.html#indexing-view-versus-copy\n",
      "C:\\Users\\PC\\AppData\\Local\\Continuum\\anaconda3\\lib\\site-packages\\ipykernel_launcher.py:19: SettingWithCopyWarning: \n",
      "A value is trying to be set on a copy of a slice from a DataFrame.\n",
      "Try using .loc[row_indexer,col_indexer] = value instead\n",
      "\n",
      "See the caveats in the documentation: http://pandas.pydata.org/pandas-docs/stable/indexing.html#indexing-view-versus-copy\n",
      "C:\\Users\\PC\\AppData\\Local\\Continuum\\anaconda3\\lib\\site-packages\\ipykernel_launcher.py:20: SettingWithCopyWarning: \n",
      "A value is trying to be set on a copy of a slice from a DataFrame.\n",
      "Try using .loc[row_indexer,col_indexer] = value instead\n",
      "\n",
      "See the caveats in the documentation: http://pandas.pydata.org/pandas-docs/stable/indexing.html#indexing-view-versus-copy\n"
     ]
    }
   ],
   "source": [
    "df = pricTransform(df)"
   ]
  },
  {
   "cell_type": "code",
   "execution_count": 6,
   "metadata": {},
   "outputs": [],
   "source": [
    "# 2만 이상은 결측치라 판단 제거\n",
    "df = df[(df['kgperprice'] <= 20000)]\n",
    "# 100이하 제거\n",
    "df = df[(df['kgperprice'] >= 100)]\n",
    "# 무게가 0인 것 제거\n",
    "df = df[(df['totalweight'] >= 0)]\n",
    "\n",
    "df['yyyy'] = df['delngde'].map(lambda x: str(x)[0:4])\n",
    "df['mm'] = df['delngde'].map(lambda x: str(x)[4:6])\n",
    "df['dd'] = df['delngde'].map(lambda x: str(x)[6:8])"
   ]
  },
  {
   "cell_type": "code",
   "execution_count": 7,
   "metadata": {},
   "outputs": [],
   "source": [
    "def search(code) :\n",
    "    df_2008 = df[(df['stdspciesnewcode'] == code) & (df['yyyy']== '2008')]\n",
    "    df_2009 = df[(df['stdspciesnewcode'] == code) & (df['yyyy']== '2009')]\n",
    "    df_2010 = df[(df['stdspciesnewcode'] == code) & (df['yyyy']== '2010')]\n",
    "    df_2011 = df[(df['stdspciesnewcode'] == code) & (df['yyyy']== '2011')]\n",
    "    df_2012 = df[(df['stdspciesnewcode'] == code) & (df['yyyy']== '2012')]\n",
    "    df_2013 = df[(df['stdspciesnewcode'] == code) & (df['yyyy']== '2013')]\n",
    "    df_2014 = df[(df['stdspciesnewcode'] == code) & (df['yyyy']== '2014')]\n",
    "    df_2015 = df[(df['stdspciesnewcode'] == code) & (df['yyyy']== '2015')]\n",
    "    df_2016 = df[(df['stdspciesnewcode'] == code) & (df['yyyy']== '2016')]\n",
    "    df_2017 = df[(df['stdspciesnewcode'] == code) & (df['yyyy']== '2017')]\n",
    "    df_2018 = df[(df['stdspciesnewcode'] == code) & (df['yyyy']== '2018')]\n",
    "    f, ax = plt.subplots(figsize=(20, 20))\n",
    "    plt.subplot(341)\n",
    "    plt.plot(df_2008.index, df_2008['totalweight'],'.')\n",
    "\n",
    "    plt.subplot(342)\n",
    "    plt.plot(df_2009.index, df_2009['totalweight'],'.')\n",
    "\n",
    "    plt.subplot(343)\n",
    "    plt.plot(df_2010.index, df_2010['totalweight'],'.')\n",
    "\n",
    "    plt.subplot(344)\n",
    "    plt.plot(df_2011.index, df_2011['totalweight'],'.')\n",
    "\n",
    "    plt.subplot(345)\n",
    "    plt.plot(df_2012.index, df_2012['totalweight'],'.')\n",
    "\n",
    "    plt.subplot(346)\n",
    "    plt.plot(df_2013.index, df_2013['totalweight'],'.')\n",
    "   \n",
    "    plt.subplot(347)\n",
    "    plt.plot(df_2014.index, df_2014['totalweight'],'.')\n",
    "  \n",
    "    plt.subplot(348)\n",
    "    plt.plot(df_2015.index, df_2015['totalweight'],'.')\n",
    "    \n",
    "    plt.subplot(349)\n",
    "    plt.plot(df_2016.index, df_2016['totalweight'],'.')\n",
    "    \n",
    "    plt.subplot(3,4,10)\n",
    "    plt.plot(df_2017.index, df_2017['totalweight'],'.')\n",
    "    \n",
    "    plt.subplot(3,4, 11)\n",
    "    plt.plot(df_2018.index, df_2018['totalweight'],'.')\n",
    "    \n",
    "    plt.show()\n",
    "\n",
    "    return "
   ]
  },
  {
   "cell_type": "code",
   "execution_count": null,
   "metadata": {},
   "outputs": [],
   "source": [
    "# 기타\n",
    "search(100199)"
   ]
  },
  {
   "cell_type": "code",
   "execution_count": null,
   "metadata": {},
   "outputs": [],
   "source": [
    "# 100108 쌈(알배기)배추\n",
    "search(100108)"
   ]
  },
  {
   "cell_type": "code",
   "execution_count": null,
   "metadata": {},
   "outputs": [],
   "source": [
    "# 100103 김장(가을)배추\n",
    "search(100103)"
   ]
  },
  {
   "cell_type": "code",
   "execution_count": null,
   "metadata": {},
   "outputs": [],
   "source": [
    "# 100101 봄배추\n",
    "search(100101)"
   ]
  },
  {
   "cell_type": "code",
   "execution_count": null,
   "metadata": {},
   "outputs": [],
   "source": [
    "# 100105 고냉지배추\n",
    "search(100105)"
   ]
  },
  {
   "cell_type": "code",
   "execution_count": null,
   "metadata": {},
   "outputs": [],
   "source": [
    "# 100106 저장배추\n",
    "search(100106)"
   ]
  },
  {
   "cell_type": "code",
   "execution_count": null,
   "metadata": {},
   "outputs": [],
   "source": [
    "# 100104 월동배추\n",
    "search(100104)"
   ]
  },
  {
   "cell_type": "code",
   "execution_count": null,
   "metadata": {},
   "outputs": [],
   "source": [
    "# 100109 우거지\n",
    "search(100109)"
   ]
  },
  {
   "cell_type": "code",
   "execution_count": null,
   "metadata": {},
   "outputs": [],
   "source": [
    "# 100110 배추뿌리\n",
    "search(100110)"
   ]
  },
  {
   "cell_type": "code",
   "execution_count": null,
   "metadata": {},
   "outputs": [],
   "source": [
    "# 100102 여름배추\n",
    "search(100102)"
   ]
  },
  {
   "cell_type": "code",
   "execution_count": null,
   "metadata": {},
   "outputs": [],
   "source": [
    "# 100107 생채용배추\n",
    "search(100107)"
   ]
  },
  {
   "cell_type": "code",
   "execution_count": null,
   "metadata": {},
   "outputs": [],
   "source": [
    "# 100111 절임배추\n",
    "search(100107)"
   ]
  },
  {
   "cell_type": "code",
   "execution_count": null,
   "metadata": {},
   "outputs": [],
   "source": [
    "# 100198 배추(수입)\n",
    "search(100198)"
   ]
  },
  {
   "cell_type": "code",
   "execution_count": null,
   "metadata": {},
   "outputs": [],
   "source": [
    "# 100113 배양채\n",
    "search(100113)"
   ]
  },
  {
   "cell_type": "code",
   "execution_count": null,
   "metadata": {},
   "outputs": [],
   "source": [
    "# 100197 우거지(수입)\n",
    "search(100197)"
   ]
  },
  {
   "cell_type": "raw",
   "metadata": {},
   "source": [
    "search100101 = df[(df['stdspciesnewcode'] == 100101) & (df['yyyy']== '2008')]\n",
    "search100102 = df[(df['stdspciesnewcode'] == 100102) & (df['yyyy']== '2008')]\n",
    "search100103 = df[(df['stdspciesnewcode'] == 100103) & (df['yyyy']== '2008')]\n",
    "search100104 = df[(df['stdspciesnewcode'] == 100104) & (df['yyyy']== '2008')]\n",
    "search100105 = df[(df['stdspciesnewcode'] == 100105) & (df['yyyy']== '2008')]\n",
    "search100106 = df[(df['stdspciesnewcode'] == 100106) & (df['yyyy']== '2008')]"
   ]
  },
  {
   "cell_type": "raw",
   "metadata": {},
   "source": [
    "plt.subplot(341)\n",
    "plt.plot(search100101.index,search100101['totalweight'],'.')\n",
    "\n",
    "plt.subplot(342)\n",
    "plt.plot(search100102.index,search100102['totalweight'],'.')\n",
    "\n",
    "plt.subplot(343)\n",
    "plt.plot(search100103.index,search100103['totalweight'],'.')\n",
    "\n",
    "plt.subplot(344)\n",
    "plt.plot(search100104.index,search100104['totalweight'],'.')\n",
    "\n",
    "plt.subplot(345)\n",
    "plt.plot(search100105.index,search100105['totalweight'],'.')\n",
    "\n",
    "plt.subplot(346)\n",
    "plt.plot(search100106.index,search100106['totalweight'],'.')\n",
    "plt.subplot(347)\n",
    "plt.plot(search100106.index,search100106['totalweight'],'.')\n",
    "plt.subplot(348)\n",
    "plt.plot(search100106.index,search100106['totalweight'],'.')\n",
    "plt.subplot(349)\n",
    "plt.plot(search100106.index,search100106['totalweight'],'.')\n",
    "plt.subplot(3,4,10)\n",
    "plt.plot(search100106.index,search100106['totalweight'],'.')\n",
    "plt.show()"
   ]
  },
  {
   "cell_type": "code",
   "execution_count": null,
   "metadata": {},
   "outputs": [],
   "source": []
  }
 ],
 "metadata": {
  "kernelspec": {
   "display_name": "Python 3",
   "language": "python",
   "name": "python3"
  },
  "language_info": {
   "codemirror_mode": {
    "name": "ipython",
    "version": 3
   },
   "file_extension": ".py",
   "mimetype": "text/x-python",
   "name": "python",
   "nbconvert_exporter": "python",
   "pygments_lexer": "ipython3",
   "version": "3.7.3"
  }
 },
 "nbformat": 4,
 "nbformat_minor": 2
}
