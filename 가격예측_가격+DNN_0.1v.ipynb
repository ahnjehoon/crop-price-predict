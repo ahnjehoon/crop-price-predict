{
 "cells": [
  {
   "cell_type": "code",
   "execution_count": 1,
   "metadata": {},
   "outputs": [],
   "source": [
    "import matplotlib.pyplot as plt #Visulization\n",
    "from matplotlib import rc # 한글 깨져서\n",
    "import seaborn as sns #Visulization\n",
    "import pandas as pd\n",
    "import numpy as np\n",
    "\n",
    "import scipy as sp\n",
    "import scipy.stats\n",
    "\n",
    "import datetime as dt\n",
    "from dateutil.relativedelta import relativedelta\n",
    "\n",
    "import tensorflow as tf\n",
    "\n",
    "tf.set_random_seed(777)\n",
    "rc('font', family=\"Malgun Gothic\")\n",
    "\n",
    "from sklearn.preprocessing import MinMaxScaler"
   ]
  },
  {
   "cell_type": "code",
   "execution_count": 22,
   "metadata": {},
   "outputs": [],
   "source": [
    "# mean_of_month = pd.read_csv(\"C:/Users/student/Desktop/d/mean_of_month_1.csv\")\n",
    "mean_of_month = pd.read_csv(\"C:/Users/PC/Desktop/d/mean_of_month_1.csv\")"
   ]
  },
  {
   "cell_type": "code",
   "execution_count": 3,
   "metadata": {},
   "outputs": [],
   "source": [
    "yyyymm_1 = '200801'\n",
    "yyyymm_2 = '201812'\n",
    "\n",
    "MONTH = relativedelta(months=+1)\n",
    "\n",
    "fmt = '%Y%m'\n",
    "date_1 = dt.datetime.strptime(yyyymm_1, fmt).date()\n",
    "date_2 = dt.datetime.strptime(yyyymm_2, fmt).date()\n",
    "\n",
    "yyyymm = []\n",
    "while date_1 <= date_2:\n",
    "    yyyymm.append(date_1.strftime('%Y')+date_1.strftime('%m'))\n",
    "    date_1 += MONTH"
   ]
  },
  {
   "cell_type": "code",
   "execution_count": 4,
   "metadata": {},
   "outputs": [],
   "source": [
    "mean_of_month['date'] = yyyymm\n",
    "mean_of_month['yyyy'] = mean_of_month['date'].map(lambda x : x[0:4])\n",
    "mean_of_month['mm'] = mean_of_month['date'].map(lambda x : x[4:6])"
   ]
  },
  {
   "cell_type": "code",
   "execution_count": 5,
   "metadata": {},
   "outputs": [
    {
     "data": {
      "image/png": "[encoded data removed]",
      "text/plain": [
       "<Figure size 432x288 with 1 Axes>"
      ]
     },
     "metadata": {
      "needs_background": "light"
     },
     "output_type": "display_data"
    }
   ],
   "source": [
    "import statsmodels.api as sm\n",
    "\n",
    "x_t = mean_of_month['kgPrice'][:-1]\n",
    "x_t1 = mean_of_month['kgPrice'][1:]\n",
    "y = np.log(x_t.values / x_t1.values)\n",
    "sm.graphics.tsa.plot_pacf(y, lags=40)\n",
    "plt.show()"
   ]
  },
  {
   "cell_type": "code",
   "execution_count": 42,
   "metadata": {},
   "outputs": [],
   "source": [
    "a = MinMaxScaler(mean_of_month['kgPrice'].values)"
   ]
  },
  {
   "cell_type": "code",
   "execution_count": 43,
   "metadata": {},
   "outputs": [
    {
     "ename": "TypeError",
     "evalue": "'MinMaxScaler' object is not subscriptable",
     "output_type": "error",
     "traceback": [
      "\u001b[1;31m---------------------------------------------------------------------------\u001b[0m",
      "\u001b[1;31mTypeError\u001b[0m                                 Traceback (most recent call last)",
      "\u001b[1;32m<ipython-input-43-5027c9d5960e>\u001b[0m in \u001b[0;36m<module>\u001b[1;34m\u001b[0m\n\u001b[1;32m----> 1\u001b[1;33m \u001b[0ma\u001b[0m\u001b[1;33m[\u001b[0m\u001b[1;33m:\u001b[0m\u001b[1;33m,\u001b[0m \u001b[1;36m0\u001b[0m\u001b[1;33m:\u001b[0m\u001b[1;33m-\u001b[0m\u001b[1;36m1\u001b[0m\u001b[1;33m]\u001b[0m\u001b[1;33m\u001b[0m\u001b[1;33m\u001b[0m\u001b[0m\n\u001b[0m",
      "\u001b[1;31mTypeError\u001b[0m: 'MinMaxScaler' object is not subscriptable"
     ]
    }
   ],
   "source": [
    "a[:, 0:-1]"
   ]
  },
  {
   "cell_type": "code",
   "execution_count": 40,
   "metadata": {},
   "outputs": [
    {
     "data": {
      "text/plain": [
       "<bound method BaseEstimator.get_params of MinMaxScaler(copy=True,\n",
       "       feature_range=0       968.499267\n",
       "1       837.201915\n",
       "2      1011.106582\n",
       "3      1091.977029\n",
       "4       956.656570\n",
       "5       856.522962\n",
       "6      1092.739634\n",
       "7      1324.099748\n",
       "8       778.940863\n",
       "9       794.514954\n",
       "10      612.843249\n",
       "11      426.795533\n",
       "12      582.413457\n",
       "13      594.806587\n",
       "14      790.950294\n",
       "1...\n",
       "129     628.946874\n",
       "130     536.997266\n",
       "131     570.352129\n",
       "Name: kgPrice, Length: 132, dtype: float64)>"
      ]
     },
     "execution_count": 40,
     "metadata": {},
     "output_type": "execute_result"
    }
   ],
   "source": [
    "a.get_params"
   ]
  },
  {
   "cell_type": "code",
   "execution_count": 37,
   "metadata": {},
   "outputs": [
    {
     "ename": "AttributeError",
     "evalue": "'MinMaxScaler' object has no attribute 'values'",
     "output_type": "error",
     "traceback": [
      "\u001b[1;31m---------------------------------------------------------------------------\u001b[0m",
      "\u001b[1;31mAttributeError\u001b[0m                            Traceback (most recent call last)",
      "\u001b[1;32m<ipython-input-37-7fd0219895a1>\u001b[0m in \u001b[0;36m<module>\u001b[1;34m\u001b[0m\n\u001b[1;32m----> 1\u001b[1;33m \u001b[0ma\u001b[0m\u001b[1;33m.\u001b[0m\u001b[0mvalues\u001b[0m\u001b[1;33m\u001b[0m\u001b[1;33m\u001b[0m\u001b[0m\n\u001b[0m",
      "\u001b[1;31mAttributeError\u001b[0m: 'MinMaxScaler' object has no attribute 'values'"
     ]
    }
   ],
   "source": [
    "a.values"
   ]
  },
  {
   "cell_type": "code",
   "execution_count": 24,
   "metadata": {},
   "outputs": [
    {
     "name": "stdout",
     "output_type": "stream",
     "text": [
      "MinMaxScaler(copy=True,\n",
      "       feature_range=0       968.499267\n",
      "1       837.201915\n",
      "2      1011.106582\n",
      "3      1091.977029\n",
      "4       956.656570\n",
      "5       856.522962\n",
      "6      1092.739634\n",
      "7      1324.099748\n",
      "8       778.940863\n",
      "9       794.514954\n",
      "10      612.843249\n",
      "11      426.795533\n",
      "12      582.413457\n",
      "13      594.806587\n",
      "14      790.950294\n",
      "1...\n",
      "129     628.946874\n",
      "130     536.997266\n",
      "131     570.352129\n",
      "Name: kgPrice, Length: 132, dtype: float64)\n"
     ]
    }
   ],
   "source": [
    "print(MinMaxScaler(mean_of_month['kgPrice']))"
   ]
  },
  {
   "cell_type": "code",
   "execution_count": 21,
   "metadata": {},
   "outputs": [
    {
     "data": {
      "text/plain": [
       "0      MinMaxScaler(copy=True,\\n       feature_range=...\n",
       "1      MinMaxScaler(copy=True,\\n       feature_range=...\n",
       "2      MinMaxScaler(copy=True,\\n       feature_range=...\n",
       "3      MinMaxScaler(copy=True,\\n       feature_range=...\n",
       "4      MinMaxScaler(copy=True,\\n       feature_range=...\n",
       "5      MinMaxScaler(copy=True,\\n       feature_range=...\n",
       "6      MinMaxScaler(copy=True,\\n       feature_range=...\n",
       "7      MinMaxScaler(copy=True,\\n       feature_range=...\n",
       "8      MinMaxScaler(copy=True,\\n       feature_range=...\n",
       "9      MinMaxScaler(copy=True,\\n       feature_range=...\n",
       "10     MinMaxScaler(copy=True,\\n       feature_range=...\n",
       "11     MinMaxScaler(copy=True,\\n       feature_range=...\n",
       "12     MinMaxScaler(copy=True,\\n       feature_range=...\n",
       "13     MinMaxScaler(copy=True,\\n       feature_range=...\n",
       "14     MinMaxScaler(copy=True,\\n       feature_range=...\n",
       "15     MinMaxScaler(copy=True,\\n       feature_range=...\n",
       "16     MinMaxScaler(copy=True,\\n       feature_range=...\n",
       "17     MinMaxScaler(copy=True,\\n       feature_range=...\n",
       "18     MinMaxScaler(copy=True,\\n       feature_range=...\n",
       "19     MinMaxScaler(copy=True,\\n       feature_range=...\n",
       "20     MinMaxScaler(copy=True,\\n       feature_range=...\n",
       "21     MinMaxScaler(copy=True,\\n       feature_range=...\n",
       "22     MinMaxScaler(copy=True,\\n       feature_range=...\n",
       "23     MinMaxScaler(copy=True,\\n       feature_range=...\n",
       "24     MinMaxScaler(copy=True,\\n       feature_range=...\n",
       "25     MinMaxScaler(copy=True,\\n       feature_range=...\n",
       "26     MinMaxScaler(copy=True,\\n       feature_range=...\n",
       "27     MinMaxScaler(copy=True,\\n       feature_range=...\n",
       "28     MinMaxScaler(copy=True,\\n       feature_range=...\n",
       "29     MinMaxScaler(copy=True,\\n       feature_range=...\n",
       "                             ...                        \n",
       "102    MinMaxScaler(copy=True,\\n       feature_range=...\n",
       "103    MinMaxScaler(copy=True,\\n       feature_range=...\n",
       "104    MinMaxScaler(copy=True,\\n       feature_range=...\n",
       "105    MinMaxScaler(copy=True,\\n       feature_range=...\n",
       "106    MinMaxScaler(copy=True,\\n       feature_range=...\n",
       "107    MinMaxScaler(copy=True,\\n       feature_range=...\n",
       "108    MinMaxScaler(copy=True,\\n       feature_range=...\n",
       "109    MinMaxScaler(copy=True,\\n       feature_range=...\n",
       "110    MinMaxScaler(copy=True,\\n       feature_range=...\n",
       "111    MinMaxScaler(copy=True,\\n       feature_range=...\n",
       "112    MinMaxScaler(copy=True,\\n       feature_range=...\n",
       "113    MinMaxScaler(copy=True,\\n       feature_range=...\n",
       "114    MinMaxScaler(copy=True,\\n       feature_range=...\n",
       "115    MinMaxScaler(copy=True,\\n       feature_range=...\n",
       "116    MinMaxScaler(copy=True,\\n       feature_range=...\n",
       "117    MinMaxScaler(copy=True,\\n       feature_range=...\n",
       "118    MinMaxScaler(copy=True,\\n       feature_range=...\n",
       "119    MinMaxScaler(copy=True,\\n       feature_range=...\n",
       "120    MinMaxScaler(copy=True,\\n       feature_range=...\n",
       "121    MinMaxScaler(copy=True,\\n       feature_range=...\n",
       "122    MinMaxScaler(copy=True,\\n       feature_range=...\n",
       "123    MinMaxScaler(copy=True,\\n       feature_range=...\n",
       "124    MinMaxScaler(copy=True,\\n       feature_range=...\n",
       "125    MinMaxScaler(copy=True,\\n       feature_range=...\n",
       "126    MinMaxScaler(copy=True,\\n       feature_range=...\n",
       "127    MinMaxScaler(copy=True,\\n       feature_range=...\n",
       "128    MinMaxScaler(copy=True,\\n       feature_range=...\n",
       "129    MinMaxScaler(copy=True,\\n       feature_range=...\n",
       "130    MinMaxScaler(copy=True,\\n       feature_range=...\n",
       "131    MinMaxScaler(copy=True,\\n       feature_range=...\n",
       "Name: kgPrice, Length: 132, dtype: object"
      ]
     },
     "execution_count": 21,
     "metadata": {},
     "output_type": "execute_result"
    }
   ],
   "source": [
    "mean_of_month['kgPrice']"
   ]
  },
  {
   "cell_type": "code",
   "execution_count": 16,
   "metadata": {},
   "outputs": [],
   "source": [
    "mean_of_month['kgPrice'] = MinMaxScaler(mean_of_month['kgPrice'])"
   ]
  },
  {
   "cell_type": "code",
   "execution_count": 17,
   "metadata": {},
   "outputs": [
    {
     "name": "stdout",
     "output_type": "stream",
     "text": [
      "(103, 3)\n",
      "(103, 1)\n",
      "(26, 3)\n",
      "(26, 1)\n"
     ]
    }
   ],
   "source": [
    "x_t = mean_of_month['kgPrice'][3:]\n",
    "x_t1 = mean_of_month['kgPrice'][2:-1]\n",
    "x_t2 = mean_of_month['kgPrice'][1:-2]\n",
    "x_t3 = mean_of_month['kgPrice'][:-3]\n",
    "\n",
    "train_cut = -26\n",
    "test_cut = 103\n",
    "\n",
    "x_train = np.c_[ x_t1.values[:train_cut], x_t2.values[:train_cut], x_t3.values[:train_cut] ]\n",
    "y_train = x_t.values[:train_cut].reshape(-1,1)\n",
    "x_test = np.c_[ x_t1.values[test_cut:], x_t2.values[test_cut:], x_t3.values[test_cut:] ]\n",
    "y_test = x_t.values[test_cut:].reshape(-1,1)\n",
    "print(x_train.shape)\n",
    "print(y_train.shape)\n",
    "print(x_test.shape)\n",
    "print(y_test.shape)"
   ]
  },
  {
   "cell_type": "markdown",
   "metadata": {},
   "source": [
    "## 히든레이어 1개"
   ]
  },
  {
   "cell_type": "raw",
   "metadata": {},
   "source": [
    "X = tf.placeholder(tf.float32)\n",
    "Y = tf.placeholder(tf.float32)\n",
    "\n",
    "W1 = tf.Variable(tf.random_normal([x_train.shape[1], 100]))\n",
    "b1 = tf.Variable(tf.zeros([100]))\n",
    "H1 = tf.nn.relu(tf.matmul(X, W1)+b1)\n",
    "\n",
    "W2 = tf.Variable(tf.random_normal([100, 1]))\n",
    "b2 = tf.Variable(tf.zeros([1]))\n",
    "model = tf.matmul(H1, W2) + b2\n",
    "\n",
    "cost = tf.reduce_mean(tf.square(model - Y))\n",
    "optimizer = tf.train.AdamOptimizer(learning_rate=0.05)\n",
    "train_op = optimizer.minimize(cost)\n",
    "\n",
    "init = tf.global_variables_initializer()\n",
    "\n",
    "with tf.Session() as sess:\n",
    "    sess.run(init)\n",
    "    for step in range(5000):\n",
    "        _, cost_val = sess.run([train_op, cost], feed_dict={X: x_train, Y: y_train})\n",
    "        if step % 1000 == 0: print(\"[step: {}\tloss: {}]\".format(step, cost_val))\n",
    "    # 학습결과 확인\n",
    "    predict = sess.run(model, feed_dict={X: x_test})\n",
    "#     print(\"Y:\", sess.run(model, feed_dict={X:x_test }))"
   ]
  },
  {
   "cell_type": "markdown",
   "metadata": {},
   "source": [
    "## 히든레이어 3개 + DROPOUT"
   ]
  },
  {
   "cell_type": "code",
   "execution_count": 18,
   "metadata": {},
   "outputs": [
    {
     "ename": "TypeError",
     "evalue": "float() argument must be a string or a number, not 'MinMaxScaler'",
     "output_type": "error",
     "traceback": [
      "\u001b[1;31m---------------------------------------------------------------------------\u001b[0m",
      "\u001b[1;31mTypeError\u001b[0m                                 Traceback (most recent call last)",
      "\u001b[1;32m<ipython-input-18-1ddb69e2444f>\u001b[0m in \u001b[0;36m<module>\u001b[1;34m\u001b[0m\n\u001b[0;32m     34\u001b[0m     \u001b[0msess\u001b[0m\u001b[1;33m.\u001b[0m\u001b[0mrun\u001b[0m\u001b[1;33m(\u001b[0m\u001b[0minit\u001b[0m\u001b[1;33m)\u001b[0m\u001b[1;33m\u001b[0m\u001b[1;33m\u001b[0m\u001b[0m\n\u001b[0;32m     35\u001b[0m     \u001b[1;32mfor\u001b[0m \u001b[0mstep\u001b[0m \u001b[1;32min\u001b[0m \u001b[0mrange\u001b[0m\u001b[1;33m(\u001b[0m\u001b[1;36m10000\u001b[0m\u001b[1;33m)\u001b[0m\u001b[1;33m:\u001b[0m\u001b[1;33m\u001b[0m\u001b[1;33m\u001b[0m\u001b[0m\n\u001b[1;32m---> 36\u001b[1;33m         \u001b[0m_\u001b[0m\u001b[1;33m,\u001b[0m \u001b[0mcost_val\u001b[0m \u001b[1;33m=\u001b[0m \u001b[0msess\u001b[0m\u001b[1;33m.\u001b[0m\u001b[0mrun\u001b[0m\u001b[1;33m(\u001b[0m\u001b[1;33m[\u001b[0m\u001b[0mtrain_op\u001b[0m\u001b[1;33m,\u001b[0m \u001b[0mcost\u001b[0m\u001b[1;33m]\u001b[0m\u001b[1;33m,\u001b[0m \u001b[0mfeed_dict\u001b[0m\u001b[1;33m=\u001b[0m\u001b[1;33m{\u001b[0m\u001b[0mX\u001b[0m\u001b[1;33m:\u001b[0m \u001b[0mx_train\u001b[0m\u001b[1;33m,\u001b[0m \u001b[0mY\u001b[0m\u001b[1;33m:\u001b[0m \u001b[0my_train\u001b[0m\u001b[1;33m,\u001b[0m \u001b[0mD\u001b[0m\u001b[1;33m:\u001b[0m \u001b[1;36m0.8\u001b[0m\u001b[1;33m}\u001b[0m\u001b[1;33m)\u001b[0m\u001b[1;33m\u001b[0m\u001b[1;33m\u001b[0m\u001b[0m\n\u001b[0m\u001b[0;32m     37\u001b[0m         \u001b[1;32mif\u001b[0m \u001b[0mstep\u001b[0m \u001b[1;33m%\u001b[0m \u001b[1;36m1000\u001b[0m \u001b[1;33m==\u001b[0m \u001b[1;36m0\u001b[0m\u001b[1;33m:\u001b[0m \u001b[0mprint\u001b[0m\u001b[1;33m(\u001b[0m\u001b[1;34m\"[step: {}   loss: {}]\"\u001b[0m\u001b[1;33m.\u001b[0m\u001b[0mformat\u001b[0m\u001b[1;33m(\u001b[0m\u001b[0mstep\u001b[0m\u001b[1;33m,\u001b[0m \u001b[0mcost_val\u001b[0m\u001b[1;33m)\u001b[0m\u001b[1;33m)\u001b[0m\u001b[1;33m\u001b[0m\u001b[1;33m\u001b[0m\u001b[0m\n\u001b[0;32m     38\u001b[0m     \u001b[1;31m# 학습결과 확인\u001b[0m\u001b[1;33m\u001b[0m\u001b[1;33m\u001b[0m\u001b[1;33m\u001b[0m\u001b[0m\n",
      "\u001b[1;32m~\\AppData\\Local\\Continuum\\anaconda3\\lib\\site-packages\\tensorflow\\python\\client\\session.py\u001b[0m in \u001b[0;36mrun\u001b[1;34m(self, fetches, feed_dict, options, run_metadata)\u001b[0m\n\u001b[0;32m    927\u001b[0m     \u001b[1;32mtry\u001b[0m\u001b[1;33m:\u001b[0m\u001b[1;33m\u001b[0m\u001b[1;33m\u001b[0m\u001b[0m\n\u001b[0;32m    928\u001b[0m       result = self._run(None, fetches, feed_dict, options_ptr,\n\u001b[1;32m--> 929\u001b[1;33m                          run_metadata_ptr)\n\u001b[0m\u001b[0;32m    930\u001b[0m       \u001b[1;32mif\u001b[0m \u001b[0mrun_metadata\u001b[0m\u001b[1;33m:\u001b[0m\u001b[1;33m\u001b[0m\u001b[1;33m\u001b[0m\u001b[0m\n\u001b[0;32m    931\u001b[0m         \u001b[0mproto_data\u001b[0m \u001b[1;33m=\u001b[0m \u001b[0mtf_session\u001b[0m\u001b[1;33m.\u001b[0m\u001b[0mTF_GetBuffer\u001b[0m\u001b[1;33m(\u001b[0m\u001b[0mrun_metadata_ptr\u001b[0m\u001b[1;33m)\u001b[0m\u001b[1;33m\u001b[0m\u001b[1;33m\u001b[0m\u001b[0m\n",
      "\u001b[1;32m~\\AppData\\Local\\Continuum\\anaconda3\\lib\\site-packages\\tensorflow\\python\\client\\session.py\u001b[0m in \u001b[0;36m_run\u001b[1;34m(self, handle, fetches, feed_dict, options, run_metadata)\u001b[0m\n\u001b[0;32m   1119\u001b[0m             \u001b[0mfeed_handles\u001b[0m\u001b[1;33m[\u001b[0m\u001b[0msubfeed_t\u001b[0m\u001b[1;33m]\u001b[0m \u001b[1;33m=\u001b[0m \u001b[0msubfeed_val\u001b[0m\u001b[1;33m\u001b[0m\u001b[1;33m\u001b[0m\u001b[0m\n\u001b[0;32m   1120\u001b[0m           \u001b[1;32melse\u001b[0m\u001b[1;33m:\u001b[0m\u001b[1;33m\u001b[0m\u001b[1;33m\u001b[0m\u001b[0m\n\u001b[1;32m-> 1121\u001b[1;33m             \u001b[0mnp_val\u001b[0m \u001b[1;33m=\u001b[0m \u001b[0mnp\u001b[0m\u001b[1;33m.\u001b[0m\u001b[0masarray\u001b[0m\u001b[1;33m(\u001b[0m\u001b[0msubfeed_val\u001b[0m\u001b[1;33m,\u001b[0m \u001b[0mdtype\u001b[0m\u001b[1;33m=\u001b[0m\u001b[0msubfeed_dtype\u001b[0m\u001b[1;33m)\u001b[0m\u001b[1;33m\u001b[0m\u001b[1;33m\u001b[0m\u001b[0m\n\u001b[0m\u001b[0;32m   1122\u001b[0m \u001b[1;33m\u001b[0m\u001b[0m\n\u001b[0;32m   1123\u001b[0m           if (not is_tensor_handle_feed and\n",
      "\u001b[1;32m~\\AppData\\Local\\Continuum\\anaconda3\\lib\\site-packages\\numpy\\core\\numeric.py\u001b[0m in \u001b[0;36masarray\u001b[1;34m(a, dtype, order)\u001b[0m\n\u001b[0;32m    536\u001b[0m \u001b[1;33m\u001b[0m\u001b[0m\n\u001b[0;32m    537\u001b[0m     \"\"\"\n\u001b[1;32m--> 538\u001b[1;33m     \u001b[1;32mreturn\u001b[0m \u001b[0marray\u001b[0m\u001b[1;33m(\u001b[0m\u001b[0ma\u001b[0m\u001b[1;33m,\u001b[0m \u001b[0mdtype\u001b[0m\u001b[1;33m,\u001b[0m \u001b[0mcopy\u001b[0m\u001b[1;33m=\u001b[0m\u001b[1;32mFalse\u001b[0m\u001b[1;33m,\u001b[0m \u001b[0morder\u001b[0m\u001b[1;33m=\u001b[0m\u001b[0morder\u001b[0m\u001b[1;33m)\u001b[0m\u001b[1;33m\u001b[0m\u001b[1;33m\u001b[0m\u001b[0m\n\u001b[0m\u001b[0;32m    539\u001b[0m \u001b[1;33m\u001b[0m\u001b[0m\n\u001b[0;32m    540\u001b[0m \u001b[1;33m\u001b[0m\u001b[0m\n",
      "\u001b[1;31mTypeError\u001b[0m: float() argument must be a string or a number, not 'MinMaxScaler'"
     ]
    }
   ],
   "source": [
    "X = tf.placeholder(tf.float32)\n",
    "Y = tf.placeholder(tf.float32)\n",
    "D = tf.placeholder(tf.float32)\n",
    "hidden1 = 10\n",
    "hidden2 = 10\n",
    "hidden3 = 10\n",
    "\n",
    "W1 = tf.Variable(tf.random_normal([x_train.shape[1], hidden1]))\n",
    "b1 = tf.Variable(tf.zeros([hidden1]))\n",
    "H1 = tf.nn.relu(tf.matmul(X, W1)+b1)\n",
    "H1 = tf.nn.dropout(H1, D)\n",
    "\n",
    "W2 = tf.Variable(tf.random_normal([hidden1, hidden2]))\n",
    "b2 = tf.Variable(tf.zeros([hidden2]))\n",
    "H2 = tf.nn.relu(tf.matmul(H1, W2)+b2)\n",
    "H2 = tf.nn.dropout(H2, D)\n",
    "\n",
    "W3 = tf.Variable(tf.random_normal([hidden2, hidden3]))\n",
    "b3 = tf.Variable(tf.zeros([hidden3]))\n",
    "H3 = tf.nn.relu(tf.matmul(H2, W3)+b3)\n",
    "H3 = tf.nn.dropout(H3, D)\n",
    "\n",
    "W4 = tf.Variable(tf.random_normal([hidden3, 1]))\n",
    "b4 = tf.Variable(tf.zeros([1]))\n",
    "model = tf.matmul(H3, W4) + b4\n",
    "\n",
    "cost = tf.reduce_mean(tf.square(model - Y))\n",
    "optimizer = tf.train.AdamOptimizer(learning_rate=0.05)\n",
    "train_op = optimizer.minimize(cost)\n",
    "\n",
    "init = tf.global_variables_initializer()\n",
    "\n",
    "with tf.Session() as sess:\n",
    "    sess.run(init)\n",
    "    for step in range(10000):\n",
    "        _, cost_val = sess.run([train_op, cost], feed_dict={X: x_train, Y: y_train, D: 0.8})\n",
    "        if step % 1000 == 0: print(\"[step: {}\tloss: {}]\".format(step, cost_val))\n",
    "    # 학습결과 확인\n",
    "    predict = sess.run(model, feed_dict={X: x_test, D: 1})\n",
    "#     print(\"Y:\", sess.run(model, feed_dict={X:x_test }))"
   ]
  },
  {
   "cell_type": "code",
   "execution_count": null,
   "metadata": {},
   "outputs": [],
   "source": [
    "compare_value = np.c_[y_test, predict]\n",
    "\n",
    "# numppy array에 컬럼이름 주기\n",
    "compare_value = {'실제값':compare_value[:,0], '예측값':compare_value[:,1]}\n",
    "\n",
    "# Dataframe으로 만들기\n",
    "compare_value = pd.DataFrame(compare_value)"
   ]
  },
  {
   "cell_type": "code",
   "execution_count": 9,
   "metadata": {},
   "outputs": [
    {
     "data": {
      "text/plain": [
       "0.68"
      ]
     },
     "execution_count": 9,
     "metadata": {},
     "output_type": "execute_result"
    }
   ],
   "source": [
    "compare_value['실제값_비율'] = -1\n",
    "compare_value['예측값_비율'] = -1\n",
    "compare_value['맞았니'] = ''\n",
    "\n",
    "for i in range(len(compare_value) - 1):\n",
    "    if(compare_value.iloc[i,0] - compare_value.iloc[i+1,0] > 0):\n",
    "        compare_value.iloc[i,2] = 0\n",
    "    else: compare_value.iloc[i,2] = 1\n",
    "    if(compare_value.iloc[i,1] - compare_value.iloc[i+1,1] > 0):\n",
    "        compare_value.iloc[i,3] = 0\n",
    "    else: compare_value.iloc[i,3] = 1\n",
    "\n",
    "for i in range(len(compare_value)):\n",
    "    if(compare_value.iloc[i,2] == compare_value.iloc[i,3]):\n",
    "        compare_value.iloc[i,4] = 1\n",
    "    else:\n",
    "        compare_value.iloc[i,4] = 0\n",
    "\n",
    "# 오르고 내린거 맞춘 비율\n",
    "compare_value.iloc[:-1,4].sum() / (x_test.shape[0] - 1)"
   ]
  },
  {
   "cell_type": "code",
   "execution_count": 10,
   "metadata": {},
   "outputs": [
    {
     "data": {
      "text/plain": [
       "<matplotlib.axes._subplots.AxesSubplot at 0x2523d1bf7b8>"
      ]
     },
     "execution_count": 10,
     "metadata": {},
     "output_type": "execute_result"
    },
    {
     "data": {
      "image/png": "[encoded data removed]",
      "text/plain": [
       "<Figure size 720x432 with 1 Axes>"
      ]
     },
     "metadata": {
      "needs_background": "light"
     },
     "output_type": "display_data"
    }
   ],
   "source": [
    "plt.figure(num=None, figsize=(10, 6))\n",
    "sns.lineplot(data=compare_value.iloc[:,[0,1]])"
   ]
  },
  {
   "cell_type": "markdown",
   "metadata": {},
   "source": [
    "## 한달 땡겨봄"
   ]
  },
  {
   "cell_type": "raw",
   "metadata": {},
   "source": [
    "compare_value2 = pd.DataFrame(compare_value.iloc[1:,0].reset_index(drop=True))\n",
    "\n",
    "compare_value2 = pd.concat((compare_value2,compare_value.iloc[:,1]), axis=1)\n",
    "\n",
    "plt.figure(num=None, figsize=(10, 6))\n",
    "sns.lineplot(data=compare_value2)"
   ]
  },
  {
   "cell_type": "markdown",
   "metadata": {},
   "source": [
    "## 한달 미뤄봄"
   ]
  },
  {
   "cell_type": "code",
   "execution_count": 11,
   "metadata": {},
   "outputs": [
    {
     "data": {
      "text/plain": [
       "<matplotlib.axes._subplots.AxesSubplot at 0x253685cd8d0>"
      ]
     },
     "execution_count": 11,
     "metadata": {},
     "output_type": "execute_result"
    },
    {
     "data": {
      "image/png": "[encoded data removed]",
      "text/plain": [
       "<Figure size 720x432 with 1 Axes>"
      ]
     },
     "metadata": {
      "needs_background": "light"
     },
     "output_type": "display_data"
    }
   ],
   "source": [
    "compare_value3 = pd.DataFrame(compare_value.iloc[:,0:1])\n",
    "\n",
    "compare_value3.loc[-1] = x_t.values[102]  # adding a row\n",
    "compare_value3.index = compare_value3.index + 1  # shifting index\n",
    "compare_value3.sort_index(inplace=True) \n",
    "compare_value3 = pd.concat((compare_value3,compare_value.iloc[:,1]), axis=1)\n",
    "\n",
    "plt.figure(num=None, figsize=(10, 6))\n",
    "sns.lineplot(data=compare_value3)"
   ]
  },
  {
   "cell_type": "code",
   "execution_count": 12,
   "metadata": {},
   "outputs": [
    {
     "data": {
      "text/plain": [
       "0.84"
      ]
     },
     "execution_count": 12,
     "metadata": {},
     "output_type": "execute_result"
    }
   ],
   "source": [
    "compare_value3['실제값_비율'] = -1\n",
    "compare_value3['예측값_비율'] = -1\n",
    "compare_value3['맞았니'] = ''\n",
    "\n",
    "for i in range(len(compare_value3) - 1):\n",
    "    if(compare_value3.iloc[i,0] - compare_value3.iloc[i+1,0] > 0):\n",
    "        compare_value3.iloc[i,2] = 0\n",
    "    else: compare_value3.iloc[i,2] = 1\n",
    "    if(compare_value3.iloc[i,1] - compare_value3.iloc[i+1,1] > 0):\n",
    "        compare_value3.iloc[i,3] = 0\n",
    "    else: compare_value3.iloc[i,3] = 1\n",
    "\n",
    "for i in range(len(compare_value3)):\n",
    "    if(compare_value3.iloc[i,2] == compare_value3.iloc[i,3]):\n",
    "        compare_value3.iloc[i,4] = 1\n",
    "    else:\n",
    "        compare_value3.iloc[i,4] = 0\n",
    "\n",
    "# 오르고 내린거 맞춘 비율\n",
    "compare_value3.iloc[:-1,4].sum() / (x_test.shape[0] - 1)"
   ]
  },
  {
   "cell_type": "code",
   "execution_count": null,
   "metadata": {},
   "outputs": [],
   "source": []
  },
  {
   "cell_type": "code",
   "execution_count": null,
   "metadata": {},
   "outputs": [],
   "source": []
  }
 ],
 "metadata": {
  "kernelspec": {
   "display_name": "Python 3",
   "language": "python",
   "name": "python3"
  },
  "language_info": {
   "codemirror_mode": {
    "name": "ipython",
    "version": 3
   },
   "file_extension": ".py",
   "mimetype": "text/x-python",
   "name": "python",
   "nbconvert_exporter": "python",
   "pygments_lexer": "ipython3",
   "version": "3.7.3"
  }
 },
 "nbformat": 4,
 "nbformat_minor": 2
}
