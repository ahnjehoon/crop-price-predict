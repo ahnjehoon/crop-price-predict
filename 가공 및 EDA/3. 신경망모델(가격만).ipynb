{
 "cells": [
  {
   "cell_type": "code",
   "execution_count": 1,
   "metadata": {},
   "outputs": [],
   "source": [
    "import matplotlib.pyplot as plt #Visulization\n",
    "from matplotlib import rc # 한글 깨져서\n",
    "import seaborn as sns #Visulization\n",
    "import pandas as pd\n",
    "import numpy as np\n",
    "\n",
    "import scipy as sp\n",
    "import scipy.stats\n",
    "\n",
    "import datetime as dt\n",
    "from dateutil.relativedelta import relativedelta\n",
    "\n",
    "import tensorflow as tf\n",
    "\n",
    "# tf.set_random_seed(777)\n",
    "rc('font', family=\"Malgun Gothic\")"
   ]
  },
  {
   "cell_type": "code",
   "execution_count": 2,
   "metadata": {},
   "outputs": [],
   "source": [
    "random_seed = random.randrange(1,100000)\n",
    "tf.set_random_seed(random_seed)"
   ]
  },
  {
   "cell_type": "code",
   "execution_count": 3,
   "metadata": {},
   "outputs": [],
   "source": [
    "yyyymm_1 = '200801'\n",
    "yyyymm_2 = '201812'\n",
    "\n",
    "MONTH = relativedelta(months=+1)\n",
    "\n",
    "fmt = '%Y%m'\n",
    "date_1 = dt.datetime.strptime(yyyymm_1, fmt).date()\n",
    "date_2 = dt.datetime.strptime(yyyymm_2, fmt).date()\n",
    "\n",
    "yyyymm = []\n",
    "while date_1 <= date_2:\n",
    "    yyyymm.append(date_1.strftime('%Y')+date_1.strftime('%m'))\n",
    "    date_1 += MONTH"
   ]
  },
  {
   "cell_type": "code",
   "execution_count": 4,
   "metadata": {},
   "outputs": [],
   "source": [
    "mean_of_month['date'] = yyyymm\n",
    "mean_of_month['yyyy'] = mean_of_month['date'].map(lambda x : x[0:4])\n",
    "mean_of_month['mm'] = mean_of_month['date'].map(lambda x : x[4:6])"
   ]
  },
  {
   "cell_type": "raw",
   "metadata": {},
   "source": [
    "x_t = mean_of_month['kgPrice'][:-1]\n",
    "x_t1 = mean_of_month['kgPrice'][1:]\n",
    "y = np.log(x_t.values / x_t1.values)\n",
    "#y = x_t.values / x_t1.values\n",
    "import statsmodels.api as sm\n",
    "sm.graphics.tsa.plot_pacf(y, lags=40)\n",
    "plt.show()"
   ]
  },
  {
   "cell_type": "code",
   "execution_count": 5,
   "metadata": {},
   "outputs": [
    {
     "name": "stdout",
     "output_type": "stream",
     "text": [
      "(90, 3)\n",
      "(90, 1)\n",
      "(38, 3)\n",
      "(38, 1)\n"
     ]
    }
   ],
   "source": [
    "x_t  = mean_of_month['priceperkg'][4:]\n",
    "x_t1 = mean_of_month['priceperkg'][3:-1]\n",
    "x_t2 = mean_of_month['priceperkg'][2:-2]\n",
    "x_t3 = mean_of_month['priceperkg'][1:-3]\n",
    "x_t4 = mean_of_month['priceperkg'][:-4]\n",
    "\n",
    "xi_t  = np.log(x_t.values  / x_t1.values)\n",
    "xi_t1 = np.log(x_t1.values / x_t2.values)\n",
    "xi_t2 = np.log(x_t2.values / x_t3.values)\n",
    "xi_t3 = np.log(x_t3.values / x_t4.values)\n",
    "\n",
    "x_train = np.c_[ xi_t1[:-38], xi_t2[:-38], xi_t3[:-38] ]\n",
    "y_train = xi_t[:-38].reshape(-1,1)\n",
    "x_test = np.c_[ xi_t1[90:], xi_t2[90:], xi_t3[90:] ]\n",
    "y_test = xi_t[90:].reshape(-1,1)\n",
    "print(x_train.shape)\n",
    "print(y_train.shape)\n",
    "print(x_test.shape)\n",
    "print(y_test.shape)"
   ]
  },
  {
   "cell_type": "code",
   "execution_count": 6,
   "metadata": {},
   "outputs": [],
   "source": [
    "X = tf.placeholder(tf.float32)\n",
    "Y = tf.placeholder(tf.float32)\n",
    "\n",
    "W1 = tf.Variable(tf.random_normal([x_train.shape[1], 10]))\n",
    "b1 = tf.Variable(tf.zeros([10]))\n",
    "H1 = tf.nn.relu(tf.matmul(X, W1)+b1)\n",
    "\n",
    "W2 = tf.Variable(tf.random_normal([10, 1]))\n",
    "b2 = tf.Variable(tf.zeros([1]))\n",
    "model = tf.matmul(H1, W2) + b2"
   ]
  },
  {
   "cell_type": "code",
   "execution_count": 7,
   "metadata": {},
   "outputs": [],
   "source": [
    "cost = tf.reduce_mean(tf.square(model - Y))\n",
    "optimizer = tf.train.AdamOptimizer(learning_rate=0.001)\n",
    "train_op = optimizer.minimize(cost)"
   ]
  },
  {
   "cell_type": "code",
   "execution_count": 8,
   "metadata": {},
   "outputs": [
    {
     "name": "stdout",
     "output_type": "stream",
     "text": [
      "[step: 0\tloss: 2.3628947734832764]\n",
      "[step: 1000\tloss: 0.11075956374406815]\n",
      "[step: 2000\tloss: 0.076969675719738]\n"
     ]
    }
   ],
   "source": [
    "init = tf.global_variables_initializer()\n",
    "\n",
    "with tf.Session() as sess:\n",
    "    sess.run(init)\n",
    "    for step in range(3000):\n",
    "        _, cost_val = sess.run([train_op, cost], feed_dict={X: x_train, Y: y_train})\n",
    "        if step % 1000 == 0: print(\"[step: {}\tloss: {}]\".format(step, cost_val))\n",
    "    # 학습결과 확인\n",
    "    predict = sess.run(model, feed_dict={X: x_test})\n",
    "#     print(\"Y:\", sess.run(model, feed_dict={X:x_test }))"
   ]
  },
  {
   "cell_type": "code",
   "execution_count": 9,
   "metadata": {},
   "outputs": [],
   "source": [
    "compare_value = np.c_[y_test, predict]\n",
    "\n",
    "# numppy array에 컬럼이름 주기\n",
    "compare_value = {'실제값':compare_value[:,0], '예측값':compare_value[:,1]}\n",
    "\n",
    "# Dataframe으로 만들기\n",
    "compare_value = pd.DataFrame(compare_value)"
   ]
  },
  {
   "cell_type": "code",
   "execution_count": 10,
   "metadata": {},
   "outputs": [],
   "source": [
    "compare_value['실제값_비율'] = -1\n",
    "compare_value['예측값_비율'] = -1\n",
    "compare_value['맞았니'] = ''"
   ]
  },
  {
   "cell_type": "code",
   "execution_count": 11,
   "metadata": {},
   "outputs": [],
   "source": [
    "for i in range(len(compare_value)):\n",
    "    if(compare_value.iloc[i,0] < 0):\n",
    "        compare_value.iloc[i,2] = 0\n",
    "    else: compare_value.iloc[i,2] = 1\n",
    "    if(compare_value.iloc[i,1] < 0):\n",
    "        compare_value.iloc[i,3] = 0\n",
    "    else: compare_value.iloc[i,3] = 1"
   ]
  },
  {
   "cell_type": "code",
   "execution_count": 12,
   "metadata": {},
   "outputs": [],
   "source": [
    "for i in range(len(compare_value)):\n",
    "    if(compare_value.iloc[i,2] == compare_value.iloc[i,3]):\n",
    "        compare_value.iloc[i,4] = 1\n",
    "    else:\n",
    "        compare_value.iloc[i,4] = 0"
   ]
  },
  {
   "cell_type": "code",
   "execution_count": 13,
   "metadata": {},
   "outputs": [
    {
     "data": {
      "text/plain": [
       "0.6756756756756757"
      ]
     },
     "execution_count": 13,
     "metadata": {},
     "output_type": "execute_result"
    }
   ],
   "source": [
    "compare_value.iloc[:-1,4].sum() / (x_test.shape[0] - 1)"
   ]
  },
  {
   "cell_type": "code",
   "execution_count": 14,
   "metadata": {},
   "outputs": [
    {
     "data": {
      "text/plain": [
       "<matplotlib.axes._subplots.AxesSubplot at 0x2000f0edac8>"
      ]
     },
     "execution_count": 14,
     "metadata": {},
     "output_type": "execute_result"
    },
    {
     "name": "stderr",
     "output_type": "stream",
     "text": [
      "c:\\users\\pc\\appdata\\local\\programs\\python\\python37\\lib\\site-packages\\matplotlib\\backends\\backend_agg.py:211: RuntimeWarning: Glyph 8722 missing from current font.\n",
      "  font.set_text(s, 0.0, flags=flags)\n",
      "c:\\users\\pc\\appdata\\local\\programs\\python\\python37\\lib\\site-packages\\matplotlib\\backends\\backend_agg.py:180: RuntimeWarning: Glyph 8722 missing from current font.\n",
      "  font.set_text(s, 0, flags=flags)\n"
     ]
    },
    {
     "data": {
      "image/png": "[encoded data removed]",
      "text/plain": [
       "<Figure size 720x432 with 1 Axes>"
      ]
     },
     "metadata": {
      "needs_background": "light"
     },
     "output_type": "display_data"
    }
   ],
   "source": [
    "plt.figure(num=None, figsize=(10, 6))\n",
    "sns.lineplot(data=compare_value.iloc[:,[0,1]])"
   ]
  },
  {
   "cell_type": "code",
   "execution_count": null,
   "metadata": {},
   "outputs": [],
   "source": []
  }
 ],
 "metadata": {
  "kernelspec": {
   "display_name": "Python 3",
   "language": "python",
   "name": "python3"
  },
  "language_info": {
   "codemirror_mode": {
    "name": "ipython",
    "version": 3
   },
   "file_extension": ".py",
   "mimetype": "text/x-python",
   "name": "python",
   "nbconvert_exporter": "python",
   "pygments_lexer": "ipython3",
   "version": "3.6.8"
  }
 },
 "nbformat": 4,
 "nbformat_minor": 2
}
