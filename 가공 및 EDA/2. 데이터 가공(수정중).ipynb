{
 "cells": [
  {
   "cell_type": "code",
   "execution_count": 1,
   "metadata": {},
   "outputs": [],
   "source": [
    "#경고 끄기\n",
    "import warnings\n",
    "warnings.filterwarnings(action='ignore')"
   ]
  },
  {
   "cell_type": "code",
   "execution_count": 2,
   "metadata": {},
   "outputs": [],
   "source": [
    "import pandas as pd\n",
    "import numpy as np\n",
    "import seaborn as sns\n",
    "import matplotlib.pyplot as plt\n",
    "\n",
    "import statsmodels.api as sm\n",
    "\n",
    "%matplotlib inline\n",
    "plt.rc('font', family='Malgun Gothic')"
   ]
  },
  {
   "cell_type": "code",
   "execution_count": 3,
   "metadata": {},
   "outputs": [],
   "source": [
    "df = pd.read_csv(\"1001.csv\")"
   ]
  },
  {
   "cell_type": "code",
   "execution_count": 4,
   "metadata": {},
   "outputs": [],
   "source": [
    "# 11,특\n",
    "# 12,상\n",
    "# 13,보통\n",
    "# 1Z,무등급\n",
    "df = df[(df['stdqlitynewcode'] == '11')\n",
    "    | (df['stdqlitynewcode'] == '12')\n",
    "    | (df['stdqlitynewcode'] == '13')\n",
    "    | (df['stdqlitynewcode'] == '1Z')]"
   ]
  },
  {
   "cell_type": "raw",
   "metadata": {},
   "source": [
    "# 100101,봄배추\n",
    "# 100102,여름배추\n",
    "# 100103,김장(가을)배추\n",
    "# 100104,월동배추\n",
    "# 100105,고냉지배추\n",
    "# 100106,저장배추\n",
    "df = df[(df['stdspciesnewcode'] == 100101)\n",
    "        | (df['stdspciesnewcode'] == 100102)\n",
    "        | (df['stdspciesnewcode'] == 100103)\n",
    "        | (df['stdspciesnewcode'] == 100104)\n",
    "        | (df['stdspciesnewcode'] == 100105)\n",
    "        | (df['stdspciesnewcode'] == 100106)]"
   ]
  },
  {
   "cell_type": "code",
   "execution_count": 7,
   "metadata": {},
   "outputs": [],
   "source": [
    "df = df[(df['stdspciesnewcode'] == 100104)]"
   ]
  },
  {
   "cell_type": "code",
   "execution_count": 8,
   "metadata": {},
   "outputs": [],
   "source": [
    "# 경매 데이터\n",
    "df = df[(df['aucsecode'] == 1)]"
   ]
  },
  {
   "cell_type": "raw",
   "metadata": {},
   "source": [
    "# 수의계약 데이터\n",
    "df = df[(df['aucsecode'] == 2)]"
   ]
  },
  {
   "cell_type": "raw",
   "metadata": {},
   "source": [
    "#결측치 확인\n",
    "for c in df.columns:\n",
    "    print('{} : {}'.format(c, len(df.loc[pd.isnull(df[c]), c].values)))"
   ]
  },
  {
   "cell_type": "code",
   "execution_count": 10,
   "metadata": {},
   "outputs": [],
   "source": [
    "def pricTransform(df):\n",
    "    #Kg당 가격(kgperprice)\n",
    "    df['kgperprice'] = ''\n",
    "    #총거래가격(totalprice) = 거래량(delngQy) * 가격(sbidpric)\n",
    "    df['totalprice'] = ''\n",
    "    #총량(totalweight) = 거래단량(delngprut) * 거래량(delngQy) * 단위\n",
    "    df['totalweight'] = ''\n",
    "\n",
    "    df11 = df[(df['stdunitnewcode']==11)]\n",
    "    df12 = df[(df['stdunitnewcode']==12)]\n",
    "    df13 = df[(df['stdunitnewcode']==13)]\n",
    "    for df11 in [df11]:\n",
    "        df11['kgperprice'] = df11['sbidpric'] / df11['delngprut'] * 1000\n",
    "        df11['totalweight'] = df11['delngprut'] * df11['delngqy'] / 1000\n",
    "    for df12 in [df12]:\n",
    "        df12['kgperprice'] = df12['sbidpric'] / df12['delngprut']\n",
    "        df12['totalweight'] = df12['delngprut'] * df12['delngqy']\n",
    "    for df13 in [df13]:\n",
    "        df13['kgperprice'] = df13['sbidpric'] / df13['delngprut'] / 1000\n",
    "        df13['totalweight'] = df13['delngprut'] * df13['delngqy'] / 1000\n",
    "    df = pd.concat([df11, df12, df13])\n",
    "\n",
    "    for df in [df]:\n",
    "        df['totalprice'] = df['sbidpric'] * df['delngqy']\n",
    "        \n",
    "    return df"
   ]
  },
  {
   "cell_type": "code",
   "execution_count": 11,
   "metadata": {},
   "outputs": [],
   "source": [
    "df = pricTransform(df)"
   ]
  },
  {
   "cell_type": "code",
   "execution_count": 12,
   "metadata": {},
   "outputs": [],
   "source": [
    "df['yyyy'] = df['delngde'].map(lambda x: str(x)[0:4])\n",
    "df['mm'] = df['delngde'].map(lambda x: str(x)[4:6])\n",
    "df['dd'] = df['delngde'].map(lambda x: str(x)[6:8])"
   ]
  },
  {
   "cell_type": "code",
   "execution_count": 13,
   "metadata": {},
   "outputs": [],
   "source": [
    "new_df = pd.concat((df[['kgperprice','yyyy','mm']].groupby(['yyyy','mm']).mean(), df.groupby(['yyyy','mm'])[['totalprice','totalweight']].sum()), axis=1)"
   ]
  },
  {
   "cell_type": "code",
   "execution_count": 23,
   "metadata": {},
   "outputs": [],
   "source": [
    "new_df.to_csv('mean_of_month_1.csv')"
   ]
  },
  {
   "cell_type": "code",
   "execution_count": 26,
   "metadata": {},
   "outputs": [
    {
     "data": {
      "image/png": "[encoded data removed]",
      "text/plain": [
       "<Figure size 432x288 with 1 Axes>"
      ]
     },
     "metadata": {
      "needs_background": "light"
     },
     "output_type": "display_data"
    }
   ],
   "source": [
    "x_t  = new_df['kgperprice'][1:]\n",
    "x_t1 = new_df['kgperprice'][:-1]\n",
    "y = np.log(x_t.values / x_t1.values)\n",
    "sm.graphics.tsa.plot_pacf(y, lags=40)\n",
    "plt.show()"
   ]
  },
  {
   "cell_type": "code",
   "execution_count": 28,
   "metadata": {},
   "outputs": [],
   "source": [
    "x_t1 = pd.Series(x_t1.values)\n",
    "x_t = pd.Series(x_t.values)\n",
    "x_t1.corr(x_t)"
   ]
  },
  {
   "cell_type": "code",
   "execution_count": null,
   "metadata": {},
   "outputs": [],
   "source": [
    "df2 = df.groupby(['yyyy','mm'])[['kgperprice','totalprice','totalweight']].mean()"
   ]
  },
  {
   "cell_type": "code",
   "execution_count": null,
   "metadata": {},
   "outputs": [],
   "source": [
    "df2.to_csv('mean_of_month_1.csv')"
   ]
  },
  {
   "cell_type": "raw",
   "metadata": {},
   "source": [
    "sns.heatmap(data = df2.corr(), annot = True, cmap = 'Blues')"
   ]
  },
  {
   "cell_type": "code",
   "execution_count": null,
   "metadata": {},
   "outputs": [],
   "source": []
  }
 ],
 "metadata": {
  "kernelspec": {
   "display_name": "Python 3",
   "language": "python",
   "name": "python3"
  },
  "language_info": {
   "codemirror_mode": {
    "name": "ipython",
    "version": 3
   },
   "file_extension": ".py",
   "mimetype": "text/x-python",
   "name": "python",
   "nbconvert_exporter": "python",
   "pygments_lexer": "ipython3",
   "version": "3.7.4"
  }
 },
 "nbformat": 4,
 "nbformat_minor": 2
}
