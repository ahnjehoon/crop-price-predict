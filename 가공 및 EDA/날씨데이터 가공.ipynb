{
 "cells": [
  {
   "cell_type": "markdown",
   "metadata": {},
   "source": [
    "# 날씨데이터 가공"
   ]
  },
  {
   "cell_type": "code",
   "execution_count": 3,
   "metadata": {},
   "outputs": [],
   "source": [
    "import pandas as pd\n",
    "import numpy as np\n",
    "import seaborn as sns\n",
    "import matplotlib.pyplot as plt\n",
    "%matplotlib inline\n",
    "\n",
    "plt.rc('font', family='Malgun Gothic')\n",
    "\n",
    "#경고 끄기\n",
    "import warnings\n",
    "warnings.filterwarnings(action='ignore')"
   ]
  },
  {
   "cell_type": "code",
   "execution_count": 4,
   "metadata": {},
   "outputs": [],
   "source": [
    "df = pd.read_csv('20082018.csv')"
   ]
  },
  {
   "cell_type": "code",
   "execution_count": 5,
   "metadata": {},
   "outputs": [],
   "source": [
    "df['yyyy'] = df['일시'].apply(lambda x: str(x)[0:4])\n",
    "df['mm'] = df['일시'].apply(lambda x: str(x)[5:7])\n",
    "df['dd'] = df['일시'].apply(lambda x: str(x)[8:10])\n",
    "df['yyyymm'] = df['일시'].apply(lambda x: str(x)[0:4]+str(x)[5:7])\n",
    "df['yyyy'] = df['yyyy'].apply(lambda x: int(x))\n",
    "df['mm'] = df['mm'].apply(lambda x: int(x))\n",
    "df['dd'] = df['dd'].apply(lambda x: int(x))\n",
    "df['yyyymm'] = df['yyyymm'].apply(lambda x: int(x))\n",
    "df = df.sort_values([\"yyyymm\"], ascending=[True])"
   ]
  },
  {
   "cell_type": "raw",
   "metadata": {},
   "source": [
    "강원도는 더하자"
   ]
  },
  {
   "cell_type": "raw",
   "metadata": {},
   "source": [
    "1시간 최다강수량(mm) 3개\n",
    "10-20, 20-40, 40-\n",
    "강수량 5개\n",
    "0가뭄,1-40, 40-80,  80-110, 110-"
   ]
  },
  {
   "cell_type": "raw",
   "metadata": {},
   "source": [
    "최대풍속\n",
    "0-4 4-10 10-14 14-"
   ]
  },
  {
   "cell_type": "code",
   "execution_count": 8,
   "metadata": {},
   "outputs": [
    {
     "name": "stdout",
     "output_type": "stream",
     "text": [
      "105\n",
      "261\n",
      "216\n",
      "217\n"
     ]
    }
   ],
   "source": [
    "for x in df.지점.drop_duplicates():\n",
    "    print(x)"
   ]
  },
  {
   "cell_type": "code",
   "execution_count": 9,
   "metadata": {},
   "outputs": [
    {
     "name": "stdout",
     "output_type": "stream",
     "text": [
      "2008\n",
      "2009\n",
      "2010\n",
      "2011\n",
      "2012\n",
      "2013\n",
      "2014\n",
      "2015\n",
      "2016\n",
      "2017\n",
      "2018\n"
     ]
    }
   ],
   "source": [
    "for x in df.yyyy.drop_duplicates():\n",
    "    print(x)"
   ]
  },
  {
   "cell_type": "code",
   "execution_count": 10,
   "metadata": {},
   "outputs": [
    {
     "name": "stdout",
     "output_type": "stream",
     "text": [
      "1\n",
      "2\n",
      "3\n",
      "4\n",
      "5\n",
      "6\n",
      "7\n",
      "8\n",
      "9\n",
      "10\n",
      "11\n",
      "12\n"
     ]
    }
   ],
   "source": [
    "for x in df.mm.drop_duplicates():\n",
    "    print(x)"
   ]
  },
  {
   "cell_type": "code",
   "execution_count": null,
   "metadata": {},
   "outputs": [],
   "source": [
    "def rainfallProcess(df):\n",
    "    temp0 = 0\n",
    "    temp80110 = 0\n",
    "    temp110over = 0\n",
    "    return df"
   ]
  },
  {
   "cell_type": "code",
   "execution_count": 1,
   "metadata": {},
   "outputs": [],
   "source": [
    "def hourOfRainfallProcess(df):\n",
    "    temp1020 = 0\n",
    "    temp2040 = 0\n",
    "    temp40over = 0\n",
    "    return df"
   ]
  },
  {
   "cell_type": "code",
   "execution_count": null,
   "metadata": {},
   "outputs": [],
   "source": [
    "def windSpeedProcess(df):\n",
    "    temp05 = 0\n",
    "    temp510 = 0\n",
    "    temp1014 = 0\n",
    "    temp14over = 0\n",
    "    return df"
   ]
  },
  {
   "cell_type": "code",
   "execution_count": null,
   "metadata": {},
   "outputs": [],
   "source": [
    "new_df = pd.concat((df[['kgperprice','yyyy','mm']].groupby(['yyyy','mm']).mean(), df.groupby(['yyyy','mm'])[['totalprice','totalweight']].sum()), axis=1)"
   ]
  }
 ],
 "metadata": {
  "kernelspec": {
   "display_name": "Python 3",
   "language": "python",
   "name": "python3"
  },
  "language_info": {
   "codemirror_mode": {
    "name": "ipython",
    "version": 3
   },
   "file_extension": ".py",
   "mimetype": "text/x-python",
   "name": "python",
   "nbconvert_exporter": "python",
   "pygments_lexer": "ipython3",
   "version": "3.7.4"
  }
 },
 "nbformat": 4,
 "nbformat_minor": 2
}
