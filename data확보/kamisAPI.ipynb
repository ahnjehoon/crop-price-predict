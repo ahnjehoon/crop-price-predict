{
 "cells": [
  {
   "cell_type": "code",
   "execution_count": 1,
   "metadata": {},
   "outputs": [],
   "source": [
    "import requests as rq\n",
    "import pandas as pd\n",
    "import json\n",
    "import bs4\n",
    "import re\n",
    "import lxml"
   ]
  },
  {
   "cell_type": "code",
   "execution_count": 2,
   "metadata": {},
   "outputs": [],
   "source": [
    "year = []\n",
    "for x in range(1997, 2019 + 1):\n",
    "    year.append(str(x))"
   ]
  },
  {
   "cell_type": "code",
   "execution_count": 3,
   "metadata": {},
   "outputs": [],
   "source": [
    "url = 'http://www.kamis.or.kr/service/price/xml.do?action=periodProductList'"
   ]
  },
  {
   "cell_type": "code",
   "execution_count": 4,
   "metadata": {},
   "outputs": [],
   "source": [
    "def NoneXMLdata(params):\n",
    "    if params == None: return ''\n",
    "    else: return params.text.strip()"
   ]
  },
  {
   "cell_type": "code",
   "execution_count": 5,
   "metadata": {},
   "outputs": [],
   "source": [
    "data_dic = {\n",
    "         'date' : []\n",
    "        ,'price' : []\n",
    "    }"
   ]
  },
  {
   "cell_type": "code",
   "execution_count": 6,
   "metadata": {},
   "outputs": [],
   "source": [
    "def getDataXML(result_xml):\n",
    "    if len(data.find_all('item')) == 0:\n",
    "        return\n",
    "    # 데이터를 담을 딕셔너리\n",
    "    \n",
    "    result_list = result_xml.find_all('item')\n",
    "    # 태그의 수만큼 반복한다.\n",
    "    for result_tag in result_list : \n",
    "        if(NoneXMLdata(result_tag.find('countyname')) == '평균'):\n",
    "            yyyy = NoneXMLdata(result_tag.find('yyyy'))\n",
    "            regday = NoneXMLdata(result_tag.find('regday')).replace('/','')\n",
    "            price = NoneXMLdata(result_tag.find('price')).replace(',','')\n",
    "            data_dic['date'].append(yyyy+regday)\n",
    "            data_dic['price'].append(price)\n",
    "        "
   ]
  },
  {
   "cell_type": "code",
   "execution_count": 7,
   "metadata": {},
   "outputs": [],
   "source": [
    "for x in year:\n",
    "    params = {\n",
    "         'p_cert_key': '349bfca6-3f7a-40f7-9da3-4f303204e3b0'  \n",
    "        ,'p_cert_id': 'ahnjehoon'\n",
    "        ,'p_returntype': 'xml'\n",
    "        ,'p_startday': x + '-01-01'\n",
    "        ,'p_endday': x + '-12-31'\n",
    "        ,'p_itemcode': '211'\n",
    "    }\n",
    "    response = rq.get(url,params)\n",
    "    data = bs4.BeautifulSoup(response.text, 'lxml')\n",
    "    getDataXML(data)"
   ]
  },
  {
   "cell_type": "code",
   "execution_count": 8,
   "metadata": {},
   "outputs": [],
   "source": [
    "df = pd.DataFrame.from_dict(data_dic)\n",
    "df.to_csv('C:/crop_data/1997kamis.csv', index=False, encoding='utf-8-sig')"
   ]
  },
  {
   "cell_type": "code",
   "execution_count": null,
   "metadata": {},
   "outputs": [],
   "source": []
  }
 ],
 "metadata": {
  "kernelspec": {
   "display_name": "Python 3",
   "language": "python",
   "name": "python3"
  },
  "language_info": {
   "codemirror_mode": {
    "name": "ipython",
    "version": 3
   },
   "file_extension": ".py",
   "mimetype": "text/x-python",
   "name": "python",
   "nbconvert_exporter": "python",
   "pygments_lexer": "ipython3",
   "version": "3.6.8"
  }
 },
 "nbformat": 4,
 "nbformat_minor": 2
}
