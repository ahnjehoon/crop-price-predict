{
 "cells": [
  {
   "cell_type": "markdown",
   "metadata": {},
   "source": [
    "# PD1001만 생성했음"
   ]
  },
  {
   "cell_type": "code",
   "execution_count": 1,
   "metadata": {},
   "outputs": [],
   "source": [
    "import pymysql\n",
    "pymysql.install_as_MySQLdb()\n",
    "import MySQLdb\n",
    "from sqlalchemy import *"
   ]
  },
  {
   "cell_type": "code",
   "execution_count": 2,
   "metadata": {},
   "outputs": [],
   "source": [
    "with open(\"C:/open_data_key.txt\", 'r', encoding='utf-8') as f:\n",
    "    data_key = f.readlines()\n",
    "connection_string = data_key[1]"
   ]
  },
  {
   "cell_type": "code",
   "execution_count": 3,
   "metadata": {},
   "outputs": [],
   "source": [
    "engine = create_engine(connection_string, encoding='utf-8', echo=False)"
   ]
  },
  {
   "cell_type": "code",
   "execution_count": 5,
   "metadata": {},
   "outputs": [],
   "source": [
    "metadata = MetaData()\n",
    "\n",
    "product_predict = Table('pd1001', metadata\n",
    "    ,Column('id', Integer, primary_key=True, autoincrement=True)\n",
    "    ,Column('aucsecode', String(100))\n",
    "    ,Column('aucsenm', String(100))\n",
    "    ,Column('catgorycode', String(100))\n",
    "    ,Column('catgorynewcode', String(100))\n",
    "    ,Column('catgorynewnm', String(100))\n",
    "    ,Column('catgorynm', String(100))\n",
    "    ,Column('cprinsttcode', String(100))\n",
    "    ,Column('cprinsttnewcode', String(100))\n",
    "    ,Column('cprmtccode', String(100))\n",
    "    ,Column('cpruseprdlstcode', String(100))\n",
    "    ,Column('cpruseprdlstnm', String(100))\n",
    "    ,Column('delngde', String(100))\n",
    "    ,Column('delngprut', String(100))\n",
    "    ,Column('delngqy', String(100))\n",
    "    ,Column('insttnewnm', String(100))\n",
    "    ,Column('insttnm', String(100))\n",
    "    ,Column('ledgno', String(100))\n",
    "    ,Column('rnum', String(100))\n",
    "    ,Column('sbidpric', String(100))\n",
    "    ,Column('shipmntsecode', String(100))\n",
    "    ,Column('shipmntsenm', String(100))\n",
    "    ,Column('sleseqn', String(100))\n",
    "    ,Column('stdfrmlcnewcode', String(100))\n",
    "    ,Column('stdfrmlcnewnm', String(100))\n",
    "    ,Column('stdmgnewcode', String(100))\n",
    "    ,Column('stdmgnewnm', String(100))\n",
    "    ,Column('stdmtcnewcode', String(100))\n",
    "    ,Column('stdmtcnewnm', String(100))\n",
    "    ,Column('stdprdlstcode', String(100))\n",
    "    ,Column('stdprdlstnewcode', String(100))\n",
    "    ,Column('stdprdlstnewnm', String(100))\n",
    "    ,Column('stdprdlstnm', String(100))\n",
    "    ,Column('stdqlitynewcode', String(100))\n",
    "    ,Column('stdqlitynewnm', String(100))\n",
    "    ,Column('stdspciescode', String(100))\n",
    "    ,Column('stdspciesnewcode', String(100))\n",
    "    ,Column('stdspciesnewnm', String(100))\n",
    "    ,Column('stdspciesnm', String(100))\n",
    "    ,Column('stdunitnewcode', String(100))\n",
    "    ,Column('stdunitnewnm', String(100))\n",
    "    ,Column('whsalmrktcode', String(100))\n",
    "    ,Column('whsalmrktnewcode', String(100))\n",
    "    ,Column('whsalmrktnewnm', String(100))\n",
    "    ,Column('whsalmrktnm', String(100))\n",
    ")\n",
    "\n",
    "metadata.create_all(engine)"
   ]
  },
  {
   "cell_type": "code",
   "execution_count": null,
   "metadata": {},
   "outputs": [],
   "source": []
  }
 ],
 "metadata": {
  "kernelspec": {
   "display_name": "Python 3",
   "language": "python",
   "name": "python3"
  },
  "language_info": {
   "codemirror_mode": {
    "name": "ipython",
    "version": 3
   },
   "file_extension": ".py",
   "mimetype": "text/x-python",
   "name": "python",
   "nbconvert_exporter": "python",
   "pygments_lexer": "ipython3",
   "version": "3.7.3"
  }
 },
 "nbformat": 4,
 "nbformat_minor": 2
}
