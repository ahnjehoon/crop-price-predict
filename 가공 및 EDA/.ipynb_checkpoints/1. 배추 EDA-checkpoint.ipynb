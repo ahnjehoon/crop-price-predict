{
 "cells": [
  {
   "cell_type": "code",
   "execution_count": 1,
   "metadata": {},
   "outputs": [],
   "source": [
    "#경고 끄기\n",
    "import warnings\n",
    "warnings.filterwarnings(action='ignore')"
   ]
  },
  {
   "cell_type": "code",
   "execution_count": 2,
   "metadata": {},
   "outputs": [],
   "source": [
    "import pandas as pd\n",
    "import numpy as np\n",
    "import seaborn as sns\n",
    "import matplotlib.pyplot as plt\n",
    "%matplotlib inline\n",
    "\n",
    "plt.rc('font', family='Malgun Gothic')"
   ]
  },
  {
   "cell_type": "code",
   "execution_count": 3,
   "metadata": {},
   "outputs": [],
   "source": [
    "def getData():\n",
    "    df2008 = pd.read_csv(\"C:/농수산가격데이터/1001배추/2008010120081231.csv\")\n",
    "    df2009 = pd.read_csv(\"C:/농수산가격데이터/1001배추/2009010120091231.csv\")\n",
    "    df2010 = pd.read_csv(\"C:/농수산가격데이터/1001배추/2010010120101231.csv\")\n",
    "    df2011 = pd.read_csv(\"C:/농수산가격데이터/1001배추/2011010120111231.csv\")\n",
    "    df2012 = pd.read_csv(\"C:/농수산가격데이터/1001배추/2012010120121231.csv\")\n",
    "    df2013 = pd.read_csv(\"C:/농수산가격데이터/1001배추/2013010120131231.csv\")\n",
    "    df2014 = pd.read_csv(\"C:/농수산가격데이터/1001배추/2014010120141231.csv\")\n",
    "    df2015 = pd.read_csv(\"C:/농수산가격데이터/1001배추/2015010120151231.csv\")\n",
    "    df2016 = pd.read_csv(\"C:/농수산가격데이터/1001배추/2016010120161231.csv\")\n",
    "    df2017 = pd.read_csv(\"C:/농수산가격데이터/1001배추/2017010120171231.csv\")\n",
    "    df2018 = pd.read_csv(\"C:/농수산가격데이터/1001배추/2018010120181231.csv\")\n",
    "    return pd.concat((df2008, df2009, df2010, df2011, df2012, df2013, df2014, df2015, df2016, df2017, df2018), axis=0)"
   ]
  },
  {
   "cell_type": "code",
   "execution_count": 4,
   "metadata": {},
   "outputs": [],
   "source": [
    "def pricTransform(df):\n",
    "    #Kg당 가격(kgperprice)\n",
    "    df['kgperprice'] = ''\n",
    "    #총거래가격(totalprice) = 거래량(delngQy) * 가격(sbidpric)\n",
    "    df['totalprice'] = ''\n",
    "    #총량(totalweight) = 거래단량(delngprut) * 거래량(delngQy) * 단위\n",
    "    df['totalweight'] = ''\n",
    "\n",
    "    df11 = df[(df['stdunitnewcode']==11)]\n",
    "    df12 = df[(df['stdunitnewcode']==12)]\n",
    "    df13 = df[(df['stdunitnewcode']==13)]\n",
    "    for df11 in [df11]:\n",
    "        df11['kgperprice'] = df11['sbidpric'] / df11['delngprut'] * 1000\n",
    "        df11['totalweight'] = df11['delngprut'] * df11['delngqy'] / 1000\n",
    "    for df12 in [df12]:\n",
    "        df12['kgperprice'] = df12['sbidpric'] / df12['delngprut']\n",
    "        df12['totalweight'] = df12['delngprut'] * df12['delngqy']\n",
    "    for df13 in [df13]:\n",
    "        df13['kgperprice'] = df13['sbidpric'] / df13['delngprut'] / 1000\n",
    "        df13['totalweight'] = df13['delngprut'] * df13['delngqy'] / 1000\n",
    "    df = pd.concat([df11, df12, df13])\n",
    "\n",
    "    for df in [df]:\n",
    "        df['totalprice'] = df['sbidpric'] * df['delngqy']\n",
    "        \n",
    "    return df"
   ]
  },
  {
   "cell_type": "code",
   "execution_count": 5,
   "metadata": {},
   "outputs": [],
   "source": [
    "df = getData()"
   ]
  },
  {
   "cell_type": "raw",
   "metadata": {},
   "source": [
    "df[['sbidpric','aucsecode','aucsenm','delngde','delngprut','delngqy','stdunitnewcode','stdunitnewnm','stdqlitynewcode','stdqlitynewnm','stdspciesnewcode','stdspciesnewnm','stdmtcnewcode','stdmtcnewnm']].to_csv('1001.csv', index=False, encoding='utf-8-sig')"
   ]
  },
  {
   "cell_type": "markdown",
   "metadata": {},
   "source": [
    "### 단량별 가격 sbidpric\n",
    "- 거래단량 delngprut이 얼마에 거래됬는지 나타내는 변수\n",
    "- sbidpric만으로는 g, kg, ton 단위가 너무 포괄적이기 때문에 kg당 가격으로 가공 필요\n",
    "\n",
    "#### 컬럼추가\n",
    "- Kg당 가격(kgperprice)\n",
    "  - 가격(sbidpric) / 거래단량(delngprut)\n",
    "  - 거래단위(stdunitnewcode)가 g(11)일경우 *1000, kg(12)일경우 그대로, ton(13)일경우 /1000\n",
    "  - 하면 kgperprice가 됨\n",
    "- 총거래가격(totalprice)\n",
    "  - 거래량(delngQy) * 가격(sbidpric)\n",
    "- 총량(totalweight)\n",
    "  - 거래단량(delngprut) * 거래량(delngQy)\n",
    "  - 거래단위(stdunitnewcode)가 g(11)일경우 /1000, kg(12)일경우 그대로, ton(13)일경우 *1000"
   ]
  },
  {
   "cell_type": "code",
   "execution_count": 6,
   "metadata": {},
   "outputs": [],
   "source": [
    "df = pricTransform(df)"
   ]
  },
  {
   "cell_type": "raw",
   "metadata": {},
   "source": [
    "df[(df['kgperprice'] <= 100) & (df['stdqlitynewnm'] == '특')][['totalprice','sbidpric','totalweight','kgperprice','stdspciesnewnm','stdqlitynewnm','delngprut','delngqy','stdunitnewnm','delngde','whsalmrktnewnm']]"
   ]
  },
  {
   "cell_type": "code",
   "execution_count": 7,
   "metadata": {},
   "outputs": [
    {
     "name": "stdout",
     "output_type": "stream",
     "text": [
      "(4809379, 47)\n",
      "(38043, 47)\n"
     ]
    },
    {
     "data": {
      "text/plain": [
       "<matplotlib.axes._subplots.AxesSubplot at 0x2698277f550>"
      ]
     },
     "execution_count": 7,
     "metadata": {},
     "output_type": "execute_result"
    },
    {
     "data": {
      "image/png": "[encoded data removed]",
      "text/plain": [
       "<Figure size 432x288 with 1 Axes>"
      ]
     },
     "metadata": {
      "needs_background": "light"
     },
     "output_type": "display_data"
    }
   ],
   "source": [
    "print(df.shape)\n",
    "print(df[(df['kgperprice'] >= 20000)].shape)\n",
    "df[(df['kgperprice'] >= 20000)]['kgperprice'].hist()"
   ]
  },
  {
   "cell_type": "code",
   "execution_count": 8,
   "metadata": {},
   "outputs": [],
   "source": [
    "# 데이터 가공\n",
    "# 2만 이상은 결측치라 판단 제거\n",
    "df = df[(df['kgperprice'] <= 20000)]\n",
    "# 100이하 제거\n",
    "df = df[(df['kgperprice'] >= 100)]"
   ]
  },
  {
   "cell_type": "raw",
   "metadata": {},
   "source": [
    "df[(df['totalprice'] < 1)][['totalprice','sbidpric','totalweight','kgperprice','stdqlitynewnm','delngprut','delngqy','stdunitnewnm','delngde','whsalmrktnewnm']]"
   ]
  },
  {
   "cell_type": "raw",
   "metadata": {},
   "source": [
    "df[(df['kgperprice'] < 1)][['totalprice','sbidpric','totalweight','kgperprice','stdqlitynewnm','delngprut','delngqy','stdunitnewnm','delngde','whsalmrktnewnm']]"
   ]
  },
  {
   "cell_type": "raw",
   "metadata": {},
   "source": [
    "df[(df['totalweight'] > 100000)][['totalprice','sbidpric','totalweight','kgperprice','stdqlitynewnm','delngprut','delngqy','stdunitnewnm','delngde','whsalmrktnewnm']]"
   ]
  },
  {
   "cell_type": "markdown",
   "metadata": {},
   "source": [
    "### 경매 종류 선택 aucsecode-숫자 aucsenm-한글\n",
    "\n",
    "- 1: 경매\n",
    "\n",
    "- 2: 정가수의\n",
    "\n",
    "  - 경쟁계약에 의하지 않고 임의로 상대를 선정하여 계약을 체결하는 것\n",
    "\n",
    "- 3: 자기계산\n",
    "\n",
    "  - 가격을 정하고 거래(정가매매)\n",
    "      1. 출하자 가격과 수량 정해서 도매법인에게 의견전달\n",
    "      2. 도매법인이 여러 구매자(중도매인, 매매참가인)에게 알려줌\n",
    "      3. 구매 의향 있는 구매자 등장 시 거래성사\n",
    "\n",
    "- 4: 매수도매\n",
    "\n",
    "  - 직접 생산자와 출하약정을 맺고 물량을 구입해 중도매인에게 적정 가격으로 공급하는 제도"
   ]
  },
  {
   "cell_type": "code",
   "execution_count": 9,
   "metadata": {},
   "outputs": [
    {
     "data": {
      "text/plain": [
       "<matplotlib.axes._subplots.AxesSubplot at 0x26980f90cf8>"
      ]
     },
     "execution_count": 9,
     "metadata": {},
     "output_type": "execute_result"
    },
    {
     "data": {
      "image/png": "[encoded data removed]",
      "text/plain": [
       "<Figure size 1080x288 with 1 Axes>"
      ]
     },
     "metadata": {
      "needs_background": "light"
     },
     "output_type": "display_data"
    }
   ],
   "source": [
    "f, ax = plt.subplots(figsize=(15, 4))\n",
    "sns.countplot(df['aucsenm'])"
   ]
  },
  {
   "cell_type": "markdown",
   "metadata": {},
   "source": [
    "### 경락일자 delngde\n",
    "### 거래단량 delngprut\n",
    "### 거래량 delngqy"
   ]
  },
  {
   "cell_type": "markdown",
   "metadata": {},
   "source": [
    "### 등급코드 stdqlitynewcode / stdqlitynewnm"
   ]
  },
  {
   "cell_type": "raw",
   "metadata": {},
   "source": [
    "df[['stdqlitynewcode','stdqlitynewnm']].drop_duplicates()"
   ]
  },
  {
   "cell_type": "code",
   "execution_count": 10,
   "metadata": {},
   "outputs": [
    {
     "data": {
      "text/plain": [
       "<matplotlib.axes._subplots.AxesSubplot at 0x269812527b8>"
      ]
     },
     "execution_count": 10,
     "metadata": {},
     "output_type": "execute_result"
    },
    {
     "data": {
      "image/png": "[encoded data removed]",
      "text/plain": [
       "<Figure size 1080x288 with 1 Axes>"
      ]
     },
     "metadata": {
      "needs_background": "light"
     },
     "output_type": "display_data"
    }
   ],
   "source": [
    "f, ax = plt.subplots(figsize=(15, 4))\n",
    "sns.countplot(df['stdqlitynewnm'],order = df['stdqlitynewnm'].value_counts().index)"
   ]
  },
  {
   "cell_type": "markdown",
   "metadata": {},
   "source": [
    "#### 그룹별 중위수"
   ]
  },
  {
   "cell_type": "code",
   "execution_count": 11,
   "metadata": {},
   "outputs": [
    {
     "data": {
      "text/html": [
       "<div>\n",
       "<style scoped>\n",
       "    .dataframe tbody tr th:only-of-type {\n",
       "        vertical-align: middle;\n",
       "    }\n",
       "\n",
       "    .dataframe tbody tr th {\n",
       "        vertical-align: top;\n",
       "    }\n",
       "\n",
       "    .dataframe thead th {\n",
       "        text-align: right;\n",
       "    }\n",
       "</style>\n",
       "<table border=\"1\" class=\"dataframe\">\n",
       "  <thead>\n",
       "    <tr style=\"text-align: right;\">\n",
       "      <th></th>\n",
       "      <th>kgperprice</th>\n",
       "    </tr>\n",
       "    <tr>\n",
       "      <th>stdqlitynewnm</th>\n",
       "      <th></th>\n",
       "    </tr>\n",
       "  </thead>\n",
       "  <tbody>\n",
       "    <tr>\n",
       "      <th>무등급</th>\n",
       "      <td>555.000000</td>\n",
       "    </tr>\n",
       "    <tr>\n",
       "      <th>보통</th>\n",
       "      <td>428.571429</td>\n",
       "    </tr>\n",
       "    <tr>\n",
       "      <th>상</th>\n",
       "      <td>463.157895</td>\n",
       "    </tr>\n",
       "    <tr>\n",
       "      <th>특</th>\n",
       "      <td>800.000000</td>\n",
       "    </tr>\n",
       "  </tbody>\n",
       "</table>\n",
       "</div>"
      ],
      "text/plain": [
       "               kgperprice\n",
       "stdqlitynewnm            \n",
       "무등급            555.000000\n",
       "보통             428.571429\n",
       "상              463.157895\n",
       "특              800.000000"
      ]
     },
     "execution_count": 11,
     "metadata": {},
     "output_type": "execute_result"
    }
   ],
   "source": [
    "df[(df['stdqlitynewnm'] == '특') | (df['stdqlitynewnm'] == '무등급') | (df['stdqlitynewnm'] == '상') | (df['stdqlitynewnm'] == '보통')][['stdqlitynewnm','kgperprice']].groupby(\"stdqlitynewnm\").median()"
   ]
  },
  {
   "cell_type": "code",
   "execution_count": 12,
   "metadata": {},
   "outputs": [
    {
     "data": {
      "text/html": [
       "<div>\n",
       "<style scoped>\n",
       "    .dataframe tbody tr th:only-of-type {\n",
       "        vertical-align: middle;\n",
       "    }\n",
       "\n",
       "    .dataframe tbody tr th {\n",
       "        vertical-align: top;\n",
       "    }\n",
       "\n",
       "    .dataframe thead th {\n",
       "        text-align: right;\n",
       "    }\n",
       "</style>\n",
       "<table border=\"1\" class=\"dataframe\">\n",
       "  <thead>\n",
       "    <tr style=\"text-align: right;\">\n",
       "      <th></th>\n",
       "      <th>totalweight</th>\n",
       "    </tr>\n",
       "    <tr>\n",
       "      <th>stdqlitynewnm</th>\n",
       "      <th></th>\n",
       "    </tr>\n",
       "  </thead>\n",
       "  <tbody>\n",
       "    <tr>\n",
       "      <th>무등급</th>\n",
       "      <td>480.0</td>\n",
       "    </tr>\n",
       "    <tr>\n",
       "      <th>보통</th>\n",
       "      <td>300.0</td>\n",
       "    </tr>\n",
       "    <tr>\n",
       "      <th>상</th>\n",
       "      <td>396.0</td>\n",
       "    </tr>\n",
       "    <tr>\n",
       "      <th>특</th>\n",
       "      <td>264.0</td>\n",
       "    </tr>\n",
       "  </tbody>\n",
       "</table>\n",
       "</div>"
      ],
      "text/plain": [
       "               totalweight\n",
       "stdqlitynewnm             \n",
       "무등급                  480.0\n",
       "보통                   300.0\n",
       "상                    396.0\n",
       "특                    264.0"
      ]
     },
     "execution_count": 12,
     "metadata": {},
     "output_type": "execute_result"
    }
   ],
   "source": [
    "df[(df['stdqlitynewnm'] == '특') | (df['stdqlitynewnm'] == '무등급') | (df['stdqlitynewnm'] == '상') | (df['stdqlitynewnm'] == '보통')][['stdqlitynewnm','totalweight']].groupby(\"stdqlitynewnm\").median()"
   ]
  },
  {
   "cell_type": "markdown",
   "metadata": {},
   "source": [
    "#### 그룹별 평균"
   ]
  },
  {
   "cell_type": "code",
   "execution_count": 13,
   "metadata": {},
   "outputs": [
    {
     "data": {
      "text/html": [
       "<div>\n",
       "<style scoped>\n",
       "    .dataframe tbody tr th:only-of-type {\n",
       "        vertical-align: middle;\n",
       "    }\n",
       "\n",
       "    .dataframe tbody tr th {\n",
       "        vertical-align: top;\n",
       "    }\n",
       "\n",
       "    .dataframe thead th {\n",
       "        text-align: right;\n",
       "    }\n",
       "</style>\n",
       "<table border=\"1\" class=\"dataframe\">\n",
       "  <thead>\n",
       "    <tr style=\"text-align: right;\">\n",
       "      <th></th>\n",
       "      <th>kgperprice</th>\n",
       "    </tr>\n",
       "    <tr>\n",
       "      <th>stdqlitynewnm</th>\n",
       "      <th></th>\n",
       "    </tr>\n",
       "  </thead>\n",
       "  <tbody>\n",
       "    <tr>\n",
       "      <th>무등급</th>\n",
       "      <td>1254.624165</td>\n",
       "    </tr>\n",
       "    <tr>\n",
       "      <th>보통</th>\n",
       "      <td>615.011600</td>\n",
       "    </tr>\n",
       "    <tr>\n",
       "      <th>상</th>\n",
       "      <td>756.543475</td>\n",
       "    </tr>\n",
       "    <tr>\n",
       "      <th>특</th>\n",
       "      <td>1637.036986</td>\n",
       "    </tr>\n",
       "  </tbody>\n",
       "</table>\n",
       "</div>"
      ],
      "text/plain": [
       "                kgperprice\n",
       "stdqlitynewnm             \n",
       "무등급            1254.624165\n",
       "보통              615.011600\n",
       "상               756.543475\n",
       "특              1637.036986"
      ]
     },
     "execution_count": 13,
     "metadata": {},
     "output_type": "execute_result"
    }
   ],
   "source": [
    "df[(df['stdqlitynewnm'] == '특') | (df['stdqlitynewnm'] == '무등급') | (df['stdqlitynewnm'] == '상') | (df['stdqlitynewnm'] == '보통')][['stdqlitynewnm','kgperprice']].groupby(\"stdqlitynewnm\").mean()"
   ]
  },
  {
   "cell_type": "code",
   "execution_count": 14,
   "metadata": {},
   "outputs": [
    {
     "data": {
      "text/html": [
       "<div>\n",
       "<style scoped>\n",
       "    .dataframe tbody tr th:only-of-type {\n",
       "        vertical-align: middle;\n",
       "    }\n",
       "\n",
       "    .dataframe tbody tr th {\n",
       "        vertical-align: top;\n",
       "    }\n",
       "\n",
       "    .dataframe thead th {\n",
       "        text-align: right;\n",
       "    }\n",
       "</style>\n",
       "<table border=\"1\" class=\"dataframe\">\n",
       "  <thead>\n",
       "    <tr style=\"text-align: right;\">\n",
       "      <th></th>\n",
       "      <th>totalweight</th>\n",
       "    </tr>\n",
       "    <tr>\n",
       "      <th>stdqlitynewnm</th>\n",
       "      <th></th>\n",
       "    </tr>\n",
       "  </thead>\n",
       "  <tbody>\n",
       "    <tr>\n",
       "      <th>무등급</th>\n",
       "      <td>911.494602</td>\n",
       "    </tr>\n",
       "    <tr>\n",
       "      <th>보통</th>\n",
       "      <td>933.272276</td>\n",
       "    </tr>\n",
       "    <tr>\n",
       "      <th>상</th>\n",
       "      <td>942.376988</td>\n",
       "    </tr>\n",
       "    <tr>\n",
       "      <th>특</th>\n",
       "      <td>1141.130317</td>\n",
       "    </tr>\n",
       "  </tbody>\n",
       "</table>\n",
       "</div>"
      ],
      "text/plain": [
       "               totalweight\n",
       "stdqlitynewnm             \n",
       "무등급             911.494602\n",
       "보통              933.272276\n",
       "상               942.376988\n",
       "특              1141.130317"
      ]
     },
     "execution_count": 14,
     "metadata": {},
     "output_type": "execute_result"
    }
   ],
   "source": [
    "df[(df['stdqlitynewnm'] == '특') | (df['stdqlitynewnm'] == '무등급') | (df['stdqlitynewnm'] == '상') | (df['stdqlitynewnm'] == '보통')][['stdqlitynewnm','totalweight']].groupby(\"stdqlitynewnm\").mean()"
   ]
  },
  {
   "cell_type": "code",
   "execution_count": 15,
   "metadata": {
    "scrolled": true
   },
   "outputs": [
    {
     "data": {
      "image/png": "[encoded data removed]",
      "text/plain": [
       "<Figure size 1080x288 with 1 Axes>"
      ]
     },
     "metadata": {
      "needs_background": "light"
     },
     "output_type": "display_data"
    }
   ],
   "source": [
    "f, ax = plt.subplots(figsize=(15, 4))\n",
    "fig = sns.boxplot(x='stdqlitynewnm', y='kgperprice', data=df[(df['stdqlitynewnm'] == '특') | (df['stdqlitynewnm'] == '무등급') | (df['stdqlitynewnm'] == '상') | (df['stdqlitynewnm'] == '보통')])"
   ]
  },
  {
   "cell_type": "code",
   "execution_count": 16,
   "metadata": {},
   "outputs": [
    {
     "data": {
      "image/png": "[encoded data removed]",
      "text/plain": [
       "<Figure size 1080x288 with 1 Axes>"
      ]
     },
     "metadata": {
      "needs_background": "light"
     },
     "output_type": "display_data"
    }
   ],
   "source": [
    "f, ax = plt.subplots(figsize=(15, 4))\n",
    "fig = sns.boxplot(x='stdqlitynewnm', y='totalweight', data=df[(df['stdqlitynewnm'] == '특') | (df['stdqlitynewnm'] == '무등급') | (df['stdqlitynewnm'] == '상') | (df['stdqlitynewnm'] == '보통')])"
   ]
  },
  {
   "cell_type": "code",
   "execution_count": 17,
   "metadata": {},
   "outputs": [
    {
     "data": {
      "text/plain": [
       "(7978, 47)"
      ]
     },
     "execution_count": 17,
     "metadata": {},
     "output_type": "execute_result"
    }
   ],
   "source": [
    "df[((df['stdqlitynewnm'] == '특') | (df['stdqlitynewnm'] == '무등급') | (df['stdqlitynewnm'] == '상') | (df['stdqlitynewnm'] == '보통')) & (df['totalweight'] <= 0)].shape"
   ]
  },
  {
   "cell_type": "code",
   "execution_count": 18,
   "metadata": {},
   "outputs": [],
   "source": [
    "# 데이터 가공\n",
    "# 무게가 0인 것 제거\n",
    "df = df[(df['totalweight'] >= 0)]"
   ]
  },
  {
   "cell_type": "code",
   "execution_count": 19,
   "metadata": {},
   "outputs": [
    {
     "name": "stdout",
     "output_type": "stream",
     "text": [
      "(8334, 47)\n"
     ]
    },
    {
     "data": {
      "image/png": "[encoded data removed]",
      "text/plain": [
       "<Figure size 1080x288 with 1 Axes>"
      ]
     },
     "metadata": {
      "needs_background": "light"
     },
     "output_type": "display_data"
    }
   ],
   "source": [
    "# 10ton 밑으로 재조회\n",
    "f, ax = plt.subplots(figsize=(15, 4))\n",
    "fig = sns.boxplot(x='stdqlitynewnm', y='totalweight', data=df[((df['stdqlitynewnm'] == '특') | (df['stdqlitynewnm'] == '무등급') | (df['stdqlitynewnm'] == '상') | (df['stdqlitynewnm'] == '보통')) & (df['totalweight'] <= 10000)])\n",
    "print(df[((df['stdqlitynewnm'] == '특') | (df['stdqlitynewnm'] == '무등급') | (df['stdqlitynewnm'] == '상') | (df['stdqlitynewnm'] == '보통')) & (df['totalweight'] >= 10000)].shape)"
   ]
  },
  {
   "cell_type": "markdown",
   "metadata": {},
   "source": [
    "#### 그룹별 중위수"
   ]
  },
  {
   "cell_type": "code",
   "execution_count": 20,
   "metadata": {},
   "outputs": [
    {
     "data": {
      "text/html": [
       "<div>\n",
       "<style scoped>\n",
       "    .dataframe tbody tr th:only-of-type {\n",
       "        vertical-align: middle;\n",
       "    }\n",
       "\n",
       "    .dataframe tbody tr th {\n",
       "        vertical-align: top;\n",
       "    }\n",
       "\n",
       "    .dataframe thead th {\n",
       "        text-align: right;\n",
       "    }\n",
       "</style>\n",
       "<table border=\"1\" class=\"dataframe\">\n",
       "  <thead>\n",
       "    <tr style=\"text-align: right;\">\n",
       "      <th></th>\n",
       "      <th>kgperprice</th>\n",
       "    </tr>\n",
       "    <tr>\n",
       "      <th>stdqlitynewnm</th>\n",
       "      <th></th>\n",
       "    </tr>\n",
       "  </thead>\n",
       "  <tbody>\n",
       "    <tr>\n",
       "      <th>4등</th>\n",
       "      <td>360.000000</td>\n",
       "    </tr>\n",
       "    <tr>\n",
       "      <th>5등</th>\n",
       "      <td>500.000000</td>\n",
       "    </tr>\n",
       "    <tr>\n",
       "      <th>6등</th>\n",
       "      <td>468.333333</td>\n",
       "    </tr>\n",
       "    <tr>\n",
       "      <th>7등</th>\n",
       "      <td>346.666667</td>\n",
       "    </tr>\n",
       "    <tr>\n",
       "      <th>8등</th>\n",
       "      <td>750.000000</td>\n",
       "    </tr>\n",
       "    <tr>\n",
       "      <th>등외</th>\n",
       "      <td>372.000000</td>\n",
       "    </tr>\n",
       "    <tr>\n",
       "      <th>무농약</th>\n",
       "      <td>1300.000000</td>\n",
       "    </tr>\n",
       "    <tr>\n",
       "      <th>유기농산물</th>\n",
       "      <td>4310.000000</td>\n",
       "    </tr>\n",
       "    <tr>\n",
       "      <th>저농약</th>\n",
       "      <td>181.818182</td>\n",
       "    </tr>\n",
       "    <tr>\n",
       "      <th>전환기</th>\n",
       "      <td>450.000000</td>\n",
       "    </tr>\n",
       "    <tr>\n",
       "      <th>혼합</th>\n",
       "      <td>100.000000</td>\n",
       "    </tr>\n",
       "  </tbody>\n",
       "</table>\n",
       "</div>"
      ],
      "text/plain": [
       "                kgperprice\n",
       "stdqlitynewnm             \n",
       "4등              360.000000\n",
       "5등              500.000000\n",
       "6등              468.333333\n",
       "7등              346.666667\n",
       "8등              750.000000\n",
       "등외              372.000000\n",
       "무농약            1300.000000\n",
       "유기농산물          4310.000000\n",
       "저농약             181.818182\n",
       "전환기             450.000000\n",
       "혼합              100.000000"
      ]
     },
     "execution_count": 20,
     "metadata": {},
     "output_type": "execute_result"
    }
   ],
   "source": [
    "df[(df['stdqlitynewnm'] != '특') & (df['stdqlitynewnm'] != '무등급') & (df['stdqlitynewnm'] != '상') & (df['stdqlitynewnm'] != '보통')][['stdqlitynewnm','kgperprice']].groupby(\"stdqlitynewnm\").median()"
   ]
  },
  {
   "cell_type": "markdown",
   "metadata": {},
   "source": [
    "#### 그룹별 평균"
   ]
  },
  {
   "cell_type": "code",
   "execution_count": 21,
   "metadata": {},
   "outputs": [
    {
     "data": {
      "text/html": [
       "<div>\n",
       "<style scoped>\n",
       "    .dataframe tbody tr th:only-of-type {\n",
       "        vertical-align: middle;\n",
       "    }\n",
       "\n",
       "    .dataframe tbody tr th {\n",
       "        vertical-align: top;\n",
       "    }\n",
       "\n",
       "    .dataframe thead th {\n",
       "        text-align: right;\n",
       "    }\n",
       "</style>\n",
       "<table border=\"1\" class=\"dataframe\">\n",
       "  <thead>\n",
       "    <tr style=\"text-align: right;\">\n",
       "      <th></th>\n",
       "      <th>kgperprice</th>\n",
       "    </tr>\n",
       "    <tr>\n",
       "      <th>stdqlitynewnm</th>\n",
       "      <th></th>\n",
       "    </tr>\n",
       "  </thead>\n",
       "  <tbody>\n",
       "    <tr>\n",
       "      <th>4등</th>\n",
       "      <td>436.455626</td>\n",
       "    </tr>\n",
       "    <tr>\n",
       "      <th>5등</th>\n",
       "      <td>599.021772</td>\n",
       "    </tr>\n",
       "    <tr>\n",
       "      <th>6등</th>\n",
       "      <td>595.371138</td>\n",
       "    </tr>\n",
       "    <tr>\n",
       "      <th>7등</th>\n",
       "      <td>555.586224</td>\n",
       "    </tr>\n",
       "    <tr>\n",
       "      <th>8등</th>\n",
       "      <td>839.219087</td>\n",
       "    </tr>\n",
       "    <tr>\n",
       "      <th>등외</th>\n",
       "      <td>548.611866</td>\n",
       "    </tr>\n",
       "    <tr>\n",
       "      <th>무농약</th>\n",
       "      <td>2490.308167</td>\n",
       "    </tr>\n",
       "    <tr>\n",
       "      <th>유기농산물</th>\n",
       "      <td>3904.106557</td>\n",
       "    </tr>\n",
       "    <tr>\n",
       "      <th>저농약</th>\n",
       "      <td>227.736059</td>\n",
       "    </tr>\n",
       "    <tr>\n",
       "      <th>전환기</th>\n",
       "      <td>2541.397516</td>\n",
       "    </tr>\n",
       "    <tr>\n",
       "      <th>혼합</th>\n",
       "      <td>100.000000</td>\n",
       "    </tr>\n",
       "  </tbody>\n",
       "</table>\n",
       "</div>"
      ],
      "text/plain": [
       "                kgperprice\n",
       "stdqlitynewnm             \n",
       "4등              436.455626\n",
       "5등              599.021772\n",
       "6등              595.371138\n",
       "7등              555.586224\n",
       "8등              839.219087\n",
       "등외              548.611866\n",
       "무농약            2490.308167\n",
       "유기농산물          3904.106557\n",
       "저농약             227.736059\n",
       "전환기            2541.397516\n",
       "혼합              100.000000"
      ]
     },
     "execution_count": 21,
     "metadata": {},
     "output_type": "execute_result"
    }
   ],
   "source": [
    "df[(df['stdqlitynewnm'] != '특') & (df['stdqlitynewnm'] != '무등급') & (df['stdqlitynewnm'] != '상') & (df['stdqlitynewnm'] != '보통')][['stdqlitynewnm','kgperprice']].groupby(\"stdqlitynewnm\").mean()"
   ]
  },
  {
   "cell_type": "code",
   "execution_count": 22,
   "metadata": {},
   "outputs": [
    {
     "data": {
      "image/png": "[encoded data removed]",
      "text/plain": [
       "<Figure size 1080x288 with 1 Axes>"
      ]
     },
     "metadata": {
      "needs_background": "light"
     },
     "output_type": "display_data"
    }
   ],
   "source": [
    "f, ax = plt.subplots(figsize=(15, 4))\n",
    "fig = sns.boxplot(x='stdqlitynewnm', y='kgperprice', data=df[(df['stdqlitynewnm'] != '특') & (df['stdqlitynewnm'] != '무등급') & (df['stdqlitynewnm'] != '상') & (df['stdqlitynewnm'] != '보통')])"
   ]
  },
  {
   "cell_type": "markdown",
   "metadata": {},
   "source": [
    "### 품종코드 stdspciesnewcode / stdspciesnewnm\n",
    "- 구품종코드 stdspciescode stdspciesnm\n",
    "- 품목코드 stdprdlstnewcode / stdprdlstnewnm\n",
    "- 구품목코드 stdprdlstnm / stdprdlstcode "
   ]
  },
  {
   "cell_type": "code",
   "execution_count": 23,
   "metadata": {},
   "outputs": [
    {
     "data": {
      "text/html": [
       "<div>\n",
       "<style scoped>\n",
       "    .dataframe tbody tr th:only-of-type {\n",
       "        vertical-align: middle;\n",
       "    }\n",
       "\n",
       "    .dataframe tbody tr th {\n",
       "        vertical-align: top;\n",
       "    }\n",
       "\n",
       "    .dataframe thead th {\n",
       "        text-align: right;\n",
       "    }\n",
       "</style>\n",
       "<table border=\"1\" class=\"dataframe\">\n",
       "  <thead>\n",
       "    <tr style=\"text-align: right;\">\n",
       "      <th></th>\n",
       "      <th>stdspciesnewcode</th>\n",
       "      <th>stdspciesnewnm</th>\n",
       "    </tr>\n",
       "  </thead>\n",
       "  <tbody>\n",
       "    <tr>\n",
       "      <th>89632</th>\n",
       "      <td>100199</td>\n",
       "      <td>기타</td>\n",
       "    </tr>\n",
       "    <tr>\n",
       "      <th>59862</th>\n",
       "      <td>100108</td>\n",
       "      <td>쌈(알배기)배추</td>\n",
       "    </tr>\n",
       "    <tr>\n",
       "      <th>335401</th>\n",
       "      <td>100103</td>\n",
       "      <td>김장(가을)배추</td>\n",
       "    </tr>\n",
       "    <tr>\n",
       "      <th>38848</th>\n",
       "      <td>100110</td>\n",
       "      <td>배추뿌리</td>\n",
       "    </tr>\n",
       "    <tr>\n",
       "      <th>58019</th>\n",
       "      <td>100109</td>\n",
       "      <td>우거지</td>\n",
       "    </tr>\n",
       "    <tr>\n",
       "      <th>5</th>\n",
       "      <td>100104</td>\n",
       "      <td>월동배추</td>\n",
       "    </tr>\n",
       "    <tr>\n",
       "      <th>13</th>\n",
       "      <td>100102</td>\n",
       "      <td>여름배추</td>\n",
       "    </tr>\n",
       "    <tr>\n",
       "      <th>60</th>\n",
       "      <td>100101</td>\n",
       "      <td>봄배추</td>\n",
       "    </tr>\n",
       "    <tr>\n",
       "      <th>100</th>\n",
       "      <td>100105</td>\n",
       "      <td>고냉지배추</td>\n",
       "    </tr>\n",
       "    <tr>\n",
       "      <th>254</th>\n",
       "      <td>100107</td>\n",
       "      <td>생채용배추</td>\n",
       "    </tr>\n",
       "    <tr>\n",
       "      <th>692</th>\n",
       "      <td>100106</td>\n",
       "      <td>저장배추</td>\n",
       "    </tr>\n",
       "    <tr>\n",
       "      <th>310564</th>\n",
       "      <td>100111</td>\n",
       "      <td>절임배추</td>\n",
       "    </tr>\n",
       "    <tr>\n",
       "      <th>260292</th>\n",
       "      <td>100198</td>\n",
       "      <td>배추(수입)</td>\n",
       "    </tr>\n",
       "    <tr>\n",
       "      <th>56990</th>\n",
       "      <td>100113</td>\n",
       "      <td>배양채</td>\n",
       "    </tr>\n",
       "    <tr>\n",
       "      <th>63878</th>\n",
       "      <td>100197</td>\n",
       "      <td>우거지(수입)</td>\n",
       "    </tr>\n",
       "  </tbody>\n",
       "</table>\n",
       "</div>"
      ],
      "text/plain": [
       "        stdspciesnewcode stdspciesnewnm\n",
       "89632             100199             기타\n",
       "59862             100108       쌈(알배기)배추\n",
       "335401            100103       김장(가을)배추\n",
       "38848             100110           배추뿌리\n",
       "58019             100109            우거지\n",
       "5                 100104           월동배추\n",
       "13                100102           여름배추\n",
       "60                100101            봄배추\n",
       "100               100105          고냉지배추\n",
       "254               100107          생채용배추\n",
       "692               100106           저장배추\n",
       "310564            100111           절임배추\n",
       "260292            100198         배추(수입)\n",
       "56990             100113            배양채\n",
       "63878             100197        우거지(수입)"
      ]
     },
     "execution_count": 23,
     "metadata": {},
     "output_type": "execute_result"
    }
   ],
   "source": [
    "df[['stdspciesnewcode','stdspciesnewnm']].drop_duplicates()"
   ]
  },
  {
   "cell_type": "code",
   "execution_count": 24,
   "metadata": {
    "scrolled": true
   },
   "outputs": [
    {
     "data": {
      "text/plain": [
       "<matplotlib.axes._subplots.AxesSubplot at 0x26984ff1cf8>"
      ]
     },
     "execution_count": 24,
     "metadata": {},
     "output_type": "execute_result"
    },
    {
     "data": {
      "image/png": "[encoded data removed]",
      "text/plain": [
       "<Figure size 1080x288 with 1 Axes>"
      ]
     },
     "metadata": {
      "needs_background": "light"
     },
     "output_type": "display_data"
    }
   ],
   "source": [
    "f, ax = plt.subplots(figsize=(15, 4))\n",
    "sns.countplot(df['stdspciesnewnm'],order = df['stdspciesnewnm'].value_counts().index)"
   ]
  },
  {
   "cell_type": "code",
   "execution_count": 25,
   "metadata": {},
   "outputs": [
    {
     "data": {
      "image/png": "[encoded data removed]",
      "text/plain": [
       "<Figure size 1080x288 with 1 Axes>"
      ]
     },
     "metadata": {
      "needs_background": "light"
     },
     "output_type": "display_data"
    }
   ],
   "source": [
    "f, ax = plt.subplots(figsize=(15, 4))\n",
    "fig = sns.boxplot(x='stdspciesnewnm', y='kgperprice', data=df)"
   ]
  },
  {
   "cell_type": "code",
   "execution_count": 26,
   "metadata": {},
   "outputs": [
    {
     "data": {
      "image/png": "[encoded data removed]",
      "text/plain": [
       "<Figure size 1080x288 with 1 Axes>"
      ]
     },
     "metadata": {
      "needs_background": "light"
     },
     "output_type": "display_data"
    }
   ],
   "source": [
    "f, ax = plt.subplots(figsize=(15, 4))\n",
    "fig = sns.boxplot(x='stdspciesnewnm', y='totalweight', data=df)"
   ]
  },
  {
   "cell_type": "code",
   "execution_count": 27,
   "metadata": {},
   "outputs": [
    {
     "data": {
      "image/png": "[encoded data removed]",
      "text/plain": [
       "<Figure size 1080x288 with 1 Axes>"
      ]
     },
     "metadata": {
      "needs_background": "light"
     },
     "output_type": "display_data"
    }
   ],
   "source": [
    "f, ax = plt.subplots(figsize=(15, 4))\n",
    "fig = sns.boxplot(x='stdspciesnewnm', y='totalweight', data=df[(df['totalweight'] <= 10000)])"
   ]
  },
  {
   "cell_type": "markdown",
   "metadata": {},
   "source": [
    "#### 년도별 분포 시각화\n",
    "- 참고자료 : 1_1. 배추무게분포.ipynb"
   ]
  },
  {
   "cell_type": "markdown",
   "metadata": {},
   "source": [
    "### 산지코드 stdmtcnewcode / stdmtcnewnm\n",
    "- 구산지코드 cprmtccode / cprmtcnm"
   ]
  },
  {
   "cell_type": "code",
   "execution_count": 28,
   "metadata": {},
   "outputs": [],
   "source": [
    "# 데이터 가공\n",
    "# 결측값 공백으로 채우기\n",
    "df['stdmtcnewnm'] = df['stdmtcnewnm'].fillna('')\n",
    "# 데이터 도별로 구별\n",
    "df['stdmtcnewnm'] = df['stdmtcnewnm'].map(lambda x: x.split(' ')[0])"
   ]
  },
  {
   "cell_type": "code",
   "execution_count": 29,
   "metadata": {},
   "outputs": [
    {
     "data": {
      "text/plain": [
       "(522960, 47)"
      ]
     },
     "execution_count": 29,
     "metadata": {},
     "output_type": "execute_result"
    }
   ],
   "source": [
    "# 결측값이 너무 많으므로 처리방안 고려 필요\n",
    "df[df['stdmtcnewnm'] == ''].shape"
   ]
  },
  {
   "cell_type": "code",
   "execution_count": 30,
   "metadata": {},
   "outputs": [
    {
     "data": {
      "text/html": [
       "<div>\n",
       "<style scoped>\n",
       "    .dataframe tbody tr th:only-of-type {\n",
       "        vertical-align: middle;\n",
       "    }\n",
       "\n",
       "    .dataframe tbody tr th {\n",
       "        vertical-align: top;\n",
       "    }\n",
       "\n",
       "    .dataframe thead th {\n",
       "        text-align: right;\n",
       "    }\n",
       "</style>\n",
       "<table border=\"1\" class=\"dataframe\">\n",
       "  <thead>\n",
       "    <tr style=\"text-align: right;\">\n",
       "      <th></th>\n",
       "      <th>stdmtcnewnm</th>\n",
       "    </tr>\n",
       "  </thead>\n",
       "  <tbody>\n",
       "    <tr>\n",
       "      <th>89632</th>\n",
       "      <td>경기도</td>\n",
       "    </tr>\n",
       "    <tr>\n",
       "      <th>59862</th>\n",
       "      <td>인천광역시</td>\n",
       "    </tr>\n",
       "    <tr>\n",
       "      <th>335401</th>\n",
       "      <td>전라남도</td>\n",
       "    </tr>\n",
       "    <tr>\n",
       "      <th>354097</th>\n",
       "      <td>광주광역시</td>\n",
       "    </tr>\n",
       "    <tr>\n",
       "      <th>251505</th>\n",
       "      <td>강원도</td>\n",
       "    </tr>\n",
       "    <tr>\n",
       "      <th>314686</th>\n",
       "      <td>서울특별시</td>\n",
       "    </tr>\n",
       "    <tr>\n",
       "      <th>38848</th>\n",
       "      <td></td>\n",
       "    </tr>\n",
       "    <tr>\n",
       "      <th>144240</th>\n",
       "      <td>경상남도</td>\n",
       "    </tr>\n",
       "    <tr>\n",
       "      <th>204240</th>\n",
       "      <td>제주특별자치도</td>\n",
       "    </tr>\n",
       "    <tr>\n",
       "      <th>134948</th>\n",
       "      <td>충청남도</td>\n",
       "    </tr>\n",
       "    <tr>\n",
       "      <th>3</th>\n",
       "      <td>부산광역시</td>\n",
       "    </tr>\n",
       "    <tr>\n",
       "      <th>11</th>\n",
       "      <td>경상북도</td>\n",
       "    </tr>\n",
       "    <tr>\n",
       "      <th>26</th>\n",
       "      <td>대구광역시</td>\n",
       "    </tr>\n",
       "    <tr>\n",
       "      <th>120</th>\n",
       "      <td>대전광역시</td>\n",
       "    </tr>\n",
       "    <tr>\n",
       "      <th>147</th>\n",
       "      <td>충청북도</td>\n",
       "    </tr>\n",
       "    <tr>\n",
       "      <th>156</th>\n",
       "      <td>세종특별자치시</td>\n",
       "    </tr>\n",
       "    <tr>\n",
       "      <th>178</th>\n",
       "      <td>전라북도</td>\n",
       "    </tr>\n",
       "    <tr>\n",
       "      <th>223</th>\n",
       "      <td>울산광역시</td>\n",
       "    </tr>\n",
       "    <tr>\n",
       "      <th>181639</th>\n",
       "      <td>기타국</td>\n",
       "    </tr>\n",
       "    <tr>\n",
       "      <th>323155</th>\n",
       "      <td>미국</td>\n",
       "    </tr>\n",
       "    <tr>\n",
       "      <th>260292</th>\n",
       "      <td>중국</td>\n",
       "    </tr>\n",
       "    <tr>\n",
       "      <th>344230</th>\n",
       "      <td>태국</td>\n",
       "    </tr>\n",
       "  </tbody>\n",
       "</table>\n",
       "</div>"
      ],
      "text/plain": [
       "       stdmtcnewnm\n",
       "89632          경기도\n",
       "59862        인천광역시\n",
       "335401        전라남도\n",
       "354097       광주광역시\n",
       "251505         강원도\n",
       "314686       서울특별시\n",
       "38848             \n",
       "144240        경상남도\n",
       "204240     제주특별자치도\n",
       "134948        충청남도\n",
       "3            부산광역시\n",
       "11            경상북도\n",
       "26           대구광역시\n",
       "120          대전광역시\n",
       "147           충청북도\n",
       "156        세종특별자치시\n",
       "178           전라북도\n",
       "223          울산광역시\n",
       "181639         기타국\n",
       "323155          미국\n",
       "260292          중국\n",
       "344230          태국"
      ]
     },
     "execution_count": 30,
     "metadata": {},
     "output_type": "execute_result"
    }
   ],
   "source": [
    "# df[['stdmtcnewcode','stdmtcnewnm']].drop_duplicates()\n",
    "df[['stdmtcnewnm']].drop_duplicates()"
   ]
  },
  {
   "cell_type": "code",
   "execution_count": 31,
   "metadata": {},
   "outputs": [
    {
     "data": {
      "text/plain": [
       "<matplotlib.axes._subplots.AxesSubplot at 0x2698037aa90>"
      ]
     },
     "execution_count": 31,
     "metadata": {},
     "output_type": "execute_result"
    },
    {
     "data": {
      "image/png": "[encoded data removed]",
      "text/plain": [
       "<Figure size 1440x288 with 1 Axes>"
      ]
     },
     "metadata": {
      "needs_background": "light"
     },
     "output_type": "display_data"
    }
   ],
   "source": [
    "f, ax = plt.subplots(figsize=(20, 4))\n",
    "df[['stdmtcnewnm','totalweight']].groupby(\"stdmtcnewnm\").sum().sort_values(by='totalweight', ascending=False).plot.bar(ax=ax)"
   ]
  },
  {
   "cell_type": "code",
   "execution_count": 32,
   "metadata": {},
   "outputs": [
    {
     "data": {
      "text/plain": [
       "<matplotlib.axes._subplots.AxesSubplot at 0x269a7defda0>"
      ]
     },
     "execution_count": 32,
     "metadata": {},
     "output_type": "execute_result"
    },
    {
     "data": {
      "image/png": "[encoded data removed]",
      "text/plain": [
       "<Figure size 1440x288 with 1 Axes>"
      ]
     },
     "metadata": {
      "needs_background": "light"
     },
     "output_type": "display_data"
    }
   ],
   "source": [
    "f, ax = plt.subplots(figsize=(20, 4))\n",
    "df[['stdmtcnewnm','totalprice']].groupby(\"stdmtcnewnm\").sum().sort_values(by='totalprice', ascending=False).plot.bar(ax=ax)"
   ]
  },
  {
   "cell_type": "markdown",
   "metadata": {},
   "source": [
    "### 단위코드 stdunitnewcode / stdunitnewnm"
   ]
  },
  {
   "cell_type": "code",
   "execution_count": 33,
   "metadata": {},
   "outputs": [
    {
     "data": {
      "text/html": [
       "<div>\n",
       "<style scoped>\n",
       "    .dataframe tbody tr th:only-of-type {\n",
       "        vertical-align: middle;\n",
       "    }\n",
       "\n",
       "    .dataframe tbody tr th {\n",
       "        vertical-align: top;\n",
       "    }\n",
       "\n",
       "    .dataframe thead th {\n",
       "        text-align: right;\n",
       "    }\n",
       "</style>\n",
       "<table border=\"1\" class=\"dataframe\">\n",
       "  <thead>\n",
       "    <tr style=\"text-align: right;\">\n",
       "      <th></th>\n",
       "      <th>stdunitnewcode</th>\n",
       "      <th>stdunitnewnm</th>\n",
       "    </tr>\n",
       "  </thead>\n",
       "  <tbody>\n",
       "    <tr>\n",
       "      <th>89632</th>\n",
       "      <td>11</td>\n",
       "      <td>g</td>\n",
       "    </tr>\n",
       "    <tr>\n",
       "      <th>0</th>\n",
       "      <td>12</td>\n",
       "      <td>kg</td>\n",
       "    </tr>\n",
       "    <tr>\n",
       "      <th>562</th>\n",
       "      <td>13</td>\n",
       "      <td>ton</td>\n",
       "    </tr>\n",
       "  </tbody>\n",
       "</table>\n",
       "</div>"
      ],
      "text/plain": [
       "       stdunitnewcode stdunitnewnm\n",
       "89632              11            g\n",
       "0                  12           kg\n",
       "562                13          ton"
      ]
     },
     "execution_count": 33,
     "metadata": {},
     "output_type": "execute_result"
    }
   ],
   "source": [
    "df[['stdunitnewcode','stdunitnewnm']].drop_duplicates()"
   ]
  },
  {
   "cell_type": "code",
   "execution_count": 34,
   "metadata": {},
   "outputs": [
    {
     "data": {
      "text/plain": [
       "<matplotlib.axes._subplots.AxesSubplot at 0x26984a23da0>"
      ]
     },
     "execution_count": 34,
     "metadata": {},
     "output_type": "execute_result"
    },
    {
     "data": {
      "image/png": "[encoded data removed]",
      "text/plain": [
       "<Figure size 432x288 with 1 Axes>"
      ]
     },
     "metadata": {
      "needs_background": "light"
     },
     "output_type": "display_data"
    }
   ],
   "source": [
    "sns.countplot(df['stdunitnewnm'])"
   ]
  },
  {
   "cell_type": "code",
   "execution_count": 35,
   "metadata": {},
   "outputs": [
    {
     "data": {
      "text/plain": [
       "<matplotlib.axes._subplots.AxesSubplot at 0x269890a4828>"
      ]
     },
     "execution_count": 35,
     "metadata": {},
     "output_type": "execute_result"
    },
    {
     "data": {
      "image/png": "[encoded data removed]",
      "text/plain": [
       "<Figure size 432x288 with 1 Axes>"
      ]
     },
     "metadata": {
      "needs_background": "light"
     },
     "output_type": "display_data"
    }
   ],
   "source": [
    "sns.countplot(df[(df['stdunitnewcode'] != 12)]['stdunitnewnm'])"
   ]
  },
  {
   "cell_type": "markdown",
   "metadata": {},
   "source": [
    "### 시장코드 whsalmrktnewcode / whsalmrktnewnm\n",
    "- 구시장코드 whsalmrktcode / whsalmrktnm \n",
    "- 가락시장 코드 1005601(신) 110001(구)"
   ]
  },
  {
   "cell_type": "raw",
   "metadata": {},
   "source": [
    "df[['whsalmrktnewcode','whsalmrktnewnm']].drop_duplicates()"
   ]
  },
  {
   "cell_type": "code",
   "execution_count": 36,
   "metadata": {},
   "outputs": [
    {
     "data": {
      "text/plain": [
       "<matplotlib.axes._subplots.AxesSubplot at 0x26989500780>"
      ]
     },
     "execution_count": 36,
     "metadata": {},
     "output_type": "execute_result"
    },
    {
     "data": {
      "image/png": "[encoded data removed]",
      "text/plain": [
       "<Figure size 1440x288 with 1 Axes>"
      ]
     },
     "metadata": {
      "needs_background": "light"
     },
     "output_type": "display_data"
    }
   ],
   "source": [
    "f, ax = plt.subplots(figsize=(20, 4))\n",
    "df[['whsalmrktnewnm','totalweight']].groupby(\"whsalmrktnewnm\").sum().sort_values(by='totalweight', ascending=False).plot.bar(ax=ax)"
   ]
  },
  {
   "cell_type": "code",
   "execution_count": 37,
   "metadata": {},
   "outputs": [
    {
     "data": {
      "text/plain": [
       "<matplotlib.axes._subplots.AxesSubplot at 0x269891b1a90>"
      ]
     },
     "execution_count": 37,
     "metadata": {},
     "output_type": "execute_result"
    },
    {
     "data": {
      "image/png": "[encoded data removed]",
      "text/plain": [
       "<Figure size 1440x288 with 1 Axes>"
      ]
     },
     "metadata": {
      "needs_background": "light"
     },
     "output_type": "display_data"
    }
   ],
   "source": [
    "f, ax = plt.subplots(figsize=(20, 4))\n",
    "df[['whsalmrktnewnm','totalprice']].groupby(\"whsalmrktnewnm\").sum().sort_values(by='totalprice', ascending=False).plot.bar(ax=ax)"
   ]
  },
  {
   "cell_type": "code",
   "execution_count": null,
   "metadata": {},
   "outputs": [],
   "source": [
    "df[['sbidpric','aucsecode','aucsenm','delngde','delngprut','delngqy','stdunitnewcode','stdunitnewnm','stdqlitynewcode','stdqlitynewnm','stdspciesnewcode','stdspciesnewnm','stdmtcnewcode','stdmtcnewnm','whsalmrktnewnm']].to_csv('1001.csv', index=False, encoding='utf-8-sig')"
   ]
  }
 ],
 "metadata": {
  "kernelspec": {
   "display_name": "Python 3",
   "language": "python",
   "name": "python3"
  },
  "language_info": {
   "codemirror_mode": {
    "name": "ipython",
    "version": 3
   },
   "file_extension": ".py",
   "mimetype": "text/x-python",
   "name": "python",
   "nbconvert_exporter": "python",
   "pygments_lexer": "ipython3",
   "version": "3.7.3"
  }
 },
 "nbformat": 4,
 "nbformat_minor": 2
}
