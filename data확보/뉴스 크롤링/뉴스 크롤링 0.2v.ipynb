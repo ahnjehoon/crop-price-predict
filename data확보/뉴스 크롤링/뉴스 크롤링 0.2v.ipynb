{
 "cells": [
  {
   "cell_type": "markdown",
   "metadata": {},
   "source": [
    "#### 1. 기간 설정시 날짜 입력 안됨 문제"
   ]
  },
  {
   "cell_type": "code",
   "execution_count": null,
   "metadata": {},
   "outputs": [],
   "source": [
    "import time\n",
    "import pandas as pd\n",
    "import re\n",
    "\n",
    "from selenium import webdriver\n",
    "from selenium.common.exceptions import NoSuchElementException,StaleElementReferenceException, TimeoutException\n",
    "from selenium.webdriver.support.ui import WebDriverWait\n",
    "from selenium.webdriver.support import expected_conditions as EC\n",
    "from selenium.webdriver.common.by import By"
   ]
  },
  {
   "cell_type": "code",
   "execution_count": null,
   "metadata": {},
   "outputs": [],
   "source": [
    "driver = webdriver.Chrome('chromedriver')\n",
    "url = 'https://search.naver.com/search.naver?query=&where=news&ie=utf8&sm=nws_hty'\n",
    "driver.get(url)"
   ]
  },
  {
   "cell_type": "code",
   "execution_count": null,
   "metadata": {},
   "outputs": [],
   "source": [
    "data_dic = {\n",
    "     'date' : []\n",
    "    ,'title' : []\n",
    "    ,'content' : []\n",
    "    ,'url' : []\n",
    "}"
   ]
  },
  {
   "cell_type": "code",
   "execution_count": null,
   "metadata": {},
   "outputs": [],
   "source": [
    "# 검색옵션 클릭\n",
    "driver.find_element_by_css_selector('#_search_option_btn').click()\n",
    "\n",
    "# 최신순 선택\n",
    "driver.find_element_by_css_selector('#snb > div > ul > li:nth-child(3) > a').click()\n",
    "driver.find_element_by_css_selector('#snb > div > ul > li.menu.selected > div > ul > li:nth-child(2) > a').click()\n",
    "\n",
    "# 언론사 선택\n",
    "driver.find_element_by_css_selector('#news_popup > a').click()\n",
    "# 연합뉴스 체크\n",
    "driver.find_element_by_css_selector('#ca_1001').click()\n",
    "# 확인\n",
    "driver.find_element_by_css_selector('#_nx_option_media > div.con_bx > div.view_btn > button.impact._submit_btn').click()\n",
    "\n",
    "# # 날짜 설정\n",
    "# start_date = '20180101'\n",
    "# end_date = '2018.02.01'\n",
    "# # 기간 클릭\n",
    "# driver.find_element_by_css_selector('#snb > div > ul > li:nth-child(4) > a').click()\n",
    "# # 날짜 입력\n",
    "# #news_input_period_begin\n",
    "# driver.find_element_by_css_selector('#news_input_period_begin').send_keys(start_date)\n",
    "# # driver.find_element_by_css_selector('#news_input_period_end').send_keys(end_date)"
   ]
  },
  {
   "cell_type": "code",
   "execution_count": null,
   "metadata": {},
   "outputs": [],
   "source": [
    "# 뉴스 키워드 입력\n",
    "keyword = '날씨'\n",
    "# 검색\n",
    "driver.find_element_by_css_selector('#news_inner_search_query').send_keys(keyword)\n",
    "driver.find_element_by_css_selector('#main_pack > div.news.mynews.section._prs_nws > div > div.news_srch > span > button').click()\n",
    "# 최신순 정렬\n",
    "driver.find_element_by_css_selector('#main_pack > div.news.mynews.section._prs_nws > div.section_head > div.news_option > ul > li.select').click()"
   ]
  },
  {
   "cell_type": "code",
   "execution_count": null,
   "metadata": {},
   "outputs": [],
   "source": [
    "# 전체 번호 세팅\n",
    "total_page = driver.find_element_by_css_selector('#main_pack > div.news.mynews.section._prs_nws > div.section_head > div.title_desc.all_my > span').text\n",
    "total_page = total_page.split('/')\n",
    "total_page = total_page[1]\n",
    "total_page = total_page.replace(\" \", \"\")\n",
    "total_page = total_page.replace(\",\", \"\")\n",
    "total_page = total_page.replace(\"건\", \"\")\n",
    "total_page = int(total_page)\n",
    "\n",
    "# 현재 번호\n",
    "current_page = driver.find_element_by_css_selector('#main_pack > div.news.mynews.section._prs_nws > div.paging > strong').text\n",
    "current_page = int(current_page)"
   ]
  },
  {
   "cell_type": "code",
   "execution_count": null,
   "metadata": {},
   "outputs": [],
   "source": [
    "# 다 끝났으면 다음 페이지로 이동하는 모듈\n",
    "def moveNextPage():\n",
    "    global current_page\n",
    "    current_page = current_page + 1\n",
    "    # 페이징 태그 가져오기\n",
    "    paging_elements = driver.find_elements_by_css_selector(\".paging > a\")\n",
    "    for paging_num in paging_elements:\n",
    "        if(paging_num.text == str(current_page)):\n",
    "            paging_num.click()\n",
    "            break"
   ]
  },
  {
   "cell_type": "code",
   "execution_count": null,
   "metadata": {},
   "outputs": [],
   "source": [
    "# 크롤링 딜레이 5초줌\n",
    "delay = 5\n",
    "def getContent(url_tag):\n",
    "    content = ''\n",
    "    url_tag.find_element_by_css_selector('._sp_each_title').click()\n",
    "    # 최근 열린 탭으로 전환\n",
    "    driver.switch_to.window(driver.window_handles[-1])\n",
    "    try:\n",
    "        # 이넘은 안보이는 태그찾을 때?\n",
    "#         WebDriverWait(driver, delay).until(\n",
    "#             expected_conditions.invisibility_of_element(\n",
    "#                 (By.CSS_SELECTOR, \"#articleWrap > div.article\")\n",
    "#             )\n",
    "#         )\n",
    "        element = WebDriverWait(driver,delay).until(EC.presence_of_element_located((By.CSS_SELECTOR, \"#articleWrap > div.article\")))\n",
    "        content = driver.find_element_by_css_selector('#articleWrap > div.article').text\n",
    "    except NoSuchElementException:\n",
    "        print(\"[예외1]\", driver.current_url)\n",
    "        content = \"[예외] 사진 추정\"\n",
    "    except TimeoutException:\n",
    "        print(\"[예외2]\", driver.current_url)\n",
    "        content = \"[예외] 타임아웃에러\"\n",
    "    finally:\n",
    "        # 현재 탭 닫기\n",
    "        driver.close()\n",
    "        # 맨 처음 탭으로 변경(0번 탭)\n",
    "        driver.switch_to.window(driver.window_handles[0])\n",
    "    return content"
   ]
  },
  {
   "cell_type": "code",
   "execution_count": null,
   "metadata": {},
   "outputs": [],
   "source": [
    "# 전체 시작\n",
    "while(True):\n",
    "    if(current_page * 10 >= total_page):\n",
    "        print(current_page*10,'크롤링 끝1')\n",
    "        break\n",
    "    \n",
    "    page_content = driver.find_elements_by_css_selector('.type01 > li')\n",
    "    for content in page_content:\n",
    "        # date\n",
    "        temp = re.findall('\\d+', content.find_element_by_css_selector('.txt_inline').text)\n",
    "        news_date = ''\n",
    "        for x in temp:\n",
    "            news_date = news_date + x\n",
    "        data_dic['date'].append(news_date)\n",
    "        # 제목 담기\n",
    "        data_dic['title'].append(content.find_element_by_css_selector('._sp_each_title').text)\n",
    "        # URL 담기\n",
    "        data_dic['url'].append(content.find_element_by_css_selector('._sp_each_title').get_attribute(\"href\"))\n",
    "        # content\n",
    "        data_dic['content'].append(getContent(content))\n",
    "        \n",
    "    moveNextPage()"
   ]
  },
  {
   "cell_type": "code",
   "execution_count": null,
   "metadata": {},
   "outputs": [],
   "source": [
    "df = pd.DataFrame.from_dict(data_dic)\n",
    "df.to_csv('20152018날씨.csv', index=False, encoding='utf-8-sig')    "
   ]
  },
  {
   "cell_type": "raw",
   "metadata": {},
   "source": [
    "# 두개 탭 확인\n",
    "print(driver.window_handles)\n",
    "# 최근 열린 탭으로 전환\n",
    "driver.switch_to.window(driver.window_handles[-1])\n",
    "# 로딩 기다리기\n",
    "time.sleep(5)\n",
    "# 현재 탭 닫기\n",
    "driver.close()\n",
    "# 맨 처음 탭으로 변경(0번 탭)\n",
    "driver.switch_to.window(driver.window_handles[0])\n",
    "# 로딩 기다리기\n",
    "time.sleep(5)"
   ]
  },
  {
   "cell_type": "code",
   "execution_count": null,
   "metadata": {},
   "outputs": [],
   "source": []
  }
 ],
 "metadata": {
  "kernelspec": {
   "display_name": "Python 3",
   "language": "python",
   "name": "python3"
  },
  "language_info": {
   "codemirror_mode": {
    "name": "ipython",
    "version": 3
   },
   "file_extension": ".py",
   "mimetype": "text/x-python",
   "name": "python",
   "nbconvert_exporter": "python",
   "pygments_lexer": "ipython3",
   "version": "3.7.3"
  }
 },
 "nbformat": 4,
 "nbformat_minor": 2
}
