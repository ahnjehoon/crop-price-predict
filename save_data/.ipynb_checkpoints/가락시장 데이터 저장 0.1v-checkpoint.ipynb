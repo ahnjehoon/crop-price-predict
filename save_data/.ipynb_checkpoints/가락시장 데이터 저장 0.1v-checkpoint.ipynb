{
 "cells": [
  {
   "cell_type": "code",
   "execution_count": 1,
   "metadata": {},
   "outputs": [],
   "source": [
    "import requests as rq\n",
    "import pandas as pd\n",
    "import json\n",
    "import bs4\n",
    "import re\n",
    "import math"
   ]
  },
  {
   "cell_type": "code",
   "execution_count": 2,
   "metadata": {},
   "outputs": [],
   "source": [
    "with open(\"C:/open_data_key.txt\", 'r', encoding='utf-8') as f:\n",
    "    ServiceKey = f.readlines()[2]"
   ]
  },
  {
   "cell_type": "code",
   "execution_count": 3,
   "metadata": {},
   "outputs": [],
   "source": [
    "def connectionXML(url,params):\n",
    "    response = rq.get(url,params)\n",
    "    soup = bs4.BeautifulSoup(response.text, 'html.parser')\n",
    "#     soup = bs4.BeautifulSoup(xml, ['lxml', 'xml'])\n",
    "    return soup"
   ]
  },
  {
   "cell_type": "code",
   "execution_count": 4,
   "metadata": {},
   "outputs": [],
   "source": [
    "def NoneXMLdata(params):\n",
    "    if params == None: return ''\n",
    "    else: return params.text.strip()"
   ]
  },
  {
   "cell_type": "code",
   "execution_count": 5,
   "metadata": {},
   "outputs": [],
   "source": [
    "# 특수문자 리스트\n",
    "special_word = '[-=+,#/\\?:^$.@*\\\"※~&%ㆍ!』\\\\‘|\\(\\)\\[\\]\\<\\>`\\'…》]'"
   ]
  },
  {
   "cell_type": "code",
   "execution_count": 6,
   "metadata": {},
   "outputs": [],
   "source": [
    "data_dic = {\n",
    "         'buryu' : []\n",
    "        ,'sort_cd' : []\n",
    "        ,'pum_cd' : []\n",
    "        ,'pum_nm' : []\n",
    "        ,'corp_cd_1' : []\n",
    "        ,'corp_cd_2' : []\n",
    "        ,'corp_cd_3' : []\n",
    "        ,'corp_cd_4' : []\n",
    "        ,'corp_cd_5' : []\n",
    "        ,'corp_cd_6' : []\n",
    "        ,'sum_tot' : []\n",
    "        ,'date' : []\n",
    "    }"
   ]
  },
  {
   "cell_type": "code",
   "execution_count": 7,
   "metadata": {},
   "outputs": [],
   "source": [
    "def getDataXML(result_xml):\n",
    "    if len(data.find_all('list')) == 0:\n",
    "        return\n",
    "    # 데이터를 담을 딕셔너리\n",
    "    \n",
    "    result_list = result_xml.find_all('list')\n",
    "    # 태그의 수만큼 반복한다.\n",
    "    for result_tag in result_list : \n",
    "        data_dic['buryu'].append(re.sub(special_word, '', NoneXMLdata(result_tag.find('buryu'))))\n",
    "        data_dic['sort_cd'].append(NoneXMLdata(result_tag.find('sort_cd')))\n",
    "        data_dic['pum_cd'].append(NoneXMLdata(result_tag.find('pum_cd')))\n",
    "        data_dic['pum_nm'].append(NoneXMLdata(result_tag.find('pum_nm')))\n",
    "        data_dic['corp_cd_1'].append(NoneXMLdata(result_tag.find('corp_cd_1')))\n",
    "        data_dic['corp_cd_2'].append(NoneXMLdata(result_tag.find('corp_cd_2')))\n",
    "        data_dic['corp_cd_3'].append(NoneXMLdata(result_tag.find('corp_cd_3')))\n",
    "        data_dic['corp_cd_4'].append(NoneXMLdata(result_tag.find('corp_cd_4')))\n",
    "        data_dic['corp_cd_5'].append(NoneXMLdata(result_tag.find('corp_cd_5')))\n",
    "        data_dic['corp_cd_6'].append(NoneXMLdata(result_tag.find('corp_cd_6')))\n",
    "        data_dic['sum_tot'].append(NoneXMLdata(result_tag.find('sum_tot')))\n",
    "        data_dic['date'].append(params['date'])"
   ]
  },
  {
   "cell_type": "code",
   "execution_count": 8,
   "metadata": {},
   "outputs": [],
   "source": [
    "# 유통정보-가락시장 반입물량(정산후) 데이터\n",
    "# pageidx=1&date=20161222\n",
    "url = 'http://www.garak.co.kr/gongsa/jsp/gs/data_open/data.jsp'\n",
    "params = {\n",
    "     'id': ServiceKey  \n",
    "    ,'pageidx': ''\n",
    "    ,'date': ''\n",
    "}"
   ]
  },
  {
   "cell_type": "code",
   "execution_count": 9,
   "metadata": {},
   "outputs": [],
   "source": [
    "date_list = [d.strftime('%Y%m%d') for d in pd.date_range('20170401','20171231')]\n",
    "for v in date_list:\n",
    "    params['date'] = v\n",
    "    params['pageidx'] = 1\n",
    "    params_encode = \"&\".join(\"%s=%s\" % (k,v) for k,v in params.items())\n",
    "    data = connectionXML(url, params_encode)\n",
    "    list_total_count = data.find('list_total_count').text\n",
    "    total_pageidx = math.ceil(int(list_total_count) / 10)\n",
    "    for i in range(1, total_pageidx + 1):\n",
    "        params['pageidx'] = i\n",
    "        params_encode = \"&\".join(\"%s=%s\" % (k,v) for k,v in params.items())\n",
    "        data = connectionXML(url, params_encode)\n",
    "        getDataXML(data)"
   ]
  },
  {
   "cell_type": "code",
   "execution_count": 10,
   "metadata": {},
   "outputs": [
    {
     "data": {
      "text/plain": [
       "(114, 12)"
      ]
     },
     "execution_count": 10,
     "metadata": {},
     "output_type": "execute_result"
    }
   ],
   "source": [
    "df = pd.DataFrame.from_dict(data_dic)\n",
    "df.to_csv('가락시장4월.csv', index=False, encoding='utf-8-sig')\n",
    "df.shape"
   ]
  }
 ],
 "metadata": {
  "kernelspec": {
   "display_name": "Python 3",
   "language": "python",
   "name": "python3"
  },
  "language_info": {
   "codemirror_mode": {
    "name": "ipython",
    "version": 3
   },
   "file_extension": ".py",
   "mimetype": "text/x-python",
   "name": "python",
   "nbconvert_exporter": "python",
   "pygments_lexer": "ipython3",
   "version": "3.7.3"
  }
 },
 "nbformat": 4,
 "nbformat_minor": 2
}
