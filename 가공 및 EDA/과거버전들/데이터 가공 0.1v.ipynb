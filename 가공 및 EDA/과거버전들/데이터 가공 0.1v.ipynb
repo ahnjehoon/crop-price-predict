{
 "cells": [
  {
   "cell_type": "code",
   "execution_count": 1,
   "metadata": {},
   "outputs": [],
   "source": [
    "import matplotlib.pyplot as plt #Visulization\n",
    "import seaborn as sns #Visulization\n",
    "import warnings \n",
    "warnings.filterwarnings('ignore')\n",
    "%matplotlib inline\n",
    "import requests as rq\n",
    "import pandas as pd\n",
    "import numpy as np\n",
    "import math\n",
    "import json\n",
    "import bs4\n",
    "import re\n",
    "\n",
    "import pymysql\n",
    "pymysql.install_as_MySQLdb()\n",
    "import MySQLdb\n",
    "from sqlalchemy import create_engine\n",
    "\n",
    "with open(\"C:/open_data_key.txt\", 'r', encoding='utf-8') as f:\n",
    "    data_key = f.readlines()\n",
    "ServiceKey = data_key[0][:-1]\n",
    "connection_string = data_key[1]\n",
    "\n",
    "engine = create_engine(connection_string, encoding='utf-8', echo=False)"
   ]
  },
  {
   "cell_type": "code",
   "execution_count": 11,
   "metadata": {},
   "outputs": [
    {
     "name": "stdout",
     "output_type": "stream",
     "text": [
      "(461926, 44)\n"
     ]
    }
   ],
   "source": [
    "df = pd.read_csv(\"C:/crop_data/2015010120151231.csv\")\n",
    "print(df.shape)"
   ]
  },
  {
   "cell_type": "markdown",
   "metadata": {},
   "source": [
    "구산지코드, 경매일자, 거래단량, 거래량, 거래가격, 구산지코드, 구품종코드, 구품목코드, 등급코드, 단위명, 구시장코드"
   ]
  },
  {
   "cell_type": "markdown",
   "metadata": {},
   "source": [
    "'cprmtccode'\n",
    ",'delngDe'\n",
    ",'delngprut'\n",
    ",'delngQy'\n",
    ",'sbidpric'\n",
    ",'cprmtccode'\n",
    ",'stdspciescode'\n",
    ",'stdprdlstcode'\n",
    ",'stdqlitynewcode'\n",
    ",'stdunitnewcode'\n",
    ",'whsalmrktcode'"
   ]
  },
  {
   "cell_type": "code",
   "execution_count": null,
   "metadata": {},
   "outputs": [],
   "source": [
    "#가격(sbidpric) / 거래단량(delngprut) = Kg당 가격(kgperprice)\n",
    "df['kgperprice'] = ''\n",
    "#총거래가격(totalprice)\n",
    "df['totalprice'] = ''\n",
    "#총량(totalweight)\n",
    "df['totalweight'] = ''"
   ]
  },
  {
   "cell_type": "code",
   "execution_count": null,
   "metadata": {},
   "outputs": [],
   "source": [
    "#g 가격 변환\n",
    "#kg 가격 변환\n",
    "#ton 가격 변환"
   ]
  },
  {
   "cell_type": "markdown",
   "metadata": {},
   "source": [
    "df.head(5)"
   ]
  },
  {
   "cell_type": "code",
   "execution_count": 10,
   "metadata": {},
   "outputs": [
    {
     "data": {
      "text/plain": [
       "(5, 44)"
      ]
     },
     "execution_count": 10,
     "metadata": {},
     "output_type": "execute_result"
    }
   ],
   "source": [
    "#검색하기\n",
    "df[(df['stdunitnewcode']==11)].shape"
   ]
  },
  {
   "cell_type": "code",
   "execution_count": 6,
   "metadata": {},
   "outputs": [
    {
     "name": "stdout",
     "output_type": "stream",
     "text": [
      "0    6750.000000\n",
      "1     171.428571\n",
      "2     111.111111\n",
      "3     186.666667\n",
      "4     177.777778\n",
      "dtype: float64\n"
     ]
    }
   ],
   "source": [
    "# g처리\n",
    "for df in [df]:\n",
    "    id\n",
    "    print(df['sbidpric'] / df['delngprut'])\n",
    "# kg처리\n",
    "for df in [df.head(5)]:\n",
    "    \n",
    "# ton처리"
   ]
  },
  {
   "cell_type": "code",
   "execution_count": 7,
   "metadata": {},
   "outputs": [
    {
     "data": {
      "text/plain": [
       "12"
      ]
     },
     "execution_count": 7,
     "metadata": {},
     "output_type": "execute_result"
    }
   ],
   "source": [
    "df['stdunitnewcode'][0]"
   ]
  },
  {
   "cell_type": "code",
   "execution_count": null,
   "metadata": {},
   "outputs": [],
   "source": []
  },
  {
   "cell_type": "code",
   "execution_count": null,
   "metadata": {},
   "outputs": [],
   "source": []
  },
  {
   "cell_type": "code",
   "execution_count": null,
   "metadata": {},
   "outputs": [],
   "source": [
    "df['kgperprice'] = df.apply(lambda x : x['sbidpric'] / x['delngprut'])"
   ]
  },
  {
   "cell_type": "code",
   "execution_count": null,
   "metadata": {},
   "outputs": [],
   "source": []
  },
  {
   "cell_type": "code",
   "execution_count": null,
   "metadata": {},
   "outputs": [],
   "source": []
  },
  {
   "cell_type": "code",
   "execution_count": null,
   "metadata": {},
   "outputs": [],
   "source": [
    "df.to_csv(\"C:/crop_data/2015processed.csv\")"
   ]
  }
 ],
 "metadata": {
  "kernelspec": {
   "display_name": "Python 3",
   "language": "python",
   "name": "python3"
  },
  "language_info": {
   "codemirror_mode": {
    "name": "ipython",
    "version": 3
   },
   "file_extension": ".py",
   "mimetype": "text/x-python",
   "name": "python",
   "nbconvert_exporter": "python",
   "pygments_lexer": "ipython3",
   "version": "3.7.3"
  }
 },
 "nbformat": 4,
 "nbformat_minor": 2
}
