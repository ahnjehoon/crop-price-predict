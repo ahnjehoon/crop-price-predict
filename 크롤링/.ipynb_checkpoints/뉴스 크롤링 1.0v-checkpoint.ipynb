{
 "cells": [
  {
   "cell_type": "markdown",
   "metadata": {},
   "source": [
    "#### 1. 기간 설정시 날짜 입력 안됨 문제"
   ]
  },
  {
   "cell_type": "code",
   "execution_count": null,
   "metadata": {},
   "outputs": [],
   "source": [
    "import time\n",
    "import pandas as pd\n",
    "import re\n",
    "from selenium import webdriver\n",
    "from selenium.common.exceptions import NoSuchElementException,StaleElementReferenceException, TimeoutException"
   ]
  },
  {
   "cell_type": "code",
   "execution_count": null,
   "metadata": {},
   "outputs": [],
   "source": [
    "start_date = '2018.01.01'\n",
    "end_date   = '2018.12.31'"
   ]
  },
  {
   "cell_type": "code",
   "execution_count": null,
   "metadata": {},
   "outputs": [],
   "source": [
    "driver = webdriver.Chrome('chromedriver')\n",
    "url = \"https://search.naver.com/search.naver?where=news&query=&sm=tab_opt&sort=0&photo=0&field=0&reporter_article=&pd=3&ds={}&de={}&docid=&nso=so%3Ar%2Cp%3Afrom{}to{}%2Ca%3Aall&mynews=0&refresh_start=0&related=0\".format(start_date, end_date, start_date.replace(\".\",\"\"), end_date.replace(\".\",\"\"))\n",
    "driver.get(url)"
   ]
  },
  {
   "cell_type": "code",
   "execution_count": null,
   "metadata": {},
   "outputs": [],
   "source": [
    "data_dic = {\n",
    "     'title' : []\n",
    "    ,'content' : []\n",
    "    ,'date' : []\n",
    "    ,'url' : []\n",
    "}"
   ]
  },
  {
   "cell_type": "code",
   "execution_count": null,
   "metadata": {},
   "outputs": [],
   "source": [
    "# 검색옵션 클릭\n",
    "# driver.find_element_by_css_selector('#_search_option_btn').click()\n",
    "\n",
    "# 최신순 선택\n",
    "driver.find_element_by_css_selector('#snb > div > ul > li:nth-child(3) > a').click()\n",
    "driver.find_element_by_css_selector('#snb > div > ul > li.menu.selected > div > ul > li:nth-child(2) > a').click()\n",
    "\n",
    "# 언론사 선택\n",
    "driver.find_element_by_css_selector('#news_popup > a').click()\n",
    "# 연합뉴스 체크\n",
    "driver.find_element_by_css_selector('#ca_1001').click()\n",
    "# 확인\n",
    "driver.find_element_by_css_selector('#_nx_option_media > div.con_bx > div.view_btn > button.impact._submit_btn').click()"
   ]
  },
  {
   "cell_type": "code",
   "execution_count": null,
   "metadata": {},
   "outputs": [],
   "source": [
    "# 뉴스 키워드 입력\n",
    "keyword = '날씨'\n",
    "# 검색\n",
    "driver.find_element_by_css_selector('#news_inner_search_query').send_keys(keyword)\n",
    "driver.find_element_by_css_selector('#main_pack > div.news.mynews.section._prs_nws > div > div.news_srch > span > button').click()\n",
    "# 최신순 정렬\n",
    "driver.find_element_by_css_selector('#main_pack > div.news.mynews.section._prs_nws > div.section_head > div.news_option > ul > li.select').click()"
   ]
  },
  {
   "cell_type": "code",
   "execution_count": null,
   "metadata": {},
   "outputs": [],
   "source": [
    "# 전체 번호 세팅\n",
    "total_page = driver.find_element_by_css_selector('#main_pack > div.news.mynews.section._prs_nws > div.section_head > div.title_desc.all_my > span').text\n",
    "total_page = total_page.split('/')\n",
    "total_page = total_page[1]\n",
    "total_page = total_page.replace(\" \", \"\")\n",
    "total_page = total_page.replace(\",\", \"\")\n",
    "total_page = total_page.replace(\"건\", \"\")\n",
    "total_page = int(total_page)\n",
    "\n",
    "# 현재 번호\n",
    "current_page = driver.find_element_by_css_selector('#main_pack > div.news.mynews.section._prs_nws > div.paging > strong').text\n",
    "current_page = int(current_page)"
   ]
  },
  {
   "cell_type": "code",
   "execution_count": null,
   "metadata": {},
   "outputs": [],
   "source": [
    "# 다 끝났으면 다음 페이지로 이동하는 모듈\n",
    "def moveNextPage():\n",
    "    global current_page\n",
    "    current_page = current_page + 1\n",
    "    # 페이징 태그 가져오기\n",
    "    paging_elements = driver.find_elements_by_css_selector(\".paging > a\")\n",
    "    for paging_num in paging_elements:\n",
    "        if(paging_num.text == str(current_page)):\n",
    "            paging_num.click()\n",
    "            break"
   ]
  },
  {
   "cell_type": "code",
   "execution_count": null,
   "metadata": {},
   "outputs": [],
   "source": [
    "def getContent():\n",
    "    content = ''\n",
    "    date = ''\n",
    "    url = ''\n",
    "    try:\n",
    "        content = driver.find_element_by_css_selector('#articleBodyContents').text\n",
    "        date = \"\".join(re.findall('\\d+',driver.find_element_by_css_selector('#main_content > div.article_header > div.article_info > div > span:nth-child(1)').text[0:10]))\n",
    "        url = driver.current_url\n",
    "    except:\n",
    "        print(driver.current_url,\"오류 발생\")\n",
    "        content = \"오류\"\n",
    "    finally:\n",
    "        return content, date, url"
   ]
  },
  {
   "cell_type": "code",
   "execution_count": null,
   "metadata": {
    "scrolled": true
   },
   "outputs": [],
   "source": [
    "while(True):\n",
    "    page_content = driver.find_elements_by_css_selector('.type01 > li')\n",
    "    for content in page_content:\n",
    "        # 제목 담기\n",
    "        data_dic['title'].append(content.find_element_by_css_selector('._sp_each_title').text)\n",
    "        \n",
    "        # 링크 클릭(네이버 뉴스로 대체)\n",
    "        content.find_element_by_css_selector('._sp_each_url').click()\n",
    "        # 최근 열린 탭으로 전환\n",
    "        driver.switch_to.window(driver.window_handles[-1])\n",
    "        \n",
    "        ### 새로운 탭에서 작업 ###\n",
    "        [content, date, url] = getContent()\n",
    "        data_dic['content'].append(content)\n",
    "        data_dic['date'].append(date)\n",
    "        data_dic['url'].append(url)\n",
    "        \n",
    "        # 현재 탭 닫기\n",
    "        driver.close()\n",
    "        # 맨 처음 탭으로 변경(0번 탭)\n",
    "        driver.switch_to.window(driver.window_handles[0])\n",
    "    if(current_page * 10 >= total_page):\n",
    "        print(current_page*10,'크롤링 끝!')\n",
    "        break\n",
    "    else:\n",
    "        moveNextPage()"
   ]
  },
  {
   "cell_type": "code",
   "execution_count": null,
   "metadata": {},
   "outputs": [],
   "source": [
    "df = pd.DataFrame.from_dict(data_dic)\n",
    "# df.to_csv('20152018날씨.csv', index=False, encoding='utf-8-sig')\n",
    "df.to_csv('test.csv', index=False, encoding='utf-8-sig')"
   ]
  }
 ],
 "metadata": {
  "kernelspec": {
   "display_name": "Python 3",
   "language": "python",
   "name": "python3"
  },
  "language_info": {
   "codemirror_mode": {
    "name": "ipython",
    "version": 3
   },
   "file_extension": ".py",
   "mimetype": "text/x-python",
   "name": "python",
   "nbconvert_exporter": "python",
   "pygments_lexer": "ipython3",
   "version": "3.7.3"
  }
 },
 "nbformat": 4,
 "nbformat_minor": 2
}
