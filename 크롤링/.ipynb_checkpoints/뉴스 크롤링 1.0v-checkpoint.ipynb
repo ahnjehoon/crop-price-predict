{
 "cells": [
  {
   "cell_type": "code",
   "execution_count": 1,
   "metadata": {},
   "outputs": [],
   "source": [
    "import time\n",
    "import pandas as pd\n",
    "import re\n",
    "\n",
    "import datetime as dt\n",
    "from dateutil.relativedelta import relativedelta\n",
    "\n",
    "from selenium import webdriver\n",
    "from selenium.common.exceptions import NoSuchElementException,StaleElementReferenceException, TimeoutException"
   ]
  },
  {
   "cell_type": "code",
   "execution_count": 2,
   "metadata": {},
   "outputs": [],
   "source": [
    "driver = webdriver.Chrome('chromedriver')\n",
    "data_dic = {\n",
    "     'title' : []\n",
    "    ,'content' : []\n",
    "    ,'date' : []\n",
    "    ,'url' : []\n",
    "}"
   ]
  },
  {
   "cell_type": "code",
   "execution_count": 3,
   "metadata": {},
   "outputs": [],
   "source": [
    "yyyymm_1 = '200801'\n",
    "yyyymm_2 = '201212'\n",
    "# yyyymm_1 = '201301'\n",
    "# yyyymm_2 = '201812'\n",
    "\n",
    "MONTH = relativedelta(months=+1)\n",
    "\n",
    "fmt = '%Y%m'\n",
    "date_1 = dt.datetime.strptime(yyyymm_1, fmt).date()\n",
    "date_2 = dt.datetime.strptime(yyyymm_2, fmt).date()\n",
    "\n",
    "yyyymm = []\n",
    "while date_1 <= date_2:\n",
    "    yyyymm.append(date_1.strftime('%Y')+date_1.strftime('%m'))\n",
    "    date_1 += MONTH"
   ]
  },
  {
   "cell_type": "code",
   "execution_count": 4,
   "metadata": {},
   "outputs": [],
   "source": [
    "def init(start_date, end_date):\n",
    "    url = \"https://search.naver.com/search.naver?where=news&query=&sm=tab_opt&sort=0&photo=0&field=0&reporter_article=&pd=3&ds={}&de={}&docid=&nso=so%3Ar%2Cp%3Afrom{}to{}%2Ca%3Aall&mynews=0&refresh_start=0&related=0\".format(start_date, end_date, start_date.replace(\".\",\"\"), end_date.replace(\".\",\"\"))\n",
    "    driver.get(url)\n",
    "    \n",
    "    # 검색옵션 클릭\n",
    "    # driver.find_element_by_css_selector('#_search_option_btn').click()\n",
    "\n",
    "    # 최신순 선택\n",
    "    driver.find_element_by_css_selector('#snb > div > ul > li:nth-child(3) > a').click()\n",
    "    driver.find_element_by_css_selector('#snb > div > ul > li.menu.selected > div > ul > li:nth-child(2) > a').click()\n",
    "\n",
    "    # 언론사 선택\n",
    "    driver.find_element_by_css_selector('#news_popup > a').click()\n",
    "    # 연합뉴스 체크\n",
    "    driver.find_element_by_css_selector('#ca_1001').click()\n",
    "    # 확인\n",
    "    driver.find_element_by_css_selector('#_nx_option_media > div.con_bx > div.view_btn > button.impact._submit_btn').click()\n",
    "\n",
    "    # 뉴스 키워드 입력\n",
    "    keyword = '날씨'\n",
    "    # 검색\n",
    "    driver.find_element_by_css_selector('#news_inner_search_query').send_keys(keyword)\n",
    "    driver.find_element_by_css_selector('#main_pack > div.news.mynews.section._prs_nws > div > div.news_srch > span > button').click()\n",
    "    # 최신순 정렬\n",
    "    driver.find_element_by_css_selector('#main_pack > div.news.mynews.section._prs_nws > div.section_head > div.news_option > ul > li.select').click()\n",
    "\n",
    "    # 전체 번호 세팅\n",
    "    total_page = driver.find_element_by_css_selector('#main_pack > div.news.mynews.section._prs_nws > div.section_head > div.title_desc.all_my > span').text\n",
    "    total_page = total_page.split('/')\n",
    "    total_page = total_page[1]\n",
    "    total_page = total_page.replace(\" \", \"\")\n",
    "    total_page = total_page.replace(\",\", \"\")\n",
    "    total_page = total_page.replace(\"건\", \"\")\n",
    "    total_page = int(total_page)\n",
    "\n",
    "    # 현재 번호\n",
    "    current_page = driver.find_element_by_css_selector('#main_pack > div.news.mynews.section._prs_nws > div.paging > strong').text\n",
    "    current_page = int(current_page)\n",
    "    return total_page, current_page"
   ]
  },
  {
   "cell_type": "code",
   "execution_count": 5,
   "metadata": {},
   "outputs": [],
   "source": [
    "# 다 끝났으면 다음 페이지로 이동하는 모듈\n",
    "def moveNextPage():\n",
    "    global current_page\n",
    "    current_page = current_page + 1\n",
    "    # 페이징 태그 가져오기\n",
    "    paging_elements = driver.find_elements_by_css_selector(\".paging > a\")\n",
    "    for paging_num in paging_elements:\n",
    "        if(paging_num.text == str(current_page)):\n",
    "            paging_num.click()\n",
    "            break"
   ]
  },
  {
   "cell_type": "code",
   "execution_count": 6,
   "metadata": {},
   "outputs": [],
   "source": [
    "def getContent():\n",
    "    content = ''\n",
    "    date = ''\n",
    "    url = ''\n",
    "    try:\n",
    "        content = driver.find_element_by_css_selector('#articleBodyContents').text\n",
    "        date = \"\".join(re.findall('\\d+',driver.find_element_by_css_selector('#main_content > div.article_header > div.article_info > div > span:nth-child(1)').text[0:10]))\n",
    "        url = driver.current_url\n",
    "    except:\n",
    "        print(driver.current_url,\"오류 발생\")\n",
    "        content = \"오류\"\n",
    "        url = driver.current_url\n",
    "    finally:\n",
    "        return content, date, url"
   ]
  },
  {
   "cell_type": "code",
   "execution_count": 7,
   "metadata": {},
   "outputs": [],
   "source": [
    "for i in range(int(len(yyyymm) / 4)):\n",
    "    ds = yyyymm[i*4][0:4]  +'.'+yyyymm[i*4][4:6]+'.01'\n",
    "    de = yyyymm[i*4+3][0:4]+'.'+yyyymm[i*4+3][4:6]+'.31'\n",
    "    [total_page, current_page] = init(ds, de)\n",
    "    while(True):\n",
    "        page_content = driver.find_elements_by_css_selector('.type01 > li')\n",
    "        for content in page_content:\n",
    "            # 제목 담기\n",
    "            data_dic['title'].append(content.find_element_by_css_selector('._sp_each_title').text)\n",
    "\n",
    "            # 링크 클릭(네이버 뉴스로 대체)\n",
    "            content.find_element_by_css_selector('._sp_each_url').click()\n",
    "            # 최근 열린 탭으로 전환\n",
    "            driver.switch_to.window(driver.window_handles[-1])\n",
    "\n",
    "            ### 새로운 탭에서 작업 ###\n",
    "            [content, date, url] = getContent()\n",
    "            data_dic['content'].append(content)\n",
    "            data_dic['date'].append(date)\n",
    "            data_dic['url'].append(url)\n",
    "\n",
    "            # 현재 탭 닫기\n",
    "            driver.close()\n",
    "            # 맨 처음 탭으로 변경(0번 탭)\n",
    "            driver.switch_to.window(driver.window_handles[0])\n",
    "        if(current_page * 10 >= total_page | current_page * 10 >= 4000):\n",
    "            print(current_page*10,'크롤링 끝!')\n",
    "            break\n",
    "        else:\n",
    "            moveNextPage()"
   ]
  },
  {
   "cell_type": "code",
   "execution_count": 8,
   "metadata": {},
   "outputs": [],
   "source": [
    "df = pd.DataFrame.from_dict(data_dic)\n",
    "df.to_csv(yyyymm_1[0:4]+yyyymm_2[0:4]+'날씨.csv', index=False, encoding='utf-8-sig')\n",
    "# df.to_csv('test.csv', index=False, encoding='utf-8-sig')"
   ]
  },
  {
   "cell_type": "code",
   "execution_count": null,
   "metadata": {},
   "outputs": [],
   "source": []
  }
 ],
 "metadata": {
  "kernelspec": {
   "display_name": "Python 3",
   "language": "python",
   "name": "python3"
  },
  "language_info": {
   "codemirror_mode": {
    "name": "ipython",
    "version": 3
   },
   "file_extension": ".py",
   "mimetype": "text/x-python",
   "name": "python",
   "nbconvert_exporter": "python",
   "pygments_lexer": "ipython3",
   "version": "3.7.3"
  }
 },
 "nbformat": 4,
 "nbformat_minor": 2
}
