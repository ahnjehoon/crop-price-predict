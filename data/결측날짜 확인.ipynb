{
 "cells": [
  {
   "cell_type": "code",
   "execution_count": 1,
   "metadata": {},
   "outputs": [],
   "source": [
    "import pandas as pd"
   ]
  },
  {
   "cell_type": "code",
   "execution_count": 2,
   "metadata": {},
   "outputs": [
    {
     "name": "stderr",
     "output_type": "stream",
     "text": [
      "C:\\ProgramData\\Anaconda3\\lib\\site-packages\\IPython\\core\\interactiveshell.py:3049: DtypeWarning: Columns (16,21,26) have mixed types. Specify dtype option on import or set low_memory=False.\n",
      "  interactivity=interactivity, compiler=compiler, result=result)\n"
     ]
    }
   ],
   "source": [
    "df = pd.read_csv(\"2015010120151231.csv\")"
   ]
  },
  {
   "cell_type": "code",
   "execution_count": 3,
   "metadata": {},
   "outputs": [],
   "source": [
    "date_list = [d.strftime('%Y%m%d') for d in pd.date_range('20150101','20151231')]\n",
    "unique_value = df['delngde'].unique()\n",
    "\n",
    "no_date = []\n",
    "for k, v in enumerate(date_list):\n",
    "    if(int(v) not in unique_value):\n",
    "        no_date.append(v)"
   ]
  },
  {
   "cell_type": "code",
   "execution_count": 4,
   "metadata": {
    "scrolled": false
   },
   "outputs": [
    {
     "data": {
      "text/plain": [
       "36"
      ]
     },
     "execution_count": 4,
     "metadata": {},
     "output_type": "execute_result"
    }
   ],
   "source": [
    "len(no_date)"
   ]
  },
  {
   "cell_type": "code",
   "execution_count": 5,
   "metadata": {},
   "outputs": [
    {
     "data": {
      "text/plain": [
       "['20150101',\n",
       " '20150125',\n",
       " '20150219',\n",
       " '20150220',\n",
       " '20150222',\n",
       " '20150301',\n",
       " '20150322',\n",
       " '20150329',\n",
       " '20150405',\n",
       " '20150412',\n",
       " '20150419',\n",
       " '20150426',\n",
       " '20150503',\n",
       " '20150510',\n",
       " '20150517',\n",
       " '20150524',\n",
       " '20150531',\n",
       " '20150607',\n",
       " '20150614',\n",
       " '20150621',\n",
       " '20150628',\n",
       " '20150705',\n",
       " '20150712',\n",
       " '20150719',\n",
       " '20150726',\n",
       " '20150802',\n",
       " '20150809',\n",
       " '20150816',\n",
       " '20150927',\n",
       " '20150928',\n",
       " '20151011',\n",
       " '20151101',\n",
       " '20151108',\n",
       " '20151213',\n",
       " '20151220',\n",
       " '20151227']"
      ]
     },
     "execution_count": 5,
     "metadata": {},
     "output_type": "execute_result"
    }
   ],
   "source": [
    "no_date"
   ]
  },
  {
   "cell_type": "code",
   "execution_count": null,
   "metadata": {},
   "outputs": [],
   "source": []
  }
 ],
 "metadata": {
  "kernelspec": {
   "display_name": "Python 3",
   "language": "python",
   "name": "python3"
  },
  "language_info": {
   "codemirror_mode": {
    "name": "ipython",
    "version": 3
   },
   "file_extension": ".py",
   "mimetype": "text/x-python",
   "name": "python",
   "nbconvert_exporter": "python",
   "pygments_lexer": "ipython3",
   "version": "3.7.3"
  }
 },
 "nbformat": 4,
 "nbformat_minor": 2
}
