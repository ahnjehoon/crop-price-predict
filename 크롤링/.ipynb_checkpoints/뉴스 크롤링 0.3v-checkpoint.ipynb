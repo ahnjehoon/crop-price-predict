{
 "cells": [
  {
   "cell_type": "markdown",
   "metadata": {},
   "source": [
    "#### 1. 기간 설정시 날짜 입력 안됨 문제"
   ]
  },
  {
   "cell_type": "code",
   "execution_count": null,
   "metadata": {},
   "outputs": [],
   "source": [
    "import time\n",
    "import pandas as pd\n",
    "import re\n",
    "\n",
    "from selenium import webdriver\n",
    "from selenium.common.exceptions import NoSuchElementException,StaleElementReferenceException, TimeoutException\n",
    "from selenium.webdriver.support.ui import WebDriverWait\n",
    "from selenium.webdriver.support import expected_conditions as EC\n",
    "from selenium.webdriver.common.by import By"
   ]
  },
  {
   "cell_type": "code",
   "execution_count": null,
   "metadata": {},
   "outputs": [],
   "source": [
    "# 크롤링 딜레이 몇초줄껀지\n",
    "delay = 5"
   ]
  },
  {
   "cell_type": "code",
   "execution_count": null,
   "metadata": {},
   "outputs": [],
   "source": [
    "driver = webdriver.Chrome('chromedriver')\n",
    "url = 'https://search.naver.com/search.naver?query=&where=news&ie=utf8&sm=nws_hty'\n",
    "driver.get(url)"
   ]
  },
  {
   "cell_type": "code",
   "execution_count": null,
   "metadata": {},
   "outputs": [],
   "source": [
    "data_dic = {\n",
    "     'date' : []\n",
    "    ,'time' : []\n",
    "    ,'title' : []\n",
    "    ,'content' : []\n",
    "    ,'category' : [] # 0이면 일반 1이면 사진\n",
    "    ,'url' : []\n",
    "}"
   ]
  },
  {
   "cell_type": "code",
   "execution_count": null,
   "metadata": {},
   "outputs": [],
   "source": [
    "# 검색옵션 클릭\n",
    "driver.find_element_by_css_selector('#_search_option_btn').click()\n",
    "\n",
    "# 최신순 선택\n",
    "driver.find_element_by_css_selector('#snb > div > ul > li:nth-child(3) > a').click()\n",
    "driver.find_element_by_css_selector('#snb > div > ul > li.menu.selected > div > ul > li:nth-child(2) > a').click()\n",
    "\n",
    "# 언론사 선택\n",
    "driver.find_element_by_css_selector('#news_popup > a').click()\n",
    "# 연합뉴스 체크\n",
    "driver.find_element_by_css_selector('#ca_1001').click()\n",
    "# 확인\n",
    "driver.find_element_by_css_selector('#_nx_option_media > div.con_bx > div.view_btn > button.impact._submit_btn').click()\n",
    "\n",
    "# # 날짜 설정\n",
    "# start_date = '20180101'\n",
    "# end_date = '2018.02.01'\n",
    "# # 기간 클릭\n",
    "# driver.find_element_by_css_selector('#snb > div > ul > li:nth-child(4) > a').click()\n",
    "# # 날짜 입력\n",
    "# #news_input_period_begin\n",
    "# driver.find_element_by_css_selector('#news_input_period_begin').send_keys(start_date)\n",
    "# # driver.find_element_by_css_selector('#news_input_period_end').send_keys(end_date)"
   ]
  },
  {
   "cell_type": "code",
   "execution_count": null,
   "metadata": {},
   "outputs": [],
   "source": [
    "# 뉴스 키워드 입력\n",
    "keyword = '날씨'\n",
    "# 검색\n",
    "driver.find_element_by_css_selector('#news_inner_search_query').send_keys(keyword)\n",
    "driver.find_element_by_css_selector('#main_pack > div.news.mynews.section._prs_nws > div > div.news_srch > span > button').click()\n",
    "# 최신순 정렬\n",
    "driver.find_element_by_css_selector('#main_pack > div.news.mynews.section._prs_nws > div.section_head > div.news_option > ul > li.select').click()"
   ]
  },
  {
   "cell_type": "code",
   "execution_count": null,
   "metadata": {},
   "outputs": [],
   "source": [
    "# 전체 번호 세팅\n",
    "total_page = driver.find_element_by_css_selector('#main_pack > div.news.mynews.section._prs_nws > div.section_head > div.title_desc.all_my > span').text\n",
    "total_page = total_page.split('/')\n",
    "total_page = total_page[1]\n",
    "total_page = total_page.replace(\" \", \"\")\n",
    "total_page = total_page.replace(\",\", \"\")\n",
    "total_page = total_page.replace(\"건\", \"\")\n",
    "total_page = int(total_page)\n",
    "\n",
    "# 현재 번호\n",
    "current_page = driver.find_element_by_css_selector('#main_pack > div.news.mynews.section._prs_nws > div.paging > strong').text\n",
    "current_page = int(current_page)"
   ]
  },
  {
   "cell_type": "code",
   "execution_count": null,
   "metadata": {},
   "outputs": [],
   "source": [
    "# 다 끝났으면 다음 페이지로 이동하는 모듈\n",
    "def moveNextPage():\n",
    "    global current_page\n",
    "    current_page = current_page + 1\n",
    "    # 페이징 태그 가져오기\n",
    "    paging_elements = driver.find_elements_by_css_selector(\".paging > a\")\n",
    "    for paging_num in paging_elements:\n",
    "        if(paging_num.text == str(current_page)):\n",
    "            paging_num.click()\n",
    "            break"
   ]
  },
  {
   "cell_type": "code",
   "execution_count": null,
   "metadata": {},
   "outputs": [],
   "source": [
    "def getContent():\n",
    "    content = ''\n",
    "    category = 0\n",
    "    try:\n",
    "        element = WebDriverWait(driver,delay).until(EC.presence_of_element_located((By.CSS_SELECTOR, \"#articleWrap > div.article\")))\n",
    "        content = driver.find_element_by_css_selector('#articleWrap > div.article').text\n",
    "    except NoSuchElementException:\n",
    "        print(\"[예외1]\", driver.current_url)\n",
    "        content = \"[예외] 사진 추정\"\n",
    "        categoty = 1\n",
    "    except TimeoutException:\n",
    "        try:\n",
    "            content = driver.find_element_by_css_selector('#viewWrap > div.inner-article > div.article-txt').text\n",
    "            categoty = 1\n",
    "        except NoSuchElementException:\n",
    "            print(\"[예외2]\", driver.current_url)\n",
    "            content = \"[예외] 뭘까\"\n",
    "            categoty = 1\n",
    "        except TimeoutException:\n",
    "            print(\"[예외3]\", driver.current_url)\n",
    "            content = \"[예외] 으헝\"\n",
    "            categoty = 1\n",
    "    except:\n",
    "        print(\"[예외4] 저주받은 에러\", driver.current_url)\n",
    "    finally:\n",
    "        return content, category"
   ]
  },
  {
   "cell_type": "code",
   "execution_count": null,
   "metadata": {},
   "outputs": [],
   "source": [
    "def getDateTime():\n",
    "    try:\n",
    "        date_time = re.findall('\\d+',driver.find_element_by_css_selector('#articleWrap > div.article-sns-md.sns-md04 > div.share-info > span > em').text)\n",
    "    except:\n",
    "        date_time = re.findall('\\d+',driver.find_element_by_css_selector('#viewWrap > div.inner-article > div.article-copy > span.article-copy03').text)\n",
    "    finally:\n",
    "        return \"\".join(date_time)"
   ]
  },
  {
   "cell_type": "code",
   "execution_count": null,
   "metadata": {},
   "outputs": [],
   "source": [
    "# 전체 시작\n",
    "while(True):\n",
    "#     if(current_page * 10 >= total_page):\n",
    "    if(current_page * 10 >= 100):\n",
    "        print(current_page*10,'크롤링 끝1')\n",
    "        break\n",
    "    \n",
    "    page_content = driver.find_elements_by_css_selector('.type01 > li')\n",
    "    for content in page_content:\n",
    "        # 제목 담기\n",
    "        data_dic['title'].append(content.find_element_by_css_selector('._sp_each_title').text)\n",
    "        # URL 담기\n",
    "        data_dic['url'].append(content.find_element_by_css_selector('._sp_each_title').get_attribute(\"href\"))\n",
    "        \n",
    "        # 링크 클릭\n",
    "        content.find_element_by_css_selector('._sp_each_title').click()\n",
    "        # 최근 열린 탭으로 전환\n",
    "        driver.switch_to.window(driver.window_handles[-1])\n",
    "        ### 새로운 탭에서 작업 ###\n",
    "        [content, category] = getContent()\n",
    "        data_dic['content'].append(content)\n",
    "        data_dic['category'].append(category)\n",
    "        data_dic['date'].append(getDateTime()[0:8])\n",
    "        data_dic['time'].append(getDateTime()[8:12])\n",
    "        # 현재 탭 닫기\n",
    "        driver.close()\n",
    "        # 맨 처음 탭으로 변경(0번 탭)\n",
    "        driver.switch_to.window(driver.window_handles[0])\n",
    "    moveNextPage()"
   ]
  },
  {
   "cell_type": "code",
   "execution_count": null,
   "metadata": {},
   "outputs": [],
   "source": [
    "df = pd.DataFrame.from_dict(data_dic)\n",
    "# df.to_csv('20152018날씨.csv', index=False, encoding='utf-8-sig')    \n",
    "df.to_csv('test.csv', index=False, encoding='utf-8-sig')"
   ]
  },
  {
   "cell_type": "raw",
   "metadata": {},
   "source": [
    "# 두개 탭 확인\n",
    "print(driver.window_handles)\n",
    "# 최근 열린 탭으로 전환\n",
    "driver.switch_to.window(driver.window_handles[-1])\n",
    "# 로딩 기다리기\n",
    "time.sleep(5)\n",
    "# 현재 탭 닫기\n",
    "driver.close()\n",
    "# 맨 처음 탭으로 변경(0번 탭)\n",
    "driver.switch_to.window(driver.window_handles[0])\n",
    "# 로딩 기다리기\n",
    "time.sleep(5)"
   ]
  },
  {
   "cell_type": "code",
   "execution_count": null,
   "metadata": {},
   "outputs": [],
   "source": []
  }
 ],
 "metadata": {
  "kernelspec": {
   "display_name": "Python 3",
   "language": "python",
   "name": "python3"
  },
  "language_info": {
   "codemirror_mode": {
    "name": "ipython",
    "version": 3
   },
   "file_extension": ".py",
   "mimetype": "text/x-python",
   "name": "python",
   "nbconvert_exporter": "python",
   "pygments_lexer": "ipython3",
   "version": "3.7.3"
  }
 },
 "nbformat": 4,
 "nbformat_minor": 2
}
