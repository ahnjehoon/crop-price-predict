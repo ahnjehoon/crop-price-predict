{
 "cells": [
  {
   "cell_type": "code",
   "execution_count": 1,
   "metadata": {},
   "outputs": [],
   "source": [
    "#경고 끄기\n",
    "import warnings\n",
    "warnings.filterwarnings(action='ignore')"
   ]
  },
  {
   "cell_type": "code",
   "execution_count": 2,
   "metadata": {},
   "outputs": [],
   "source": [
    "import pandas as pd\n",
    "import numpy as np\n",
    "import seaborn as sns\n",
    "import matplotlib.pyplot as plt\n",
    "%matplotlib inline\n",
    "\n",
    "plt.rc('font', family='Malgun Gothic')"
   ]
  },
  {
   "cell_type": "markdown",
   "metadata": {},
   "source": [
    "### 단량별 가격 sbidpric\n",
    "- 거래단량 delngprut이 얼마에 거래됬는지 나타내는 변수\n",
    "- sbidpric만으로는 g, kg, ton 단위가 너무 포괄적이기 때문에 kg당 가격으로 가공 필요\n",
    "\n",
    "#### 컬럼추가\n",
    "- Kg당 가격(priceperkg)\n",
    "  - 가격(sbidpric) / 거래단량(delngprut)\n",
    "  - 거래단위(stdunitnewcode)가 g(11)일경우 *1000, kg(12)일경우 그대로, ton(13)일경우 /1000\n",
    "  - 하면 priceperkg가 됨\n",
    "- 총거래가격(totalprice)\n",
    "  - 거래량(delngQy) * 가격(sbidpric)\n",
    "- 총량(totalweight)\n",
    "  - 거래단량(delngprut) * 거래량(delngQy)\n",
    "  - 거래단위(stdunitnewcode)가 g(11)일경우 /1000, kg(12)일경우 그대로, ton(13)일경우 *1000"
   ]
  },
  {
   "cell_type": "markdown",
   "metadata": {},
   "source": [
    "### 경매 종류 선택 aucsecode-숫자 aucsenm-한글\n",
    "\n",
    "- 1: 경매\n",
    "\n",
    "- 2: 정가수의\n",
    "\n",
    "  - 경쟁계약에 의하지 않고 임의로 상대를 선정하여 계약을 체결하는 것\n",
    "\n",
    "- 3: 자기계산\n",
    "\n",
    "  - 가격을 정하고 거래(정가매매)\n",
    "      1. 출하자 가격과 수량 정해서 도매법인에게 의견전달\n",
    "      2. 도매법인이 여러 구매자(중도매인, 매매참가인)에게 알려줌\n",
    "      3. 구매 의향 있는 구매자 등장 시 거래성사\n",
    "\n",
    "- 4: 매수도매\n",
    "\n",
    "  - 직접 생산자와 출하약정을 맺고 물량을 구입해 중도매인에게 적정 가격으로 공급하는 제도"
   ]
  },
  {
   "cell_type": "code",
   "execution_count": 3,
   "metadata": {},
   "outputs": [],
   "source": [
    "def getData():\n",
    "    df2008 = pd.read_csv(\"C:/1001/2008010120081231.csv\")\n",
    "    df2009 = pd.read_csv(\"C:/1001/2009010120091231.csv\")\n",
    "    df2010 = pd.read_csv(\"C:/1001/2010010120101231.csv\")\n",
    "    df2011 = pd.read_csv(\"C:/1001/2011010120111231.csv\")\n",
    "    df2012 = pd.read_csv(\"C:/1001/2012010120121231.csv\")\n",
    "    df2013 = pd.read_csv(\"C:/1001/2013010120131231.csv\")\n",
    "    df2014 = pd.read_csv(\"C:/1001/2014010120141231.csv\")\n",
    "    df2015 = pd.read_csv(\"C:/1001/2015010120151231.csv\")\n",
    "    df2016 = pd.read_csv(\"C:/1001/2016010120161231.csv\")\n",
    "    df2017 = pd.read_csv(\"C:/1001/2017010120171231.csv\")\n",
    "    df2018 = pd.read_csv(\"C:/1001/2018010120181231.csv\")\n",
    "    return pd.concat((df2008, df2009, df2010, df2011, df2012, df2013, df2014, df2015, df2016, df2017, df2018), axis=0)"
   ]
  },
  {
   "cell_type": "code",
   "execution_count": 4,
   "metadata": {},
   "outputs": [],
   "source": [
    "def priceTransform(df):\n",
    "    #Kg당 가격(priceperkg)\n",
    "    #총거래가격(totalprice) = 거래량(delngQy) * 가격(sbidpric)\n",
    "    #총량(totalweight) = 거래단량(delngprut) * 거래량(delngQy) * 단위\n",
    "\n",
    "    df11 = df[(df['stdunitnewcode']==11)]\n",
    "    df12 = df[(df['stdunitnewcode']==12)]\n",
    "    df13 = df[(df['stdunitnewcode']==13)]\n",
    "    df11['priceperkg'] = df11['sbidpric'] / df11['delngprut'] * 1000\n",
    "    df11['totalweight'] = df11['delngprut'] * df11['delngqy'] / 1000\n",
    "    df12['priceperkg'] = df12['sbidpric'] / df12['delngprut']\n",
    "    df12['totalweight'] = df12['delngprut'] * df12['delngqy']\n",
    "    df13['priceperkg'] = df13['sbidpric'] / df13['delngprut'] / 1000\n",
    "    df13['totalweight'] = df13['delngprut'] * df13['delngqy'] / 1000\n",
    "    \n",
    "    df = pd.concat([df11, df12, df13])\n",
    "\n",
    "    df['totalprice'] = df['sbidpric'] * df['delngqy']\n",
    "        \n",
    "    return df"
   ]
  },
  {
   "cell_type": "code",
   "execution_count": 5,
   "metadata": {},
   "outputs": [],
   "source": [
    "df = getData()"
   ]
  },
  {
   "cell_type": "code",
   "execution_count": 6,
   "metadata": {},
   "outputs": [],
   "source": [
    "df = priceTransform(df)"
   ]
  },
  {
   "cell_type": "code",
   "execution_count": 7,
   "metadata": {},
   "outputs": [],
   "source": [
    "df = df[df['priceperkg'] > 0]"
   ]
  },
  {
   "cell_type": "code",
   "execution_count": 8,
   "metadata": {},
   "outputs": [],
   "source": [
    "# 정렬\n",
    "df = df.sort_values([\"delngde\"], ascending=[True])"
   ]
  },
  {
   "cell_type": "code",
   "execution_count": 9,
   "metadata": {},
   "outputs": [],
   "source": [
    "df['yyyy'] = df['delngde'].apply(lambda x: str(x)[0:4])\n",
    "df['mm'] = df['delngde'].apply(lambda x: str(x)[4:6])"
   ]
  },
  {
   "cell_type": "code",
   "execution_count": 10,
   "metadata": {},
   "outputs": [
    {
     "data": {
      "text/plain": [
       "<matplotlib.axes._subplots.AxesSubplot at 0x288e8133e48>"
      ]
     },
     "execution_count": 10,
     "metadata": {},
     "output_type": "execute_result"
    },
    {
     "data": {
      "image/png": "[encoded data removed]",
      "text/plain": [
       "<Figure size 720x288 with 1 Axes>"
      ]
     },
     "metadata": {
      "needs_background": "light"
     },
     "output_type": "display_data"
    }
   ],
   "source": [
    "# 로그스케일링 histogram\n",
    "f, ax = plt.subplots(figsize=(10, 4))\n",
    "sns.distplot(np.log1p(df['priceperkg']), bins=100)"
   ]
  },
  {
   "cell_type": "code",
   "execution_count": 11,
   "metadata": {},
   "outputs": [
    {
     "data": {
      "text/html": [
       "<div>\n",
       "<style scoped>\n",
       "    .dataframe tbody tr th:only-of-type {\n",
       "        vertical-align: middle;\n",
       "    }\n",
       "\n",
       "    .dataframe tbody tr th {\n",
       "        vertical-align: top;\n",
       "    }\n",
       "\n",
       "    .dataframe thead th {\n",
       "        text-align: right;\n",
       "    }\n",
       "</style>\n",
       "<table border=\"1\" class=\"dataframe\">\n",
       "  <thead>\n",
       "    <tr style=\"text-align: right;\">\n",
       "      <th></th>\n",
       "      <th>aucsecode</th>\n",
       "      <th>aucsenm</th>\n",
       "    </tr>\n",
       "  </thead>\n",
       "  <tbody>\n",
       "    <tr>\n",
       "      <th>0</th>\n",
       "      <td>1</td>\n",
       "      <td>경매</td>\n",
       "    </tr>\n",
       "    <tr>\n",
       "      <th>173</th>\n",
       "      <td>2</td>\n",
       "      <td>정가수의</td>\n",
       "    </tr>\n",
       "    <tr>\n",
       "      <th>563</th>\n",
       "      <td>3</td>\n",
       "      <td>자기계산</td>\n",
       "    </tr>\n",
       "    <tr>\n",
       "      <th>159465</th>\n",
       "      <td>5</td>\n",
       "      <td>NaN</td>\n",
       "    </tr>\n",
       "    <tr>\n",
       "      <th>93660</th>\n",
       "      <td>4</td>\n",
       "      <td>매수도매</td>\n",
       "    </tr>\n",
       "  </tbody>\n",
       "</table>\n",
       "</div>"
      ],
      "text/plain": [
       "        aucsecode aucsenm\n",
       "0               1      경매\n",
       "173             2    정가수의\n",
       "563             3    자기계산\n",
       "159465          5     NaN\n",
       "93660           4    매수도매"
      ]
     },
     "execution_count": 11,
     "metadata": {},
     "output_type": "execute_result"
    }
   ],
   "source": [
    "df[['aucsecode','aucsenm']].drop_duplicates()"
   ]
  },
  {
   "cell_type": "code",
   "execution_count": 12,
   "metadata": {},
   "outputs": [
    {
     "data": {
      "text/plain": [
       "<matplotlib.axes._subplots.AxesSubplot at 0x2888aa5c7c8>"
      ]
     },
     "execution_count": 12,
     "metadata": {},
     "output_type": "execute_result"
    },
    {
     "data": {
      "image/png": "[encoded data removed]",
      "text/plain": [
       "<Figure size 1080x288 with 1 Axes>"
      ]
     },
     "metadata": {
      "needs_background": "light"
     },
     "output_type": "display_data"
    }
   ],
   "source": [
    "f, ax = plt.subplots(figsize=(15, 4))\n",
    "sns.countplot(df['aucsenm'])"
   ]
  },
  {
   "cell_type": "code",
   "execution_count": 13,
   "metadata": {},
   "outputs": [
    {
     "data": {
      "text/plain": [
       "<matplotlib.axes._subplots.AxesSubplot at 0x288a5036a48>"
      ]
     },
     "execution_count": 13,
     "metadata": {},
     "output_type": "execute_result"
    },
    {
     "data": {
      "image/png": "[encoded data removed]",
      "text/plain": [
       "<Figure size 1440x288 with 1 Axes>"
      ]
     },
     "metadata": {
      "needs_background": "light"
     },
     "output_type": "display_data"
    }
   ],
   "source": [
    "f, ax = plt.subplots(figsize=(20, 4))\n",
    "df[['aucsenm','priceperkg']].groupby(\"aucsenm\").mean().sort_values(by='priceperkg', ascending=False).plot.bar(ax=ax)"
   ]
  },
  {
   "cell_type": "code",
   "execution_count": 14,
   "metadata": {},
   "outputs": [
    {
     "data": {
      "text/html": [
       "<div>\n",
       "<style scoped>\n",
       "    .dataframe tbody tr th:only-of-type {\n",
       "        vertical-align: middle;\n",
       "    }\n",
       "\n",
       "    .dataframe tbody tr th {\n",
       "        vertical-align: top;\n",
       "    }\n",
       "\n",
       "    .dataframe thead th {\n",
       "        text-align: right;\n",
       "    }\n",
       "</style>\n",
       "<table border=\"1\" class=\"dataframe\">\n",
       "  <thead>\n",
       "    <tr style=\"text-align: right;\">\n",
       "      <th></th>\n",
       "      <th>totalprice</th>\n",
       "    </tr>\n",
       "    <tr>\n",
       "      <th>aucsenm</th>\n",
       "      <th></th>\n",
       "    </tr>\n",
       "  </thead>\n",
       "  <tbody>\n",
       "    <tr>\n",
       "      <th>경매</th>\n",
       "      <td>2,071,569,473,717</td>\n",
       "    </tr>\n",
       "    <tr>\n",
       "      <th>정가수의</th>\n",
       "      <td>637,495,159,329</td>\n",
       "    </tr>\n",
       "    <tr>\n",
       "      <th>자기계산</th>\n",
       "      <td>276,816,941,781</td>\n",
       "    </tr>\n",
       "    <tr>\n",
       "      <th>매수도매</th>\n",
       "      <td>4,058,375,475</td>\n",
       "    </tr>\n",
       "  </tbody>\n",
       "</table>\n",
       "</div>"
      ],
      "text/plain": [
       "                totalprice\n",
       "aucsenm                   \n",
       "경매       2,071,569,473,717\n",
       "정가수의       637,495,159,329\n",
       "자기계산       276,816,941,781\n",
       "매수도매         4,058,375,475"
      ]
     },
     "execution_count": 14,
     "metadata": {},
     "output_type": "execute_result"
    }
   ],
   "source": [
    "pd.DataFrame(df[['aucsenm','totalprice']].groupby(\"aucsenm\").sum().sort_values(by='totalprice', ascending=False)['totalprice'].apply(lambda x: format(int(x), ',')))"
   ]
  },
  {
   "cell_type": "code",
   "execution_count": 15,
   "metadata": {},
   "outputs": [
    {
     "data": {
      "text/plain": [
       "<matplotlib.axes._subplots.AxesSubplot at 0x288a4f56b08>"
      ]
     },
     "execution_count": 15,
     "metadata": {},
     "output_type": "execute_result"
    },
    {
     "data": {
      "image/png": "[encoded data removed]",
      "text/plain": [
       "<Figure size 1440x288 with 1 Axes>"
      ]
     },
     "metadata": {
      "needs_background": "light"
     },
     "output_type": "display_data"
    }
   ],
   "source": [
    "f, ax = plt.subplots(figsize=(20, 4))\n",
    "df[['aucsenm','totalprice']].groupby(\"aucsenm\").sum().sort_values(by='totalprice', ascending=False).plot.bar(ax=ax)"
   ]
  },
  {
   "cell_type": "code",
   "execution_count": 16,
   "metadata": {},
   "outputs": [
    {
     "data": {
      "text/html": [
       "<div>\n",
       "<style scoped>\n",
       "    .dataframe tbody tr th:only-of-type {\n",
       "        vertical-align: middle;\n",
       "    }\n",
       "\n",
       "    .dataframe tbody tr th {\n",
       "        vertical-align: top;\n",
       "    }\n",
       "\n",
       "    .dataframe thead th {\n",
       "        text-align: right;\n",
       "    }\n",
       "</style>\n",
       "<table border=\"1\" class=\"dataframe\">\n",
       "  <thead>\n",
       "    <tr style=\"text-align: right;\">\n",
       "      <th></th>\n",
       "      <th>totalweight</th>\n",
       "    </tr>\n",
       "    <tr>\n",
       "      <th>aucsenm</th>\n",
       "      <th></th>\n",
       "    </tr>\n",
       "  </thead>\n",
       "  <tbody>\n",
       "    <tr>\n",
       "      <th>경매</th>\n",
       "      <td>4,119,983,937</td>\n",
       "    </tr>\n",
       "    <tr>\n",
       "      <th>정가수의</th>\n",
       "      <td>823,944,667</td>\n",
       "    </tr>\n",
       "    <tr>\n",
       "      <th>자기계산</th>\n",
       "      <td>142,311,353</td>\n",
       "    </tr>\n",
       "    <tr>\n",
       "      <th>매수도매</th>\n",
       "      <td>7,377,151</td>\n",
       "    </tr>\n",
       "  </tbody>\n",
       "</table>\n",
       "</div>"
      ],
      "text/plain": [
       "           totalweight\n",
       "aucsenm               \n",
       "경매       4,119,983,937\n",
       "정가수의       823,944,667\n",
       "자기계산       142,311,353\n",
       "매수도매         7,377,151"
      ]
     },
     "execution_count": 16,
     "metadata": {},
     "output_type": "execute_result"
    }
   ],
   "source": [
    "pd.DataFrame(df[['aucsenm','totalweight']].groupby(\"aucsenm\").sum().sort_values(by='totalweight', ascending=False)['totalweight'].apply(lambda x: format(int(x), ',')))\n"
   ]
  },
  {
   "cell_type": "code",
   "execution_count": 17,
   "metadata": {
    "scrolled": true
   },
   "outputs": [
    {
     "data": {
      "text/plain": [
       "<matplotlib.axes._subplots.AxesSubplot at 0x288a4fcfc88>"
      ]
     },
     "execution_count": 17,
     "metadata": {},
     "output_type": "execute_result"
    },
    {
     "data": {
      "image/png": "[encoded data removed]",
      "text/plain": [
       "<Figure size 1440x288 with 1 Axes>"
      ]
     },
     "metadata": {
      "needs_background": "light"
     },
     "output_type": "display_data"
    }
   ],
   "source": [
    "f, ax = plt.subplots(figsize=(20, 4))\n",
    "df[['aucsenm','totalweight']].groupby(\"aucsenm\").sum().sort_values(by='totalweight', ascending=False).plot.bar(ax=ax)"
   ]
  },
  {
   "cell_type": "markdown",
   "metadata": {},
   "source": [
    "### 경락일자 delngde\n",
    "### 거래단량 delngprut\n",
    "### 거래량 delngqy"
   ]
  },
  {
   "cell_type": "markdown",
   "metadata": {},
   "source": [
    "### 등급코드 stdqlitynewcode / stdqlitynewnm"
   ]
  },
  {
   "cell_type": "code",
   "execution_count": 18,
   "metadata": {},
   "outputs": [
    {
     "data": {
      "text/html": [
       "<div>\n",
       "<style scoped>\n",
       "    .dataframe tbody tr th:only-of-type {\n",
       "        vertical-align: middle;\n",
       "    }\n",
       "\n",
       "    .dataframe tbody tr th {\n",
       "        vertical-align: top;\n",
       "    }\n",
       "\n",
       "    .dataframe thead th {\n",
       "        text-align: right;\n",
       "    }\n",
       "</style>\n",
       "<table border=\"1\" class=\"dataframe\">\n",
       "  <thead>\n",
       "    <tr style=\"text-align: right;\">\n",
       "      <th></th>\n",
       "      <th>stdqlitynewcode</th>\n",
       "      <th>stdqlitynewnm</th>\n",
       "    </tr>\n",
       "  </thead>\n",
       "  <tbody>\n",
       "    <tr>\n",
       "      <th>0</th>\n",
       "      <td>11</td>\n",
       "      <td>특</td>\n",
       "    </tr>\n",
       "    <tr>\n",
       "      <th>1</th>\n",
       "      <td>12</td>\n",
       "      <td>상</td>\n",
       "    </tr>\n",
       "    <tr>\n",
       "      <th>2</th>\n",
       "      <td>00</td>\n",
       "      <td>NaN</td>\n",
       "    </tr>\n",
       "    <tr>\n",
       "      <th>208</th>\n",
       "      <td>1Z</td>\n",
       "      <td>무등급</td>\n",
       "    </tr>\n",
       "    <tr>\n",
       "      <th>202</th>\n",
       "      <td>13</td>\n",
       "      <td>보통</td>\n",
       "    </tr>\n",
       "    <tr>\n",
       "      <th>308</th>\n",
       "      <td>19</td>\n",
       "      <td>등외</td>\n",
       "    </tr>\n",
       "    <tr>\n",
       "      <th>96</th>\n",
       "      <td>14</td>\n",
       "      <td>4등</td>\n",
       "    </tr>\n",
       "    <tr>\n",
       "      <th>88</th>\n",
       "      <td>15</td>\n",
       "      <td>5등</td>\n",
       "    </tr>\n",
       "    <tr>\n",
       "      <th>9111</th>\n",
       "      <td>17</td>\n",
       "      <td>7등</td>\n",
       "    </tr>\n",
       "    <tr>\n",
       "      <th>24563</th>\n",
       "      <td>18</td>\n",
       "      <td>8등</td>\n",
       "    </tr>\n",
       "    <tr>\n",
       "      <th>139089</th>\n",
       "      <td>16</td>\n",
       "      <td>6등</td>\n",
       "    </tr>\n",
       "    <tr>\n",
       "      <th>328773</th>\n",
       "      <td>1D</td>\n",
       "      <td>저농약</td>\n",
       "    </tr>\n",
       "    <tr>\n",
       "      <th>328528</th>\n",
       "      <td>1A</td>\n",
       "      <td>유기농산물</td>\n",
       "    </tr>\n",
       "    <tr>\n",
       "      <th>332365</th>\n",
       "      <td>1C</td>\n",
       "      <td>무농약</td>\n",
       "    </tr>\n",
       "    <tr>\n",
       "      <th>264706</th>\n",
       "      <td>1B</td>\n",
       "      <td>전환기</td>\n",
       "    </tr>\n",
       "    <tr>\n",
       "      <th>411583</th>\n",
       "      <td>NaN</td>\n",
       "      <td>NaN</td>\n",
       "    </tr>\n",
       "    <tr>\n",
       "      <th>53722</th>\n",
       "      <td>1Y</td>\n",
       "      <td>혼합</td>\n",
       "    </tr>\n",
       "  </tbody>\n",
       "</table>\n",
       "</div>"
      ],
      "text/plain": [
       "       stdqlitynewcode stdqlitynewnm\n",
       "0                   11             특\n",
       "1                   12             상\n",
       "2                   00           NaN\n",
       "208                 1Z           무등급\n",
       "202                 13            보통\n",
       "308                 19            등외\n",
       "96                  14            4등\n",
       "88                  15            5등\n",
       "9111                17            7등\n",
       "24563               18            8등\n",
       "139089              16            6등\n",
       "328773              1D           저농약\n",
       "328528              1A         유기농산물\n",
       "332365              1C           무농약\n",
       "264706              1B           전환기\n",
       "411583             NaN           NaN\n",
       "53722               1Y            혼합"
      ]
     },
     "execution_count": 18,
     "metadata": {},
     "output_type": "execute_result"
    }
   ],
   "source": [
    "df[['stdqlitynewcode','stdqlitynewnm']].drop_duplicates()"
   ]
  },
  {
   "cell_type": "code",
   "execution_count": 19,
   "metadata": {},
   "outputs": [
    {
     "data": {
      "text/plain": [
       "<matplotlib.axes._subplots.AxesSubplot at 0x288a507dc88>"
      ]
     },
     "execution_count": 19,
     "metadata": {},
     "output_type": "execute_result"
    },
    {
     "data": {
      "image/png": "[encoded data removed]",
      "text/plain": [
       "<Figure size 1080x288 with 1 Axes>"
      ]
     },
     "metadata": {
      "needs_background": "light"
     },
     "output_type": "display_data"
    }
   ],
   "source": [
    "f, ax = plt.subplots(figsize=(15, 4))\n",
    "sns.countplot(df['stdqlitynewnm'],order = df['stdqlitynewnm'].value_counts().index)"
   ]
  },
  {
   "cell_type": "markdown",
   "metadata": {},
   "source": [
    "#### 그룹별 중위수 및 평균"
   ]
  },
  {
   "cell_type": "code",
   "execution_count": 20,
   "metadata": {},
   "outputs": [
    {
     "data": {
      "text/html": [
       "<div>\n",
       "<style scoped>\n",
       "    .dataframe tbody tr th:only-of-type {\n",
       "        vertical-align: middle;\n",
       "    }\n",
       "\n",
       "    .dataframe tbody tr th {\n",
       "        vertical-align: top;\n",
       "    }\n",
       "\n",
       "    .dataframe thead th {\n",
       "        text-align: right;\n",
       "    }\n",
       "</style>\n",
       "<table border=\"1\" class=\"dataframe\">\n",
       "  <thead>\n",
       "    <tr style=\"text-align: right;\">\n",
       "      <th></th>\n",
       "      <th>priceperkg</th>\n",
       "      <th>totalweight</th>\n",
       "      <th>priceperkg</th>\n",
       "      <th>totalweight</th>\n",
       "    </tr>\n",
       "    <tr>\n",
       "      <th>stdqlitynewnm</th>\n",
       "      <th></th>\n",
       "      <th></th>\n",
       "      <th></th>\n",
       "      <th></th>\n",
       "    </tr>\n",
       "  </thead>\n",
       "  <tbody>\n",
       "    <tr>\n",
       "      <th>무등급</th>\n",
       "      <td>550.00</td>\n",
       "      <td>460.0</td>\n",
       "      <td>3089.233553</td>\n",
       "      <td>896.336937</td>\n",
       "    </tr>\n",
       "    <tr>\n",
       "      <th>보통</th>\n",
       "      <td>418.75</td>\n",
       "      <td>300.0</td>\n",
       "      <td>615.271284</td>\n",
       "      <td>930.655776</td>\n",
       "    </tr>\n",
       "    <tr>\n",
       "      <th>상</th>\n",
       "      <td>450.00</td>\n",
       "      <td>400.0</td>\n",
       "      <td>747.036077</td>\n",
       "      <td>952.466055</td>\n",
       "    </tr>\n",
       "    <tr>\n",
       "      <th>특</th>\n",
       "      <td>800.00</td>\n",
       "      <td>260.0</td>\n",
       "      <td>2427.918212</td>\n",
       "      <td>1135.864086</td>\n",
       "    </tr>\n",
       "  </tbody>\n",
       "</table>\n",
       "</div>"
      ],
      "text/plain": [
       "               priceperkg  totalweight   priceperkg  totalweight\n",
       "stdqlitynewnm                                                   \n",
       "무등급                550.00        460.0  3089.233553   896.336937\n",
       "보통                 418.75        300.0   615.271284   930.655776\n",
       "상                  450.00        400.0   747.036077   952.466055\n",
       "특                  800.00        260.0  2427.918212  1135.864086"
      ]
     },
     "execution_count": 20,
     "metadata": {},
     "output_type": "execute_result"
    }
   ],
   "source": [
    "pd.concat([\n",
    "      df[(df['stdqlitynewnm'] == '특') | (df['stdqlitynewnm'] == '무등급') | (df['stdqlitynewnm'] == '상') | (df['stdqlitynewnm'] == '보통')][['stdqlitynewnm','priceperkg']].groupby(\"stdqlitynewnm\").median()\n",
    "    , df[(df['stdqlitynewnm'] == '특') | (df['stdqlitynewnm'] == '무등급') | (df['stdqlitynewnm'] == '상') | (df['stdqlitynewnm'] == '보통')][['stdqlitynewnm','totalweight']].groupby(\"stdqlitynewnm\").median()\n",
    "    , df[(df['stdqlitynewnm'] == '특') | (df['stdqlitynewnm'] == '무등급') | (df['stdqlitynewnm'] == '상') | (df['stdqlitynewnm'] == '보통')][['stdqlitynewnm','priceperkg']].groupby(\"stdqlitynewnm\").mean()\n",
    "    , df[(df['stdqlitynewnm'] == '특') | (df['stdqlitynewnm'] == '무등급') | (df['stdqlitynewnm'] == '상') | (df['stdqlitynewnm'] == '보통')][['stdqlitynewnm','totalweight']].groupby(\"stdqlitynewnm\").mean()\n",
    "] , axis=1)"
   ]
  },
  {
   "cell_type": "raw",
   "metadata": {},
   "source": [
    "grouped = pd.DataFrame(df[(df['aucsecode']==1) & (df['stdqlitynewnm'] == '특') | (df['stdqlitynewnm'] == '상')]\n",
    "                       [['yyyy','mm','stdqlitynewnm','priceperkg','totalprice']].groupby(['yyyy','mm',\"stdqlitynewnm\"]).median().sort_values(by='totalprice', ascending=False)['totalprice'].apply(lambda x: format(int(x), ',')))\n",
    "grouped.sort_values(['yyyy','mm'], ascending=True)"
   ]
  },
  {
   "cell_type": "markdown",
   "metadata": {},
   "source": [
    "### boxplot이 너무 튀는 문제 발생"
   ]
  },
  {
   "cell_type": "code",
   "execution_count": 21,
   "metadata": {
    "scrolled": true
   },
   "outputs": [
    {
     "data": {
      "image/png": "[encoded data removed]",
      "text/plain": [
       "<Figure size 1080x288 with 1 Axes>"
      ]
     },
     "metadata": {
      "needs_background": "light"
     },
     "output_type": "display_data"
    }
   ],
   "source": [
    "f, ax = plt.subplots(figsize=(15, 4))\n",
    "fig = sns.boxplot(x='stdqlitynewnm', y='priceperkg', data=df[(df['stdqlitynewnm'] == '특') | (df['stdqlitynewnm'] == '무등급') | (df['stdqlitynewnm'] == '상') | (df['stdqlitynewnm'] == '보통')])"
   ]
  },
  {
   "cell_type": "markdown",
   "metadata": {},
   "source": [
    "### 품종코드 stdspciesnewcode / stdspciesnewnm\n",
    "- 구품종코드 stdspciescode stdspciesnm\n",
    "- 품목코드 stdprdlstnewcode / stdprdlstnewnm\n",
    "- 구품목코드 stdprdlstnm / stdprdlstcode "
   ]
  },
  {
   "cell_type": "code",
   "execution_count": 22,
   "metadata": {},
   "outputs": [
    {
     "data": {
      "text/html": [
       "<div>\n",
       "<style scoped>\n",
       "    .dataframe tbody tr th:only-of-type {\n",
       "        vertical-align: middle;\n",
       "    }\n",
       "\n",
       "    .dataframe tbody tr th {\n",
       "        vertical-align: top;\n",
       "    }\n",
       "\n",
       "    .dataframe thead th {\n",
       "        text-align: right;\n",
       "    }\n",
       "</style>\n",
       "<table border=\"1\" class=\"dataframe\">\n",
       "  <thead>\n",
       "    <tr style=\"text-align: right;\">\n",
       "      <th></th>\n",
       "      <th>stdspciesnewcode</th>\n",
       "      <th>stdspciesnewnm</th>\n",
       "    </tr>\n",
       "  </thead>\n",
       "  <tbody>\n",
       "    <tr>\n",
       "      <th>211</th>\n",
       "      <td>100101</td>\n",
       "      <td>봄배추</td>\n",
       "    </tr>\n",
       "    <tr>\n",
       "      <th>15</th>\n",
       "      <td>100102</td>\n",
       "      <td>여름배추</td>\n",
       "    </tr>\n",
       "    <tr>\n",
       "      <th>208</th>\n",
       "      <td>100103</td>\n",
       "      <td>김장(가을)배추</td>\n",
       "    </tr>\n",
       "    <tr>\n",
       "      <th>224</th>\n",
       "      <td>100104</td>\n",
       "      <td>월동배추</td>\n",
       "    </tr>\n",
       "    <tr>\n",
       "      <th>100</th>\n",
       "      <td>100105</td>\n",
       "      <td>고냉지배추</td>\n",
       "    </tr>\n",
       "    <tr>\n",
       "      <th>985</th>\n",
       "      <td>100106</td>\n",
       "      <td>저장배추</td>\n",
       "    </tr>\n",
       "    <tr>\n",
       "      <th>264</th>\n",
       "      <td>100107</td>\n",
       "      <td>생채용배추</td>\n",
       "    </tr>\n",
       "    <tr>\n",
       "      <th>3</th>\n",
       "      <td>100108</td>\n",
       "      <td>쌈(알배기)배추</td>\n",
       "    </tr>\n",
       "    <tr>\n",
       "      <th>55</th>\n",
       "      <td>100109</td>\n",
       "      <td>우거지</td>\n",
       "    </tr>\n",
       "    <tr>\n",
       "      <th>1268</th>\n",
       "      <td>100110</td>\n",
       "      <td>배추뿌리</td>\n",
       "    </tr>\n",
       "    <tr>\n",
       "      <th>310567</th>\n",
       "      <td>100111</td>\n",
       "      <td>절임배추</td>\n",
       "    </tr>\n",
       "    <tr>\n",
       "      <th>56991</th>\n",
       "      <td>100113</td>\n",
       "      <td>배양채</td>\n",
       "    </tr>\n",
       "    <tr>\n",
       "      <th>63878</th>\n",
       "      <td>100197</td>\n",
       "      <td>우거지(수입)</td>\n",
       "    </tr>\n",
       "    <tr>\n",
       "      <th>260292</th>\n",
       "      <td>100198</td>\n",
       "      <td>배추(수입)</td>\n",
       "    </tr>\n",
       "    <tr>\n",
       "      <th>0</th>\n",
       "      <td>100199</td>\n",
       "      <td>기타</td>\n",
       "    </tr>\n",
       "  </tbody>\n",
       "</table>\n",
       "</div>"
      ],
      "text/plain": [
       "        stdspciesnewcode stdspciesnewnm\n",
       "211               100101            봄배추\n",
       "15                100102           여름배추\n",
       "208               100103       김장(가을)배추\n",
       "224               100104           월동배추\n",
       "100               100105          고냉지배추\n",
       "985               100106           저장배추\n",
       "264               100107          생채용배추\n",
       "3                 100108       쌈(알배기)배추\n",
       "55                100109            우거지\n",
       "1268              100110           배추뿌리\n",
       "310567            100111           절임배추\n",
       "56991             100113            배양채\n",
       "63878             100197        우거지(수입)\n",
       "260292            100198         배추(수입)\n",
       "0                 100199             기타"
      ]
     },
     "execution_count": 22,
     "metadata": {},
     "output_type": "execute_result"
    }
   ],
   "source": [
    "df[['stdspciesnewcode','stdspciesnewnm']].drop_duplicates().sort_values('stdspciesnewcode')"
   ]
  },
  {
   "cell_type": "code",
   "execution_count": 23,
   "metadata": {
    "scrolled": true
   },
   "outputs": [
    {
     "data": {
      "text/plain": [
       "<matplotlib.axes._subplots.AxesSubplot at 0x288a55ce208>"
      ]
     },
     "execution_count": 23,
     "metadata": {},
     "output_type": "execute_result"
    },
    {
     "data": {
      "image/png": "[encoded data removed]",
      "text/plain": [
       "<Figure size 1080x288 with 1 Axes>"
      ]
     },
     "metadata": {
      "needs_background": "light"
     },
     "output_type": "display_data"
    }
   ],
   "source": [
    "f, ax = plt.subplots(figsize=(15, 4))\n",
    "sns.countplot(df['stdspciesnewnm'],order = df['stdspciesnewnm'].value_counts().index)"
   ]
  },
  {
   "cell_type": "code",
   "execution_count": 24,
   "metadata": {},
   "outputs": [
    {
     "data": {
      "image/png": "[encoded data removed]",
      "text/plain": [
       "<Figure size 1080x288 with 1 Axes>"
      ]
     },
     "metadata": {
      "needs_background": "light"
     },
     "output_type": "display_data"
    }
   ],
   "source": [
    "f, ax = plt.subplots(figsize=(15, 4))\n",
    "fig = sns.boxplot(x='stdspciesnewnm', y='priceperkg', data=df)"
   ]
  },
  {
   "cell_type": "code",
   "execution_count": 25,
   "metadata": {},
   "outputs": [
    {
     "data": {
      "image/png": "[encoded data removed]",
      "text/plain": [
       "<Figure size 1080x288 with 1 Axes>"
      ]
     },
     "metadata": {
      "needs_background": "light"
     },
     "output_type": "display_data"
    }
   ],
   "source": [
    "f, ax = plt.subplots(figsize=(15, 4))\n",
    "fig = sns.boxplot(x='stdspciesnewnm', y='totalweight', data=df)"
   ]
  },
  {
   "cell_type": "code",
   "execution_count": 26,
   "metadata": {},
   "outputs": [
    {
     "data": {
      "image/png": "[encoded data removed]",
      "text/plain": [
       "<Figure size 1080x288 with 1 Axes>"
      ]
     },
     "metadata": {
      "needs_background": "light"
     },
     "output_type": "display_data"
    }
   ],
   "source": [
    "f, ax = plt.subplots(figsize=(15, 4))\n",
    "fig = sns.boxplot(x='stdspciesnewnm', y='totalweight', data=df[(df['totalweight'] <= 10000)])"
   ]
  },
  {
   "cell_type": "markdown",
   "metadata": {},
   "source": [
    "#### 년도별 분포 시각화\n",
    "- 참고자료 : 1_1. 배추무게분포.ipynb"
   ]
  },
  {
   "cell_type": "markdown",
   "metadata": {},
   "source": [
    "### 산지코드 stdmtcnewcode / stdmtcnewnm\n",
    "- 구산지코드 cprmtccode / cprmtcnm"
   ]
  },
  {
   "cell_type": "code",
   "execution_count": 27,
   "metadata": {},
   "outputs": [
    {
     "data": {
      "text/plain": [
       "(0, 49)"
      ]
     },
     "execution_count": 27,
     "metadata": {},
     "output_type": "execute_result"
    }
   ],
   "source": [
    "# 결측값이 너무 많으므로 처리방안 고려 필요\n",
    "df[df['stdmtcnewnm'] == ''].shape"
   ]
  },
  {
   "cell_type": "code",
   "execution_count": 28,
   "metadata": {},
   "outputs": [
    {
     "data": {
      "text/html": [
       "<div>\n",
       "<style scoped>\n",
       "    .dataframe tbody tr th:only-of-type {\n",
       "        vertical-align: middle;\n",
       "    }\n",
       "\n",
       "    .dataframe tbody tr th {\n",
       "        vertical-align: top;\n",
       "    }\n",
       "\n",
       "    .dataframe thead th {\n",
       "        text-align: right;\n",
       "    }\n",
       "</style>\n",
       "<table border=\"1\" class=\"dataframe\">\n",
       "  <thead>\n",
       "    <tr style=\"text-align: right;\">\n",
       "      <th></th>\n",
       "      <th>stdmtcnewnm</th>\n",
       "    </tr>\n",
       "  </thead>\n",
       "  <tbody>\n",
       "    <tr>\n",
       "      <th>0</th>\n",
       "      <td>NaN</td>\n",
       "    </tr>\n",
       "    <tr>\n",
       "      <th>3</th>\n",
       "      <td>부산광역시 강서구</td>\n",
       "    </tr>\n",
       "    <tr>\n",
       "      <th>211</th>\n",
       "      <td>경상남도 산청군</td>\n",
       "    </tr>\n",
       "    <tr>\n",
       "      <th>210</th>\n",
       "      <td>경상북도 구미시</td>\n",
       "    </tr>\n",
       "    <tr>\n",
       "      <th>202</th>\n",
       "      <td>전라남도 순천시</td>\n",
       "    </tr>\n",
       "    <tr>\n",
       "      <th>230</th>\n",
       "      <td>울산광역시 남구</td>\n",
       "    </tr>\n",
       "    <tr>\n",
       "      <th>222</th>\n",
       "      <td>경상남도 밀양시</td>\n",
       "    </tr>\n",
       "    <tr>\n",
       "      <th>220</th>\n",
       "      <td>경상남도 합천군</td>\n",
       "    </tr>\n",
       "    <tr>\n",
       "      <th>173</th>\n",
       "      <td>충청남도 천안시</td>\n",
       "    </tr>\n",
       "    <tr>\n",
       "      <th>159</th>\n",
       "      <td>충청북도 충주시</td>\n",
       "    </tr>\n",
       "    <tr>\n",
       "      <th>185</th>\n",
       "      <td>전라북도 정읍시</td>\n",
       "    </tr>\n",
       "    <tr>\n",
       "      <th>182</th>\n",
       "      <td>전라북도 전주시</td>\n",
       "    </tr>\n",
       "    <tr>\n",
       "      <th>181</th>\n",
       "      <td>전라북도 완주군</td>\n",
       "    </tr>\n",
       "    <tr>\n",
       "      <th>289</th>\n",
       "      <td>경상남도 창원시</td>\n",
       "    </tr>\n",
       "    <tr>\n",
       "      <th>285</th>\n",
       "      <td>경상남도 거제시</td>\n",
       "    </tr>\n",
       "    <tr>\n",
       "      <th>290</th>\n",
       "      <td>경상남도 거창군</td>\n",
       "    </tr>\n",
       "    <tr>\n",
       "      <th>293</th>\n",
       "      <td>경상남도 진주시</td>\n",
       "    </tr>\n",
       "    <tr>\n",
       "      <th>250</th>\n",
       "      <td>경상북도 청송군</td>\n",
       "    </tr>\n",
       "    <tr>\n",
       "      <th>251</th>\n",
       "      <td>경상북도 경주시</td>\n",
       "    </tr>\n",
       "    <tr>\n",
       "      <th>257</th>\n",
       "      <td>경상남도 김해시</td>\n",
       "    </tr>\n",
       "    <tr>\n",
       "      <th>157</th>\n",
       "      <td>세종특별자치시</td>\n",
       "    </tr>\n",
       "    <tr>\n",
       "      <th>155</th>\n",
       "      <td>충청북도 청주시</td>\n",
       "    </tr>\n",
       "    <tr>\n",
       "      <th>54</th>\n",
       "      <td>충청남도 당진시</td>\n",
       "    </tr>\n",
       "    <tr>\n",
       "      <th>53</th>\n",
       "      <td>인천광역시</td>\n",
       "    </tr>\n",
       "    <tr>\n",
       "      <th>51</th>\n",
       "      <td>인천광역시 부평구</td>\n",
       "    </tr>\n",
       "    <tr>\n",
       "      <th>50</th>\n",
       "      <td>인천광역시 남동구</td>\n",
       "    </tr>\n",
       "    <tr>\n",
       "      <th>61</th>\n",
       "      <td>전라남도 해남군</td>\n",
       "    </tr>\n",
       "    <tr>\n",
       "      <th>17</th>\n",
       "      <td>부산광역시 해운대구</td>\n",
       "    </tr>\n",
       "    <tr>\n",
       "      <th>15</th>\n",
       "      <td>경상북도 영천시</td>\n",
       "    </tr>\n",
       "    <tr>\n",
       "      <th>10</th>\n",
       "      <td>부산광역시 사상구</td>\n",
       "    </tr>\n",
       "    <tr>\n",
       "      <th>...</th>\n",
       "      <td>...</td>\n",
       "    </tr>\n",
       "    <tr>\n",
       "      <th>193771</th>\n",
       "      <td>울산광역시 중구</td>\n",
       "    </tr>\n",
       "    <tr>\n",
       "      <th>215745</th>\n",
       "      <td>강원도 속초시</td>\n",
       "    </tr>\n",
       "    <tr>\n",
       "      <th>228918</th>\n",
       "      <td>서울특별시 종로구</td>\n",
       "    </tr>\n",
       "    <tr>\n",
       "      <th>241902</th>\n",
       "      <td>경기도 가평군</td>\n",
       "    </tr>\n",
       "    <tr>\n",
       "      <th>260153</th>\n",
       "      <td>부산광역시 금정구</td>\n",
       "    </tr>\n",
       "    <tr>\n",
       "      <th>279609</th>\n",
       "      <td>전라남도 구례군</td>\n",
       "    </tr>\n",
       "    <tr>\n",
       "      <th>297831</th>\n",
       "      <td>전라북도</td>\n",
       "    </tr>\n",
       "    <tr>\n",
       "      <th>300686</th>\n",
       "      <td>강원도 양양군</td>\n",
       "    </tr>\n",
       "    <tr>\n",
       "      <th>300652</th>\n",
       "      <td>경기도 부천시</td>\n",
       "    </tr>\n",
       "    <tr>\n",
       "      <th>327526</th>\n",
       "      <td>경상북도 울릉군</td>\n",
       "    </tr>\n",
       "    <tr>\n",
       "      <th>327917</th>\n",
       "      <td>서울특별시 동작구</td>\n",
       "    </tr>\n",
       "    <tr>\n",
       "      <th>12347</th>\n",
       "      <td>서울특별시 강북구</td>\n",
       "    </tr>\n",
       "    <tr>\n",
       "      <th>18653</th>\n",
       "      <td>전라남도 화순군</td>\n",
       "    </tr>\n",
       "    <tr>\n",
       "      <th>106468</th>\n",
       "      <td>서울특별시 서대문구</td>\n",
       "    </tr>\n",
       "    <tr>\n",
       "      <th>122769</th>\n",
       "      <td>인천광역시 중구</td>\n",
       "    </tr>\n",
       "    <tr>\n",
       "      <th>128681</th>\n",
       "      <td>부산광역시 영도구</td>\n",
       "    </tr>\n",
       "    <tr>\n",
       "      <th>147237</th>\n",
       "      <td>서울특별시 도봉구</td>\n",
       "    </tr>\n",
       "    <tr>\n",
       "      <th>243341</th>\n",
       "      <td>충청북도 증평군</td>\n",
       "    </tr>\n",
       "    <tr>\n",
       "      <th>323157</th>\n",
       "      <td>미국</td>\n",
       "    </tr>\n",
       "    <tr>\n",
       "      <th>338698</th>\n",
       "      <td>충청남도 계룡시</td>\n",
       "    </tr>\n",
       "    <tr>\n",
       "      <th>348934</th>\n",
       "      <td>인천광역시 서구</td>\n",
       "    </tr>\n",
       "    <tr>\n",
       "      <th>112999</th>\n",
       "      <td>중국</td>\n",
       "    </tr>\n",
       "    <tr>\n",
       "      <th>149487</th>\n",
       "      <td>서울특별시 서초구</td>\n",
       "    </tr>\n",
       "    <tr>\n",
       "      <th>211952</th>\n",
       "      <td>경기도 과천시</td>\n",
       "    </tr>\n",
       "    <tr>\n",
       "      <th>317020</th>\n",
       "      <td>서울특별시 마포구</td>\n",
       "    </tr>\n",
       "    <tr>\n",
       "      <th>161618</th>\n",
       "      <td>경기도 용인시</td>\n",
       "    </tr>\n",
       "    <tr>\n",
       "      <th>315009</th>\n",
       "      <td>서울특별시 성북구</td>\n",
       "    </tr>\n",
       "    <tr>\n",
       "      <th>344230</th>\n",
       "      <td>태국</td>\n",
       "    </tr>\n",
       "    <tr>\n",
       "      <th>250935</th>\n",
       "      <td>부산광역시 서구</td>\n",
       "    </tr>\n",
       "    <tr>\n",
       "      <th>280563</th>\n",
       "      <td>울산광역시 동구</td>\n",
       "    </tr>\n",
       "  </tbody>\n",
       "</table>\n",
       "<p>250 rows × 1 columns</p>\n",
       "</div>"
      ],
      "text/plain": [
       "       stdmtcnewnm\n",
       "0              NaN\n",
       "3        부산광역시 강서구\n",
       "211       경상남도 산청군\n",
       "210       경상북도 구미시\n",
       "202       전라남도 순천시\n",
       "230       울산광역시 남구\n",
       "222       경상남도 밀양시\n",
       "220       경상남도 합천군\n",
       "173       충청남도 천안시\n",
       "159       충청북도 충주시\n",
       "185       전라북도 정읍시\n",
       "182       전라북도 전주시\n",
       "181       전라북도 완주군\n",
       "289       경상남도 창원시\n",
       "285       경상남도 거제시\n",
       "290       경상남도 거창군\n",
       "293       경상남도 진주시\n",
       "250       경상북도 청송군\n",
       "251       경상북도 경주시\n",
       "257       경상남도 김해시\n",
       "157        세종특별자치시\n",
       "155       충청북도 청주시\n",
       "54        충청남도 당진시\n",
       "53           인천광역시\n",
       "51       인천광역시 부평구\n",
       "50       인천광역시 남동구\n",
       "61        전라남도 해남군\n",
       "17      부산광역시 해운대구\n",
       "15        경상북도 영천시\n",
       "10       부산광역시 사상구\n",
       "...            ...\n",
       "193771    울산광역시 중구\n",
       "215745     강원도 속초시\n",
       "228918   서울특별시 종로구\n",
       "241902     경기도 가평군\n",
       "260153   부산광역시 금정구\n",
       "279609    전라남도 구례군\n",
       "297831        전라북도\n",
       "300686     강원도 양양군\n",
       "300652     경기도 부천시\n",
       "327526    경상북도 울릉군\n",
       "327917   서울특별시 동작구\n",
       "12347    서울특별시 강북구\n",
       "18653     전라남도 화순군\n",
       "106468  서울특별시 서대문구\n",
       "122769    인천광역시 중구\n",
       "128681   부산광역시 영도구\n",
       "147237   서울특별시 도봉구\n",
       "243341    충청북도 증평군\n",
       "323157          미국\n",
       "338698    충청남도 계룡시\n",
       "348934    인천광역시 서구\n",
       "112999          중국\n",
       "149487   서울특별시 서초구\n",
       "211952     경기도 과천시\n",
       "317020   서울특별시 마포구\n",
       "161618     경기도 용인시\n",
       "315009   서울특별시 성북구\n",
       "344230          태국\n",
       "250935    부산광역시 서구\n",
       "280563    울산광역시 동구\n",
       "\n",
       "[250 rows x 1 columns]"
      ]
     },
     "execution_count": 28,
     "metadata": {},
     "output_type": "execute_result"
    }
   ],
   "source": [
    "# df[['stdmtcnewcode','stdmtcnewnm']].drop_duplicates()\n",
    "df[['stdmtcnewnm']].drop_duplicates()"
   ]
  },
  {
   "cell_type": "code",
   "execution_count": 29,
   "metadata": {},
   "outputs": [
    {
     "data": {
      "text/plain": [
       "<matplotlib.axes._subplots.AxesSubplot at 0x288a5c62808>"
      ]
     },
     "execution_count": 29,
     "metadata": {},
     "output_type": "execute_result"
    },
    {
     "data": {
      "image/png": "[encoded data removed]",
      "text/plain": [
       "<Figure size 1440x288 with 1 Axes>"
      ]
     },
     "metadata": {
      "needs_background": "light"
     },
     "output_type": "display_data"
    }
   ],
   "source": [
    "f, ax = plt.subplots(figsize=(20, 4))\n",
    "df[['stdmtcnewnm','totalweight']].groupby(\"stdmtcnewnm\").sum().sort_values(by='totalweight', ascending=False)[0:10].plot.bar(ax=ax)"
   ]
  },
  {
   "cell_type": "code",
   "execution_count": 30,
   "metadata": {},
   "outputs": [
    {
     "data": {
      "text/plain": [
       "<matplotlib.axes._subplots.AxesSubplot at 0x288a5b251c8>"
      ]
     },
     "execution_count": 30,
     "metadata": {},
     "output_type": "execute_result"
    },
    {
     "data": {
      "image/png": "[encoded data removed]",
      "text/plain": [
       "<Figure size 1440x288 with 1 Axes>"
      ]
     },
     "metadata": {
      "needs_background": "light"
     },
     "output_type": "display_data"
    }
   ],
   "source": [
    "f, ax = plt.subplots(figsize=(20, 4))\n",
    "df[['stdmtcnewnm','totalprice']].groupby(\"stdmtcnewnm\").sum().sort_values(by='totalprice', ascending=False)[0:10].plot.bar(ax=ax)"
   ]
  },
  {
   "cell_type": "markdown",
   "metadata": {},
   "source": [
    "### 단위코드 stdunitnewcode / stdunitnewnm"
   ]
  },
  {
   "cell_type": "code",
   "execution_count": 31,
   "metadata": {},
   "outputs": [
    {
     "data": {
      "text/html": [
       "<div>\n",
       "<style scoped>\n",
       "    .dataframe tbody tr th:only-of-type {\n",
       "        vertical-align: middle;\n",
       "    }\n",
       "\n",
       "    .dataframe tbody tr th {\n",
       "        vertical-align: top;\n",
       "    }\n",
       "\n",
       "    .dataframe thead th {\n",
       "        text-align: right;\n",
       "    }\n",
       "</style>\n",
       "<table border=\"1\" class=\"dataframe\">\n",
       "  <thead>\n",
       "    <tr style=\"text-align: right;\">\n",
       "      <th></th>\n",
       "      <th>stdunitnewcode</th>\n",
       "      <th>stdunitnewnm</th>\n",
       "    </tr>\n",
       "  </thead>\n",
       "  <tbody>\n",
       "    <tr>\n",
       "      <th>0</th>\n",
       "      <td>12</td>\n",
       "      <td>kg</td>\n",
       "    </tr>\n",
       "    <tr>\n",
       "      <th>563</th>\n",
       "      <td>13</td>\n",
       "      <td>ton</td>\n",
       "    </tr>\n",
       "    <tr>\n",
       "      <th>89632</th>\n",
       "      <td>11</td>\n",
       "      <td>g</td>\n",
       "    </tr>\n",
       "  </tbody>\n",
       "</table>\n",
       "</div>"
      ],
      "text/plain": [
       "       stdunitnewcode stdunitnewnm\n",
       "0                  12           kg\n",
       "563                13          ton\n",
       "89632              11            g"
      ]
     },
     "execution_count": 31,
     "metadata": {},
     "output_type": "execute_result"
    }
   ],
   "source": [
    "df[['stdunitnewcode','stdunitnewnm']].drop_duplicates()"
   ]
  },
  {
   "cell_type": "code",
   "execution_count": 32,
   "metadata": {},
   "outputs": [
    {
     "data": {
      "text/plain": [
       "<matplotlib.axes._subplots.AxesSubplot at 0x288a5baae88>"
      ]
     },
     "execution_count": 32,
     "metadata": {},
     "output_type": "execute_result"
    },
    {
     "data": {
      "image/png": "[encoded data removed]",
      "text/plain": [
       "<Figure size 432x288 with 1 Axes>"
      ]
     },
     "metadata": {
      "needs_background": "light"
     },
     "output_type": "display_data"
    }
   ],
   "source": [
    "sns.countplot(df['stdunitnewnm'])"
   ]
  },
  {
   "cell_type": "code",
   "execution_count": 33,
   "metadata": {},
   "outputs": [
    {
     "data": {
      "text/plain": [
       "<matplotlib.axes._subplots.AxesSubplot at 0x288a5bfea88>"
      ]
     },
     "execution_count": 33,
     "metadata": {},
     "output_type": "execute_result"
    },
    {
     "data": {
      "image/png": "[encoded data removed]",
      "text/plain": [
       "<Figure size 432x288 with 1 Axes>"
      ]
     },
     "metadata": {
      "needs_background": "light"
     },
     "output_type": "display_data"
    }
   ],
   "source": [
    "sns.countplot(df[(df['stdunitnewcode'] != 12)]['stdunitnewnm'])"
   ]
  },
  {
   "cell_type": "markdown",
   "metadata": {},
   "source": [
    "### 시장코드 whsalmrktnewcode / whsalmrktnewnm\n",
    "- 구시장코드 whsalmrktcode / whsalmrktnm \n",
    "- 가락시장 코드 1005601(신) 110001(구)"
   ]
  },
  {
   "cell_type": "code",
   "execution_count": 34,
   "metadata": {},
   "outputs": [
    {
     "data": {
      "text/html": [
       "<div>\n",
       "<style scoped>\n",
       "    .dataframe tbody tr th:only-of-type {\n",
       "        vertical-align: middle;\n",
       "    }\n",
       "\n",
       "    .dataframe tbody tr th {\n",
       "        vertical-align: top;\n",
       "    }\n",
       "\n",
       "    .dataframe thead th {\n",
       "        text-align: right;\n",
       "    }\n",
       "</style>\n",
       "<table border=\"1\" class=\"dataframe\">\n",
       "  <thead>\n",
       "    <tr style=\"text-align: right;\">\n",
       "      <th></th>\n",
       "      <th>whsalmrktcode</th>\n",
       "      <th>whsalmrktnewcode</th>\n",
       "      <th>whsalmrktnewnm</th>\n",
       "    </tr>\n",
       "  </thead>\n",
       "  <tbody>\n",
       "    <tr>\n",
       "      <th>0</th>\n",
       "      <td>360101</td>\n",
       "      <td>2058701</td>\n",
       "      <td>목포농산물도매시장</td>\n",
       "    </tr>\n",
       "    <tr>\n",
       "      <th>3</th>\n",
       "      <td>210001</td>\n",
       "      <td>1046901</td>\n",
       "      <td>부산엄궁농산물도매시장</td>\n",
       "    </tr>\n",
       "    <tr>\n",
       "      <th>211</th>\n",
       "      <td>380101</td>\n",
       "      <td>1051102</td>\n",
       "      <td>창원팔용농산물도매시장</td>\n",
       "    </tr>\n",
       "    <tr>\n",
       "      <th>210</th>\n",
       "      <td>371501</td>\n",
       "      <td>1039301</td>\n",
       "      <td>구미농산물도매시장</td>\n",
       "    </tr>\n",
       "    <tr>\n",
       "      <th>202</th>\n",
       "      <td>360301</td>\n",
       "      <td>1057901</td>\n",
       "      <td>순천농산물도매시장</td>\n",
       "    </tr>\n",
       "    <tr>\n",
       "      <th>230</th>\n",
       "      <td>380201</td>\n",
       "      <td>1044701</td>\n",
       "      <td>울산농수산물도매시장</td>\n",
       "    </tr>\n",
       "    <tr>\n",
       "      <th>173</th>\n",
       "      <td>340101</td>\n",
       "      <td>1031201</td>\n",
       "      <td>천안농산물도매시장</td>\n",
       "    </tr>\n",
       "    <tr>\n",
       "      <th>159</th>\n",
       "      <td>330201</td>\n",
       "      <td>1027301</td>\n",
       "      <td>충주농수산물도매시장</td>\n",
       "    </tr>\n",
       "    <tr>\n",
       "      <th>185</th>\n",
       "      <td>350402</td>\n",
       "      <td>1056101</td>\n",
       "      <td>정읍농산물도매시장</td>\n",
       "    </tr>\n",
       "    <tr>\n",
       "      <th>182</th>\n",
       "      <td>350101</td>\n",
       "      <td>1055001</td>\n",
       "      <td>전주농수산물도매시장</td>\n",
       "    </tr>\n",
       "    <tr>\n",
       "      <th>289</th>\n",
       "      <td>380303</td>\n",
       "      <td>1051101</td>\n",
       "      <td>창원내서농산물도매시장</td>\n",
       "    </tr>\n",
       "    <tr>\n",
       "      <th>293</th>\n",
       "      <td>380401</td>\n",
       "      <td>1052601</td>\n",
       "      <td>진주농산물도매시장</td>\n",
       "    </tr>\n",
       "    <tr>\n",
       "      <th>157</th>\n",
       "      <td>330101</td>\n",
       "      <td>1028701</td>\n",
       "      <td>청주농수산물도매시장</td>\n",
       "    </tr>\n",
       "    <tr>\n",
       "      <th>57</th>\n",
       "      <td>230003</td>\n",
       "      <td>1021401</td>\n",
       "      <td>인천삼산농산물도매시장</td>\n",
       "    </tr>\n",
       "    <tr>\n",
       "      <th>54</th>\n",
       "      <td>230001</td>\n",
       "      <td>1021501</td>\n",
       "      <td>인천구월농축산물도매시장</td>\n",
       "    </tr>\n",
       "    <tr>\n",
       "      <th>76</th>\n",
       "      <td>240001</td>\n",
       "      <td>1061101</td>\n",
       "      <td>광주각화농산물도매시장</td>\n",
       "    </tr>\n",
       "    <tr>\n",
       "      <th>17</th>\n",
       "      <td>210009</td>\n",
       "      <td>1048001</td>\n",
       "      <td>부산반여농산물도매시장</td>\n",
       "    </tr>\n",
       "    <tr>\n",
       "      <th>28</th>\n",
       "      <td>220001</td>\n",
       "      <td>1041401</td>\n",
       "      <td>대구북부도매시장</td>\n",
       "    </tr>\n",
       "    <tr>\n",
       "      <th>134</th>\n",
       "      <td>250001</td>\n",
       "      <td>1034301</td>\n",
       "      <td>대전오정농수산물도매시장</td>\n",
       "    </tr>\n",
       "    <tr>\n",
       "      <th>119</th>\n",
       "      <td>240004</td>\n",
       "      <td>1061901</td>\n",
       "      <td>광주서부농수산물도매시장</td>\n",
       "    </tr>\n",
       "    <tr>\n",
       "      <th>146</th>\n",
       "      <td>250003</td>\n",
       "      <td>1034101</td>\n",
       "      <td>대전노은농수산물도매시장</td>\n",
       "    </tr>\n",
       "    <tr>\n",
       "      <th>1025</th>\n",
       "      <td>320201</td>\n",
       "      <td>1026301</td>\n",
       "      <td>원주농산물도매시장</td>\n",
       "    </tr>\n",
       "    <tr>\n",
       "      <th>1011</th>\n",
       "      <td>311201</td>\n",
       "      <td>1011901</td>\n",
       "      <td>구리농수산물도매시장</td>\n",
       "    </tr>\n",
       "    <tr>\n",
       "      <th>984</th>\n",
       "      <td>310101</td>\n",
       "      <td>1016301</td>\n",
       "      <td>수원농수산물도매시장</td>\n",
       "    </tr>\n",
       "    <tr>\n",
       "      <th>985</th>\n",
       "      <td>310401</td>\n",
       "      <td>1013901</td>\n",
       "      <td>안양농수산물도매시장</td>\n",
       "    </tr>\n",
       "    <tr>\n",
       "      <th>987</th>\n",
       "      <td>310901</td>\n",
       "      <td>1015201</td>\n",
       "      <td>안산농수산물도매시장</td>\n",
       "    </tr>\n",
       "    <tr>\n",
       "      <th>1056</th>\n",
       "      <td>320301</td>\n",
       "      <td>1025401</td>\n",
       "      <td>강릉농산물도매시장</td>\n",
       "    </tr>\n",
       "    <tr>\n",
       "      <th>468</th>\n",
       "      <td>110001</td>\n",
       "      <td>1005601</td>\n",
       "      <td>가락동농수산물시장</td>\n",
       "    </tr>\n",
       "    <tr>\n",
       "      <th>2166</th>\n",
       "      <td>350301</td>\n",
       "      <td>1054501</td>\n",
       "      <td>익산농수산물도매시장</td>\n",
       "    </tr>\n",
       "    <tr>\n",
       "      <th>2060</th>\n",
       "      <td>320101</td>\n",
       "      <td>1024201</td>\n",
       "      <td>춘천농수산물도매시장</td>\n",
       "    </tr>\n",
       "    <tr>\n",
       "      <th>9782</th>\n",
       "      <td>110008</td>\n",
       "      <td>1007701</td>\n",
       "      <td>강서농수산물도매시장</td>\n",
       "    </tr>\n",
       "    <tr>\n",
       "      <th>116779</th>\n",
       "      <td>370101</td>\n",
       "      <td>1037801</td>\n",
       "      <td>포항농산물도매시장</td>\n",
       "    </tr>\n",
       "    <tr>\n",
       "      <th>158675</th>\n",
       "      <td>370401</td>\n",
       "      <td>1036701</td>\n",
       "      <td>안동농산물도매시장</td>\n",
       "    </tr>\n",
       "    <tr>\n",
       "      <th>102297</th>\n",
       "      <td>360201</td>\n",
       "      <td>2059601</td>\n",
       "      <td>여수농산물도매시장</td>\n",
       "    </tr>\n",
       "  </tbody>\n",
       "</table>\n",
       "</div>"
      ],
      "text/plain": [
       "        whsalmrktcode  whsalmrktnewcode whsalmrktnewnm\n",
       "0              360101           2058701      목포농산물도매시장\n",
       "3              210001           1046901    부산엄궁농산물도매시장\n",
       "211            380101           1051102    창원팔용농산물도매시장\n",
       "210            371501           1039301      구미농산물도매시장\n",
       "202            360301           1057901      순천농산물도매시장\n",
       "230            380201           1044701     울산농수산물도매시장\n",
       "173            340101           1031201      천안농산물도매시장\n",
       "159            330201           1027301     충주농수산물도매시장\n",
       "185            350402           1056101      정읍농산물도매시장\n",
       "182            350101           1055001     전주농수산물도매시장\n",
       "289            380303           1051101    창원내서농산물도매시장\n",
       "293            380401           1052601      진주농산물도매시장\n",
       "157            330101           1028701     청주농수산물도매시장\n",
       "57             230003           1021401    인천삼산농산물도매시장\n",
       "54             230001           1021501   인천구월농축산물도매시장\n",
       "76             240001           1061101    광주각화농산물도매시장\n",
       "17             210009           1048001    부산반여농산물도매시장\n",
       "28             220001           1041401       대구북부도매시장\n",
       "134            250001           1034301   대전오정농수산물도매시장\n",
       "119            240004           1061901   광주서부농수산물도매시장\n",
       "146            250003           1034101   대전노은농수산물도매시장\n",
       "1025           320201           1026301      원주농산물도매시장\n",
       "1011           311201           1011901     구리농수산물도매시장\n",
       "984            310101           1016301     수원농수산물도매시장\n",
       "985            310401           1013901     안양농수산물도매시장\n",
       "987            310901           1015201     안산농수산물도매시장\n",
       "1056           320301           1025401      강릉농산물도매시장\n",
       "468            110001           1005601      가락동농수산물시장\n",
       "2166           350301           1054501     익산농수산물도매시장\n",
       "2060           320101           1024201     춘천농수산물도매시장\n",
       "9782           110008           1007701     강서농수산물도매시장\n",
       "116779         370101           1037801      포항농산물도매시장\n",
       "158675         370401           1036701      안동농산물도매시장\n",
       "102297         360201           2059601      여수농산물도매시장"
      ]
     },
     "execution_count": 34,
     "metadata": {},
     "output_type": "execute_result"
    }
   ],
   "source": [
    "df[['whsalmrktcode','whsalmrktnewcode','whsalmrktnewnm']].drop_duplicates()"
   ]
  },
  {
   "cell_type": "code",
   "execution_count": 35,
   "metadata": {},
   "outputs": [
    {
     "data": {
      "text/plain": [
       "<matplotlib.axes._subplots.AxesSubplot at 0x288a5cd3108>"
      ]
     },
     "execution_count": 35,
     "metadata": {},
     "output_type": "execute_result"
    },
    {
     "data": {
      "image/png": "[encoded data removed]",
      "text/plain": [
       "<Figure size 1440x288 with 1 Axes>"
      ]
     },
     "metadata": {
      "needs_background": "light"
     },
     "output_type": "display_data"
    }
   ],
   "source": [
    "f, ax = plt.subplots(figsize=(20, 4))\n",
    "df[['whsalmrktcode','totalweight']].groupby(\"whsalmrktcode\").sum().sort_values(by='totalweight', ascending=False)[0:10].plot.bar(ax=ax)"
   ]
  },
  {
   "cell_type": "code",
   "execution_count": 36,
   "metadata": {},
   "outputs": [
    {
     "data": {
      "text/plain": [
       "<matplotlib.axes._subplots.AxesSubplot at 0x288a5d50848>"
      ]
     },
     "execution_count": 36,
     "metadata": {},
     "output_type": "execute_result"
    },
    {
     "data": {
      "image/png": "[encoded data removed]",
      "text/plain": [
       "<Figure size 1440x288 with 1 Axes>"
      ]
     },
     "metadata": {
      "needs_background": "light"
     },
     "output_type": "display_data"
    }
   ],
   "source": [
    "f, ax = plt.subplots(figsize=(20, 4))\n",
    "df[['whsalmrktcode','totalweight']].groupby(\"whsalmrktcode\").sum().sort_values(by='totalweight', ascending=False)[0:10].plot.bar(ax=ax)"
   ]
  },
  {
   "cell_type": "code",
   "execution_count": 37,
   "metadata": {},
   "outputs": [
    {
     "data": {
      "text/plain": [
       "<matplotlib.axes._subplots.AxesSubplot at 0x288a5de41c8>"
      ]
     },
     "execution_count": 37,
     "metadata": {},
     "output_type": "execute_result"
    },
    {
     "data": {
      "image/png": "[encoded data removed]",
      "text/plain": [
       "<Figure size 1440x288 with 1 Axes>"
      ]
     },
     "metadata": {
      "needs_background": "light"
     },
     "output_type": "display_data"
    }
   ],
   "source": [
    "f, ax = plt.subplots(figsize=(20, 4))\n",
    "df[['whsalmrktnewnm','totalweight']].groupby(\"whsalmrktnewnm\").sum().sort_values(by='totalweight', ascending=False)[0:10].plot.bar(ax=ax)"
   ]
  },
  {
   "cell_type": "code",
   "execution_count": 38,
   "metadata": {},
   "outputs": [
    {
     "data": {
      "text/plain": [
       "<matplotlib.axes._subplots.AxesSubplot at 0x288a5fe7908>"
      ]
     },
     "execution_count": 38,
     "metadata": {},
     "output_type": "execute_result"
    },
    {
     "data": {
      "image/png": "[encoded data removed]",
      "text/plain": [
       "<Figure size 1440x288 with 1 Axes>"
      ]
     },
     "metadata": {
      "needs_background": "light"
     },
     "output_type": "display_data"
    }
   ],
   "source": [
    "f, ax = plt.subplots(figsize=(20, 4))\n",
    "df[['whsalmrktnewnm','totalprice']].groupby(\"whsalmrktnewnm\").sum().sort_values(by='totalprice', ascending=False)[0:10].plot.bar(ax=ax)"
   ]
  },
  {
   "cell_type": "markdown",
   "metadata": {},
   "source": [
    "## 데이터 가공 후 외상치 검출"
   ]
  },
  {
   "cell_type": "code",
   "execution_count": 39,
   "metadata": {},
   "outputs": [],
   "source": [
    "df['yyyy']   = df['delngde'].apply(lambda x: str(x)[0:4])\n",
    "df['yyyymm'] = df['delngde'].apply(lambda x: str(x)[0:6])\n",
    "df['yyyy'] = df['yyyy'].apply(lambda x: int(x))\n",
    "df['yyyymm'] = df['yyyymm'].apply(lambda x: int(x))\n",
    "# 정렬\n",
    "df = df.sort_values([\"yyyymm\"], ascending=[True])"
   ]
  },
  {
   "cell_type": "markdown",
   "metadata": {},
   "source": [
    "### 가설\n",
    "- 산지, 시장, 날짜, 등급, 경매, 품종에 따른 차이가 있을것이다"
   ]
  },
  {
   "cell_type": "markdown",
   "metadata": {},
   "source": [
    "### 가설1. 품종에 따른 가격차이가 있을것이다\n",
    "-100101\t봄배추\n",
    "-100102\t여름배추\n",
    "-100103\t김장(가을)배추\n",
    "-100104\t월동배추\n",
    "-100105\t고냉지배추\n",
    "-100106\t저장배추"
   ]
  },
  {
   "cell_type": "code",
   "execution_count": 40,
   "metadata": {},
   "outputs": [
    {
     "data": {
      "image/png": "[encoded data removed]",
      "text/plain": [
       "<Figure size 1080x288 with 1 Axes>"
      ]
     },
     "metadata": {
      "needs_background": "light"
     },
     "output_type": "display_data"
    }
   ],
   "source": [
    "f, ax = plt.subplots(figsize=(15, 4))\n",
    "fig = sns.boxplot(x='yyyymm', y='priceperkg'\n",
    "                  , data=df[(df['stdqlitynewnm'] == '특')\n",
    "#                             & ((2008 <= df['yyyy']) & (df['yyyy'] <= 2014))\n",
    "                            & (df['aucsecode'] == 1)\n",
    "                            & ((df['stdspciesnewcode'] == 100101)\n",
    "                                | (df['stdspciesnewcode'] == 100102)\n",
    "                                | (df['stdspciesnewcode'] == 100103)\n",
    "                                | (df['stdspciesnewcode'] == 100104)\n",
    "                                | (df['stdspciesnewcode'] == 100105)\n",
    "                                | (df['stdspciesnewcode'] == 100106))\n",
    "                           ])"
   ]
  },
  {
   "cell_type": "code",
   "execution_count": 41,
   "metadata": {},
   "outputs": [
    {
     "data": {
      "text/plain": [
       "(2252, 50)"
      ]
     },
     "execution_count": 41,
     "metadata": {},
     "output_type": "execute_result"
    }
   ],
   "source": [
    "# 외상치로 예상되는 가격범위의 갯수\n",
    "df[(df['stdqlitynewnm'] == '특')\n",
    "#                             & ((2008 <= df['yyyy']) & (df['yyyy'] <= 2014))\n",
    "    & (df['aucsecode'] == 1)\n",
    "    & ((df['stdspciesnewcode'] == 100101)\n",
    "        | (df['stdspciesnewcode'] == 100102)\n",
    "        | (df['stdspciesnewcode'] == 100103)\n",
    "        | (df['stdspciesnewcode'] == 100104)\n",
    "        | (df['stdspciesnewcode'] == 100105)\n",
    "        | (df['stdspciesnewcode'] == 100106))\n",
    "    & ((80 <= df['priceperkg']) & (df['priceperkg'] >= 3000))\n",
    "].shape"
   ]
  },
  {
   "cell_type": "markdown",
   "metadata": {},
   "source": [
    "### 가설1 결과\n",
    "- 많은 외상치들이 줄어 들었지만 그래도 간간히 보임"
   ]
  },
  {
   "cell_type": "code",
   "execution_count": 42,
   "metadata": {},
   "outputs": [
    {
     "data": {
      "text/plain": [
       "<matplotlib.axes._subplots.AxesSubplot at 0x288a5c55388>"
      ]
     },
     "execution_count": 42,
     "metadata": {},
     "output_type": "execute_result"
    },
    {
     "data": {
      "image/png": "[encoded data removed]",
      "text/plain": [
       "<Figure size 432x288 with 1 Axes>"
      ]
     },
     "metadata": {
      "needs_background": "light"
     },
     "output_type": "display_data"
    }
   ],
   "source": [
    "np.log(df[\n",
    "    (df['aucsecode'] == 1)\n",
    "    & (\n",
    "        (df['stdspciesnewcode'] == 100101)\n",
    "            | (df['stdspciesnewcode'] == 100102)\n",
    "            | (df['stdspciesnewcode'] == 100103)\n",
    "            | (df['stdspciesnewcode'] == 100104)\n",
    "            | (df['stdspciesnewcode'] == 100105)\n",
    "            | (df['stdspciesnewcode'] == 100106)\n",
    "    )\n",
    "    & (\n",
    "        (df['whsalmrktcode'] == 110001)\n",
    "            | (df['whsalmrktcode'] == 210001)\n",
    "            | (df['whsalmrktcode'] == 220001)\n",
    "#         | (df['whsalmrktcode'] == 230003)\n",
    "      )\n",
    "]['priceperkg']).hist(bins=25)"
   ]
  },
  {
   "cell_type": "code",
   "execution_count": 43,
   "metadata": {
    "scrolled": true
   },
   "outputs": [
    {
     "data": {
      "text/plain": [
       "<matplotlib.axes._subplots.AxesSubplot at 0x288a5a7aa08>"
      ]
     },
     "execution_count": 43,
     "metadata": {},
     "output_type": "execute_result"
    },
    {
     "data": {
      "image/png": "[encoded data removed]",
      "text/plain": [
       "<Figure size 432x288 with 1 Axes>"
      ]
     },
     "metadata": {
      "needs_background": "light"
     },
     "output_type": "display_data"
    }
   ],
   "source": [
    "np.log(df[\n",
    "    (df['aucsecode'] == 1)\n",
    "#     & (df['yyyymm']>=200801)\n",
    "#     & (df['yyyymm']==201411)\n",
    "    & ((80 < df['priceperkg']) & (df['priceperkg'] < 3000))\n",
    "    & (\n",
    "        (df['stdspciesnewcode'] == 100101)\n",
    "            | (df['stdspciesnewcode'] == 100102)\n",
    "            | (df['stdspciesnewcode'] == 100103)\n",
    "            | (df['stdspciesnewcode'] == 100104)\n",
    "            | (df['stdspciesnewcode'] == 100105)\n",
    "            | (df['stdspciesnewcode'] == 100106)\n",
    "    )\n",
    "    & (\n",
    "        (df['whsalmrktcode'] == 110001)\n",
    "            | (df['whsalmrktcode'] == 210001)\n",
    "            | (df['whsalmrktcode'] == 220001)\n",
    "#         | (df['whsalmrktcode'] == 230003)\n",
    "      )\n",
    "]['priceperkg']).hist(bins=25)"
   ]
  },
  {
   "cell_type": "markdown",
   "metadata": {},
   "source": [
    "### 가설2. 시장마다 가격을 입력하는 방법이 잘못되어 외상치가 있을 것이다\n",
    "- 거래금액이 가장 큰 TOP3 시장만을 선정\n",
    "- 1. 110001\t가락동농수산물시장\n",
    "- 2. 210001\t부산엄궁농산물도매시장\n",
    "- 3. 220001\t대구북부도매시장"
   ]
  },
  {
   "cell_type": "code",
   "execution_count": 44,
   "metadata": {},
   "outputs": [
    {
     "data": {
      "image/png": "[encoded data removed]",
      "text/plain": [
       "<Figure size 1080x288 with 1 Axes>"
      ]
     },
     "metadata": {
      "needs_background": "light"
     },
     "output_type": "display_data"
    }
   ],
   "source": [
    "# 데이터 오류 검출\n",
    "f, ax = plt.subplots(figsize=(15, 4))\n",
    "fig = sns.boxplot(x='yyyymm', y='priceperkg'\n",
    "    , data=df[\n",
    "    (df['aucsecode'] == 1)\n",
    "    & (\n",
    "        (df['stdspciesnewcode'] == 100101)\n",
    "            | (df['stdspciesnewcode'] == 100102)\n",
    "            | (df['stdspciesnewcode'] == 100103)\n",
    "            | (df['stdspciesnewcode'] == 100104)\n",
    "            | (df['stdspciesnewcode'] == 100105)\n",
    "            | (df['stdspciesnewcode'] == 100106)\n",
    "    )\n",
    "    & (\n",
    "        (df['whsalmrktcode'] == 110001)\n",
    "            | (df['whsalmrktcode'] == 210001)\n",
    "            | (df['whsalmrktcode'] == 220001)\n",
    "      )\n",
    "])"
   ]
  },
  {
   "cell_type": "markdown",
   "metadata": {},
   "source": [
    "### 가설2 결과\n",
    "- 외상치가 현저히 줄어들었지만 2008년의 경우 외상치가 너무 높게 나옴"
   ]
  },
  {
   "cell_type": "markdown",
   "metadata": {},
   "source": [
    "### 가설2.2 2008년은 데이터 입력 교육 과도기 과정에서 일어난 human error가 발생되었다"
   ]
  },
  {
   "cell_type": "code",
   "execution_count": 45,
   "metadata": {},
   "outputs": [
    {
     "data": {
      "text/plain": [
       "(0, 3000)"
      ]
     },
     "execution_count": 45,
     "metadata": {},
     "output_type": "execute_result"
    },
    {
     "data": {
      "image/png": "[encoded data removed]",
      "text/plain": [
       "<Figure size 1080x288 with 1 Axes>"
      ]
     },
     "metadata": {
      "needs_background": "light"
     },
     "output_type": "display_data"
    }
   ],
   "source": [
    "# 2008년 1년치 데이터 제거 후 boxplot\n",
    "f, ax = plt.subplots(figsize=(15, 4))\n",
    "fig = sns.boxplot(x='yyyymm', y='priceperkg'\n",
    "    , data=df[\n",
    "    (df['aucsecode'] == 1)\n",
    "    & (df['yyyymm'] >= 200901)\n",
    "    & (\n",
    "        (df['stdspciesnewcode'] == 100101)\n",
    "            | (df['stdspciesnewcode'] == 100102)\n",
    "            | (df['stdspciesnewcode'] == 100103)\n",
    "            | (df['stdspciesnewcode'] == 100104)\n",
    "            | (df['stdspciesnewcode'] == 100105)\n",
    "            | (df['stdspciesnewcode'] == 100106)\n",
    "    )\n",
    "    & (\n",
    "        (df['whsalmrktcode'] == 110001)\n",
    "            | (df['whsalmrktcode'] == 210001)\n",
    "            | (df['whsalmrktcode'] == 220001)\n",
    "      )\n",
    "])\n",
    "ax.set_ylim([0, 3000])"
   ]
  },
  {
   "cell_type": "markdown",
   "metadata": {},
   "source": [
    "### 가설2.2 결과\n",
    "- 현저히 많은 외상치들과 가격폭이 줄어듦"
   ]
  },
  {
   "cell_type": "markdown",
   "metadata": {},
   "source": [
    "### 데이터적 오류 검출\n",
    "- 공공데이터를 활용해서 데이터 추출\n",
    "- 모든 시장데이터를 활용했을 때 외상치가 너무 높게 나옴\n",
    "- 일부 시장 데이터만 활용\n",
    "- 외상치가 많이 줄어듦\n",
    "- 공공데이터 활용시 모든 데이터가 클린하지 않으므로 data가공이 중요함을 발견\n",
    "\n",
    "#### 앞에 데이터를 자르는 이유\n",
    "- boxplot에서 외상치가 너무 많이 나옴\n",
    "- 교육이 잘못되서 human error가 발생되었다고 판단\n",
    "- 1년치 데이터 제거"
   ]
  },
  {
   "cell_type": "code",
   "execution_count": null,
   "metadata": {},
   "outputs": [],
   "source": []
  }
 ],
 "metadata": {
  "kernelspec": {
   "display_name": "Python 3",
   "language": "python",
   "name": "python3"
  },
  "language_info": {
   "codemirror_mode": {
    "name": "ipython",
    "version": 3
   },
   "file_extension": ".py",
   "mimetype": "text/x-python",
   "name": "python",
   "nbconvert_exporter": "python",
   "pygments_lexer": "ipython3",
   "version": "3.6.8"
  }
 },
 "nbformat": 4,
 "nbformat_minor": 2
}
