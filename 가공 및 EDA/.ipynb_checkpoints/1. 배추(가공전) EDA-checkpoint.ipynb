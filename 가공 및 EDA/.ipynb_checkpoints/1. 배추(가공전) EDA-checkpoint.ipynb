{
 "cells": [
  {
   "cell_type": "code",
   "execution_count": 1,
   "metadata": {},
   "outputs": [],
   "source": [
    "#경고 끄기\n",
    "import warnings\n",
    "warnings.filterwarnings(action='ignore')"
   ]
  },
  {
   "cell_type": "code",
   "execution_count": 2,
   "metadata": {},
   "outputs": [],
   "source": [
    "import pandas as pd\n",
    "import numpy as np\n",
    "import seaborn as sns\n",
    "import matplotlib.pyplot as plt\n",
    "%matplotlib inline\n",
    "\n",
    "plt.rc('font', family='Malgun Gothic')"
   ]
  },
  {
   "cell_type": "markdown",
   "metadata": {},
   "source": [
    "### 단량별 가격 sbidpric\n",
    "- 거래단량 delngprut이 얼마에 거래됬는지 나타내는 변수\n",
    "- sbidpric만으로는 g, kg, ton 단위가 너무 포괄적이기 때문에 kg당 가격으로 가공 필요\n",
    "\n",
    "#### 컬럼추가\n",
    "- Kg당 가격(priceperkg)\n",
    "  - 가격(sbidpric) / 거래단량(delngprut)\n",
    "  - 거래단위(stdunitnewcode)가 g(11)일경우 *1000, kg(12)일경우 그대로, ton(13)일경우 /1000\n",
    "  - 하면 priceperkg가 됨\n",
    "- 총거래가격(totalprice)\n",
    "  - 거래량(delngQy) * 가격(sbidpric)\n",
    "- 총량(totalweight)\n",
    "  - 거래단량(delngprut) * 거래량(delngQy)\n",
    "  - 거래단위(stdunitnewcode)가 g(11)일경우 /1000, kg(12)일경우 그대로, ton(13)일경우 *1000"
   ]
  },
  {
   "cell_type": "markdown",
   "metadata": {},
   "source": [
    "### 경매 종류 선택 aucsecode-숫자 aucsenm-한글\n",
    "\n",
    "- 1: 경매\n",
    "\n",
    "- 2: 정가수의\n",
    "\n",
    "  - 경쟁계약에 의하지 않고 임의로 상대를 선정하여 계약을 체결하는 것\n",
    "\n",
    "- 3: 자기계산\n",
    "\n",
    "  - 가격을 정하고 거래(정가매매)\n",
    "      1. 출하자 가격과 수량 정해서 도매법인에게 의견전달\n",
    "      2. 도매법인이 여러 구매자(중도매인, 매매참가인)에게 알려줌\n",
    "      3. 구매 의향 있는 구매자 등장 시 거래성사\n",
    "\n",
    "- 4: 매수도매\n",
    "\n",
    "  - 직접 생산자와 출하약정을 맺고 물량을 구입해 중도매인에게 적정 가격으로 공급하는 제도"
   ]
  },
  {
   "cell_type": "code",
   "execution_count": 3,
   "metadata": {},
   "outputs": [],
   "source": [
    "def getData():\n",
    "    df2008 = pd.read_csv(\"C:/농수산가격데이터/1001배추/2008010120081231.csv\")\n",
    "    df2009 = pd.read_csv(\"C:/농수산가격데이터/1001배추/2009010120091231.csv\")\n",
    "    df2010 = pd.read_csv(\"C:/농수산가격데이터/1001배추/2010010120101231.csv\")\n",
    "    df2011 = pd.read_csv(\"C:/농수산가격데이터/1001배추/2011010120111231.csv\")\n",
    "    df2012 = pd.read_csv(\"C:/농수산가격데이터/1001배추/2012010120121231.csv\")\n",
    "    df2013 = pd.read_csv(\"C:/농수산가격데이터/1001배추/2013010120131231.csv\")\n",
    "    df2014 = pd.read_csv(\"C:/농수산가격데이터/1001배추/2014010120141231.csv\")\n",
    "    df2015 = pd.read_csv(\"C:/농수산가격데이터/1001배추/2015010120151231.csv\")\n",
    "    df2016 = pd.read_csv(\"C:/농수산가격데이터/1001배추/2016010120161231.csv\")\n",
    "    df2017 = pd.read_csv(\"C:/농수산가격데이터/1001배추/2017010120171231.csv\")\n",
    "    df2018 = pd.read_csv(\"C:/농수산가격데이터/1001배추/2018010120181231.csv\")\n",
    "    return pd.concat((df2008, df2009, df2010, df2011, df2012, df2013, df2014, df2015, df2016, df2017, df2018), axis=0)"
   ]
  },
  {
   "cell_type": "code",
   "execution_count": 4,
   "metadata": {},
   "outputs": [],
   "source": [
    "def priceTransform(df):\n",
    "    #Kg당 가격(priceperkg)\n",
    "    #총거래가격(totalprice) = 거래량(delngQy) * 가격(sbidpric)\n",
    "    #총량(totalweight) = 거래단량(delngprut) * 거래량(delngQy) * 단위\n",
    "\n",
    "    df11 = df[(df['stdunitnewcode']==11)]\n",
    "    df12 = df[(df['stdunitnewcode']==12)]\n",
    "    df13 = df[(df['stdunitnewcode']==13)]\n",
    "    df11['priceperkg'] = df11['sbidpric'] / df11['delngprut'] * 1000\n",
    "    df11['totalweight'] = df11['delngprut'] * df11['delngqy'] / 1000\n",
    "    df12['priceperkg'] = df12['sbidpric'] / df12['delngprut']\n",
    "    df12['totalweight'] = df12['delngprut'] * df12['delngqy']\n",
    "    df13['priceperkg'] = df13['sbidpric'] / df13['delngprut'] / 1000\n",
    "    df13['totalweight'] = df13['delngprut'] * df13['delngqy'] / 1000\n",
    "    \n",
    "    df = pd.concat([df11, df12, df13])\n",
    "\n",
    "    df['totalprice'] = df['sbidpric'] * df['delngqy']\n",
    "        \n",
    "    return df"
   ]
  },
  {
   "cell_type": "code",
   "execution_count": 5,
   "metadata": {},
   "outputs": [],
   "source": [
    "df = getData()"
   ]
  },
  {
   "cell_type": "code",
   "execution_count": 6,
   "metadata": {},
   "outputs": [],
   "source": [
    "df = priceTransform(df)"
   ]
  },
  {
   "cell_type": "code",
   "execution_count": 56,
   "metadata": {},
   "outputs": [],
   "source": [
    "df = df[df['priceperkg'] > 0]"
   ]
  },
  {
   "cell_type": "code",
   "execution_count": 71,
   "metadata": {},
   "outputs": [],
   "source": [
    "# 정렬\n",
    "df = df.sort_values([\"delngde\"], ascending=[True])"
   ]
  },
  {
   "cell_type": "code",
   "execution_count": 66,
   "metadata": {},
   "outputs": [],
   "source": [
    "df['yyyy'] = df['delngde'].apply(lambda x: str(x)[0:4])\n",
    "df['mm'] = df['delngde'].apply(lambda x: str(x)[4:6])"
   ]
  },
  {
   "cell_type": "code",
   "execution_count": 58,
   "metadata": {},
   "outputs": [
    {
     "data": {
      "text/plain": [
       "<matplotlib.axes._subplots.AxesSubplot at 0x23aaac18>"
      ]
     },
     "execution_count": 58,
     "metadata": {},
     "output_type": "execute_result"
    },
    {
     "data": {
      "image/png": "[encoded data removed]",
      "text/plain": [
       "<Figure size 720x288 with 1 Axes>"
      ]
     },
     "metadata": {
      "needs_background": "light"
     },
     "output_type": "display_data"
    }
   ],
   "source": [
    "# 로그스케일링 histogram\n",
    "f, ax = plt.subplots(figsize=(10, 4))\n",
    "sns.distplot(np.log1p(df['priceperkg']), bins=100)"
   ]
  },
  {
   "cell_type": "code",
   "execution_count": 61,
   "metadata": {
    "scrolled": true
   },
   "outputs": [
    {
     "data": {
      "text/plain": [
       "20.085536923187668"
      ]
     },
     "execution_count": 61,
     "metadata": {},
     "output_type": "execute_result"
    }
   ],
   "source": [
    "np.exp(3)"
   ]
  },
  {
   "cell_type": "code",
   "execution_count": 78,
   "metadata": {},
   "outputs": [
    {
     "data": {
      "text/plain": [
       "Index(['aucsecode', 'aucsenm', 'catgorycode', 'catgorynewcode', 'catgorynewnm',\n",
       "       'catgorynm', 'cprinsttcode', 'cprinsttnewcode', 'cprmtccode',\n",
       "       'cpruseprdlstcode', 'cpruseprdlstnm', 'delngde', 'delngprut', 'delngqy',\n",
       "       'insttnewnm', 'insttnm', 'ledgno', 'rnum', 'sbidpric', 'shipmntsecode',\n",
       "       'shipmntsenm', 'sleseqn', 'stdfrmlcnewcode', 'stdfrmlcnewnm',\n",
       "       'stdmgnewcode', 'stdmgnewnm', 'stdmtcnewcode', 'stdmtcnewnm',\n",
       "       'stdprdlstcode', 'stdprdlstnewcode', 'stdprdlstnewnm', 'stdprdlstnm',\n",
       "       'stdqlitynewcode', 'stdqlitynewnm', 'stdspciescode', 'stdspciesnewcode',\n",
       "       'stdspciesnewnm', 'stdspciesnm', 'stdunitnewcode', 'stdunitnewnm',\n",
       "       'whsalmrktcode', 'whsalmrktnewcode', 'whsalmrktnewnm', 'whsalmrktnm',\n",
       "       'priceperkg', 'totalweight', 'totalprice', 'yyyy', 'mm'],\n",
       "      dtype='object')"
      ]
     },
     "execution_count": 78,
     "metadata": {},
     "output_type": "execute_result"
    }
   ],
   "source": [
    "df.columns"
   ]
  },
  {
   "cell_type": "code",
   "execution_count": 137,
   "metadata": {},
   "outputs": [
    {
     "data": {
      "text/html": [
       "<div>\n",
       "<style scoped>\n",
       "    .dataframe tbody tr th:only-of-type {\n",
       "        vertical-align: middle;\n",
       "    }\n",
       "\n",
       "    .dataframe tbody tr th {\n",
       "        vertical-align: top;\n",
       "    }\n",
       "\n",
       "    .dataframe thead th {\n",
       "        text-align: right;\n",
       "    }\n",
       "</style>\n",
       "<table border=\"1\" class=\"dataframe\">\n",
       "  <thead>\n",
       "    <tr style=\"text-align: right;\">\n",
       "      <th></th>\n",
       "      <th>aucsecode</th>\n",
       "      <th>aucsenm</th>\n",
       "    </tr>\n",
       "  </thead>\n",
       "  <tbody>\n",
       "    <tr>\n",
       "      <th>0</th>\n",
       "      <td>1</td>\n",
       "      <td>경매</td>\n",
       "    </tr>\n",
       "    <tr>\n",
       "      <th>16543</th>\n",
       "      <td>3</td>\n",
       "      <td>자기계산</td>\n",
       "    </tr>\n",
       "    <tr>\n",
       "      <th>17059</th>\n",
       "      <td>2</td>\n",
       "      <td>정가수의</td>\n",
       "    </tr>\n",
       "    <tr>\n",
       "      <th>159465</th>\n",
       "      <td>5</td>\n",
       "      <td>NaN</td>\n",
       "    </tr>\n",
       "    <tr>\n",
       "      <th>111783</th>\n",
       "      <td>4</td>\n",
       "      <td>매수도매</td>\n",
       "    </tr>\n",
       "  </tbody>\n",
       "</table>\n",
       "</div>"
      ],
      "text/plain": [
       "        aucsecode aucsenm\n",
       "0               1      경매\n",
       "16543           3    자기계산\n",
       "17059           2    정가수의\n",
       "159465          5     NaN\n",
       "111783          4    매수도매"
      ]
     },
     "execution_count": 137,
     "metadata": {},
     "output_type": "execute_result"
    }
   ],
   "source": [
    "df[['aucsecode','aucsenm']].drop_duplicates()"
   ]
  },
  {
   "cell_type": "code",
   "execution_count": 7,
   "metadata": {},
   "outputs": [
    {
     "data": {
      "text/plain": [
       "<matplotlib.axes._subplots.AxesSubplot at 0x1d9b95c0>"
      ]
     },
     "execution_count": 7,
     "metadata": {},
     "output_type": "execute_result"
    },
    {
     "data": {
      "image/png": "[encoded data removed]",
      "text/plain": [
       "<Figure size 1080x288 with 1 Axes>"
      ]
     },
     "metadata": {
      "needs_background": "light"
     },
     "output_type": "display_data"
    }
   ],
   "source": [
    "f, ax = plt.subplots(figsize=(15, 4))\n",
    "sns.countplot(df['aucsenm'])"
   ]
  },
  {
   "cell_type": "code",
   "execution_count": 8,
   "metadata": {},
   "outputs": [
    {
     "data": {
      "text/plain": [
       "<matplotlib.axes._subplots.AxesSubplot at 0x1da572e8>"
      ]
     },
     "execution_count": 8,
     "metadata": {},
     "output_type": "execute_result"
    },
    {
     "data": {
      "image/png": "[encoded data removed]",
      "text/plain": [
       "<Figure size 1440x288 with 1 Axes>"
      ]
     },
     "metadata": {
      "needs_background": "light"
     },
     "output_type": "display_data"
    }
   ],
   "source": [
    "f, ax = plt.subplots(figsize=(20, 4))\n",
    "df[['aucsenm','priceperkg']].groupby(\"aucsenm\").mean().sort_values(by='priceperkg', ascending=False).plot.bar(ax=ax)"
   ]
  },
  {
   "cell_type": "code",
   "execution_count": 9,
   "metadata": {},
   "outputs": [
    {
     "data": {
      "text/html": [
       "<div>\n",
       "<style scoped>\n",
       "    .dataframe tbody tr th:only-of-type {\n",
       "        vertical-align: middle;\n",
       "    }\n",
       "\n",
       "    .dataframe tbody tr th {\n",
       "        vertical-align: top;\n",
       "    }\n",
       "\n",
       "    .dataframe thead th {\n",
       "        text-align: right;\n",
       "    }\n",
       "</style>\n",
       "<table border=\"1\" class=\"dataframe\">\n",
       "  <thead>\n",
       "    <tr style=\"text-align: right;\">\n",
       "      <th></th>\n",
       "      <th>totalprice</th>\n",
       "    </tr>\n",
       "    <tr>\n",
       "      <th>aucsenm</th>\n",
       "      <th></th>\n",
       "    </tr>\n",
       "  </thead>\n",
       "  <tbody>\n",
       "    <tr>\n",
       "      <th>경매</th>\n",
       "      <td>2,071,609,756,417</td>\n",
       "    </tr>\n",
       "    <tr>\n",
       "      <th>정가수의</th>\n",
       "      <td>637,551,731,829</td>\n",
       "    </tr>\n",
       "    <tr>\n",
       "      <th>자기계산</th>\n",
       "      <td>276,816,941,781</td>\n",
       "    </tr>\n",
       "    <tr>\n",
       "      <th>매수도매</th>\n",
       "      <td>4,058,375,475</td>\n",
       "    </tr>\n",
       "  </tbody>\n",
       "</table>\n",
       "</div>"
      ],
      "text/plain": [
       "                totalprice\n",
       "aucsenm                   \n",
       "경매       2,071,609,756,417\n",
       "정가수의       637,551,731,829\n",
       "자기계산       276,816,941,781\n",
       "매수도매         4,058,375,475"
      ]
     },
     "execution_count": 9,
     "metadata": {},
     "output_type": "execute_result"
    }
   ],
   "source": [
    "pd.DataFrame(df[['aucsenm','totalprice']].groupby(\"aucsenm\").sum().sort_values(by='totalprice', ascending=False)['totalprice'].apply(lambda x: format(int(x), ',')))"
   ]
  },
  {
   "cell_type": "code",
   "execution_count": 10,
   "metadata": {},
   "outputs": [
    {
     "data": {
      "text/plain": [
       "<matplotlib.axes._subplots.AxesSubplot at 0x1dd0d278>"
      ]
     },
     "execution_count": 10,
     "metadata": {},
     "output_type": "execute_result"
    },
    {
     "data": {
      "image/png": "[encoded data removed]",
      "text/plain": [
       "<Figure size 1440x288 with 1 Axes>"
      ]
     },
     "metadata": {
      "needs_background": "light"
     },
     "output_type": "display_data"
    }
   ],
   "source": [
    "f, ax = plt.subplots(figsize=(20, 4))\n",
    "df[['aucsenm','totalprice']].groupby(\"aucsenm\").sum().sort_values(by='totalprice', ascending=False).plot.bar(ax=ax)"
   ]
  },
  {
   "cell_type": "code",
   "execution_count": 11,
   "metadata": {},
   "outputs": [
    {
     "data": {
      "text/html": [
       "<div>\n",
       "<style scoped>\n",
       "    .dataframe tbody tr th:only-of-type {\n",
       "        vertical-align: middle;\n",
       "    }\n",
       "\n",
       "    .dataframe tbody tr th {\n",
       "        vertical-align: top;\n",
       "    }\n",
       "\n",
       "    .dataframe thead th {\n",
       "        text-align: right;\n",
       "    }\n",
       "</style>\n",
       "<table border=\"1\" class=\"dataframe\">\n",
       "  <thead>\n",
       "    <tr style=\"text-align: right;\">\n",
       "      <th></th>\n",
       "      <th>totalweight</th>\n",
       "    </tr>\n",
       "    <tr>\n",
       "      <th>aucsenm</th>\n",
       "      <th></th>\n",
       "    </tr>\n",
       "  </thead>\n",
       "  <tbody>\n",
       "    <tr>\n",
       "      <th>경매</th>\n",
       "      <td>4,119,879,607</td>\n",
       "    </tr>\n",
       "    <tr>\n",
       "      <th>정가수의</th>\n",
       "      <td>823,871,565</td>\n",
       "    </tr>\n",
       "    <tr>\n",
       "      <th>자기계산</th>\n",
       "      <td>142,311,353</td>\n",
       "    </tr>\n",
       "    <tr>\n",
       "      <th>매수도매</th>\n",
       "      <td>7,377,151</td>\n",
       "    </tr>\n",
       "  </tbody>\n",
       "</table>\n",
       "</div>"
      ],
      "text/plain": [
       "           totalweight\n",
       "aucsenm               \n",
       "경매       4,119,879,607\n",
       "정가수의       823,871,565\n",
       "자기계산       142,311,353\n",
       "매수도매         7,377,151"
      ]
     },
     "execution_count": 11,
     "metadata": {},
     "output_type": "execute_result"
    }
   ],
   "source": [
    "pd.DataFrame(df[['aucsenm','totalweight']].groupby(\"aucsenm\").sum().sort_values(by='totalweight', ascending=False)['totalweight'].apply(lambda x: format(int(x), ',')))\n"
   ]
  },
  {
   "cell_type": "code",
   "execution_count": 12,
   "metadata": {
    "scrolled": true
   },
   "outputs": [
    {
     "data": {
      "text/plain": [
       "<matplotlib.axes._subplots.AxesSubplot at 0x2135e358>"
      ]
     },
     "execution_count": 12,
     "metadata": {},
     "output_type": "execute_result"
    },
    {
     "data": {
      "image/png": "[encoded data removed]",
      "text/plain": [
       "<Figure size 1440x288 with 1 Axes>"
      ]
     },
     "metadata": {
      "needs_background": "light"
     },
     "output_type": "display_data"
    }
   ],
   "source": [
    "f, ax = plt.subplots(figsize=(20, 4))\n",
    "df[['aucsenm','totalweight']].groupby(\"aucsenm\").sum().sort_values(by='totalweight', ascending=False).plot.bar(ax=ax)"
   ]
  },
  {
   "cell_type": "markdown",
   "metadata": {},
   "source": [
    "### 경락일자 delngde\n",
    "### 거래단량 delngprut\n",
    "### 거래량 delngqy"
   ]
  },
  {
   "cell_type": "markdown",
   "metadata": {},
   "source": [
    "### 등급코드 stdqlitynewcode / stdqlitynewnm"
   ]
  },
  {
   "cell_type": "code",
   "execution_count": 234,
   "metadata": {},
   "outputs": [
    {
     "data": {
      "text/html": [
       "<div>\n",
       "<style scoped>\n",
       "    .dataframe tbody tr th:only-of-type {\n",
       "        vertical-align: middle;\n",
       "    }\n",
       "\n",
       "    .dataframe tbody tr th {\n",
       "        vertical-align: top;\n",
       "    }\n",
       "\n",
       "    .dataframe thead th {\n",
       "        text-align: right;\n",
       "    }\n",
       "</style>\n",
       "<table border=\"1\" class=\"dataframe\">\n",
       "  <thead>\n",
       "    <tr style=\"text-align: right;\">\n",
       "      <th></th>\n",
       "      <th>stdqlitynewcode</th>\n",
       "      <th>stdqlitynewnm</th>\n",
       "    </tr>\n",
       "  </thead>\n",
       "  <tbody>\n",
       "    <tr>\n",
       "      <th>0</th>\n",
       "      <td>11</td>\n",
       "      <td>특</td>\n",
       "    </tr>\n",
       "    <tr>\n",
       "      <th>17211</th>\n",
       "      <td>1Z</td>\n",
       "      <td>무등급</td>\n",
       "    </tr>\n",
       "    <tr>\n",
       "      <th>17197</th>\n",
       "      <td>12</td>\n",
       "      <td>상</td>\n",
       "    </tr>\n",
       "    <tr>\n",
       "      <th>16543</th>\n",
       "      <td>13</td>\n",
       "      <td>보통</td>\n",
       "    </tr>\n",
       "    <tr>\n",
       "      <th>16609</th>\n",
       "      <td>14</td>\n",
       "      <td>4등</td>\n",
       "    </tr>\n",
       "    <tr>\n",
       "      <th>17084</th>\n",
       "      <td>00</td>\n",
       "      <td>NaN</td>\n",
       "    </tr>\n",
       "    <tr>\n",
       "      <th>17597</th>\n",
       "      <td>19</td>\n",
       "      <td>등외</td>\n",
       "    </tr>\n",
       "    <tr>\n",
       "      <th>17731</th>\n",
       "      <td>15</td>\n",
       "      <td>5등</td>\n",
       "    </tr>\n",
       "    <tr>\n",
       "      <th>24563</th>\n",
       "      <td>18</td>\n",
       "      <td>8등</td>\n",
       "    </tr>\n",
       "    <tr>\n",
       "      <th>11655</th>\n",
       "      <td>17</td>\n",
       "      <td>7등</td>\n",
       "    </tr>\n",
       "    <tr>\n",
       "      <th>139089</th>\n",
       "      <td>16</td>\n",
       "      <td>6등</td>\n",
       "    </tr>\n",
       "    <tr>\n",
       "      <th>337384</th>\n",
       "      <td>1D</td>\n",
       "      <td>저농약</td>\n",
       "    </tr>\n",
       "    <tr>\n",
       "      <th>328522</th>\n",
       "      <td>1A</td>\n",
       "      <td>유기농산물</td>\n",
       "    </tr>\n",
       "    <tr>\n",
       "      <th>332364</th>\n",
       "      <td>1C</td>\n",
       "      <td>무농약</td>\n",
       "    </tr>\n",
       "    <tr>\n",
       "      <th>264706</th>\n",
       "      <td>1B</td>\n",
       "      <td>전환기</td>\n",
       "    </tr>\n",
       "    <tr>\n",
       "      <th>413751</th>\n",
       "      <td>NaN</td>\n",
       "      <td>NaN</td>\n",
       "    </tr>\n",
       "    <tr>\n",
       "      <th>53722</th>\n",
       "      <td>1Y</td>\n",
       "      <td>혼합</td>\n",
       "    </tr>\n",
       "  </tbody>\n",
       "</table>\n",
       "</div>"
      ],
      "text/plain": [
       "       stdqlitynewcode stdqlitynewnm\n",
       "0                   11             특\n",
       "17211               1Z           무등급\n",
       "17197               12             상\n",
       "16543               13            보통\n",
       "16609               14            4등\n",
       "17084               00           NaN\n",
       "17597               19            등외\n",
       "17731               15            5등\n",
       "24563               18            8등\n",
       "11655               17            7등\n",
       "139089              16            6등\n",
       "337384              1D           저농약\n",
       "328522              1A         유기농산물\n",
       "332364              1C           무농약\n",
       "264706              1B           전환기\n",
       "413751             NaN           NaN\n",
       "53722               1Y            혼합"
      ]
     },
     "execution_count": 234,
     "metadata": {},
     "output_type": "execute_result"
    }
   ],
   "source": [
    "df[['stdqlitynewcode','stdqlitynewnm']].drop_duplicates()"
   ]
  },
  {
   "cell_type": "code",
   "execution_count": 13,
   "metadata": {},
   "outputs": [
    {
     "data": {
      "text/plain": [
       "<matplotlib.axes._subplots.AxesSubplot at 0x213c9080>"
      ]
     },
     "execution_count": 13,
     "metadata": {},
     "output_type": "execute_result"
    },
    {
     "data": {
      "image/png": "[encoded data removed]",
      "text/plain": [
       "<Figure size 1080x288 with 1 Axes>"
      ]
     },
     "metadata": {
      "needs_background": "light"
     },
     "output_type": "display_data"
    }
   ],
   "source": [
    "f, ax = plt.subplots(figsize=(15, 4))\n",
    "sns.countplot(df['stdqlitynewnm'],order = df['stdqlitynewnm'].value_counts().index)"
   ]
  },
  {
   "cell_type": "markdown",
   "metadata": {},
   "source": [
    "#### 그룹별 중위수 및 평균"
   ]
  },
  {
   "cell_type": "code",
   "execution_count": 14,
   "metadata": {},
   "outputs": [
    {
     "data": {
      "text/html": [
       "<div>\n",
       "<style scoped>\n",
       "    .dataframe tbody tr th:only-of-type {\n",
       "        vertical-align: middle;\n",
       "    }\n",
       "\n",
       "    .dataframe tbody tr th {\n",
       "        vertical-align: top;\n",
       "    }\n",
       "\n",
       "    .dataframe thead th {\n",
       "        text-align: right;\n",
       "    }\n",
       "</style>\n",
       "<table border=\"1\" class=\"dataframe\">\n",
       "  <thead>\n",
       "    <tr style=\"text-align: right;\">\n",
       "      <th></th>\n",
       "      <th>priceperkg</th>\n",
       "      <th>totalweight</th>\n",
       "      <th>priceperkg</th>\n",
       "      <th>totalweight</th>\n",
       "    </tr>\n",
       "    <tr>\n",
       "      <th>stdqlitynewnm</th>\n",
       "      <th></th>\n",
       "      <th></th>\n",
       "      <th></th>\n",
       "      <th></th>\n",
       "    </tr>\n",
       "  </thead>\n",
       "  <tbody>\n",
       "    <tr>\n",
       "      <th>무등급</th>\n",
       "      <td>550.00</td>\n",
       "      <td>460.0</td>\n",
       "      <td>3089.233553</td>\n",
       "      <td>895.921030</td>\n",
       "    </tr>\n",
       "    <tr>\n",
       "      <th>보통</th>\n",
       "      <td>418.75</td>\n",
       "      <td>300.0</td>\n",
       "      <td>615.271284</td>\n",
       "      <td>930.655776</td>\n",
       "    </tr>\n",
       "    <tr>\n",
       "      <th>상</th>\n",
       "      <td>450.00</td>\n",
       "      <td>400.0</td>\n",
       "      <td>747.016447</td>\n",
       "      <td>952.415122</td>\n",
       "    </tr>\n",
       "    <tr>\n",
       "      <th>특</th>\n",
       "      <td>800.00</td>\n",
       "      <td>260.0</td>\n",
       "      <td>2427.772885</td>\n",
       "      <td>1135.761777</td>\n",
       "    </tr>\n",
       "  </tbody>\n",
       "</table>\n",
       "</div>"
      ],
      "text/plain": [
       "               priceperkg  totalweight   priceperkg  totalweight\n",
       "stdqlitynewnm                                                   \n",
       "무등급                550.00        460.0  3089.233553   895.921030\n",
       "보통                 418.75        300.0   615.271284   930.655776\n",
       "상                  450.00        400.0   747.016447   952.415122\n",
       "특                  800.00        260.0  2427.772885  1135.761777"
      ]
     },
     "execution_count": 14,
     "metadata": {},
     "output_type": "execute_result"
    }
   ],
   "source": [
    "pd.concat([\n",
    "      df[(df['stdqlitynewnm'] == '특') | (df['stdqlitynewnm'] == '무등급') | (df['stdqlitynewnm'] == '상') | (df['stdqlitynewnm'] == '보통')][['stdqlitynewnm','priceperkg']].groupby(\"stdqlitynewnm\").median()\n",
    "    , df[(df['stdqlitynewnm'] == '특') | (df['stdqlitynewnm'] == '무등급') | (df['stdqlitynewnm'] == '상') | (df['stdqlitynewnm'] == '보통')][['stdqlitynewnm','totalweight']].groupby(\"stdqlitynewnm\").median()\n",
    "    , df[(df['stdqlitynewnm'] == '특') | (df['stdqlitynewnm'] == '무등급') | (df['stdqlitynewnm'] == '상') | (df['stdqlitynewnm'] == '보통')][['stdqlitynewnm','priceperkg']].groupby(\"stdqlitynewnm\").mean()\n",
    "    , df[(df['stdqlitynewnm'] == '특') | (df['stdqlitynewnm'] == '무등급') | (df['stdqlitynewnm'] == '상') | (df['stdqlitynewnm'] == '보통')][['stdqlitynewnm','totalweight']].groupby(\"stdqlitynewnm\").mean()\n",
    "] , axis=1)"
   ]
  },
  {
   "cell_type": "raw",
   "metadata": {},
   "source": [
    "grouped = pd.DataFrame(df[(df['aucsecode']==1) & (df['stdqlitynewnm'] == '특') | (df['stdqlitynewnm'] == '상')]\n",
    "                       [['yyyy','mm','stdqlitynewnm','priceperkg','totalprice']].groupby(['yyyy','mm',\"stdqlitynewnm\"]).median().sort_values(by='totalprice', ascending=False)['totalprice'].apply(lambda x: format(int(x), ',')))\n",
    "grouped.sort_values(['yyyy','mm'], ascending=True)"
   ]
  },
  {
   "cell_type": "code",
   "execution_count": null,
   "metadata": {},
   "outputs": [],
   "source": []
  },
  {
   "cell_type": "code",
   "execution_count": 112,
   "metadata": {},
   "outputs": [],
   "source": [
    "aa = pd.DataFrame(df[(df['aucsecode']==1) & (df['stdqlitynewnm'] == '특') | (df['stdqlitynewnm'] == '상')]\n",
    "                       [['yyyy','mm','stdqlitynewnm','priceperkg','totalprice']].groupby(['yyyy','mm',\"stdqlitynewnm\"])).values"
   ]
  },
  {
   "cell_type": "code",
   "execution_count": null,
   "metadata": {},
   "outputs": [],
   "source": []
  },
  {
   "cell_type": "code",
   "execution_count": null,
   "metadata": {},
   "outputs": [],
   "source": [
    ".boxplot(column=['SepalLength', 'SepalWidth'], by='Name', ax=ax)"
   ]
  },
  {
   "cell_type": "code",
   "execution_count": 90,
   "metadata": {},
   "outputs": [],
   "source": [
    "grouped = pd.DataFrame(df[(df['aucsecode']==1) & (df['stdqlitynewnm'] == '특') | (df['stdqlitynewnm'] == '상')]\n",
    "                       [['yyyy','mm','stdqlitynewnm','priceperkg','totalprice']].groupby(['yyyy','mm',\"stdqlitynewnm\"]).median().sort_values(by='stdqlitynewnm', ascending=False)['totalprice'].apply(lambda x: format(int(x), ',')))\n",
    "grouped = grouped.sort_values(['yyyy','mm'], ascending=True)\n",
    "grouped"
   ]
  },
  {
   "cell_type": "code",
   "execution_count": null,
   "metadata": {},
   "outputs": [],
   "source": []
  },
  {
   "cell_type": "code",
   "execution_count": 118,
   "metadata": {
    "collapsed": true
   },
   "outputs": [
    {
     "data": {
      "text/plain": [
       "yyyy  mm  stdqlitynewnm\n",
       "2018  12  특                163,800\n",
       "2012  04  특                286,000\n",
       "      05  특                250,000\n",
       "      06  특                264,000\n",
       "2016  09  특                544,000\n",
       "2012  07  특                316,000\n",
       "      08  특                432,000\n",
       "2016  08  특                549,000\n",
       "2012  09  특                611,100\n",
       "      10  특                330,000\n",
       "2016  07  특                352,000\n",
       "2012  11  특                319,500\n",
       "      12  특                350,000\n",
       "2016  06  특                268,800\n",
       "2013  01  특                215,000\n",
       "      02  특                238,000\n",
       "2016  05  특                288,000\n",
       "      10  특                277,200\n",
       "2012  03  특                225,000\n",
       "2013  04  특                320,000\n",
       "2016  11  특                345,000\n",
       "2011  04  특                168,000\n",
       "2017  04  특                229,500\n",
       "2011  05  특                140,000\n",
       "      06  특                174,000\n",
       "2017  03  특                260,000\n",
       "2011  07  특                300,000\n",
       "      08  특                540,000\n",
       "      09  특                400,000\n",
       "      10  특                255,000\n",
       "                            ...   \n",
       "2014  08  상                199,800\n",
       "      09  상                271,050\n",
       "      10  상                175,350\n",
       "      11  상                198,000\n",
       "      12  상                174,850\n",
       "2015  01  상                140,000\n",
       "      02  상                180,000\n",
       "2013  08  상                414,000\n",
       "      05  상                190,000\n",
       "2011  09  상                360,000\n",
       "2012  06  상                132,000\n",
       "2011  10  상                178,550\n",
       "      11  상                149,500\n",
       "      12  상                142,000\n",
       "2012  01  상                122,450\n",
       "      02  상                180,000\n",
       "      03  상                246,500\n",
       "      04  상                180,000\n",
       "      05  상                156,600\n",
       "      07  상                180,000\n",
       "2013  04  상                296,400\n",
       "2012  08  상                252,000\n",
       "      09  상                467,400\n",
       "      10  상                250,000\n",
       "      11  상                316,800\n",
       "      12  상                420,000\n",
       "2013  01  상                241,800\n",
       "      02  상                276,600\n",
       "      03  상                330,000\n",
       "      07  상                167,200\n",
       "Name: totalprice, Length: 264, dtype: object"
      ]
     },
     "execution_count": 118,
     "metadata": {},
     "output_type": "execute_result"
    }
   ],
   "source": [
    "df[(df['aucsecode']==1) & (df['stdqlitynewnm'] == '특') | (df['stdqlitynewnm'] == '상')][['yyyy','mm','stdqlitynewnm','priceperkg','totalprice']].groupby(['yyyy','mm',\"stdqlitynewnm\"]).median().sort_values(by='stdqlitynewnm', ascending=False)['totalprice'].apply(lambda x: format(int(x), ',')).boxplot(column=['SepalLength', 'SepalWidth'], by='Name', ax=ax)"
   ]
  },
  {
   "cell_type": "code",
   "execution_count": 123,
   "metadata": {},
   "outputs": [
    {
     "name": "stderr",
     "output_type": "stream",
     "text": [
      "C:\\ProgramData\\Anaconda3\\lib\\site-packages\\pandas\\plotting\\_core.py:2254: UserWarning: To output multiple subplots, the figure containing the passed axes is being cleared\n",
      "  return_type=return_type, **kwds)\n"
     ]
    },
    {
     "ename": "ValueError",
     "evalue": "num must be 1 <= num <= 0, not 1",
     "output_type": "error",
     "traceback": [
      "\u001b[1;31m---------------------------------------------------------------------------\u001b[0m",
      "\u001b[1;31mValueError\u001b[0m                                Traceback (most recent call last)",
      "\u001b[1;32m<ipython-input-123-0e1ff6025b33>\u001b[0m in \u001b[0;36m<module>\u001b[1;34m\u001b[0m\n\u001b[0;32m      1\u001b[0m \u001b[0mf\u001b[0m\u001b[1;33m,\u001b[0m \u001b[0max\u001b[0m \u001b[1;33m=\u001b[0m \u001b[0mplt\u001b[0m\u001b[1;33m.\u001b[0m\u001b[0msubplots\u001b[0m\u001b[1;33m(\u001b[0m\u001b[0mfigsize\u001b[0m\u001b[1;33m=\u001b[0m\u001b[1;33m(\u001b[0m\u001b[1;36m15\u001b[0m\u001b[1;33m,\u001b[0m \u001b[1;36m4\u001b[0m\u001b[1;33m)\u001b[0m\u001b[1;33m)\u001b[0m\u001b[1;33m\u001b[0m\u001b[1;33m\u001b[0m\u001b[0m\n\u001b[1;32m----> 2\u001b[1;33m \u001b[0mgrouped\u001b[0m\u001b[1;33m.\u001b[0m\u001b[0msort_values\u001b[0m\u001b[1;33m(\u001b[0m\u001b[1;33m[\u001b[0m\u001b[1;34m'yyyy'\u001b[0m\u001b[1;33m,\u001b[0m\u001b[1;34m'mm'\u001b[0m\u001b[1;33m]\u001b[0m\u001b[1;33m,\u001b[0m \u001b[0mascending\u001b[0m\u001b[1;33m=\u001b[0m\u001b[1;32mTrue\u001b[0m\u001b[1;33m)\u001b[0m\u001b[1;33m.\u001b[0m\u001b[0mboxplot\u001b[0m\u001b[1;33m(\u001b[0m\u001b[0max\u001b[0m\u001b[1;33m=\u001b[0m\u001b[0max\u001b[0m\u001b[1;33m,\u001b[0m\u001b[0mby\u001b[0m\u001b[1;33m=\u001b[0m\u001b[1;34m'totalprice'\u001b[0m\u001b[1;33m)\u001b[0m\u001b[1;33m\u001b[0m\u001b[1;33m\u001b[0m\u001b[0m\n\u001b[0m",
      "\u001b[1;32mC:\\ProgramData\\Anaconda3\\lib\\site-packages\\pandas\\plotting\\_core.py\u001b[0m in \u001b[0;36mboxplot_frame\u001b[1;34m(self, column, by, ax, fontsize, rot, grid, figsize, layout, return_type, **kwds)\u001b[0m\n\u001b[0;32m   2252\u001b[0m     ax = boxplot(self, column=column, by=by, ax=ax, fontsize=fontsize,\n\u001b[0;32m   2253\u001b[0m                  \u001b[0mgrid\u001b[0m\u001b[1;33m=\u001b[0m\u001b[0mgrid\u001b[0m\u001b[1;33m,\u001b[0m \u001b[0mrot\u001b[0m\u001b[1;33m=\u001b[0m\u001b[0mrot\u001b[0m\u001b[1;33m,\u001b[0m \u001b[0mfigsize\u001b[0m\u001b[1;33m=\u001b[0m\u001b[0mfigsize\u001b[0m\u001b[1;33m,\u001b[0m \u001b[0mlayout\u001b[0m\u001b[1;33m=\u001b[0m\u001b[0mlayout\u001b[0m\u001b[1;33m,\u001b[0m\u001b[1;33m\u001b[0m\u001b[1;33m\u001b[0m\u001b[0m\n\u001b[1;32m-> 2254\u001b[1;33m                  return_type=return_type, **kwds)\n\u001b[0m\u001b[0;32m   2255\u001b[0m     \u001b[0mplt\u001b[0m\u001b[1;33m.\u001b[0m\u001b[0mdraw_if_interactive\u001b[0m\u001b[1;33m(\u001b[0m\u001b[1;33m)\u001b[0m\u001b[1;33m\u001b[0m\u001b[1;33m\u001b[0m\u001b[0m\n\u001b[0;32m   2256\u001b[0m     \u001b[1;32mreturn\u001b[0m \u001b[0max\u001b[0m\u001b[1;33m\u001b[0m\u001b[1;33m\u001b[0m\u001b[0m\n",
      "\u001b[1;32mC:\\ProgramData\\Anaconda3\\lib\\site-packages\\pandas\\plotting\\_core.py\u001b[0m in \u001b[0;36mboxplot\u001b[1;34m(data, column, by, ax, fontsize, rot, grid, figsize, layout, return_type, **kwds)\u001b[0m\n\u001b[0;32m   2221\u001b[0m                                          \u001b[0mby\u001b[0m\u001b[1;33m=\u001b[0m\u001b[0mby\u001b[0m\u001b[1;33m,\u001b[0m \u001b[0mgrid\u001b[0m\u001b[1;33m=\u001b[0m\u001b[0mgrid\u001b[0m\u001b[1;33m,\u001b[0m \u001b[0mfigsize\u001b[0m\u001b[1;33m=\u001b[0m\u001b[0mfigsize\u001b[0m\u001b[1;33m,\u001b[0m\u001b[1;33m\u001b[0m\u001b[1;33m\u001b[0m\u001b[0m\n\u001b[0;32m   2222\u001b[0m                                          \u001b[0max\u001b[0m\u001b[1;33m=\u001b[0m\u001b[0max\u001b[0m\u001b[1;33m,\u001b[0m \u001b[0mlayout\u001b[0m\u001b[1;33m=\u001b[0m\u001b[0mlayout\u001b[0m\u001b[1;33m,\u001b[0m\u001b[1;33m\u001b[0m\u001b[1;33m\u001b[0m\u001b[0m\n\u001b[1;32m-> 2223\u001b[1;33m                                          return_type=return_type)\n\u001b[0m\u001b[0;32m   2224\u001b[0m     \u001b[1;32melse\u001b[0m\u001b[1;33m:\u001b[0m\u001b[1;33m\u001b[0m\u001b[1;33m\u001b[0m\u001b[0m\n\u001b[0;32m   2225\u001b[0m         \u001b[1;32mif\u001b[0m \u001b[0mreturn_type\u001b[0m \u001b[1;32mis\u001b[0m \u001b[1;32mNone\u001b[0m\u001b[1;33m:\u001b[0m\u001b[1;33m\u001b[0m\u001b[1;33m\u001b[0m\u001b[0m\n",
      "\u001b[1;32mC:\\ProgramData\\Anaconda3\\lib\\site-packages\\pandas\\plotting\\_core.py\u001b[0m in \u001b[0;36m_grouped_plot_by_column\u001b[1;34m(plotf, data, columns, by, numeric_only, grid, figsize, ax, layout, return_type, **kwargs)\u001b[0m\n\u001b[0;32m   2671\u001b[0m     \u001b[0mnaxes\u001b[0m \u001b[1;33m=\u001b[0m \u001b[0mlen\u001b[0m\u001b[1;33m(\u001b[0m\u001b[0mcolumns\u001b[0m\u001b[1;33m)\u001b[0m\u001b[1;33m\u001b[0m\u001b[1;33m\u001b[0m\u001b[0m\n\u001b[0;32m   2672\u001b[0m     fig, axes = _subplots(naxes=naxes, sharex=True, sharey=True,\n\u001b[1;32m-> 2673\u001b[1;33m                           figsize=figsize, ax=ax, layout=layout)\n\u001b[0m\u001b[0;32m   2674\u001b[0m \u001b[1;33m\u001b[0m\u001b[0m\n\u001b[0;32m   2675\u001b[0m     \u001b[0m_axes\u001b[0m \u001b[1;33m=\u001b[0m \u001b[0m_flatten\u001b[0m\u001b[1;33m(\u001b[0m\u001b[0maxes\u001b[0m\u001b[1;33m)\u001b[0m\u001b[1;33m\u001b[0m\u001b[1;33m\u001b[0m\u001b[0m\n",
      "\u001b[1;32mC:\\ProgramData\\Anaconda3\\lib\\site-packages\\pandas\\plotting\\_tools.py\u001b[0m in \u001b[0;36m_subplots\u001b[1;34m(naxes, sharex, sharey, squeeze, subplot_kw, ax, layout, layout_type, **fig_kw)\u001b[0m\n\u001b[0;32m    235\u001b[0m \u001b[1;33m\u001b[0m\u001b[0m\n\u001b[0;32m    236\u001b[0m     \u001b[1;31m# Create first subplot separately, so we can share it if requested\u001b[0m\u001b[1;33m\u001b[0m\u001b[1;33m\u001b[0m\u001b[1;33m\u001b[0m\u001b[0m\n\u001b[1;32m--> 237\u001b[1;33m     \u001b[0max0\u001b[0m \u001b[1;33m=\u001b[0m \u001b[0mfig\u001b[0m\u001b[1;33m.\u001b[0m\u001b[0madd_subplot\u001b[0m\u001b[1;33m(\u001b[0m\u001b[0mnrows\u001b[0m\u001b[1;33m,\u001b[0m \u001b[0mncols\u001b[0m\u001b[1;33m,\u001b[0m \u001b[1;36m1\u001b[0m\u001b[1;33m,\u001b[0m \u001b[1;33m**\u001b[0m\u001b[0msubplot_kw\u001b[0m\u001b[1;33m)\u001b[0m\u001b[1;33m\u001b[0m\u001b[1;33m\u001b[0m\u001b[0m\n\u001b[0m\u001b[0;32m    238\u001b[0m \u001b[1;33m\u001b[0m\u001b[0m\n\u001b[0;32m    239\u001b[0m     \u001b[1;32mif\u001b[0m \u001b[0msharex\u001b[0m\u001b[1;33m:\u001b[0m\u001b[1;33m\u001b[0m\u001b[1;33m\u001b[0m\u001b[0m\n",
      "\u001b[1;32mC:\\ProgramData\\Anaconda3\\lib\\site-packages\\matplotlib\\figure.py\u001b[0m in \u001b[0;36madd_subplot\u001b[1;34m(self, *args, **kwargs)\u001b[0m\n\u001b[0;32m   1365\u001b[0m                     \u001b[0mself\u001b[0m\u001b[1;33m.\u001b[0m\u001b[0m_axstack\u001b[0m\u001b[1;33m.\u001b[0m\u001b[0mremove\u001b[0m\u001b[1;33m(\u001b[0m\u001b[0max\u001b[0m\u001b[1;33m)\u001b[0m\u001b[1;33m\u001b[0m\u001b[1;33m\u001b[0m\u001b[0m\n\u001b[0;32m   1366\u001b[0m \u001b[1;33m\u001b[0m\u001b[0m\n\u001b[1;32m-> 1367\u001b[1;33m             \u001b[0ma\u001b[0m \u001b[1;33m=\u001b[0m \u001b[0msubplot_class_factory\u001b[0m\u001b[1;33m(\u001b[0m\u001b[0mprojection_class\u001b[0m\u001b[1;33m)\u001b[0m\u001b[1;33m(\u001b[0m\u001b[0mself\u001b[0m\u001b[1;33m,\u001b[0m \u001b[1;33m*\u001b[0m\u001b[0margs\u001b[0m\u001b[1;33m,\u001b[0m \u001b[1;33m**\u001b[0m\u001b[0mkwargs\u001b[0m\u001b[1;33m)\u001b[0m\u001b[1;33m\u001b[0m\u001b[1;33m\u001b[0m\u001b[0m\n\u001b[0m\u001b[0;32m   1368\u001b[0m         \u001b[0mself\u001b[0m\u001b[1;33m.\u001b[0m\u001b[0m_axstack\u001b[0m\u001b[1;33m.\u001b[0m\u001b[0madd\u001b[0m\u001b[1;33m(\u001b[0m\u001b[0mkey\u001b[0m\u001b[1;33m,\u001b[0m \u001b[0ma\u001b[0m\u001b[1;33m)\u001b[0m\u001b[1;33m\u001b[0m\u001b[1;33m\u001b[0m\u001b[0m\n\u001b[0;32m   1369\u001b[0m         \u001b[0mself\u001b[0m\u001b[1;33m.\u001b[0m\u001b[0msca\u001b[0m\u001b[1;33m(\u001b[0m\u001b[0ma\u001b[0m\u001b[1;33m)\u001b[0m\u001b[1;33m\u001b[0m\u001b[1;33m\u001b[0m\u001b[0m\n",
      "\u001b[1;32mC:\\ProgramData\\Anaconda3\\lib\\site-packages\\matplotlib\\axes\\_subplots.py\u001b[0m in \u001b[0;36m__init__\u001b[1;34m(self, fig, *args, **kwargs)\u001b[0m\n\u001b[0;32m     58\u001b[0m                     raise ValueError(\n\u001b[0;32m     59\u001b[0m                         (\"num must be 1 <= num <= {maxn}, not {num}\"\n\u001b[1;32m---> 60\u001b[1;33m                         ).format(maxn=rows*cols, num=num))\n\u001b[0m\u001b[0;32m     61\u001b[0m                 self._subplotspec = GridSpec(\n\u001b[0;32m     62\u001b[0m                         rows, cols, figure=self.figure)[int(num) - 1]\n",
      "\u001b[1;31mValueError\u001b[0m: num must be 1 <= num <= 0, not 1"
     ]
    },
    {
     "data": {
      "text/plain": [
       "<Figure size 1080x288 with 0 Axes>"
      ]
     },
     "metadata": {},
     "output_type": "display_data"
    }
   ],
   "source": [
    "f, ax = plt.subplots(figsize=(15, 4))\n",
    "grouped.sort_values(['yyyy','mm'], ascending=True).boxplot(ax=ax,by='totalprice')"
   ]
  },
  {
   "cell_type": "code",
   "execution_count": null,
   "metadata": {},
   "outputs": [],
   "source": []
  },
  {
   "cell_type": "code",
   "execution_count": null,
   "metadata": {},
   "outputs": [],
   "source": []
  },
  {
   "cell_type": "code",
   "execution_count": null,
   "metadata": {},
   "outputs": [],
   "source": []
  },
  {
   "cell_type": "code",
   "execution_count": 15,
   "metadata": {
    "scrolled": true
   },
   "outputs": [
    {
     "data": {
      "image/png": "[encoded data removed]",
      "text/plain": [
       "<Figure size 1080x288 with 1 Axes>"
      ]
     },
     "metadata": {
      "needs_background": "light"
     },
     "output_type": "display_data"
    }
   ],
   "source": [
    "f, ax = plt.subplots(figsize=(15, 4))\n",
    "fig = sns.boxplot(x='stdqlitynewnm', y='priceperkg', data=df[(df['stdqlitynewnm'] == '특') | (df['stdqlitynewnm'] == '무등급') | (df['stdqlitynewnm'] == '상') | (df['stdqlitynewnm'] == '보통')])"
   ]
  },
  {
   "cell_type": "code",
   "execution_count": 126,
   "metadata": {},
   "outputs": [],
   "source": [
    "df['yyyy']   = df['delngde'].apply(lambda x: str(x)[0:4])\n",
    "df['yyyymm'] = df['delngde'].apply(lambda x: str(x)[0:6])"
   ]
  },
  {
   "cell_type": "code",
   "execution_count": 132,
   "metadata": {},
   "outputs": [],
   "source": [
    "df['yyyy'] = df['yyyy'].apply(lambda x: int(x))\n",
    "df['yyyymm'] = df['yyyymm'].apply(lambda x: int(x))"
   ]
  },
  {
   "cell_type": "code",
   "execution_count": 127,
   "metadata": {},
   "outputs": [],
   "source": [
    "# 정렬\n",
    "df = df.sort_values([\"yyyymm\"], ascending=[True])"
   ]
  },
  {
   "cell_type": "code",
   "execution_count": null,
   "metadata": {},
   "outputs": [],
   "source": [
    "stdspciesnewcode"
   ]
  },
  {
   "cell_type": "code",
   "execution_count": 141,
   "metadata": {},
   "outputs": [
    {
     "data": {
      "image/png": "[encoded data removed]",
      "text/plain": [
       "<Figure size 1080x288 with 1 Axes>"
      ]
     },
     "metadata": {
      "needs_background": "light"
     },
     "output_type": "display_data"
    }
   ],
   "source": [
    "f, ax = plt.subplots(figsize=(15, 4))\n",
    "fig = sns.boxplot(x='yyyymm', y='priceperkg'\n",
    "                  , data=df[(df['stdqlitynewnm'] == '특')\n",
    "                            & (df['yyyy'] <= 2010)\n",
    "                            & (df['aucsecode'] == 1)\n",
    "                            & (df['stdspciesnewcode'] == 100104)\n",
    "                            & (df['whsalmrktnewnm'] == '가락동농수산물시장')\n",
    "                           ])"
   ]
  },
  {
   "cell_type": "code",
   "execution_count": 157,
   "metadata": {},
   "outputs": [
    {
     "data": {
      "image/png": "[encoded data removed]",
      "text/plain": [
       "<Figure size 1080x288 with 1 Axes>"
      ]
     },
     "metadata": {
      "needs_background": "light"
     },
     "output_type": "display_data"
    }
   ],
   "source": [
    "f, ax = plt.subplots(figsize=(15, 4))\n",
    "fig = sns.boxplot(x='yyyymm', y='priceperkg'\n",
    "                  , data=df[(df['stdqlitynewnm'] == '특')\n",
    "                            & ((2014 > df['yyyy']) & (df['yyyy'] > 2007))\n",
    "                            & (df['aucsecode'] == 1)\n",
    "                            & ((df['stdspciesnewcode'] == 100101)\n",
    "                                | (df['stdspciesnewcode'] == 100102)\n",
    "                                | (df['stdspciesnewcode'] == 100103)\n",
    "                                | (df['stdspciesnewcode'] == 100104)\n",
    "                                | (df['stdspciesnewcode'] == 100105)\n",
    "                                | (df['stdspciesnewcode'] == 100106))\n",
    "                            & (df['priceperkg'] <= 50000)\n",
    "                           ])"
   ]
  },
  {
   "cell_type": "code",
   "execution_count": 213,
   "metadata": {},
   "outputs": [
    {
     "name": "stdout",
     "output_type": "stream",
     "text": [
      "54.598150033144236\n",
      "8103.083927575384\n"
     ]
    }
   ],
   "source": [
    "print(np.exp(4))\n",
    "print(np.exp(9))"
   ]
  },
  {
   "cell_type": "code",
   "execution_count": null,
   "metadata": {},
   "outputs": [],
   "source": []
  },
  {
   "cell_type": "code",
   "execution_count": null,
   "metadata": {},
   "outputs": [],
   "source": []
  },
  {
   "cell_type": "code",
   "execution_count": null,
   "metadata": {},
   "outputs": [],
   "source": []
  },
  {
   "cell_type": "code",
   "execution_count": null,
   "metadata": {},
   "outputs": [],
   "source": []
  },
  {
   "cell_type": "code",
   "execution_count": null,
   "metadata": {},
   "outputs": [],
   "source": []
  },
  {
   "cell_type": "code",
   "execution_count": null,
   "metadata": {},
   "outputs": [],
   "source": []
  },
  {
   "cell_type": "code",
   "execution_count": null,
   "metadata": {},
   "outputs": [],
   "source": []
  },
  {
   "cell_type": "code",
   "execution_count": null,
   "metadata": {},
   "outputs": [],
   "source": []
  },
  {
   "cell_type": "code",
   "execution_count": null,
   "metadata": {},
   "outputs": [],
   "source": []
  },
  {
   "cell_type": "code",
   "execution_count": null,
   "metadata": {},
   "outputs": [],
   "source": []
  },
  {
   "cell_type": "code",
   "execution_count": 228,
   "metadata": {},
   "outputs": [],
   "source": [
    "temp = df[\n",
    "    (df['aucsecode'] == 1)\n",
    "    & ((20120810 <= df['delngde']) & (df['delngde']<=20120817))\n",
    "#     & (df['yyyymm']==201411)\n",
    "    & ((500 < df['priceperkg']) & (df['priceperkg'] < 2000))\n",
    "#     & (50 > df['priceperkg'])\n",
    "    & (\n",
    "        (df['stdspciesnewcode'] == 100101)\n",
    "            | (df['stdspciesnewcode'] == 100102)\n",
    "            | (df['stdspciesnewcode'] == 100103)\n",
    "            | (df['stdspciesnewcode'] == 100104)\n",
    "            | (df['stdspciesnewcode'] == 100105)\n",
    "            | (df['stdspciesnewcode'] == 100106)\n",
    "    )\n",
    "    & (\n",
    "        (df['whsalmrktcode'] == 110001)\n",
    "            | (df['whsalmrktcode'] == 210001)\n",
    "            | (df['whsalmrktcode'] == 220001)\n",
    "#         | (df['whsalmrktcode'] == 230003)\n",
    "      )\n",
    "]"
   ]
  },
  {
   "cell_type": "code",
   "execution_count": null,
   "metadata": {},
   "outputs": [],
   "source": []
  },
  {
   "cell_type": "code",
   "execution_count": 233,
   "metadata": {},
   "outputs": [
    {
     "data": {
      "text/html": [
       "<div>\n",
       "<style scoped>\n",
       "    .dataframe tbody tr th:only-of-type {\n",
       "        vertical-align: middle;\n",
       "    }\n",
       "\n",
       "    .dataframe tbody tr th {\n",
       "        vertical-align: top;\n",
       "    }\n",
       "\n",
       "    .dataframe thead th {\n",
       "        text-align: right;\n",
       "    }\n",
       "</style>\n",
       "<table border=\"1\" class=\"dataframe\">\n",
       "  <thead>\n",
       "    <tr style=\"text-align: right;\">\n",
       "      <th></th>\n",
       "      <th>priceperkg</th>\n",
       "    </tr>\n",
       "    <tr>\n",
       "      <th>delngde</th>\n",
       "      <th></th>\n",
       "    </tr>\n",
       "  </thead>\n",
       "  <tbody>\n",
       "    <tr>\n",
       "      <th>20120810</th>\n",
       "      <td>685.892857</td>\n",
       "    </tr>\n",
       "    <tr>\n",
       "      <th>20120811</th>\n",
       "      <td>681.500000</td>\n",
       "    </tr>\n",
       "    <tr>\n",
       "      <th>20120813</th>\n",
       "      <td>749.866667</td>\n",
       "    </tr>\n",
       "    <tr>\n",
       "      <th>20120814</th>\n",
       "      <td>721.222222</td>\n",
       "    </tr>\n",
       "    <tr>\n",
       "      <th>20120815</th>\n",
       "      <td>575.000000</td>\n",
       "    </tr>\n",
       "    <tr>\n",
       "      <th>20120816</th>\n",
       "      <td>666.666667</td>\n",
       "    </tr>\n",
       "    <tr>\n",
       "      <th>20120817</th>\n",
       "      <td>742.482143</td>\n",
       "    </tr>\n",
       "  </tbody>\n",
       "</table>\n",
       "</div>"
      ],
      "text/plain": [
       "          priceperkg\n",
       "delngde             \n",
       "20120810  685.892857\n",
       "20120811  681.500000\n",
       "20120813  749.866667\n",
       "20120814  721.222222\n",
       "20120815  575.000000\n",
       "20120816  666.666667\n",
       "20120817  742.482143"
      ]
     },
     "execution_count": 233,
     "metadata": {},
     "output_type": "execute_result"
    }
   ],
   "source": [
    "temp[['delngde','priceperkg']].groupby(\"delngde\").mean().sort_values(by='delngde', ascending=True)"
   ]
  },
  {
   "cell_type": "code",
   "execution_count": null,
   "metadata": {},
   "outputs": [],
   "source": []
  },
  {
   "cell_type": "code",
   "execution_count": 229,
   "metadata": {},
   "outputs": [
    {
     "ename": "KeyError",
     "evalue": "'delngde'",
     "output_type": "error",
     "traceback": [
      "\u001b[1;31m---------------------------------------------------------------------------\u001b[0m",
      "\u001b[1;31mKeyError\u001b[0m                                  Traceback (most recent call last)",
      "\u001b[1;32mC:\\ProgramData\\Anaconda3\\lib\\site-packages\\pandas\\core\\indexes\\base.py\u001b[0m in \u001b[0;36mget_loc\u001b[1;34m(self, key, method, tolerance)\u001b[0m\n\u001b[0;32m   2656\u001b[0m             \u001b[1;32mtry\u001b[0m\u001b[1;33m:\u001b[0m\u001b[1;33m\u001b[0m\u001b[1;33m\u001b[0m\u001b[0m\n\u001b[1;32m-> 2657\u001b[1;33m                 \u001b[1;32mreturn\u001b[0m \u001b[0mself\u001b[0m\u001b[1;33m.\u001b[0m\u001b[0m_engine\u001b[0m\u001b[1;33m.\u001b[0m\u001b[0mget_loc\u001b[0m\u001b[1;33m(\u001b[0m\u001b[0mkey\u001b[0m\u001b[1;33m)\u001b[0m\u001b[1;33m\u001b[0m\u001b[1;33m\u001b[0m\u001b[0m\n\u001b[0m\u001b[0;32m   2658\u001b[0m             \u001b[1;32mexcept\u001b[0m \u001b[0mKeyError\u001b[0m\u001b[1;33m:\u001b[0m\u001b[1;33m\u001b[0m\u001b[1;33m\u001b[0m\u001b[0m\n",
      "\u001b[1;32mpandas/_libs/index.pyx\u001b[0m in \u001b[0;36mpandas._libs.index.IndexEngine.get_loc\u001b[1;34m()\u001b[0m\n",
      "\u001b[1;32mpandas/_libs/index.pyx\u001b[0m in \u001b[0;36mpandas._libs.index.IndexEngine.get_loc\u001b[1;34m()\u001b[0m\n",
      "\u001b[1;32mpandas/_libs/hashtable_class_helper.pxi\u001b[0m in \u001b[0;36mpandas._libs.hashtable.PyObjectHashTable.get_item\u001b[1;34m()\u001b[0m\n",
      "\u001b[1;32mpandas/_libs/hashtable_class_helper.pxi\u001b[0m in \u001b[0;36mpandas._libs.hashtable.PyObjectHashTable.get_item\u001b[1;34m()\u001b[0m\n",
      "\u001b[1;31mKeyError\u001b[0m: 'delngde'",
      "\nDuring handling of the above exception, another exception occurred:\n",
      "\u001b[1;31mKeyError\u001b[0m                                  Traceback (most recent call last)",
      "\u001b[1;32m<ipython-input-229-b554a8f42359>\u001b[0m in \u001b[0;36m<module>\u001b[1;34m\u001b[0m\n\u001b[1;32m----> 1\u001b[1;33m \u001b[0mpd\u001b[0m\u001b[1;33m.\u001b[0m\u001b[0mDataFrame\u001b[0m\u001b[1;33m(\u001b[0m\u001b[0mtemp\u001b[0m\u001b[1;33m[\u001b[0m\u001b[1;33m[\u001b[0m\u001b[1;34m'delngde'\u001b[0m\u001b[1;33m,\u001b[0m\u001b[1;34m'priceperkg'\u001b[0m\u001b[1;33m]\u001b[0m\u001b[1;33m]\u001b[0m\u001b[1;33m.\u001b[0m\u001b[0mgroupby\u001b[0m\u001b[1;33m(\u001b[0m\u001b[1;34m\"delngde\"\u001b[0m\u001b[1;33m)\u001b[0m\u001b[1;33m.\u001b[0m\u001b[0mmean\u001b[0m\u001b[1;33m(\u001b[0m\u001b[1;33m)\u001b[0m\u001b[1;33m.\u001b[0m\u001b[0msort_values\u001b[0m\u001b[1;33m(\u001b[0m\u001b[0mby\u001b[0m\u001b[1;33m=\u001b[0m\u001b[1;34m'delngde'\u001b[0m\u001b[1;33m,\u001b[0m \u001b[0mascending\u001b[0m\u001b[1;33m=\u001b[0m\u001b[1;32mFalse\u001b[0m\u001b[1;33m)\u001b[0m\u001b[1;33m[\u001b[0m\u001b[1;34m'delngde'\u001b[0m\u001b[1;33m]\u001b[0m\u001b[1;33m.\u001b[0m\u001b[0mapply\u001b[0m\u001b[1;33m(\u001b[0m\u001b[1;32mlambda\u001b[0m \u001b[0mx\u001b[0m\u001b[1;33m:\u001b[0m \u001b[0mformat\u001b[0m\u001b[1;33m(\u001b[0m\u001b[0mint\u001b[0m\u001b[1;33m(\u001b[0m\u001b[0mx\u001b[0m\u001b[1;33m)\u001b[0m\u001b[1;33m,\u001b[0m \u001b[1;34m','\u001b[0m\u001b[1;33m)\u001b[0m\u001b[1;33m)\u001b[0m\u001b[1;33m)\u001b[0m\u001b[1;33m\u001b[0m\u001b[1;33m\u001b[0m\u001b[0m\n\u001b[0m",
      "\u001b[1;32mC:\\ProgramData\\Anaconda3\\lib\\site-packages\\pandas\\core\\frame.py\u001b[0m in \u001b[0;36m__getitem__\u001b[1;34m(self, key)\u001b[0m\n\u001b[0;32m   2925\u001b[0m             \u001b[1;32mif\u001b[0m \u001b[0mself\u001b[0m\u001b[1;33m.\u001b[0m\u001b[0mcolumns\u001b[0m\u001b[1;33m.\u001b[0m\u001b[0mnlevels\u001b[0m \u001b[1;33m>\u001b[0m \u001b[1;36m1\u001b[0m\u001b[1;33m:\u001b[0m\u001b[1;33m\u001b[0m\u001b[1;33m\u001b[0m\u001b[0m\n\u001b[0;32m   2926\u001b[0m                 \u001b[1;32mreturn\u001b[0m \u001b[0mself\u001b[0m\u001b[1;33m.\u001b[0m\u001b[0m_getitem_multilevel\u001b[0m\u001b[1;33m(\u001b[0m\u001b[0mkey\u001b[0m\u001b[1;33m)\u001b[0m\u001b[1;33m\u001b[0m\u001b[1;33m\u001b[0m\u001b[0m\n\u001b[1;32m-> 2927\u001b[1;33m             \u001b[0mindexer\u001b[0m \u001b[1;33m=\u001b[0m \u001b[0mself\u001b[0m\u001b[1;33m.\u001b[0m\u001b[0mcolumns\u001b[0m\u001b[1;33m.\u001b[0m\u001b[0mget_loc\u001b[0m\u001b[1;33m(\u001b[0m\u001b[0mkey\u001b[0m\u001b[1;33m)\u001b[0m\u001b[1;33m\u001b[0m\u001b[1;33m\u001b[0m\u001b[0m\n\u001b[0m\u001b[0;32m   2928\u001b[0m             \u001b[1;32mif\u001b[0m \u001b[0mis_integer\u001b[0m\u001b[1;33m(\u001b[0m\u001b[0mindexer\u001b[0m\u001b[1;33m)\u001b[0m\u001b[1;33m:\u001b[0m\u001b[1;33m\u001b[0m\u001b[1;33m\u001b[0m\u001b[0m\n\u001b[0;32m   2929\u001b[0m                 \u001b[0mindexer\u001b[0m \u001b[1;33m=\u001b[0m \u001b[1;33m[\u001b[0m\u001b[0mindexer\u001b[0m\u001b[1;33m]\u001b[0m\u001b[1;33m\u001b[0m\u001b[1;33m\u001b[0m\u001b[0m\n",
      "\u001b[1;32mC:\\ProgramData\\Anaconda3\\lib\\site-packages\\pandas\\core\\indexes\\base.py\u001b[0m in \u001b[0;36mget_loc\u001b[1;34m(self, key, method, tolerance)\u001b[0m\n\u001b[0;32m   2657\u001b[0m                 \u001b[1;32mreturn\u001b[0m \u001b[0mself\u001b[0m\u001b[1;33m.\u001b[0m\u001b[0m_engine\u001b[0m\u001b[1;33m.\u001b[0m\u001b[0mget_loc\u001b[0m\u001b[1;33m(\u001b[0m\u001b[0mkey\u001b[0m\u001b[1;33m)\u001b[0m\u001b[1;33m\u001b[0m\u001b[1;33m\u001b[0m\u001b[0m\n\u001b[0;32m   2658\u001b[0m             \u001b[1;32mexcept\u001b[0m \u001b[0mKeyError\u001b[0m\u001b[1;33m:\u001b[0m\u001b[1;33m\u001b[0m\u001b[1;33m\u001b[0m\u001b[0m\n\u001b[1;32m-> 2659\u001b[1;33m                 \u001b[1;32mreturn\u001b[0m \u001b[0mself\u001b[0m\u001b[1;33m.\u001b[0m\u001b[0m_engine\u001b[0m\u001b[1;33m.\u001b[0m\u001b[0mget_loc\u001b[0m\u001b[1;33m(\u001b[0m\u001b[0mself\u001b[0m\u001b[1;33m.\u001b[0m\u001b[0m_maybe_cast_indexer\u001b[0m\u001b[1;33m(\u001b[0m\u001b[0mkey\u001b[0m\u001b[1;33m)\u001b[0m\u001b[1;33m)\u001b[0m\u001b[1;33m\u001b[0m\u001b[1;33m\u001b[0m\u001b[0m\n\u001b[0m\u001b[0;32m   2660\u001b[0m         \u001b[0mindexer\u001b[0m \u001b[1;33m=\u001b[0m \u001b[0mself\u001b[0m\u001b[1;33m.\u001b[0m\u001b[0mget_indexer\u001b[0m\u001b[1;33m(\u001b[0m\u001b[1;33m[\u001b[0m\u001b[0mkey\u001b[0m\u001b[1;33m]\u001b[0m\u001b[1;33m,\u001b[0m \u001b[0mmethod\u001b[0m\u001b[1;33m=\u001b[0m\u001b[0mmethod\u001b[0m\u001b[1;33m,\u001b[0m \u001b[0mtolerance\u001b[0m\u001b[1;33m=\u001b[0m\u001b[0mtolerance\u001b[0m\u001b[1;33m)\u001b[0m\u001b[1;33m\u001b[0m\u001b[1;33m\u001b[0m\u001b[0m\n\u001b[0;32m   2661\u001b[0m         \u001b[1;32mif\u001b[0m \u001b[0mindexer\u001b[0m\u001b[1;33m.\u001b[0m\u001b[0mndim\u001b[0m \u001b[1;33m>\u001b[0m \u001b[1;36m1\u001b[0m \u001b[1;32mor\u001b[0m \u001b[0mindexer\u001b[0m\u001b[1;33m.\u001b[0m\u001b[0msize\u001b[0m \u001b[1;33m>\u001b[0m \u001b[1;36m1\u001b[0m\u001b[1;33m:\u001b[0m\u001b[1;33m\u001b[0m\u001b[1;33m\u001b[0m\u001b[0m\n",
      "\u001b[1;32mpandas/_libs/index.pyx\u001b[0m in \u001b[0;36mpandas._libs.index.IndexEngine.get_loc\u001b[1;34m()\u001b[0m\n",
      "\u001b[1;32mpandas/_libs/index.pyx\u001b[0m in \u001b[0;36mpandas._libs.index.IndexEngine.get_loc\u001b[1;34m()\u001b[0m\n",
      "\u001b[1;32mpandas/_libs/hashtable_class_helper.pxi\u001b[0m in \u001b[0;36mpandas._libs.hashtable.PyObjectHashTable.get_item\u001b[1;34m()\u001b[0m\n",
      "\u001b[1;32mpandas/_libs/hashtable_class_helper.pxi\u001b[0m in \u001b[0;36mpandas._libs.hashtable.PyObjectHashTable.get_item\u001b[1;34m()\u001b[0m\n",
      "\u001b[1;31mKeyError\u001b[0m: 'delngde'"
     ]
    }
   ],
   "source": [
    "pd.DataFrame(temp[['delngde','priceperkg']].groupby(\"delngde\").mean().sort_values(by='delngde', ascending=False)['delngde'].apply(lambda x: format(int(x), ',')))"
   ]
  },
  {
   "cell_type": "code",
   "execution_count": 244,
   "metadata": {},
   "outputs": [
    {
     "data": {
      "image/png": "[encoded data removed]",
      "text/plain": [
       "<Figure size 1080x288 with 1 Axes>"
      ]
     },
     "metadata": {
      "needs_background": "light"
     },
     "output_type": "display_data"
    }
   ],
   "source": [
    "f, ax = plt.subplots(figsize=(15, 4))\n",
    "fig = sns.boxplot(x='delngde', y='priceperkg'\n",
    "    , data=df[\n",
    "    (df['aucsecode'] == 1)\n",
    "    & ((df['stdqlitynewcode'] == '11'))\n",
    "    & ((20120810 <= df['delngde']) & (df['delngde']<=20120817))\n",
    "#     & (df['yyyymm']==201411)\n",
    "#     & ((100 < df['priceperkg']) & (df['priceperkg'] < 20000))\n",
    "#     & (50 > df['priceperkg'])\n",
    "    & (\n",
    "        (df['stdspciesnewcode'] == 100101)\n",
    "            | (df['stdspciesnewcode'] == 100102)\n",
    "            | (df['stdspciesnewcode'] == 100103)\n",
    "            | (df['stdspciesnewcode'] == 100104)\n",
    "            | (df['stdspciesnewcode'] == 100105)\n",
    "            | (df['stdspciesnewcode'] == 100106)\n",
    "    )\n",
    "    & (\n",
    "        (df['whsalmrktcode'] == 110001)\n",
    "            | (df['whsalmrktcode'] == 210001)\n",
    "            | (df['whsalmrktcode'] == 220001)\n",
    "#         | (df['whsalmrktcode'] == 230003)\n",
    "      )\n",
    "])"
   ]
  },
  {
   "cell_type": "raw",
   "metadata": {},
   "source": [
    "df[\n",
    "    (df['aucsecode'] == 1)\n",
    "#     & (df['yyyymm']>=200801)\n",
    "#     & (df['yyyymm']==201411)\n",
    "#     & ((10 < df['priceperkg']) & (df['priceperkg'] < 20000))\n",
    "    & (50 > df['priceperkg'])\n",
    "    & (\n",
    "        (df['stdspciesnewcode'] == 100101)\n",
    "            | (df['stdspciesnewcode'] == 100102)\n",
    "            | (df['stdspciesnewcode'] == 100103)\n",
    "            | (df['stdspciesnewcode'] == 100104)\n",
    "            | (df['stdspciesnewcode'] == 100105)\n",
    "            | (df['stdspciesnewcode'] == 100106)\n",
    "    )\n",
    "    & (\n",
    "        (df['whsalmrktcode'] == 110001)\n",
    "            | (df['whsalmrktcode'] == 210001)\n",
    "            | (df['whsalmrktcode'] == 220001)\n",
    "#         | (df['whsalmrktcode'] == 230003)\n",
    "      )\n",
    "][['delngde','priceperkg','stdspciesnewnm','stdqlitynewnm','totalweight','totalprice','whsalmrktnm']]"
   ]
  },
  {
   "cell_type": "code",
   "execution_count": 270,
   "metadata": {},
   "outputs": [
    {
     "data": {
      "text/plain": [
       "<matplotlib.axes._subplots.AxesSubplot at 0x707ade48>"
      ]
     },
     "execution_count": 270,
     "metadata": {},
     "output_type": "execute_result"
    },
    {
     "data": {
      "image/png": "[encoded data removed]",
      "text/plain": [
       "<Figure size 432x288 with 1 Axes>"
      ]
     },
     "metadata": {
      "needs_background": "light"
     },
     "output_type": "display_data"
    }
   ],
   "source": [
    "np.log(df[\n",
    "    (df['aucsecode'] == 1)\n",
    "#     & (df['yyyymm']>=200801)\n",
    "#     & (df['yyyymm']==201411)\n",
    "    & ((80 < df['priceperkg']) & (df['priceperkg'] < 3000))\n",
    "    & (\n",
    "        (df['stdspciesnewcode'] == 100101)\n",
    "            | (df['stdspciesnewcode'] == 100102)\n",
    "            | (df['stdspciesnewcode'] == 100103)\n",
    "            | (df['stdspciesnewcode'] == 100104)\n",
    "            | (df['stdspciesnewcode'] == 100105)\n",
    "            | (df['stdspciesnewcode'] == 100106)\n",
    "    )\n",
    "    & (\n",
    "        (df['whsalmrktcode'] == 110001)\n",
    "            | (df['whsalmrktcode'] == 210001)\n",
    "            | (df['whsalmrktcode'] == 220001)\n",
    "#         | (df['whsalmrktcode'] == 230003)\n",
    "      )\n",
    "]['priceperkg']).hist(bins=25)"
   ]
  },
  {
   "cell_type": "code",
   "execution_count": null,
   "metadata": {},
   "outputs": [],
   "source": [
    "df[\n",
    "    (df['aucsecode'] == 1)\n",
    "#     & (df['yyyymm']>=200801)\n",
    "#     & (df['yyyymm']==201411)\n",
    "    & ((80 < df['priceperkg']) & (df['priceperkg'] < 3000))\n",
    "    & (\n",
    "        (df['stdspciesnewcode'] == 100101)\n",
    "            | (df['stdspciesnewcode'] == 100102)\n",
    "            | (df['stdspciesnewcode'] == 100103)\n",
    "            | (df['stdspciesnewcode'] == 100104)\n",
    "            | (df['stdspciesnewcode'] == 100105)\n",
    "            | (df['stdspciesnewcode'] == 100106)\n",
    "    )\n",
    "    & (\n",
    "        (df['whsalmrktcode'] == 110001)\n",
    "            | (df['whsalmrktcode'] == 210001)\n",
    "            | (df['whsalmrktcode'] == 220001)\n",
    "#         | (df['whsalmrktcode'] == 230003)\n",
    "      )\n",
    "]"
   ]
  },
  {
   "cell_type": "markdown",
   "metadata": {},
   "source": [
    "### 데이터적 오류 검출\n",
    "- 공공데이터를 활용해서 데이터 추출\n",
    "- 모든 시장데이터를 활용했을 때 외상치가 너무 높게 나옴\n",
    "- 일부 시장 데이터만 활용\n",
    "- 외상치가 많이 줄어듦\n",
    "- 공공데이터 활용시 모든 데이터가 클린하지 않으므로 data가공이 중요함을 발견\n",
    "\n",
    "#### 앞에 데이터를 자르는 이유\n",
    "- boxplot에서 외상치가 너무 많이 나옴\n",
    "- 교육이 잘못되서 human error가 발생되었다고 판단\n",
    "- 1년치 데이터 제거"
   ]
  },
  {
   "cell_type": "code",
   "execution_count": 284,
   "metadata": {},
   "outputs": [
    {
     "data": {
      "image/png": "[encoded data removed]",
      "text/plain": [
       "<Figure size 1080x288 with 1 Axes>"
      ]
     },
     "metadata": {
      "needs_background": "light"
     },
     "output_type": "display_data"
    }
   ],
   "source": [
    "# \n",
    "f, ax = plt.subplots(figsize=(15, 4))\n",
    "fig = sns.boxplot(x='yyyymm', y='priceperkg'\n",
    "    , data=df[\n",
    "    (df['aucsecode'] == 1)\n",
    "    & (\n",
    "        (df['stdspciesnewcode'] == 100101)\n",
    "            | (df['stdspciesnewcode'] == 100102)\n",
    "            | (df['stdspciesnewcode'] == 100103)\n",
    "            | (df['stdspciesnewcode'] == 100104)\n",
    "            | (df['stdspciesnewcode'] == 100105)\n",
    "            | (df['stdspciesnewcode'] == 100106)\n",
    "    )\n",
    "    & (\n",
    "        (df['whsalmrktcode'] == 110001)\n",
    "            | (df['whsalmrktcode'] == 210001)\n",
    "            | (df['whsalmrktcode'] == 220001)\n",
    "      )\n",
    "])"
   ]
  },
  {
   "cell_type": "code",
   "execution_count": 285,
   "metadata": {},
   "outputs": [
    {
     "data": {
      "image/png": "[encoded data removed]",
      "text/plain": [
       "<Figure size 1080x288 with 1 Axes>"
      ]
     },
     "metadata": {
      "needs_background": "light"
     },
     "output_type": "display_data"
    }
   ],
   "source": [
    "# \n",
    "f, ax = plt.subplots(figsize=(15, 4))\n",
    "fig = sns.boxplot(x='yyyymm', y='priceperkg'\n",
    "    , data=df[\n",
    "    (df['aucsecode'] == 1)\n",
    "    & (df['yyyymm'] >= 200901)\n",
    "    & (\n",
    "        (df['stdspciesnewcode'] == 100101)\n",
    "            | (df['stdspciesnewcode'] == 100102)\n",
    "            | (df['stdspciesnewcode'] == 100103)\n",
    "            | (df['stdspciesnewcode'] == 100104)\n",
    "            | (df['stdspciesnewcode'] == 100105)\n",
    "            | (df['stdspciesnewcode'] == 100106)\n",
    "    )\n",
    "    & (\n",
    "        (df['whsalmrktcode'] == 110001)\n",
    "            | (df['whsalmrktcode'] == 210001)\n",
    "            | (df['whsalmrktcode'] == 220001)\n",
    "      )\n",
    "])"
   ]
  },
  {
   "cell_type": "code",
   "execution_count": 156,
   "metadata": {},
   "outputs": [
    {
     "data": {
      "image/png": "[encoded data removed]",
      "text/plain": [
       "<Figure size 1080x288 with 1 Axes>"
      ]
     },
     "metadata": {
      "needs_background": "light"
     },
     "output_type": "display_data"
    }
   ],
   "source": [
    "f, ax = plt.subplots(figsize=(15, 4))\n",
    "fig = sns.boxplot(x='yyyymm', y='priceperkg'\n",
    "                  , data=df[(df['stdqlitynewnm'] == '특')\n",
    "                            & ((2018 > df['yyyy']) & (df['yyyy'] > 2014))\n",
    "                            & (df['aucsecode'] == 1)\n",
    "                            & ((df['stdspciesnewcode'] == 100101)\n",
    "                                | (df['stdspciesnewcode'] == 100102)\n",
    "                                | (df['stdspciesnewcode'] == 100103)\n",
    "                                | (df['stdspciesnewcode'] == 100104)\n",
    "                                | (df['stdspciesnewcode'] == 100105)\n",
    "                                | (df['stdspciesnewcode'] == 100106))\n",
    "                            & (df['priceperkg'] <= 50000)\n",
    "                           ])"
   ]
  },
  {
   "cell_type": "code",
   "execution_count": null,
   "metadata": {},
   "outputs": [],
   "source": []
  },
  {
   "cell_type": "code",
   "execution_count": null,
   "metadata": {},
   "outputs": [],
   "source": []
  },
  {
   "cell_type": "code",
   "execution_count": null,
   "metadata": {},
   "outputs": [],
   "source": []
  },
  {
   "cell_type": "code",
   "execution_count": null,
   "metadata": {},
   "outputs": [],
   "source": []
  },
  {
   "cell_type": "code",
   "execution_count": null,
   "metadata": {},
   "outputs": [],
   "source": []
  },
  {
   "cell_type": "code",
   "execution_count": null,
   "metadata": {},
   "outputs": [],
   "source": []
  },
  {
   "cell_type": "code",
   "execution_count": null,
   "metadata": {},
   "outputs": [],
   "source": []
  },
  {
   "cell_type": "code",
   "execution_count": null,
   "metadata": {},
   "outputs": [],
   "source": []
  },
  {
   "cell_type": "code",
   "execution_count": null,
   "metadata": {},
   "outputs": [],
   "source": []
  },
  {
   "cell_type": "code",
   "execution_count": null,
   "metadata": {},
   "outputs": [],
   "source": []
  },
  {
   "cell_type": "code",
   "execution_count": null,
   "metadata": {},
   "outputs": [],
   "source": []
  },
  {
   "cell_type": "code",
   "execution_count": null,
   "metadata": {},
   "outputs": [],
   "source": []
  },
  {
   "cell_type": "code",
   "execution_count": null,
   "metadata": {},
   "outputs": [],
   "source": []
  },
  {
   "cell_type": "code",
   "execution_count": null,
   "metadata": {},
   "outputs": [],
   "source": []
  },
  {
   "cell_type": "code",
   "execution_count": null,
   "metadata": {},
   "outputs": [],
   "source": []
  },
  {
   "cell_type": "code",
   "execution_count": null,
   "metadata": {},
   "outputs": [],
   "source": []
  },
  {
   "cell_type": "code",
   "execution_count": null,
   "metadata": {},
   "outputs": [],
   "source": []
  },
  {
   "cell_type": "code",
   "execution_count": null,
   "metadata": {},
   "outputs": [],
   "source": []
  },
  {
   "cell_type": "code",
   "execution_count": null,
   "metadata": {},
   "outputs": [],
   "source": []
  },
  {
   "cell_type": "code",
   "execution_count": null,
   "metadata": {},
   "outputs": [],
   "source": []
  },
  {
   "cell_type": "code",
   "execution_count": null,
   "metadata": {},
   "outputs": [],
   "source": []
  },
  {
   "cell_type": "code",
   "execution_count": null,
   "metadata": {},
   "outputs": [],
   "source": []
  },
  {
   "cell_type": "code",
   "execution_count": null,
   "metadata": {},
   "outputs": [],
   "source": []
  },
  {
   "cell_type": "code",
   "execution_count": null,
   "metadata": {},
   "outputs": [],
   "source": []
  },
  {
   "cell_type": "code",
   "execution_count": null,
   "metadata": {},
   "outputs": [],
   "source": []
  },
  {
   "cell_type": "code",
   "execution_count": null,
   "metadata": {},
   "outputs": [],
   "source": [
    "f, ax = plt.subplots(figsize=(15, 4))\n",
    "fig = sns.boxplot(x='yyyymm', y='kg', data=df[(df['stdqlitynewnm'] == '특')])"
   ]
  },
  {
   "cell_type": "code",
   "execution_count": 16,
   "metadata": {},
   "outputs": [
    {
     "data": {
      "image/png": "[encoded data removed]",
      "text/plain": [
       "<Figure size 1080x288 with 1 Axes>"
      ]
     },
     "metadata": {
      "needs_background": "light"
     },
     "output_type": "display_data"
    }
   ],
   "source": [
    "f, ax = plt.subplots(figsize=(15, 4))\n",
    "fig = sns.boxplot(x='stdqlitynewnm', y='totalweight', data=df[(df['stdqlitynewnm'] == '특') | (df['stdqlitynewnm'] == '무등급') | (df['stdqlitynewnm'] == '상') | (df['stdqlitynewnm'] == '보통')])"
   ]
  },
  {
   "cell_type": "code",
   "execution_count": 17,
   "metadata": {},
   "outputs": [
    {
     "data": {
      "text/plain": [
       "(8976, 47)"
      ]
     },
     "execution_count": 17,
     "metadata": {},
     "output_type": "execute_result"
    }
   ],
   "source": [
    "df[((df['stdqlitynewnm'] == '특') | (df['stdqlitynewnm'] == '무등급') | (df['stdqlitynewnm'] == '상') | (df['stdqlitynewnm'] == '보통')) & (df['totalweight'] <= 0)].shape"
   ]
  },
  {
   "cell_type": "code",
   "execution_count": null,
   "metadata": {},
   "outputs": [],
   "source": []
  },
  {
   "cell_type": "code",
   "execution_count": 18,
   "metadata": {},
   "outputs": [
    {
     "name": "stdout",
     "output_type": "stream",
     "text": [
      "(9295, 47)\n"
     ]
    },
    {
     "data": {
      "image/png": "[encoded data removed]",
      "text/plain": [
       "<Figure size 1080x288 with 1 Axes>"
      ]
     },
     "metadata": {
      "needs_background": "light"
     },
     "output_type": "display_data"
    }
   ],
   "source": [
    "# 10ton 밑으로 재조회\n",
    "f, ax = plt.subplots(figsize=(15, 4))\n",
    "fig = sns.boxplot(x='stdqlitynewnm', y='totalweight', data=df[((df['stdqlitynewnm'] == '특') | (df['stdqlitynewnm'] == '무등급') | (df['stdqlitynewnm'] == '상') | (df['stdqlitynewnm'] == '보통')) & (df['totalweight'] <= 10000)])\n",
    "print(df[((df['stdqlitynewnm'] == '특') | (df['stdqlitynewnm'] == '무등급') | (df['stdqlitynewnm'] == '상') | (df['stdqlitynewnm'] == '보통')) & (df['totalweight'] >= 10000)].shape)"
   ]
  },
  {
   "cell_type": "markdown",
   "metadata": {},
   "source": [
    "#### 그룹별 중위수"
   ]
  },
  {
   "cell_type": "code",
   "execution_count": 19,
   "metadata": {},
   "outputs": [
    {
     "data": {
      "text/html": [
       "<div>\n",
       "<style scoped>\n",
       "    .dataframe tbody tr th:only-of-type {\n",
       "        vertical-align: middle;\n",
       "    }\n",
       "\n",
       "    .dataframe tbody tr th {\n",
       "        vertical-align: top;\n",
       "    }\n",
       "\n",
       "    .dataframe thead th {\n",
       "        text-align: right;\n",
       "    }\n",
       "</style>\n",
       "<table border=\"1\" class=\"dataframe\">\n",
       "  <thead>\n",
       "    <tr style=\"text-align: right;\">\n",
       "      <th></th>\n",
       "      <th>priceperkg</th>\n",
       "    </tr>\n",
       "    <tr>\n",
       "      <th>stdqlitynewnm</th>\n",
       "      <th></th>\n",
       "    </tr>\n",
       "  </thead>\n",
       "  <tbody>\n",
       "    <tr>\n",
       "      <th>4등</th>\n",
       "      <td>350.000000</td>\n",
       "    </tr>\n",
       "    <tr>\n",
       "      <th>5등</th>\n",
       "      <td>500.000000</td>\n",
       "    </tr>\n",
       "    <tr>\n",
       "      <th>6등</th>\n",
       "      <td>445.833333</td>\n",
       "    </tr>\n",
       "    <tr>\n",
       "      <th>7등</th>\n",
       "      <td>316.250000</td>\n",
       "    </tr>\n",
       "    <tr>\n",
       "      <th>8등</th>\n",
       "      <td>750.000000</td>\n",
       "    </tr>\n",
       "    <tr>\n",
       "      <th>등외</th>\n",
       "      <td>330.000000</td>\n",
       "    </tr>\n",
       "    <tr>\n",
       "      <th>무농약</th>\n",
       "      <td>1250.000000</td>\n",
       "    </tr>\n",
       "    <tr>\n",
       "      <th>유기농산물</th>\n",
       "      <td>4310.000000</td>\n",
       "    </tr>\n",
       "    <tr>\n",
       "      <th>저농약</th>\n",
       "      <td>174.166667</td>\n",
       "    </tr>\n",
       "    <tr>\n",
       "      <th>전환기</th>\n",
       "      <td>450.000000</td>\n",
       "    </tr>\n",
       "    <tr>\n",
       "      <th>혼합</th>\n",
       "      <td>100.000000</td>\n",
       "    </tr>\n",
       "  </tbody>\n",
       "</table>\n",
       "</div>"
      ],
      "text/plain": [
       "                priceperkg\n",
       "stdqlitynewnm             \n",
       "4등              350.000000\n",
       "5등              500.000000\n",
       "6등              445.833333\n",
       "7등              316.250000\n",
       "8등              750.000000\n",
       "등외              330.000000\n",
       "무농약            1250.000000\n",
       "유기농산물          4310.000000\n",
       "저농약             174.166667\n",
       "전환기             450.000000\n",
       "혼합              100.000000"
      ]
     },
     "execution_count": 19,
     "metadata": {},
     "output_type": "execute_result"
    }
   ],
   "source": [
    "df[(df['stdqlitynewnm'] != '특') & (df['stdqlitynewnm'] != '무등급') & (df['stdqlitynewnm'] != '상') & (df['stdqlitynewnm'] != '보통')][['stdqlitynewnm','priceperkg']].groupby(\"stdqlitynewnm\").median()"
   ]
  },
  {
   "cell_type": "markdown",
   "metadata": {},
   "source": [
    "#### 그룹별 평균"
   ]
  },
  {
   "cell_type": "code",
   "execution_count": 20,
   "metadata": {},
   "outputs": [
    {
     "data": {
      "text/html": [
       "<div>\n",
       "<style scoped>\n",
       "    .dataframe tbody tr th:only-of-type {\n",
       "        vertical-align: middle;\n",
       "    }\n",
       "\n",
       "    .dataframe tbody tr th {\n",
       "        vertical-align: top;\n",
       "    }\n",
       "\n",
       "    .dataframe thead th {\n",
       "        text-align: right;\n",
       "    }\n",
       "</style>\n",
       "<table border=\"1\" class=\"dataframe\">\n",
       "  <thead>\n",
       "    <tr style=\"text-align: right;\">\n",
       "      <th></th>\n",
       "      <th>priceperkg</th>\n",
       "    </tr>\n",
       "    <tr>\n",
       "      <th>stdqlitynewnm</th>\n",
       "      <th></th>\n",
       "    </tr>\n",
       "  </thead>\n",
       "  <tbody>\n",
       "    <tr>\n",
       "      <th>4등</th>\n",
       "      <td>423.395744</td>\n",
       "    </tr>\n",
       "    <tr>\n",
       "      <th>5등</th>\n",
       "      <td>584.405751</td>\n",
       "    </tr>\n",
       "    <tr>\n",
       "      <th>6등</th>\n",
       "      <td>573.339886</td>\n",
       "    </tr>\n",
       "    <tr>\n",
       "      <th>7등</th>\n",
       "      <td>550.856481</td>\n",
       "    </tr>\n",
       "    <tr>\n",
       "      <th>8등</th>\n",
       "      <td>830.462562</td>\n",
       "    </tr>\n",
       "    <tr>\n",
       "      <th>등외</th>\n",
       "      <td>522.321368</td>\n",
       "    </tr>\n",
       "    <tr>\n",
       "      <th>무농약</th>\n",
       "      <td>2386.228860</td>\n",
       "    </tr>\n",
       "    <tr>\n",
       "      <th>유기농산물</th>\n",
       "      <td>3904.106557</td>\n",
       "    </tr>\n",
       "    <tr>\n",
       "      <th>저농약</th>\n",
       "      <td>211.573466</td>\n",
       "    </tr>\n",
       "    <tr>\n",
       "      <th>전환기</th>\n",
       "      <td>2541.397516</td>\n",
       "    </tr>\n",
       "    <tr>\n",
       "      <th>혼합</th>\n",
       "      <td>100.000000</td>\n",
       "    </tr>\n",
       "  </tbody>\n",
       "</table>\n",
       "</div>"
      ],
      "text/plain": [
       "                priceperkg\n",
       "stdqlitynewnm             \n",
       "4등              423.395744\n",
       "5등              584.405751\n",
       "6등              573.339886\n",
       "7등              550.856481\n",
       "8등              830.462562\n",
       "등외              522.321368\n",
       "무농약            2386.228860\n",
       "유기농산물          3904.106557\n",
       "저농약             211.573466\n",
       "전환기            2541.397516\n",
       "혼합              100.000000"
      ]
     },
     "execution_count": 20,
     "metadata": {},
     "output_type": "execute_result"
    }
   ],
   "source": [
    "df[(df['stdqlitynewnm'] != '특') & (df['stdqlitynewnm'] != '무등급') & (df['stdqlitynewnm'] != '상') & (df['stdqlitynewnm'] != '보통')][['stdqlitynewnm','priceperkg']].groupby(\"stdqlitynewnm\").mean()"
   ]
  },
  {
   "cell_type": "code",
   "execution_count": 21,
   "metadata": {},
   "outputs": [
    {
     "data": {
      "image/png": "[encoded data removed]",
      "text/plain": [
       "<Figure size 1080x288 with 1 Axes>"
      ]
     },
     "metadata": {
      "needs_background": "light"
     },
     "output_type": "display_data"
    }
   ],
   "source": [
    "f, ax = plt.subplots(figsize=(15, 4))\n",
    "fig = sns.boxplot(x='stdqlitynewnm', y='priceperkg', data=df[(df['stdqlitynewnm'] != '특') & (df['stdqlitynewnm'] != '무등급') & (df['stdqlitynewnm'] != '상') & (df['stdqlitynewnm'] != '보통')])"
   ]
  },
  {
   "cell_type": "markdown",
   "metadata": {},
   "source": [
    "### 품종코드 stdspciesnewcode / stdspciesnewnm\n",
    "- 구품종코드 stdspciescode stdspciesnm\n",
    "- 품목코드 stdprdlstnewcode / stdprdlstnewnm\n",
    "- 구품목코드 stdprdlstnm / stdprdlstcode "
   ]
  },
  {
   "cell_type": "code",
   "execution_count": 22,
   "metadata": {},
   "outputs": [
    {
     "data": {
      "text/html": [
       "<div>\n",
       "<style scoped>\n",
       "    .dataframe tbody tr th:only-of-type {\n",
       "        vertical-align: middle;\n",
       "    }\n",
       "\n",
       "    .dataframe tbody tr th {\n",
       "        vertical-align: top;\n",
       "    }\n",
       "\n",
       "    .dataframe thead th {\n",
       "        text-align: right;\n",
       "    }\n",
       "</style>\n",
       "<table border=\"1\" class=\"dataframe\">\n",
       "  <thead>\n",
       "    <tr style=\"text-align: right;\">\n",
       "      <th></th>\n",
       "      <th>stdspciesnewcode</th>\n",
       "      <th>stdspciesnewnm</th>\n",
       "    </tr>\n",
       "  </thead>\n",
       "  <tbody>\n",
       "    <tr>\n",
       "      <th>89632</th>\n",
       "      <td>100199</td>\n",
       "      <td>기타</td>\n",
       "    </tr>\n",
       "    <tr>\n",
       "      <th>59862</th>\n",
       "      <td>100108</td>\n",
       "      <td>쌈(알배기)배추</td>\n",
       "    </tr>\n",
       "    <tr>\n",
       "      <th>335396</th>\n",
       "      <td>100103</td>\n",
       "      <td>김장(가을)배추</td>\n",
       "    </tr>\n",
       "    <tr>\n",
       "      <th>147112</th>\n",
       "      <td>100101</td>\n",
       "      <td>봄배추</td>\n",
       "    </tr>\n",
       "    <tr>\n",
       "      <th>221797</th>\n",
       "      <td>100105</td>\n",
       "      <td>고냉지배추</td>\n",
       "    </tr>\n",
       "    <tr>\n",
       "      <th>224097</th>\n",
       "      <td>100106</td>\n",
       "      <td>저장배추</td>\n",
       "    </tr>\n",
       "    <tr>\n",
       "      <th>3865</th>\n",
       "      <td>100104</td>\n",
       "      <td>월동배추</td>\n",
       "    </tr>\n",
       "    <tr>\n",
       "      <th>87998</th>\n",
       "      <td>100109</td>\n",
       "      <td>우거지</td>\n",
       "    </tr>\n",
       "    <tr>\n",
       "      <th>38848</th>\n",
       "      <td>100110</td>\n",
       "      <td>배추뿌리</td>\n",
       "    </tr>\n",
       "    <tr>\n",
       "      <th>13</th>\n",
       "      <td>100102</td>\n",
       "      <td>여름배추</td>\n",
       "    </tr>\n",
       "    <tr>\n",
       "      <th>254</th>\n",
       "      <td>100107</td>\n",
       "      <td>생채용배추</td>\n",
       "    </tr>\n",
       "    <tr>\n",
       "      <th>310564</th>\n",
       "      <td>100111</td>\n",
       "      <td>절임배추</td>\n",
       "    </tr>\n",
       "    <tr>\n",
       "      <th>260292</th>\n",
       "      <td>100198</td>\n",
       "      <td>배추(수입)</td>\n",
       "    </tr>\n",
       "    <tr>\n",
       "      <th>56990</th>\n",
       "      <td>100113</td>\n",
       "      <td>배양채</td>\n",
       "    </tr>\n",
       "    <tr>\n",
       "      <th>63878</th>\n",
       "      <td>100197</td>\n",
       "      <td>우거지(수입)</td>\n",
       "    </tr>\n",
       "  </tbody>\n",
       "</table>\n",
       "</div>"
      ],
      "text/plain": [
       "        stdspciesnewcode stdspciesnewnm\n",
       "89632             100199             기타\n",
       "59862             100108       쌈(알배기)배추\n",
       "335396            100103       김장(가을)배추\n",
       "147112            100101            봄배추\n",
       "221797            100105          고냉지배추\n",
       "224097            100106           저장배추\n",
       "3865              100104           월동배추\n",
       "87998             100109            우거지\n",
       "38848             100110           배추뿌리\n",
       "13                100102           여름배추\n",
       "254               100107          생채용배추\n",
       "310564            100111           절임배추\n",
       "260292            100198         배추(수입)\n",
       "56990             100113            배양채\n",
       "63878             100197        우거지(수입)"
      ]
     },
     "execution_count": 22,
     "metadata": {},
     "output_type": "execute_result"
    }
   ],
   "source": [
    "df[['stdspciesnewcode','stdspciesnewnm']].drop_duplicates()"
   ]
  },
  {
   "cell_type": "code",
   "execution_count": 23,
   "metadata": {
    "scrolled": true
   },
   "outputs": [
    {
     "data": {
      "text/plain": [
       "<matplotlib.axes._subplots.AxesSubplot at 0x22282978>"
      ]
     },
     "execution_count": 23,
     "metadata": {},
     "output_type": "execute_result"
    },
    {
     "data": {
      "image/png": "[encoded data removed]",
      "text/plain": [
       "<Figure size 1080x288 with 1 Axes>"
      ]
     },
     "metadata": {
      "needs_background": "light"
     },
     "output_type": "display_data"
    }
   ],
   "source": [
    "f, ax = plt.subplots(figsize=(15, 4))\n",
    "sns.countplot(df['stdspciesnewnm'],order = df['stdspciesnewnm'].value_counts().index)"
   ]
  },
  {
   "cell_type": "code",
   "execution_count": 24,
   "metadata": {},
   "outputs": [
    {
     "data": {
      "image/png": "[encoded data removed]",
      "text/plain": [
       "<Figure size 1080x288 with 1 Axes>"
      ]
     },
     "metadata": {
      "needs_background": "light"
     },
     "output_type": "display_data"
    }
   ],
   "source": [
    "f, ax = plt.subplots(figsize=(15, 4))\n",
    "fig = sns.boxplot(x='stdspciesnewnm', y='priceperkg', data=df)"
   ]
  },
  {
   "cell_type": "code",
   "execution_count": 25,
   "metadata": {},
   "outputs": [
    {
     "data": {
      "image/png": "[encoded data removed]",
      "text/plain": [
       "<Figure size 1080x288 with 1 Axes>"
      ]
     },
     "metadata": {
      "needs_background": "light"
     },
     "output_type": "display_data"
    }
   ],
   "source": [
    "f, ax = plt.subplots(figsize=(15, 4))\n",
    "fig = sns.boxplot(x='stdspciesnewnm', y='totalweight', data=df)"
   ]
  },
  {
   "cell_type": "code",
   "execution_count": 26,
   "metadata": {},
   "outputs": [
    {
     "data": {
      "image/png": "[encoded data removed]",
      "text/plain": [
       "<Figure size 1080x288 with 1 Axes>"
      ]
     },
     "metadata": {
      "needs_background": "light"
     },
     "output_type": "display_data"
    }
   ],
   "source": [
    "f, ax = plt.subplots(figsize=(15, 4))\n",
    "fig = sns.boxplot(x='stdspciesnewnm', y='totalweight', data=df[(df['totalweight'] <= 10000)])"
   ]
  },
  {
   "cell_type": "markdown",
   "metadata": {},
   "source": [
    "#### 년도별 분포 시각화\n",
    "- 참고자료 : 1_1. 배추무게분포.ipynb"
   ]
  },
  {
   "cell_type": "markdown",
   "metadata": {},
   "source": [
    "### 산지코드 stdmtcnewcode / stdmtcnewnm\n",
    "- 구산지코드 cprmtccode / cprmtcnm"
   ]
  },
  {
   "cell_type": "code",
   "execution_count": null,
   "metadata": {},
   "outputs": [],
   "source": []
  },
  {
   "cell_type": "code",
   "execution_count": 27,
   "metadata": {},
   "outputs": [
    {
     "data": {
      "text/plain": [
       "(0, 47)"
      ]
     },
     "execution_count": 27,
     "metadata": {},
     "output_type": "execute_result"
    }
   ],
   "source": [
    "# 결측값이 너무 많으므로 처리방안 고려 필요\n",
    "df[df['stdmtcnewnm'] == ''].shape"
   ]
  },
  {
   "cell_type": "code",
   "execution_count": 28,
   "metadata": {},
   "outputs": [
    {
     "data": {
      "text/html": [
       "<div>\n",
       "<style scoped>\n",
       "    .dataframe tbody tr th:only-of-type {\n",
       "        vertical-align: middle;\n",
       "    }\n",
       "\n",
       "    .dataframe tbody tr th {\n",
       "        vertical-align: top;\n",
       "    }\n",
       "\n",
       "    .dataframe thead th {\n",
       "        text-align: right;\n",
       "    }\n",
       "</style>\n",
       "<table border=\"1\" class=\"dataframe\">\n",
       "  <thead>\n",
       "    <tr style=\"text-align: right;\">\n",
       "      <th></th>\n",
       "      <th>stdmtcnewnm</th>\n",
       "    </tr>\n",
       "  </thead>\n",
       "  <tbody>\n",
       "    <tr>\n",
       "      <th>89632</th>\n",
       "      <td>경기도 구리시</td>\n",
       "    </tr>\n",
       "    <tr>\n",
       "      <th>59862</th>\n",
       "      <td>인천광역시 계양구</td>\n",
       "    </tr>\n",
       "    <tr>\n",
       "      <th>74075</th>\n",
       "      <td>서울특별시 강남구</td>\n",
       "    </tr>\n",
       "    <tr>\n",
       "      <th>89697</th>\n",
       "      <td>경기도 남양주시</td>\n",
       "    </tr>\n",
       "    <tr>\n",
       "      <th>176305</th>\n",
       "      <td>강원도 평창군</td>\n",
       "    </tr>\n",
       "    <tr>\n",
       "      <th>176307</th>\n",
       "      <td>강원도 원주시</td>\n",
       "    </tr>\n",
       "    <tr>\n",
       "      <th>176309</th>\n",
       "      <td>서울특별시 강동구</td>\n",
       "    </tr>\n",
       "    <tr>\n",
       "      <th>179851</th>\n",
       "      <td>강원도 횡성군</td>\n",
       "    </tr>\n",
       "    <tr>\n",
       "      <th>179853</th>\n",
       "      <td>경기도 여주시</td>\n",
       "    </tr>\n",
       "    <tr>\n",
       "      <th>179857</th>\n",
       "      <td>경기도 부천시</td>\n",
       "    </tr>\n",
       "    <tr>\n",
       "      <th>183812</th>\n",
       "      <td>부산광역시 수영구</td>\n",
       "    </tr>\n",
       "    <tr>\n",
       "      <th>183814</th>\n",
       "      <td>서울특별시 노원구</td>\n",
       "    </tr>\n",
       "    <tr>\n",
       "      <th>190643</th>\n",
       "      <td>경기도 광주시</td>\n",
       "    </tr>\n",
       "    <tr>\n",
       "      <th>190646</th>\n",
       "      <td>부산광역시 북구</td>\n",
       "    </tr>\n",
       "    <tr>\n",
       "      <th>191926</th>\n",
       "      <td>경기도 고양시</td>\n",
       "    </tr>\n",
       "    <tr>\n",
       "      <th>209205</th>\n",
       "      <td>충청남도 예산군</td>\n",
       "    </tr>\n",
       "    <tr>\n",
       "      <th>292550</th>\n",
       "      <td>강원도 태백시</td>\n",
       "    </tr>\n",
       "    <tr>\n",
       "      <th>292555</th>\n",
       "      <td>충청북도 제천시</td>\n",
       "    </tr>\n",
       "    <tr>\n",
       "      <th>292560</th>\n",
       "      <td>전라남도 순천시</td>\n",
       "    </tr>\n",
       "    <tr>\n",
       "      <th>292562</th>\n",
       "      <td>경상북도 예천군</td>\n",
       "    </tr>\n",
       "    <tr>\n",
       "      <th>335402</th>\n",
       "      <td>전라남도 여수시</td>\n",
       "    </tr>\n",
       "    <tr>\n",
       "      <th>344716</th>\n",
       "      <td>전라남도 장흥군</td>\n",
       "    </tr>\n",
       "    <tr>\n",
       "      <th>354087</th>\n",
       "      <td>광주광역시 광산구</td>\n",
       "    </tr>\n",
       "    <tr>\n",
       "      <th>147112</th>\n",
       "      <td>부산광역시 부산진구</td>\n",
       "    </tr>\n",
       "    <tr>\n",
       "      <th>147114</th>\n",
       "      <td>경기도 이천시</td>\n",
       "    </tr>\n",
       "    <tr>\n",
       "      <th>147116</th>\n",
       "      <td>충청남도 홍성군</td>\n",
       "    </tr>\n",
       "    <tr>\n",
       "      <th>147118</th>\n",
       "      <td>서울특별시 송파구</td>\n",
       "    </tr>\n",
       "    <tr>\n",
       "      <th>157704</th>\n",
       "      <td>대구광역시 달성군</td>\n",
       "    </tr>\n",
       "    <tr>\n",
       "      <th>166368</th>\n",
       "      <td>경상북도 안동시</td>\n",
       "    </tr>\n",
       "    <tr>\n",
       "      <th>166370</th>\n",
       "      <td>전라북도 정읍시</td>\n",
       "    </tr>\n",
       "    <tr>\n",
       "      <th>...</th>\n",
       "      <td>...</td>\n",
       "    </tr>\n",
       "    <tr>\n",
       "      <th>150472</th>\n",
       "      <td>인천광역시 옹진군</td>\n",
       "    </tr>\n",
       "    <tr>\n",
       "      <th>155154</th>\n",
       "      <td>전라북도 군산시</td>\n",
       "    </tr>\n",
       "    <tr>\n",
       "      <th>155745</th>\n",
       "      <td>전라남도 담양군</td>\n",
       "    </tr>\n",
       "    <tr>\n",
       "      <th>165373</th>\n",
       "      <td>울산광역시</td>\n",
       "    </tr>\n",
       "    <tr>\n",
       "      <th>181639</th>\n",
       "      <td>기타국</td>\n",
       "    </tr>\n",
       "    <tr>\n",
       "      <th>189870</th>\n",
       "      <td>전라북도 진안군</td>\n",
       "    </tr>\n",
       "    <tr>\n",
       "      <th>190869</th>\n",
       "      <td>경기도 군포시</td>\n",
       "    </tr>\n",
       "    <tr>\n",
       "      <th>193771</th>\n",
       "      <td>울산광역시 중구</td>\n",
       "    </tr>\n",
       "    <tr>\n",
       "      <th>215745</th>\n",
       "      <td>강원도 속초시</td>\n",
       "    </tr>\n",
       "    <tr>\n",
       "      <th>228917</th>\n",
       "      <td>서울특별시 종로구</td>\n",
       "    </tr>\n",
       "    <tr>\n",
       "      <th>241901</th>\n",
       "      <td>경기도 가평군</td>\n",
       "    </tr>\n",
       "    <tr>\n",
       "      <th>279608</th>\n",
       "      <td>전라남도 구례군</td>\n",
       "    </tr>\n",
       "    <tr>\n",
       "      <th>300685</th>\n",
       "      <td>강원도 양양군</td>\n",
       "    </tr>\n",
       "    <tr>\n",
       "      <th>327526</th>\n",
       "      <td>경상북도 울릉군</td>\n",
       "    </tr>\n",
       "    <tr>\n",
       "      <th>327917</th>\n",
       "      <td>서울특별시 동작구</td>\n",
       "    </tr>\n",
       "    <tr>\n",
       "      <th>18653</th>\n",
       "      <td>전라남도 화순군</td>\n",
       "    </tr>\n",
       "    <tr>\n",
       "      <th>105572</th>\n",
       "      <td>전라북도</td>\n",
       "    </tr>\n",
       "    <tr>\n",
       "      <th>122769</th>\n",
       "      <td>인천광역시 중구</td>\n",
       "    </tr>\n",
       "    <tr>\n",
       "      <th>166181</th>\n",
       "      <td>부산광역시 금정구</td>\n",
       "    </tr>\n",
       "    <tr>\n",
       "      <th>243339</th>\n",
       "      <td>충청북도 증평군</td>\n",
       "    </tr>\n",
       "    <tr>\n",
       "      <th>323155</th>\n",
       "      <td>미국</td>\n",
       "    </tr>\n",
       "    <tr>\n",
       "      <th>338698</th>\n",
       "      <td>충청남도 계룡시</td>\n",
       "    </tr>\n",
       "    <tr>\n",
       "      <th>348934</th>\n",
       "      <td>인천광역시 서구</td>\n",
       "    </tr>\n",
       "    <tr>\n",
       "      <th>211952</th>\n",
       "      <td>경기도 과천시</td>\n",
       "    </tr>\n",
       "    <tr>\n",
       "      <th>260292</th>\n",
       "      <td>중국</td>\n",
       "    </tr>\n",
       "    <tr>\n",
       "      <th>161617</th>\n",
       "      <td>경기도 용인시</td>\n",
       "    </tr>\n",
       "    <tr>\n",
       "      <th>314964</th>\n",
       "      <td>서울특별시 성북구</td>\n",
       "    </tr>\n",
       "    <tr>\n",
       "      <th>344230</th>\n",
       "      <td>태국</td>\n",
       "    </tr>\n",
       "    <tr>\n",
       "      <th>250932</th>\n",
       "      <td>부산광역시 서구</td>\n",
       "    </tr>\n",
       "    <tr>\n",
       "      <th>280560</th>\n",
       "      <td>울산광역시 동구</td>\n",
       "    </tr>\n",
       "  </tbody>\n",
       "</table>\n",
       "<p>250 rows × 1 columns</p>\n",
       "</div>"
      ],
      "text/plain": [
       "       stdmtcnewnm\n",
       "89632      경기도 구리시\n",
       "59862    인천광역시 계양구\n",
       "74075    서울특별시 강남구\n",
       "89697     경기도 남양주시\n",
       "176305     강원도 평창군\n",
       "176307     강원도 원주시\n",
       "176309   서울특별시 강동구\n",
       "179851     강원도 횡성군\n",
       "179853     경기도 여주시\n",
       "179857     경기도 부천시\n",
       "183812   부산광역시 수영구\n",
       "183814   서울특별시 노원구\n",
       "190643     경기도 광주시\n",
       "190646    부산광역시 북구\n",
       "191926     경기도 고양시\n",
       "209205    충청남도 예산군\n",
       "292550     강원도 태백시\n",
       "292555    충청북도 제천시\n",
       "292560    전라남도 순천시\n",
       "292562    경상북도 예천군\n",
       "335402    전라남도 여수시\n",
       "344716    전라남도 장흥군\n",
       "354087   광주광역시 광산구\n",
       "147112  부산광역시 부산진구\n",
       "147114     경기도 이천시\n",
       "147116    충청남도 홍성군\n",
       "147118   서울특별시 송파구\n",
       "157704   대구광역시 달성군\n",
       "166368    경상북도 안동시\n",
       "166370    전라북도 정읍시\n",
       "...            ...\n",
       "150472   인천광역시 옹진군\n",
       "155154    전라북도 군산시\n",
       "155745    전라남도 담양군\n",
       "165373       울산광역시\n",
       "181639         기타국\n",
       "189870    전라북도 진안군\n",
       "190869     경기도 군포시\n",
       "193771    울산광역시 중구\n",
       "215745     강원도 속초시\n",
       "228917   서울특별시 종로구\n",
       "241901     경기도 가평군\n",
       "279608    전라남도 구례군\n",
       "300685     강원도 양양군\n",
       "327526    경상북도 울릉군\n",
       "327917   서울특별시 동작구\n",
       "18653     전라남도 화순군\n",
       "105572        전라북도\n",
       "122769    인천광역시 중구\n",
       "166181   부산광역시 금정구\n",
       "243339    충청북도 증평군\n",
       "323155          미국\n",
       "338698    충청남도 계룡시\n",
       "348934    인천광역시 서구\n",
       "211952     경기도 과천시\n",
       "260292          중국\n",
       "161617     경기도 용인시\n",
       "314964   서울특별시 성북구\n",
       "344230          태국\n",
       "250932    부산광역시 서구\n",
       "280560    울산광역시 동구\n",
       "\n",
       "[250 rows x 1 columns]"
      ]
     },
     "execution_count": 28,
     "metadata": {},
     "output_type": "execute_result"
    }
   ],
   "source": [
    "# df[['stdmtcnewcode','stdmtcnewnm']].drop_duplicates()\n",
    "df[['stdmtcnewnm']].drop_duplicates()"
   ]
  },
  {
   "cell_type": "code",
   "execution_count": 95,
   "metadata": {},
   "outputs": [],
   "source": [
    "temp = df[['stdmtcnewnm','totalweight']].groupby(\"stdmtcnewnm\").sum().sort_values(by='totalweight', ascending=False)"
   ]
  },
  {
   "cell_type": "code",
   "execution_count": 99,
   "metadata": {},
   "outputs": [
    {
     "data": {
      "text/html": [
       "<div>\n",
       "<style scoped>\n",
       "    .dataframe tbody tr th:only-of-type {\n",
       "        vertical-align: middle;\n",
       "    }\n",
       "\n",
       "    .dataframe tbody tr th {\n",
       "        vertical-align: top;\n",
       "    }\n",
       "\n",
       "    .dataframe thead th {\n",
       "        text-align: right;\n",
       "    }\n",
       "</style>\n",
       "<table border=\"1\" class=\"dataframe\">\n",
       "  <thead>\n",
       "    <tr style=\"text-align: right;\">\n",
       "      <th></th>\n",
       "      <th>totalweight</th>\n",
       "    </tr>\n",
       "    <tr>\n",
       "      <th>stdmtcnewnm</th>\n",
       "      <th></th>\n",
       "    </tr>\n",
       "  </thead>\n",
       "  <tbody>\n",
       "    <tr>\n",
       "      <th>전라남도 해남군</th>\n",
       "      <td>8.398602e+08</td>\n",
       "    </tr>\n",
       "    <tr>\n",
       "      <th>강원도 평창군</th>\n",
       "      <td>3.507563e+08</td>\n",
       "    </tr>\n",
       "    <tr>\n",
       "      <th>강원도 태백시</th>\n",
       "      <td>2.524317e+08</td>\n",
       "    </tr>\n",
       "    <tr>\n",
       "      <th>강원도 강릉시</th>\n",
       "      <td>2.085546e+08</td>\n",
       "    </tr>\n",
       "    <tr>\n",
       "      <th>강원도 정선군</th>\n",
       "      <td>1.411232e+08</td>\n",
       "    </tr>\n",
       "  </tbody>\n",
       "</table>\n",
       "</div>"
      ],
      "text/plain": [
       "              totalweight\n",
       "stdmtcnewnm              \n",
       "전라남도 해남군     8.398602e+08\n",
       "강원도 평창군      3.507563e+08\n",
       "강원도 태백시      2.524317e+08\n",
       "강원도 강릉시      2.085546e+08\n",
       "강원도 정선군      1.411232e+08"
      ]
     },
     "execution_count": 99,
     "metadata": {},
     "output_type": "execute_result"
    }
   ],
   "source": [
    "temp[0:5]"
   ]
  },
  {
   "cell_type": "code",
   "execution_count": 97,
   "metadata": {},
   "outputs": [
    {
     "ename": "TypeError",
     "evalue": "'method' object is not subscriptable",
     "output_type": "error",
     "traceback": [
      "\u001b[1;31m---------------------------------------------------------------------------\u001b[0m",
      "\u001b[1;31mTypeError\u001b[0m                                 Traceback (most recent call last)",
      "\u001b[1;32m<ipython-input-97-543ab4be9ff9>\u001b[0m in \u001b[0;36m<module>\u001b[1;34m\u001b[0m\n\u001b[1;32m----> 1\u001b[1;33m \u001b[0mtemp\u001b[0m\u001b[1;33m.\u001b[0m\u001b[0msort_values\u001b[0m\u001b[1;33m[\u001b[0m\u001b[1;34m'totalweight'\u001b[0m\u001b[1;33m]\u001b[0m\u001b[1;33m\u001b[0m\u001b[1;33m\u001b[0m\u001b[0m\n\u001b[0m",
      "\u001b[1;31mTypeError\u001b[0m: 'method' object is not subscriptable"
     ]
    }
   ],
   "source": [
    "temp.sort_values['totalweight']"
   ]
  },
  {
   "cell_type": "code",
   "execution_count": 100,
   "metadata": {},
   "outputs": [
    {
     "data": {
      "text/plain": [
       "<matplotlib.axes._subplots.AxesSubplot at 0x3c92b550>"
      ]
     },
     "execution_count": 100,
     "metadata": {},
     "output_type": "execute_result"
    },
    {
     "data": {
      "image/png": "[encoded data removed]",
      "text/plain": [
       "<Figure size 1440x288 with 1 Axes>"
      ]
     },
     "metadata": {
      "needs_background": "light"
     },
     "output_type": "display_data"
    }
   ],
   "source": [
    "f, ax = plt.subplots(figsize=(20, 4))\n",
    "df[['stdmtcnewnm','totalweight']].groupby(\"stdmtcnewnm\").sum().sort_values(by='totalweight', ascending=False)[0:10].plot.bar(ax=ax)"
   ]
  },
  {
   "cell_type": "code",
   "execution_count": 101,
   "metadata": {},
   "outputs": [
    {
     "data": {
      "text/plain": [
       "<matplotlib.axes._subplots.AxesSubplot at 0x3c110160>"
      ]
     },
     "execution_count": 101,
     "metadata": {},
     "output_type": "execute_result"
    },
    {
     "data": {
      "image/png": "[encoded data removed]",
      "text/plain": [
       "<Figure size 1440x288 with 1 Axes>"
      ]
     },
     "metadata": {
      "needs_background": "light"
     },
     "output_type": "display_data"
    }
   ],
   "source": [
    "f, ax = plt.subplots(figsize=(20, 4))\n",
    "df[['stdmtcnewnm','totalprice']].groupby(\"stdmtcnewnm\").sum().sort_values(by='totalprice', ascending=False)[0:10].plot.bar(ax=ax)"
   ]
  },
  {
   "cell_type": "markdown",
   "metadata": {},
   "source": [
    "### 단위코드 stdunitnewcode / stdunitnewnm"
   ]
  },
  {
   "cell_type": "code",
   "execution_count": 31,
   "metadata": {},
   "outputs": [
    {
     "data": {
      "text/html": [
       "<div>\n",
       "<style scoped>\n",
       "    .dataframe tbody tr th:only-of-type {\n",
       "        vertical-align: middle;\n",
       "    }\n",
       "\n",
       "    .dataframe tbody tr th {\n",
       "        vertical-align: top;\n",
       "    }\n",
       "\n",
       "    .dataframe thead th {\n",
       "        text-align: right;\n",
       "    }\n",
       "</style>\n",
       "<table border=\"1\" class=\"dataframe\">\n",
       "  <thead>\n",
       "    <tr style=\"text-align: right;\">\n",
       "      <th></th>\n",
       "      <th>stdunitnewcode</th>\n",
       "      <th>stdunitnewnm</th>\n",
       "    </tr>\n",
       "  </thead>\n",
       "  <tbody>\n",
       "    <tr>\n",
       "      <th>89632</th>\n",
       "      <td>11</td>\n",
       "      <td>g</td>\n",
       "    </tr>\n",
       "    <tr>\n",
       "      <th>0</th>\n",
       "      <td>12</td>\n",
       "      <td>kg</td>\n",
       "    </tr>\n",
       "    <tr>\n",
       "      <th>562</th>\n",
       "      <td>13</td>\n",
       "      <td>ton</td>\n",
       "    </tr>\n",
       "  </tbody>\n",
       "</table>\n",
       "</div>"
      ],
      "text/plain": [
       "       stdunitnewcode stdunitnewnm\n",
       "89632              11            g\n",
       "0                  12           kg\n",
       "562                13          ton"
      ]
     },
     "execution_count": 31,
     "metadata": {},
     "output_type": "execute_result"
    }
   ],
   "source": [
    "df[['stdunitnewcode','stdunitnewnm']].drop_duplicates()"
   ]
  },
  {
   "cell_type": "code",
   "execution_count": 32,
   "metadata": {},
   "outputs": [
    {
     "data": {
      "text/plain": [
       "<matplotlib.axes._subplots.AxesSubplot at 0x21f953c8>"
      ]
     },
     "execution_count": 32,
     "metadata": {},
     "output_type": "execute_result"
    },
    {
     "data": {
      "image/png": "[encoded data removed]",
      "text/plain": [
       "<Figure size 432x288 with 1 Axes>"
      ]
     },
     "metadata": {
      "needs_background": "light"
     },
     "output_type": "display_data"
    }
   ],
   "source": [
    "sns.countplot(df['stdunitnewnm'])"
   ]
  },
  {
   "cell_type": "code",
   "execution_count": 33,
   "metadata": {},
   "outputs": [
    {
     "data": {
      "text/plain": [
       "<matplotlib.axes._subplots.AxesSubplot at 0x220a37f0>"
      ]
     },
     "execution_count": 33,
     "metadata": {},
     "output_type": "execute_result"
    },
    {
     "data": {
      "image/png": "[encoded data removed]",
      "text/plain": [
       "<Figure size 432x288 with 1 Axes>"
      ]
     },
     "metadata": {
      "needs_background": "light"
     },
     "output_type": "display_data"
    }
   ],
   "source": [
    "sns.countplot(df[(df['stdunitnewcode'] != 12)]['stdunitnewnm'])"
   ]
  },
  {
   "cell_type": "markdown",
   "metadata": {},
   "source": [
    "### 시장코드 whsalmrktnewcode / whsalmrktnewnm\n",
    "- 구시장코드 whsalmrktcode / whsalmrktnm \n",
    "- 가락시장 코드 1005601(신) 110001(구)"
   ]
  },
  {
   "cell_type": "code",
   "execution_count": 160,
   "metadata": {},
   "outputs": [
    {
     "data": {
      "text/html": [
       "<div>\n",
       "<style scoped>\n",
       "    .dataframe tbody tr th:only-of-type {\n",
       "        vertical-align: middle;\n",
       "    }\n",
       "\n",
       "    .dataframe tbody tr th {\n",
       "        vertical-align: top;\n",
       "    }\n",
       "\n",
       "    .dataframe thead th {\n",
       "        text-align: right;\n",
       "    }\n",
       "</style>\n",
       "<table border=\"1\" class=\"dataframe\">\n",
       "  <thead>\n",
       "    <tr style=\"text-align: right;\">\n",
       "      <th></th>\n",
       "      <th>whsalmrktcode</th>\n",
       "      <th>whsalmrktnewcode</th>\n",
       "      <th>whsalmrktnewnm</th>\n",
       "    </tr>\n",
       "  </thead>\n",
       "  <tbody>\n",
       "    <tr>\n",
       "      <th>0</th>\n",
       "      <td>360101</td>\n",
       "      <td>2058701</td>\n",
       "      <td>목포농산물도매시장</td>\n",
       "    </tr>\n",
       "    <tr>\n",
       "      <th>17191</th>\n",
       "      <td>380303</td>\n",
       "      <td>1051101</td>\n",
       "      <td>창원내서농산물도매시장</td>\n",
       "    </tr>\n",
       "    <tr>\n",
       "      <th>16912</th>\n",
       "      <td>310901</td>\n",
       "      <td>1015201</td>\n",
       "      <td>안산농수산물도매시장</td>\n",
       "    </tr>\n",
       "    <tr>\n",
       "      <th>16543</th>\n",
       "      <td>210009</td>\n",
       "      <td>1048001</td>\n",
       "      <td>부산반여농산물도매시장</td>\n",
       "    </tr>\n",
       "    <tr>\n",
       "      <th>17061</th>\n",
       "      <td>350101</td>\n",
       "      <td>1055001</td>\n",
       "      <td>전주농수산물도매시장</td>\n",
       "    </tr>\n",
       "    <tr>\n",
       "      <th>17059</th>\n",
       "      <td>340101</td>\n",
       "      <td>1031201</td>\n",
       "      <td>천안농산물도매시장</td>\n",
       "    </tr>\n",
       "    <tr>\n",
       "      <th>16994</th>\n",
       "      <td>330101</td>\n",
       "      <td>1028701</td>\n",
       "      <td>청주농수산물도매시장</td>\n",
       "    </tr>\n",
       "    <tr>\n",
       "      <th>17012</th>\n",
       "      <td>330201</td>\n",
       "      <td>1027301</td>\n",
       "      <td>충주농수산물도매시장</td>\n",
       "    </tr>\n",
       "    <tr>\n",
       "      <th>17079</th>\n",
       "      <td>350402</td>\n",
       "      <td>1056101</td>\n",
       "      <td>정읍농산물도매시장</td>\n",
       "    </tr>\n",
       "    <tr>\n",
       "      <th>17077</th>\n",
       "      <td>350301</td>\n",
       "      <td>1054501</td>\n",
       "      <td>익산농수산물도매시장</td>\n",
       "    </tr>\n",
       "    <tr>\n",
       "      <th>16963</th>\n",
       "      <td>320201</td>\n",
       "      <td>1026301</td>\n",
       "      <td>원주농산물도매시장</td>\n",
       "    </tr>\n",
       "    <tr>\n",
       "      <th>16976</th>\n",
       "      <td>320301</td>\n",
       "      <td>1025401</td>\n",
       "      <td>강릉농산물도매시장</td>\n",
       "    </tr>\n",
       "    <tr>\n",
       "      <th>16941</th>\n",
       "      <td>311201</td>\n",
       "      <td>1011901</td>\n",
       "      <td>구리농수산물도매시장</td>\n",
       "    </tr>\n",
       "    <tr>\n",
       "      <th>16500</th>\n",
       "      <td>210001</td>\n",
       "      <td>1046901</td>\n",
       "      <td>부산엄궁농산물도매시장</td>\n",
       "    </tr>\n",
       "    <tr>\n",
       "      <th>16899</th>\n",
       "      <td>310101</td>\n",
       "      <td>1016301</td>\n",
       "      <td>수원농수산물도매시장</td>\n",
       "    </tr>\n",
       "    <tr>\n",
       "      <th>16551</th>\n",
       "      <td>220001</td>\n",
       "      <td>1041401</td>\n",
       "      <td>대구북부도매시장</td>\n",
       "    </tr>\n",
       "    <tr>\n",
       "      <th>16784</th>\n",
       "      <td>240004</td>\n",
       "      <td>1061901</td>\n",
       "      <td>광주서부농수산물도매시장</td>\n",
       "    </tr>\n",
       "    <tr>\n",
       "      <th>16869</th>\n",
       "      <td>250003</td>\n",
       "      <td>1034101</td>\n",
       "      <td>대전노은농수산물도매시장</td>\n",
       "    </tr>\n",
       "    <tr>\n",
       "      <th>16841</th>\n",
       "      <td>250001</td>\n",
       "      <td>1034301</td>\n",
       "      <td>대전오정농수산물도매시장</td>\n",
       "    </tr>\n",
       "    <tr>\n",
       "      <th>16675</th>\n",
       "      <td>240001</td>\n",
       "      <td>1061101</td>\n",
       "      <td>광주각화농산물도매시장</td>\n",
       "    </tr>\n",
       "    <tr>\n",
       "      <th>16609</th>\n",
       "      <td>230001</td>\n",
       "      <td>1021501</td>\n",
       "      <td>인천구월농축산물도매시장</td>\n",
       "    </tr>\n",
       "    <tr>\n",
       "      <th>16906</th>\n",
       "      <td>310401</td>\n",
       "      <td>1013901</td>\n",
       "      <td>안양농수산물도매시장</td>\n",
       "    </tr>\n",
       "    <tr>\n",
       "      <th>16649</th>\n",
       "      <td>230003</td>\n",
       "      <td>1021401</td>\n",
       "      <td>인천삼산농산물도매시장</td>\n",
       "    </tr>\n",
       "    <tr>\n",
       "      <th>17370</th>\n",
       "      <td>110001</td>\n",
       "      <td>1005601</td>\n",
       "      <td>가락동농수산물시장</td>\n",
       "    </tr>\n",
       "    <tr>\n",
       "      <th>17122</th>\n",
       "      <td>380101</td>\n",
       "      <td>1051102</td>\n",
       "      <td>창원팔용농산물도매시장</td>\n",
       "    </tr>\n",
       "    <tr>\n",
       "      <th>17167</th>\n",
       "      <td>380201</td>\n",
       "      <td>1044701</td>\n",
       "      <td>울산농수산물도매시장</td>\n",
       "    </tr>\n",
       "    <tr>\n",
       "      <th>17098</th>\n",
       "      <td>360301</td>\n",
       "      <td>1057901</td>\n",
       "      <td>순천농산물도매시장</td>\n",
       "    </tr>\n",
       "    <tr>\n",
       "      <th>16481</th>\n",
       "      <td>110008</td>\n",
       "      <td>1007701</td>\n",
       "      <td>강서농수산물도매시장</td>\n",
       "    </tr>\n",
       "    <tr>\n",
       "      <th>17231</th>\n",
       "      <td>380401</td>\n",
       "      <td>1052601</td>\n",
       "      <td>진주농산물도매시장</td>\n",
       "    </tr>\n",
       "    <tr>\n",
       "      <th>17107</th>\n",
       "      <td>371501</td>\n",
       "      <td>1039301</td>\n",
       "      <td>구미농산물도매시장</td>\n",
       "    </tr>\n",
       "    <tr>\n",
       "      <th>19074</th>\n",
       "      <td>320101</td>\n",
       "      <td>1024201</td>\n",
       "      <td>춘천농수산물도매시장</td>\n",
       "    </tr>\n",
       "    <tr>\n",
       "      <th>116779</th>\n",
       "      <td>370101</td>\n",
       "      <td>1037801</td>\n",
       "      <td>포항농산물도매시장</td>\n",
       "    </tr>\n",
       "    <tr>\n",
       "      <th>158675</th>\n",
       "      <td>370401</td>\n",
       "      <td>1036701</td>\n",
       "      <td>안동농산물도매시장</td>\n",
       "    </tr>\n",
       "    <tr>\n",
       "      <th>112742</th>\n",
       "      <td>360201</td>\n",
       "      <td>2059601</td>\n",
       "      <td>여수농산물도매시장</td>\n",
       "    </tr>\n",
       "  </tbody>\n",
       "</table>\n",
       "</div>"
      ],
      "text/plain": [
       "        whsalmrktcode  whsalmrktnewcode whsalmrktnewnm\n",
       "0              360101           2058701      목포농산물도매시장\n",
       "17191          380303           1051101    창원내서농산물도매시장\n",
       "16912          310901           1015201     안산농수산물도매시장\n",
       "16543          210009           1048001    부산반여농산물도매시장\n",
       "17061          350101           1055001     전주농수산물도매시장\n",
       "17059          340101           1031201      천안농산물도매시장\n",
       "16994          330101           1028701     청주농수산물도매시장\n",
       "17012          330201           1027301     충주농수산물도매시장\n",
       "17079          350402           1056101      정읍농산물도매시장\n",
       "17077          350301           1054501     익산농수산물도매시장\n",
       "16963          320201           1026301      원주농산물도매시장\n",
       "16976          320301           1025401      강릉농산물도매시장\n",
       "16941          311201           1011901     구리농수산물도매시장\n",
       "16500          210001           1046901    부산엄궁농산물도매시장\n",
       "16899          310101           1016301     수원농수산물도매시장\n",
       "16551          220001           1041401       대구북부도매시장\n",
       "16784          240004           1061901   광주서부농수산물도매시장\n",
       "16869          250003           1034101   대전노은농수산물도매시장\n",
       "16841          250001           1034301   대전오정농수산물도매시장\n",
       "16675          240001           1061101    광주각화농산물도매시장\n",
       "16609          230001           1021501   인천구월농축산물도매시장\n",
       "16906          310401           1013901     안양농수산물도매시장\n",
       "16649          230003           1021401    인천삼산농산물도매시장\n",
       "17370          110001           1005601      가락동농수산물시장\n",
       "17122          380101           1051102    창원팔용농산물도매시장\n",
       "17167          380201           1044701     울산농수산물도매시장\n",
       "17098          360301           1057901      순천농산물도매시장\n",
       "16481          110008           1007701     강서농수산물도매시장\n",
       "17231          380401           1052601      진주농산물도매시장\n",
       "17107          371501           1039301      구미농산물도매시장\n",
       "19074          320101           1024201     춘천농수산물도매시장\n",
       "116779         370101           1037801      포항농산물도매시장\n",
       "158675         370401           1036701      안동농산물도매시장\n",
       "112742         360201           2059601      여수농산물도매시장"
      ]
     },
     "execution_count": 160,
     "metadata": {},
     "output_type": "execute_result"
    }
   ],
   "source": [
    "df[['whsalmrktcode','whsalmrktnewcode','whsalmrktnewnm']].drop_duplicates()"
   ]
  },
  {
   "cell_type": "code",
   "execution_count": null,
   "metadata": {},
   "outputs": [],
   "source": [
    "whsalmrktcode\n",
    "110001\n",
    "220001\n",
    "110008\n",
    "311201\n",
    "230003"
   ]
  },
  {
   "cell_type": "code",
   "execution_count": 161,
   "metadata": {},
   "outputs": [
    {
     "data": {
      "text/plain": [
       "<matplotlib.axes._subplots.AxesSubplot at 0x17adda278>"
      ]
     },
     "execution_count": 161,
     "metadata": {},
     "output_type": "execute_result"
    },
    {
     "data": {
      "image/png": "[encoded data removed]",
      "text/plain": [
       "<Figure size 1440x288 with 1 Axes>"
      ]
     },
     "metadata": {
      "needs_background": "light"
     },
     "output_type": "display_data"
    }
   ],
   "source": [
    "f, ax = plt.subplots(figsize=(20, 4))\n",
    "df[['whsalmrktcode','totalweight']].groupby(\"whsalmrktcode\").sum().sort_values(by='totalweight', ascending=False)[0:10].plot.bar(ax=ax)"
   ]
  },
  {
   "cell_type": "code",
   "execution_count": 162,
   "metadata": {},
   "outputs": [
    {
     "data": {
      "text/plain": [
       "<matplotlib.axes._subplots.AxesSubplot at 0x701fb128>"
      ]
     },
     "execution_count": 162,
     "metadata": {},
     "output_type": "execute_result"
    },
    {
     "data": {
      "image/png": "[encoded data removed]",
      "text/plain": [
       "<Figure size 1440x288 with 1 Axes>"
      ]
     },
     "metadata": {
      "needs_background": "light"
     },
     "output_type": "display_data"
    }
   ],
   "source": [
    "f, ax = plt.subplots(figsize=(20, 4))\n",
    "df[['whsalmrktcode','totalweight']].groupby(\"whsalmrktcode\").sum().sort_values(by='totalweight', ascending=False)[0:10].plot.bar(ax=ax)"
   ]
  },
  {
   "cell_type": "code",
   "execution_count": 102,
   "metadata": {},
   "outputs": [
    {
     "data": {
      "text/plain": [
       "<matplotlib.axes._subplots.AxesSubplot at 0x3c43abe0>"
      ]
     },
     "execution_count": 102,
     "metadata": {},
     "output_type": "execute_result"
    },
    {
     "data": {
      "image/png": "[encoded data removed]",
      "text/plain": [
       "<Figure size 1440x288 with 1 Axes>"
      ]
     },
     "metadata": {
      "needs_background": "light"
     },
     "output_type": "display_data"
    }
   ],
   "source": [
    "f, ax = plt.subplots(figsize=(20, 4))\n",
    "df[['whsalmrktnewnm','totalweight']].groupby(\"whsalmrktnewnm\").sum().sort_values(by='totalweight', ascending=False)[0:10].plot.bar(ax=ax)"
   ]
  },
  {
   "cell_type": "code",
   "execution_count": 103,
   "metadata": {},
   "outputs": [
    {
     "data": {
      "text/plain": [
       "<matplotlib.axes._subplots.AxesSubplot at 0x43ffeb38>"
      ]
     },
     "execution_count": 103,
     "metadata": {},
     "output_type": "execute_result"
    },
    {
     "data": {
      "image/png": "[encoded data removed]",
      "text/plain": [
       "<Figure size 1440x288 with 1 Axes>"
      ]
     },
     "metadata": {
      "needs_background": "light"
     },
     "output_type": "display_data"
    }
   ],
   "source": [
    "f, ax = plt.subplots(figsize=(20, 4))\n",
    "df[['whsalmrktnewnm','totalprice']].groupby(\"whsalmrktnewnm\").sum().sort_values(by='totalprice', ascending=False)[0:10].plot.bar(ax=ax)"
   ]
  },
  {
   "cell_type": "code",
   "execution_count": null,
   "metadata": {},
   "outputs": [],
   "source": []
  }
 ],
 "metadata": {
  "kernelspec": {
   "display_name": "Python 3",
   "language": "python",
   "name": "python3"
  },
  "language_info": {
   "codemirror_mode": {
    "name": "ipython",
    "version": 3
   },
   "file_extension": ".py",
   "mimetype": "text/x-python",
   "name": "python",
   "nbconvert_exporter": "python",
   "pygments_lexer": "ipython3",
   "version": "3.7.3"
  }
 },
 "nbformat": 4,
 "nbformat_minor": 2
}
