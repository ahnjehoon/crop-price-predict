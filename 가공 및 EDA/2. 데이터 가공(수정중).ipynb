{
 "cells": [
  {
   "cell_type": "code",
   "execution_count": 1,
   "metadata": {},
   "outputs": [],
   "source": [
    "import pandas as pd\n",
    "import numpy as np\n",
    "import seaborn as sns\n",
    "import matplotlib.pyplot as plt\n",
    "%matplotlib inline\n",
    "\n",
    "plt.rc('font', family='Malgun Gothic')"
   ]
  },
  {
   "cell_type": "code",
   "execution_count": 2,
   "metadata": {},
   "outputs": [
    {
     "name": "stderr",
     "output_type": "stream",
     "text": [
      "C:\\Users\\PC\\AppData\\Local\\Continuum\\anaconda3\\lib\\site-packages\\IPython\\core\\interactiveshell.py:3049: DtypeWarning: Columns (12) have mixed types. Specify dtype option on import or set low_memory=False.\n",
      "  interactivity=interactivity, compiler=compiler, result=result)\n"
     ]
    }
   ],
   "source": [
    "df = pd.read_csv(\"1001.csv\")"
   ]
  },
  {
   "cell_type": "code",
   "execution_count": 3,
   "metadata": {},
   "outputs": [],
   "source": [
    "# 11,특\n",
    "# 12,상\n",
    "# 13,보통\n",
    "# 1Z,무등급\n",
    "df = df[(df['stdqlitynewcode'] == '11')\n",
    "    | (df['stdqlitynewcode'] == '12')\n",
    "    | (df['stdqlitynewcode'] == '13')\n",
    "    | (df['stdqlitynewcode'] == '1Z')]"
   ]
  },
  {
   "cell_type": "code",
   "execution_count": 4,
   "metadata": {},
   "outputs": [],
   "source": [
    "# 100101,봄배추\n",
    "# 100102,여름배추\n",
    "# 100103,김장(가을)배추\n",
    "# 100104,월동배추\n",
    "# 100105,고냉지배추\n",
    "# 100106,저장배추\n",
    "df = df[(df['stdspciesnewcode'] == 100101)\n",
    "        | (df['stdspciesnewcode'] == 100102)\n",
    "        | (df['stdspciesnewcode'] == 100103)\n",
    "        | (df['stdspciesnewcode'] == 100104)\n",
    "        | (df['stdspciesnewcode'] == 100105)\n",
    "        | (df['stdspciesnewcode'] == 100106)]"
   ]
  },
  {
   "cell_type": "code",
   "execution_count": 5,
   "metadata": {},
   "outputs": [],
   "source": [
    "# 경매 데이터\n",
    "df = df[(df['aucsecode'] == 1)]"
   ]
  },
  {
   "cell_type": "raw",
   "metadata": {},
   "source": [
    "# 수의계약 데이터\n",
    "df = df[(df['aucsecode'] == 2)]"
   ]
  },
  {
   "cell_type": "raw",
   "metadata": {},
   "source": [
    "#결측치 확인\n",
    "for c in df.columns:\n",
    "    print('{} : {}'.format(c, len(df.loc[pd.isnull(df[c]), c].values)))"
   ]
  },
  {
   "cell_type": "raw",
   "metadata": {},
   "source": [
    "df[['stdqlitynewcode','stdqlitynewnm']].drop_duplicates()"
   ]
  },
  {
   "cell_type": "raw",
   "metadata": {},
   "source": [
    "f, ax = plt.subplots(figsize=(15, 4))\n",
    "sns.countplot(df['stdqlitynewnm'])"
   ]
  },
  {
   "cell_type": "raw",
   "metadata": {},
   "source": [
    "df[['stdspciesnewcode','stdspciesnewnm']].drop_duplicates()"
   ]
  },
  {
   "cell_type": "raw",
   "metadata": {},
   "source": [
    "f, ax = plt.subplots(figsize=(15, 4))\n",
    "sns.countplot(df['stdspciesnewnm'])"
   ]
  },
  {
   "cell_type": "code",
   "execution_count": 6,
   "metadata": {},
   "outputs": [
    {
     "name": "stderr",
     "output_type": "stream",
     "text": [
      "C:\\Users\\PC\\AppData\\Local\\Continuum\\anaconda3\\lib\\site-packages\\ipykernel_launcher.py:14: SettingWithCopyWarning: \n",
      "A value is trying to be set on a copy of a slice from a DataFrame.\n",
      "Try using .loc[row_indexer,col_indexer] = value instead\n",
      "\n",
      "See the caveats in the documentation: http://pandas.pydata.org/pandas-docs/stable/indexing.html#indexing-view-versus-copy\n",
      "  \n",
      "C:\\Users\\PC\\AppData\\Local\\Continuum\\anaconda3\\lib\\site-packages\\ipykernel_launcher.py:16: SettingWithCopyWarning: \n",
      "A value is trying to be set on a copy of a slice from a DataFrame.\n",
      "Try using .loc[row_indexer,col_indexer] = value instead\n",
      "\n",
      "See the caveats in the documentation: http://pandas.pydata.org/pandas-docs/stable/indexing.html#indexing-view-versus-copy\n",
      "  app.launch_new_instance()\n",
      "C:\\Users\\PC\\AppData\\Local\\Continuum\\anaconda3\\lib\\site-packages\\ipykernel_launcher.py:18: SettingWithCopyWarning: \n",
      "A value is trying to be set on a copy of a slice from a DataFrame.\n",
      "Try using .loc[row_indexer,col_indexer] = value instead\n",
      "\n",
      "See the caveats in the documentation: http://pandas.pydata.org/pandas-docs/stable/indexing.html#indexing-view-versus-copy\n"
     ]
    }
   ],
   "source": [
    "# 컬럼 추가\n",
    "\n",
    "#Kg당 가격(kgperprice)\n",
    "df['kgperprice'] = ''\n",
    "#총거래가격(totalprice)\n",
    "df['totalprice'] = ''\n",
    "#총량(totalweight)\n",
    "df['totalweight'] = ''\n",
    "\n",
    "df11 = df[(df['stdunitnewcode']==11)]\n",
    "df12 = df[(df['stdunitnewcode']==12)]\n",
    "df13 = df[(df['stdunitnewcode']==13)]\n",
    "for df11 in [df11]:\n",
    "    df11['kgperprice'] = df11['sbidpric'] / df11['delngprut'] * 1000\n",
    "for df12 in [df12]:\n",
    "    df12['kgperprice'] = df12['sbidpric'] / df12['delngprut']\n",
    "for df13 in [df13]:\n",
    "    df13['kgperprice'] = df13['sbidpric'] / df13['delngprut'] / 1000\n",
    "df = pd.concat([df11, df12, df13])\n",
    "\n",
    "for df in [df]:\n",
    "    #총거래가격(totalprice) = 거래량(delngQy) * 가격(sbidpric)\n",
    "    df['totalprice'] = df['sbidpric'] * df['delngqy']\n",
    "    #총량(totalweight) = 거래단량(delngprut) * 거래량(delngQy)\n",
    "    df['totalweight'] = df['delngprut'] * df['delngqy']"
   ]
  },
  {
   "cell_type": "code",
   "execution_count": 7,
   "metadata": {},
   "outputs": [],
   "source": [
    "# 월단위 평균으로 가공\n",
    "df['yyyy'] = ''\n",
    "df['mm'] = ''\n",
    "df['dd'] = ''\n",
    "\n",
    "df['yyyy'] = df['delngde'].map(lambda x: str(x)[0:4])\n",
    "df['mm'] = df['delngde'].map(lambda x: str(x)[4:6])\n",
    "df['dd'] = df['delngde'].map(lambda x: str(x)[6:8])"
   ]
  },
  {
   "cell_type": "code",
   "execution_count": 8,
   "metadata": {},
   "outputs": [],
   "source": [
    "df2 = df.groupby(['yyyy','mm'])[['kgperprice','totalprice','totalweight']].mean()"
   ]
  },
  {
   "cell_type": "code",
   "execution_count": 9,
   "metadata": {},
   "outputs": [],
   "source": [
    "df2.to_csv('mean_of_month_1.csv')"
   ]
  },
  {
   "cell_type": "raw",
   "metadata": {},
   "source": [
    "sns.heatmap(data = df2.corr(), annot = True, cmap = 'Blues')"
   ]
  },
  {
   "cell_type": "code",
   "execution_count": null,
   "metadata": {},
   "outputs": [],
   "source": []
  }
 ],
 "metadata": {
  "kernelspec": {
   "display_name": "Python 3",
   "language": "python",
   "name": "python3"
  },
  "language_info": {
   "codemirror_mode": {
    "name": "ipython",
    "version": 3
   },
   "file_extension": ".py",
   "mimetype": "text/x-python",
   "name": "python",
   "nbconvert_exporter": "python",
   "pygments_lexer": "ipython3",
   "version": "3.7.3"
  }
 },
 "nbformat": 4,
 "nbformat_minor": 2
}
