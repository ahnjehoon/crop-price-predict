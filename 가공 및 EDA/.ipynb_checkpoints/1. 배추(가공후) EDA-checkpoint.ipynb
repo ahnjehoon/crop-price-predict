{
 "cells": [
  {
   "cell_type": "code",
   "execution_count": 1,
   "metadata": {},
   "outputs": [],
   "source": [
    "#경고 끄기\n",
    "import warnings\n",
    "warnings.filterwarnings(action='ignore')"
   ]
  },
  {
   "cell_type": "code",
   "execution_count": 2,
   "metadata": {},
   "outputs": [],
   "source": [
    "import pandas as pd\n",
    "import numpy as np\n",
    "import seaborn as sns\n",
    "import matplotlib.pyplot as plt\n",
    "%matplotlib inline\n",
    "\n",
    "plt.rc('font', family='Malgun Gothic')"
   ]
  },
  {
   "cell_type": "code",
   "execution_count": 3,
   "metadata": {},
   "outputs": [],
   "source": [
    "def getData():\n",
    "    df2008 = pd.read_csv(\"C:/농수산가격데이터/1001배추/2008010120081231.csv\")\n",
    "    df2009 = pd.read_csv(\"C:/농수산가격데이터/1001배추/2009010120091231.csv\")\n",
    "    df2010 = pd.read_csv(\"C:/농수산가격데이터/1001배추/2010010120101231.csv\")\n",
    "    df2011 = pd.read_csv(\"C:/농수산가격데이터/1001배추/2011010120111231.csv\")\n",
    "    df2012 = pd.read_csv(\"C:/농수산가격데이터/1001배추/2012010120121231.csv\")\n",
    "    df2013 = pd.read_csv(\"C:/농수산가격데이터/1001배추/2013010120131231.csv\")\n",
    "    df2014 = pd.read_csv(\"C:/농수산가격데이터/1001배추/2014010120141231.csv\")\n",
    "    df2015 = pd.read_csv(\"C:/농수산가격데이터/1001배추/2015010120151231.csv\")\n",
    "    df2016 = pd.read_csv(\"C:/농수산가격데이터/1001배추/2016010120161231.csv\")\n",
    "    df2017 = pd.read_csv(\"C:/농수산가격데이터/1001배추/2017010120171231.csv\")\n",
    "    df2018 = pd.read_csv(\"C:/농수산가격데이터/1001배추/2018010120181231.csv\")\n",
    "    return pd.concat((df2008, df2009, df2010, df2011, df2012, df2013, df2014, df2015, df2016, df2017, df2018), axis=0)"
   ]
  },
  {
   "cell_type": "code",
   "execution_count": 4,
   "metadata": {},
   "outputs": [],
   "source": [
    "def priceTransform(df):\n",
    "    #Kg당 가격(priceperkg)\n",
    "    #총거래가격(totalprice) = 거래량(delngQy) * 가격(sbidpric)\n",
    "    #총량(totalweight) = 거래단량(delngprut) * 거래량(delngQy) * 단위\n",
    "\n",
    "    df11 = df[(df['stdunitnewcode']==11)]\n",
    "    df12 = df[(df['stdunitnewcode']==12)]\n",
    "    df13 = df[(df['stdunitnewcode']==13)]\n",
    "    df11['priceperkg'] = df11['sbidpric'] / df11['delngprut'] * 1000\n",
    "    df11['totalweight'] = df11['delngprut'] * df11['delngqy'] / 1000\n",
    "    df12['priceperkg'] = df12['sbidpric'] / df12['delngprut']\n",
    "    df12['totalweight'] = df12['delngprut'] * df12['delngqy']\n",
    "    df13['priceperkg'] = df13['sbidpric'] / df13['delngprut'] / 1000\n",
    "    df13['totalweight'] = df13['delngprut'] * df13['delngqy'] * 1000\n",
    "    \n",
    "    df = pd.concat([df11, df12, df13])\n",
    "\n",
    "    df['totalprice'] = df['sbidpric'] * df['delngqy']\n",
    "        \n",
    "    return df"
   ]
  },
  {
   "cell_type": "code",
   "execution_count": 5,
   "metadata": {},
   "outputs": [],
   "source": [
    "df = getData()"
   ]
  },
  {
   "cell_type": "code",
   "execution_count": 6,
   "metadata": {},
   "outputs": [],
   "source": [
    "df = pricTransform(df)"
   ]
  },
  {
   "cell_type": "code",
   "execution_count": null,
   "metadata": {},
   "outputs": [],
   "source": [
    "df2 = df[\n",
    "    (df['aucsecode'] == 1)\n",
    "    & (\n",
    "        (df['stdspciesnewcode'] == 100101)\n",
    "            | (df['stdspciesnewcode'] == 100102)\n",
    "            | (df['stdspciesnewcode'] == 100103)\n",
    "            | (df['stdspciesnewcode'] == 100104)\n",
    "            | (df['stdspciesnewcode'] == 100105)\n",
    "            | (df['stdspciesnewcode'] == 100106)\n",
    "    )\n",
    "    & (\n",
    "        (df['whsalmrktcode'] == 110001)\n",
    "            | (df['whsalmrktcode'] == 210001)\n",
    "            | (df['whsalmrktcode'] == 220001)\n",
    "      )\n",
    "]"
   ]
  },
  {
   "cell_type": "code",
   "execution_count": null,
   "metadata": {},
   "outputs": [],
   "source": []
  },
  {
   "cell_type": "code",
   "execution_count": null,
   "metadata": {},
   "outputs": [],
   "source": []
  },
  {
   "cell_type": "code",
   "execution_count": null,
   "metadata": {},
   "outputs": [],
   "source": []
  },
  {
   "cell_type": "code",
   "execution_count": null,
   "metadata": {},
   "outputs": [],
   "source": []
  },
  {
   "cell_type": "code",
   "execution_count": null,
   "metadata": {},
   "outputs": [],
   "source": []
  },
  {
   "cell_type": "code",
   "execution_count": null,
   "metadata": {},
   "outputs": [],
   "source": []
  },
  {
   "cell_type": "code",
   "execution_count": null,
   "metadata": {},
   "outputs": [],
   "source": []
  },
  {
   "cell_type": "raw",
   "metadata": {},
   "source": [
    "# 데이터 가공\n",
    "# 2만 이상은 결측치라 판단 제거\n",
    "df = df[(df['priceperkg'] <= 20000)]\n",
    "# 가격이 100이하 제거\n",
    "df = df[(df['priceperkg'] >= 100)]\n",
    "\n",
    "# 근거자료\n",
    "# https://www.kamis.or.kr/customer/main/main.do\n",
    "\n",
    "# 무게가 0인 것 제거\n",
    "df = df[(df['totalweight'] >= 0)]\n",
    "\n",
    "# 결측값 공백으로 채우기\n",
    "df['stdmtcnewnm'] = df['stdmtcnewnm'].fillna('')\n",
    "# 데이터 도별로 구별\n",
    "df['stdmtcnewnm'] = df['stdmtcnewnm'].map(lambda x: x.split(' ')[0])\n",
    "\n",
    "df['yyyy'] = df['delngde'].map(lambda x: str(x)[0:4])\n",
    "df['mm'] = df['delngde'].map(lambda x: str(x)[4:6])\n",
    "df['dd'] = df['delngde'].map(lambda x: str(x)[6:8])"
   ]
  }
 ],
 "metadata": {
  "kernelspec": {
   "display_name": "Python 3",
   "language": "python",
   "name": "python3"
  },
  "language_info": {
   "codemirror_mode": {
    "name": "ipython",
    "version": 3
   },
   "file_extension": ".py",
   "mimetype": "text/x-python",
   "name": "python",
   "nbconvert_exporter": "python",
   "pygments_lexer": "ipython3",
   "version": "3.7.3"
  }
 },
 "nbformat": 4,
 "nbformat_minor": 2
}
