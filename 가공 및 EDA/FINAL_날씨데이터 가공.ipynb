{
 "cells": [
  {
   "cell_type": "markdown",
   "metadata": {},
   "source": [
    "# 날씨데이터 가공"
   ]
  },
  {
   "cell_type": "code",
   "execution_count": 1,
   "metadata": {},
   "outputs": [],
   "source": [
    "import pandas as pd\n",
    "import numpy as np\n",
    "import seaborn as sns\n",
    "import matplotlib.pyplot as plt\n",
    "%matplotlib inline\n",
    "\n",
    "plt.rc('font', family='Malgun Gothic')\n",
    "\n",
    "#경고 끄기\n",
    "import warnings\n",
    "warnings.filterwarnings(action='ignore')"
   ]
  },
  {
   "cell_type": "markdown",
   "metadata": {},
   "source": [
    "## 탐색적 분석\n",
    "- 일사 vs 일조\n",
    "\n",
    "일사량과 일조시간 중 일조시간을 선택하기로 한다.<br>\n",
    "일사량은 태양의 복사에너지가 지면에 닿는 양, 일조 시간은 햇빛이 비치는 시간<br>\n",
    "합계 일사는 데이터가 거의 없음<br>\n",
    "\n",
    "- 정선 없앰\n",
    "  \n",
    "  2008년 이전데이터 미확보"
   ]
  },
  {
   "cell_type": "code",
   "execution_count": 2,
   "metadata": {},
   "outputs": [],
   "source": [
    "df = pd.read_csv('19802019.csv')"
   ]
  },
  {
   "cell_type": "code",
   "execution_count": 3,
   "metadata": {},
   "outputs": [
    {
     "data": {
      "text/plain": [
       "Index(['지점', '일시', '평균기온(°C)', '최저기온(°C)', '최저기온 시각(hhmi)', '최고기온(°C)',\n",
       "       '최고기온 시각(hhmi)', '강수 계속시간(hr)', '10분 최다 강수량(mm)', '10분 최다강수량 시각(hhmi)',\n",
       "       '1시간 최다강수량(mm)', '1시간 최다 강수량 시각(hhmi)', '일강수량(mm)', '최대 순간 풍속(m/s)',\n",
       "       '최대 순간 풍속 풍향(16방위)', '최대 순간풍속 시각(hhmi)', '최대 풍속(m/s)', '최대 풍속 풍향(16방위)',\n",
       "       '최대 풍속 시각(hhmi)', '평균 풍속(m/s)', '풍정합(100m)', '최다풍향(16방위)',\n",
       "       '평균 이슬점온도(°C)', '최소 상대습도(%)', '최소 상대습도 시각(hhmi)', '평균 상대습도(%)',\n",
       "       '평균 증기압(hPa)', '평균 현지기압(hPa)', '최고 해면기압(hPa)', '최고 해면기압 시각(hhmi)',\n",
       "       '최저 해면기압(hPa)', '최저 해면기압 시각(hhmi)', '평균 해면기압(hPa)', '가조시간(hr)',\n",
       "       '합계 일조 시간(hr)', '1시간 최다일사 시각(hhmi)', '1시간 최다일사량(MJ/m2)', '합계 일사(MJ/m2)',\n",
       "       '일 최심신적설(cm)', '일 최심신적설 시각(hhmi)', '일 최심적설(cm)', '일 최심적설 시각(hhmi)',\n",
       "       '합계 3시간 신적설(cm)', '평균 전운량(1/10)', '평균 중하층운량(1/10)', '평균 지면온도(°C)',\n",
       "       '최저 초상온도(°C)', '평균 5cm 지중온도(°C)', '평균 10cm 지중온도(°C)',\n",
       "       '평균 20cm 지중온도(°C)', '평균 30cm 지중온도(°C)', '0.5m 지중온도(°C)',\n",
       "       '1.0m 지중온도(°C)', '1.5m 지중온도(°C)', '3.0m 지중온도(°C)', '5.0m 지중온도(°C)',\n",
       "       '합계 대형증발량(mm)', '합계 소형증발량(mm)', '9-9강수(mm)', '기사', '안개 계속시간(hr)'],\n",
       "      dtype='object')"
      ]
     },
     "execution_count": 3,
     "metadata": {},
     "output_type": "execute_result"
    }
   ],
   "source": [
    "df.columns"
   ]
  },
  {
   "cell_type": "code",
   "execution_count": 4,
   "metadata": {},
   "outputs": [],
   "source": [
    "# 261-해남 216-태백 105-강릉\n",
    "df = df[['지점','일시','평균기온(°C)','최고기온(°C)','최저기온(°C)','합계 일조 시간(hr)','1시간 최다강수량(mm)','일강수량(mm)','최대 풍속(m/s)']]\n",
    "df['지점_nm'] = df['지점'].apply(lambda x : '해남' if x==261 else('태백' if x==216 else ('정선' if x==217 else '강릉')))\n",
    "df['년월'] = df['일시'].apply(lambda x : x[:-3]) # yyyy-mm형식\n",
    "df['월'] = df['년월'].apply(lambda x : x[5:]) # mm형식\n",
    "df['도'] = df['지점'].apply(lambda x : '전라도' if x==261 else '강원도') # 강원도 전라도로 변환"
   ]
  },
  {
   "cell_type": "code",
   "execution_count": 5,
   "metadata": {},
   "outputs": [
    {
     "name": "stdout",
     "output_type": "stream",
     "text": [
      "지점                   0\n",
      "일시                   0\n",
      "평균기온(°C)            41\n",
      "최고기온(°C)             0\n",
      "최저기온(°C)             0\n",
      "합계 일조 시간(hr)       249\n",
      "1시간 최다강수량(mm)    30912\n",
      "일강수량(mm)         25111\n",
      "최대 풍속(m/s)          38\n",
      "지점_nm                0\n",
      "년월                   0\n",
      "월                    0\n",
      "도                    0\n",
      "dtype: int64\n",
      "====================================================================================================\n",
      "(41299, 13)\n"
     ]
    }
   ],
   "source": [
    "# 결측값 %확인\n",
    "print(df.isna().sum())\n",
    "print('='*100)\n",
    "print(df.shape)"
   ]
  },
  {
   "cell_type": "code",
   "execution_count": 6,
   "metadata": {},
   "outputs": [],
   "source": [
    "# 평균기온 지점 월 평균으로 대체\n",
    "df.loc[df['평균기온(°C)'].isna(), '평균기온(°C)'] = df[df['평균기온(°C)'].isna()].apply(lambda x: df[(df['월']==x['월']) & (df['지점']==x['지점'])]['평균기온(°C)'].mean(), axis=1)"
   ]
  },
  {
   "cell_type": "code",
   "execution_count": 7,
   "metadata": {},
   "outputs": [],
   "source": [
    "# 합계 일조 시간(hr) 지점 월 평균으로 대체\n",
    "df.loc[df['합계 일조 시간(hr)'].isna(), '합계 일조 시간(hr)'] = df[df['합계 일조 시간(hr)'].isna()].apply(lambda x: df[(df['월']==x['월']) & (df['지점']==x['지점'])]['합계 일조 시간(hr)'].mean(), axis=1)"
   ]
  },
  {
   "cell_type": "code",
   "execution_count": 8,
   "metadata": {},
   "outputs": [],
   "source": [
    "# 최대 풍속(m/s) 지점 월 평균으로 대체\n",
    "df.loc[df['최대 풍속(m/s)'].isna(), '최대 풍속(m/s)'] = df[df['최대 풍속(m/s)'].isna()].apply(lambda x: df[(df['월']==x['월']) & (df['지점']==x['지점'])]['최대 풍속(m/s)'].mean(), axis=1)"
   ]
  },
  {
   "cell_type": "code",
   "execution_count": 9,
   "metadata": {},
   "outputs": [],
   "source": [
    "# 나머지 결측치 0으로 채우기\n",
    "df = df.fillna(value=0)"
   ]
  },
  {
   "cell_type": "markdown",
   "metadata": {},
   "source": [
    "### 기온구간\n",
    "- -5도 이하 > 0\n",
    "- 5도 이하 > 1\n",
    "- 15도 이하 > 2\n",
    "- 25도 이하 > 3\n",
    "- 35도 이하 > 4"
   ]
  },
  {
   "cell_type": "code",
   "execution_count": 10,
   "metadata": {},
   "outputs": [
    {
     "name": "stdout",
     "output_type": "stream",
     "text": [
      "3    14893\n",
      "2    11862\n",
      "1    10161\n",
      "4     3059\n",
      "0     1324\n",
      "Name: 기온구간, dtype: int64\n"
     ]
    }
   ],
   "source": [
    "df['기온구간'] = df['평균기온(°C)'].apply(lambda x : 0 if x< -5 \n",
    "                                              else (1 if x<5 \n",
    "                                                    else (2 if x<15 \n",
    "                                                          else(3 if x<25 else 4\n",
    "                                                              )\n",
    "                                                         )\n",
    "                                                   )\n",
    "                                             )\n",
    "print(df['기온구간'].value_counts())"
   ]
  },
  {
   "cell_type": "markdown",
   "metadata": {},
   "source": [
    "### 일조시간구간\n",
    "- 3시간 이하 >> 0\n",
    "- 6시간 이하 >> 1\n",
    "- 9시간 이하 >> 2\n",
    "- 12시간 이하 >> 3\n",
    "- 15시간 이하 >> 4"
   ]
  },
  {
   "cell_type": "code",
   "execution_count": 11,
   "metadata": {},
   "outputs": [
    {
     "data": {
      "text/plain": [
       "2    12134\n",
       "0    11345\n",
       "3    10124\n",
       "1     6478\n",
       "4     1218\n",
       "Name: 일조시간구간, dtype: int64"
      ]
     },
     "execution_count": 11,
     "metadata": {},
     "output_type": "execute_result"
    }
   ],
   "source": [
    "df['일조시간구간'] = df['합계 일조 시간(hr)'].apply(lambda x : 0 if x< 3 \n",
    "                                              else (1 if x<6 \n",
    "                                                    else (2 if x<9 \n",
    "                                                          else(3 if x<12 else 4\n",
    "                                                              )\n",
    "                                                         )\n",
    "                                                   )\n",
    "                                             )\n",
    "df['일조시간구간'].value_counts()"
   ]
  },
  {
   "cell_type": "markdown",
   "metadata": {},
   "source": [
    "### 최고기온"
   ]
  },
  {
   "cell_type": "code",
   "execution_count": 12,
   "metadata": {},
   "outputs": [
    {
     "data": {
      "text/plain": [
       "0    38326\n",
       "1     2973\n",
       "Name: 최고기온일수, dtype: int64"
      ]
     },
     "execution_count": 12,
     "metadata": {},
     "output_type": "execute_result"
    }
   ],
   "source": [
    "df['최고기온일수'] = df['최고기온(°C)'].apply(lambda x : 1 if x >=30 else 0)\n",
    "df['최고기온일수'].value_counts()"
   ]
  },
  {
   "cell_type": "markdown",
   "metadata": {},
   "source": [
    "### 최저기온일수\n",
    "- 배추가 -8도이하 일 경우, 동해를 입으므로 -8이하를 최저기온으로 정함"
   ]
  },
  {
   "cell_type": "code",
   "execution_count": 13,
   "metadata": {},
   "outputs": [
    {
     "data": {
      "text/plain": [
       "0    38973\n",
       "1     2326\n",
       "Name: 최저기온일수, dtype: int64"
      ]
     },
     "execution_count": 13,
     "metadata": {},
     "output_type": "execute_result"
    }
   ],
   "source": [
    "df['최저기온일수'] = df['최저기온(°C)'].apply(lambda x : 1 if x<=-8 else 0)\n",
    "df['최저기온일수'].value_counts()"
   ]
  },
  {
   "cell_type": "markdown",
   "metadata": {},
   "source": [
    "### 1시간 최다강수량기간\n",
    "- 10mm미만 >> 0\n",
    "- 20mm미만 >> 1\n",
    "- 40mm미만 >> 2\n",
    "- 40mm이상 >> 3"
   ]
  },
  {
   "cell_type": "code",
   "execution_count": 14,
   "metadata": {},
   "outputs": [
    {
     "data": {
      "text/plain": [
       "0    40047\n",
       "1      854\n",
       "2      343\n",
       "3       55\n",
       "Name: 1H최다강수량, dtype: int64"
      ]
     },
     "execution_count": 14,
     "metadata": {},
     "output_type": "execute_result"
    }
   ],
   "source": [
    "df['1H최다강수량'] = df['1시간 최다강수량(mm)'].apply(lambda x : 0 if x< 10 \n",
    "                                              else (1 if x<20\n",
    "                                                    else (2 if x<40 else 3)\n",
    "                                                    )\n",
    "                                                )\n",
    "df['1H최다강수량'].value_counts()"
   ]
  },
  {
   "cell_type": "markdown",
   "metadata": {},
   "source": [
    "### 강수량\n",
    "- 0mm > 0\n",
    "- 40mm이하 > 1\n",
    "- 80mm이하 > 2\n",
    "- 110mm이하 > 3\n",
    "- 110mm이상 > 4"
   ]
  },
  {
   "cell_type": "code",
   "execution_count": 15,
   "metadata": {},
   "outputs": [
    {
     "data": {
      "text/plain": [
       "0    28360\n",
       "1    12019\n",
       "2      660\n",
       "3      139\n",
       "4      121\n",
       "Name: 강수량구간, dtype: int64"
      ]
     },
     "execution_count": 15,
     "metadata": {},
     "output_type": "execute_result"
    }
   ],
   "source": [
    "df['강수량구간'] = df['일강수량(mm)'].apply(lambda x : 0 if x== 0 \n",
    "                                              else (1 if x<40\n",
    "                                                    else (2 if x<80 \n",
    "                                                          else(3 if x<110 else 4\n",
    "                                                              )\n",
    "                                                         )\n",
    "                                                   )\n",
    "                                             )\n",
    "df['강수량구간'].value_counts()"
   ]
  },
  {
   "cell_type": "markdown",
   "metadata": {},
   "source": [
    "### 최대풍속\n",
    "- 4 미만 > 0\n",
    "- 10 미만 > 1\n",
    "- 14 미만 > 2\n",
    "- 14 이상 > 3"
   ]
  },
  {
   "cell_type": "code",
   "execution_count": 16,
   "metadata": {},
   "outputs": [
    {
     "data": {
      "text/plain": [
       "1    30083\n",
       "0    10073\n",
       "2     1059\n",
       "3       84\n",
       "Name: 최대풍속, dtype: int64"
      ]
     },
     "execution_count": 16,
     "metadata": {},
     "output_type": "execute_result"
    }
   ],
   "source": [
    "df['최대풍속'] = df['최대 풍속(m/s)'].apply(lambda x : 0 if x< 4\n",
    "                                              else (1 if x<10\n",
    "                                                    else (2 if x<14 else 3)\n",
    "                                                    )\n",
    "                                                )\n",
    "df['최대풍속'].value_counts()"
   ]
  },
  {
   "cell_type": "markdown",
   "metadata": {},
   "source": [
    "## 월단위 변환"
   ]
  },
  {
   "cell_type": "code",
   "execution_count": 17,
   "metadata": {},
   "outputs": [
    {
     "data": {
      "text/html": [
       "<div>\n",
       "<style scoped>\n",
       "    .dataframe tbody tr th:only-of-type {\n",
       "        vertical-align: middle;\n",
       "    }\n",
       "\n",
       "    .dataframe tbody tr th {\n",
       "        vertical-align: top;\n",
       "    }\n",
       "\n",
       "    .dataframe thead th {\n",
       "        text-align: right;\n",
       "    }\n",
       "</style>\n",
       "<table border=\"1\" class=\"dataframe\">\n",
       "  <thead>\n",
       "    <tr style=\"text-align: right;\">\n",
       "      <th></th>\n",
       "      <th>년월</th>\n",
       "      <th>도</th>\n",
       "      <th>기온구간</th>\n",
       "      <th>일조시간구간</th>\n",
       "      <th>최고기온일수</th>\n",
       "      <th>최저기온일수</th>\n",
       "      <th>1H최다강수량</th>\n",
       "      <th>강수량구간</th>\n",
       "      <th>최대풍속</th>\n",
       "    </tr>\n",
       "  </thead>\n",
       "  <tbody>\n",
       "    <tr>\n",
       "      <th>0</th>\n",
       "      <td>1980-01</td>\n",
       "      <td>강원도</td>\n",
       "      <td>1</td>\n",
       "      <td>0</td>\n",
       "      <td>0</td>\n",
       "      <td>0</td>\n",
       "      <td>0</td>\n",
       "      <td>1</td>\n",
       "      <td>0</td>\n",
       "    </tr>\n",
       "    <tr>\n",
       "      <th>1</th>\n",
       "      <td>1980-01</td>\n",
       "      <td>강원도</td>\n",
       "      <td>2</td>\n",
       "      <td>0</td>\n",
       "      <td>0</td>\n",
       "      <td>0</td>\n",
       "      <td>0</td>\n",
       "      <td>1</td>\n",
       "      <td>0</td>\n",
       "    </tr>\n",
       "    <tr>\n",
       "      <th>2</th>\n",
       "      <td>1980-01</td>\n",
       "      <td>강원도</td>\n",
       "      <td>2</td>\n",
       "      <td>1</td>\n",
       "      <td>0</td>\n",
       "      <td>0</td>\n",
       "      <td>0</td>\n",
       "      <td>0</td>\n",
       "      <td>1</td>\n",
       "    </tr>\n",
       "    <tr>\n",
       "      <th>3</th>\n",
       "      <td>1980-01</td>\n",
       "      <td>강원도</td>\n",
       "      <td>1</td>\n",
       "      <td>0</td>\n",
       "      <td>0</td>\n",
       "      <td>0</td>\n",
       "      <td>0</td>\n",
       "      <td>1</td>\n",
       "      <td>1</td>\n",
       "    </tr>\n",
       "    <tr>\n",
       "      <th>4</th>\n",
       "      <td>1980-01</td>\n",
       "      <td>강원도</td>\n",
       "      <td>1</td>\n",
       "      <td>2</td>\n",
       "      <td>0</td>\n",
       "      <td>0</td>\n",
       "      <td>0</td>\n",
       "      <td>0</td>\n",
       "      <td>1</td>\n",
       "    </tr>\n",
       "  </tbody>\n",
       "</table>\n",
       "</div>"
      ],
      "text/plain": [
       "        년월    도  기온구간  일조시간구간  최고기온일수  최저기온일수  1H최다강수량  강수량구간  최대풍속\n",
       "0  1980-01  강원도     1       0       0       0        0      1     0\n",
       "1  1980-01  강원도     2       0       0       0        0      1     0\n",
       "2  1980-01  강원도     2       1       0       0        0      0     1\n",
       "3  1980-01  강원도     1       0       0       0        0      1     1\n",
       "4  1980-01  강원도     1       2       0       0        0      0     1"
      ]
     },
     "execution_count": 17,
     "metadata": {},
     "output_type": "execute_result"
    }
   ],
   "source": [
    "df_month = df[['년월','도','기온구간','일조시간구간','최고기온일수','최저기온일수','1H최다강수량','강수량구간','최대풍속']].copy()\n",
    "df_month.head()"
   ]
  },
  {
   "cell_type": "code",
   "execution_count": 18,
   "metadata": {},
   "outputs": [],
   "source": [
    "# 각각 one-hot-encoding설정\n",
    "tem_ohe = pd.get_dummies(df_month['기온구간'])\n",
    "tem_ohe.columns = ['평균기온(-5미만)','평균기온(-5~5미만)','평균기온(5~15미만)','평균기온(15~25미만)','평균기온(25~35미만)']\n",
    "\n",
    "sun_ohe = pd.get_dummies(df_month['일조시간구간'])\n",
    "sun_ohe.columns = ['일조시간(3미만)','일조시간(3~6미만)','일조시간(6~9미만)','일조시간(9~12미만)','일조시간(12~15미만)']\n",
    "\n",
    "rain_1h_ohe = pd.get_dummies(df_month['1H최다강수량'])\n",
    "rain_1h_ohe.columns = ['1H최다강수량(10미만)','1H최다강수량(10~20미만)','1H최다강수량(20~40미만)','1H최다강수량(40이상)']\n",
    "\n",
    "rain_ohe = pd.get_dummies(df_month['강수량구간'])\n",
    "rain_ohe.columns = ['일강수량(0)','일강수량(1~40미만)','일강수량(40~80미만)','일강수량(80~110미만)','일강수량(110이상)']\n",
    "\n",
    "wind_ohe = pd.get_dummies(df_month['최대풍속'])\n",
    "wind_ohe.columns = ['최대풍속(0~4미만)','최대풍속(4~10미만)','최대풍속(10~14미만)','최대풍속(14이상)']\n",
    "\n",
    "\n",
    "df_month = pd.concat([df_month,tem_ohe,sun_ohe,rain_1h_ohe,rain_ohe,wind_ohe],axis=1)"
   ]
  },
  {
   "cell_type": "code",
   "execution_count": 19,
   "metadata": {},
   "outputs": [
    {
     "data": {
      "text/plain": [
       "(950, 25)"
      ]
     },
     "execution_count": 19,
     "metadata": {},
     "output_type": "execute_result"
    }
   ],
   "source": [
    "df = pd.DataFrame(df_month.groupby(['년월','도'])[\n",
    "    '평균기온(-5미만)','평균기온(-5~5미만)','평균기온(5~15미만)','평균기온(15~25미만)','평균기온(25~35미만)',\n",
    "    '일조시간(3미만)','일조시간(3~6미만)','일조시간(6~9미만)','일조시간(9~12미만)','일조시간(12~15미만)',\n",
    "    '최고기온일수','최저기온일수',\n",
    "    '1H최다강수량(10미만)','1H최다강수량(10~20미만)','1H최다강수량(20~40미만)','1H최다강수량(40이상)',\n",
    "    '일강수량(0)','일강수량(1~40미만)','일강수량(40~80미만)','일강수량(80~110미만)','일강수량(110이상)',\n",
    "    '최대풍속(0~4미만)','최대풍속(4~10미만)','최대풍속(10~14미만)','최대풍속(14이상)'\n",
    "].sum())\n",
    "df.shape"
   ]
  },
  {
   "cell_type": "code",
   "execution_count": 20,
   "metadata": {},
   "outputs": [],
   "source": [
    "df.reset_index(level=['도'], inplace=True)"
   ]
  },
  {
   "cell_type": "code",
   "execution_count": 21,
   "metadata": {},
   "outputs": [
    {
     "data": {
      "text/plain": [
       "Index(['도', '평균기온(-5미만)', '평균기온(-5~5미만)', '평균기온(5~15미만)', '평균기온(15~25미만)',\n",
       "       '평균기온(25~35미만)', '일조시간(3미만)', '일조시간(3~6미만)', '일조시간(6~9미만)',\n",
       "       '일조시간(9~12미만)', '일조시간(12~15미만)', '최고기온일수', '최저기온일수', '1H최다강수량(10미만)',\n",
       "       '1H최다강수량(10~20미만)', '1H최다강수량(20~40미만)', '1H최다강수량(40이상)', '일강수량(0)',\n",
       "       '일강수량(1~40미만)', '일강수량(40~80미만)', '일강수량(80~110미만)', '일강수량(110이상)',\n",
       "       '최대풍속(0~4미만)', '최대풍속(4~10미만)', '최대풍속(10~14미만)', '최대풍속(14이상)'],\n",
       "      dtype='object')"
      ]
     },
     "execution_count": 21,
     "metadata": {},
     "output_type": "execute_result"
    }
   ],
   "source": [
    "df.columns"
   ]
  },
  {
   "cell_type": "markdown",
   "metadata": {},
   "source": [
    "# 배추가격 전처리"
   ]
  },
  {
   "cell_type": "code",
   "execution_count": 22,
   "metadata": {},
   "outputs": [],
   "source": [
    "df2 = pd.read_csv('1997kamis.csv')"
   ]
  },
  {
   "cell_type": "code",
   "execution_count": 23,
   "metadata": {},
   "outputs": [],
   "source": [
    "df2['년월'] = df2['date'].apply(lambda x: str(x)[0:4] + '-' + str(x)[4:6])"
   ]
  },
  {
   "cell_type": "code",
   "execution_count": 24,
   "metadata": {},
   "outputs": [],
   "source": [
    "df2 = df2[['price','년월']].groupby(['년월']).mean()"
   ]
  },
  {
   "cell_type": "code",
   "execution_count": 25,
   "metadata": {},
   "outputs": [],
   "source": [
    "final_df = pd.merge(df, df2, on='년월', how='left')"
   ]
  },
  {
   "cell_type": "code",
   "execution_count": 26,
   "metadata": {},
   "outputs": [],
   "source": [
    "# 시계열 데이터는 같은 날짜의 컬럼을 두개 가져갈수 없으므로 수정\n",
    "temp_df1 = final_df[final_df['도'] == '강원도'][[\n",
    "    '평균기온(-5미만)','평균기온(-5~5미만)','평균기온(5~15미만)','평균기온(15~25미만)','평균기온(25~35미만)',\n",
    "    '일조시간(3미만)','일조시간(3~6미만)','일조시간(6~9미만)','일조시간(9~12미만)','일조시간(12~15미만)',\n",
    "    '최고기온일수','최저기온일수',\n",
    "    '1H최다강수량(10미만)','1H최다강수량(10~20미만)','1H최다강수량(20~40미만)','1H최다강수량(40이상)',\n",
    "    '일강수량(0)','일강수량(1~40미만)','일강수량(40~80미만)','일강수량(80~110미만)','일강수량(110이상)',\n",
    "    '최대풍속(0~4미만)','최대풍속(4~10미만)','최대풍속(10~14미만)','최대풍속(14이상)'\n",
    "]]"
   ]
  },
  {
   "cell_type": "code",
   "execution_count": 27,
   "metadata": {},
   "outputs": [],
   "source": [
    "temp_df2 = final_df[final_df['도'] == '전라도'][[\n",
    "    '평균기온(-5미만)','평균기온(-5~5미만)','평균기온(5~15미만)','평균기온(15~25미만)','평균기온(25~35미만)',\n",
    "    '일조시간(3미만)','일조시간(3~6미만)','일조시간(6~9미만)','일조시간(9~12미만)','일조시간(12~15미만)',\n",
    "    '최고기온일수','최저기온일수',\n",
    "    '1H최다강수량(10미만)','1H최다강수량(10~20미만)','1H최다강수량(20~40미만)','1H최다강수량(40이상)',\n",
    "    '일강수량(0)','일강수량(1~40미만)','일강수량(40~80미만)','일강수량(80~110미만)','일강수량(110이상)',\n",
    "    '최대풍속(0~4미만)','최대풍속(4~10미만)','최대풍속(10~14미만)','최대풍속(14이상)','price'\n",
    "]]"
   ]
  },
  {
   "cell_type": "code",
   "execution_count": 28,
   "metadata": {},
   "outputs": [],
   "source": [
    "temp_df1.columns = [\n",
    "    'J평균기온(-5미만)','J평균기온(-5~5미만)','J평균기온(5~15미만)','J평균기온(15~25미만)','J평균기온(25~35미만)',\n",
    "    'J일조시간(3미만)','J일조시간(3~6미만)','J일조시간(6~9미만)','J일조시간(9~12미만)','J일조시간(12~15미만)',\n",
    "    'J최고기온일수','J최저기온일수',\n",
    "    'J1H최다강수량(10미만)','J1H최다강수량(10~20미만)','J1H최다강수량(20~40미만)','J1H최다강수량(40이상)',\n",
    "    'J일강수량(0)','J일강수량(1~40미만)','J일강수량(40~80미만)','J일강수량(80~110미만)','J일강수량(110이상)',\n",
    "    'J최대풍속(0~4미만)','J최대풍속(4~10미만)','J최대풍속(10~14미만)','J최대풍속(14이상)'\n",
    "]"
   ]
  },
  {
   "cell_type": "code",
   "execution_count": 29,
   "metadata": {},
   "outputs": [],
   "source": [
    "temp_df2.columns = [\n",
    "    'G평균기온(-5미만)','G평균기온(-5~5미만)','G평균기온(5~15미만)','G평균기온(15~25미만)','G평균기온(25~35미만)',\n",
    "    'G일조시간(3미만)','G일조시간(3~6미만)','G일조시간(6~9미만)','G일조시간(9~12미만)','G일조시간(12~15미만)',\n",
    "    'G최고기온일수','G최저기온일수',\n",
    "    'G1H최다강수량(10미만)','G1H최다강수량(10~20미만)','G1H최다강수량(20~40미만)','G1H최다강수량(40이상)',\n",
    "    'G일강수량(0)','G일강수량(1~40미만)','G일강수량(40~80미만)','G일강수량(80~110미만)','G일강수량(110이상)',\n",
    "    'G최대풍속(0~4미만)','G최대풍속(4~10미만)','G최대풍속(10~14미만)','G최대풍속(14이상)','price'\n",
    "]"
   ]
  },
  {
   "cell_type": "code",
   "execution_count": 31,
   "metadata": {},
   "outputs": [],
   "source": [
    "final_df = pd.concat([temp_df1, temp_df2], axis=1)"
   ]
  },
  {
   "cell_type": "code",
   "execution_count": 32,
   "metadata": {},
   "outputs": [],
   "source": [
    "final_df.to_csv('cabbage_data.csv', encoding='utf-8-sig')"
   ]
  },
  {
   "cell_type": "code",
   "execution_count": 35,
   "metadata": {},
   "outputs": [
    {
     "data": {
      "text/plain": [
       "(475, 51)"
      ]
     },
     "execution_count": 35,
     "metadata": {},
     "output_type": "execute_result"
    }
   ],
   "source": [
    "final_df.shape"
   ]
  }
 ],
 "metadata": {
  "kernelspec": {
   "display_name": "Python 3",
   "language": "python",
   "name": "python3"
  },
  "language_info": {
   "codemirror_mode": {
    "name": "ipython",
    "version": 3
   },
   "file_extension": ".py",
   "mimetype": "text/x-python",
   "name": "python",
   "nbconvert_exporter": "python",
   "pygments_lexer": "ipython3",
   "version": "3.6.8"
  }
 },
 "nbformat": 4,
 "nbformat_minor": 2
}
