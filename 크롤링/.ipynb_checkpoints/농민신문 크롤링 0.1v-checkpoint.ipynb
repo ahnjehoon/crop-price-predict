{
 "cells": [
  {
   "cell_type": "code",
   "execution_count": 1,
   "metadata": {},
   "outputs": [],
   "source": [
    "import time\n",
    "import pandas as pd\n",
    "import re"
   ]
  },
  {
   "cell_type": "code",
   "execution_count": 2,
   "metadata": {},
   "outputs": [],
   "source": [
    "from selenium import webdriver\n",
    "from selenium.common.exceptions import NoSuchElementException,StaleElementReferenceException\n",
    "driver = webdriver.Chrome('chromedriver')\n",
    "url = 'https://www.nongmin.com/news/NEWS/ECO/FRM/list'\n",
    "driver.get(url)"
   ]
  },
  {
   "cell_type": "code",
   "execution_count": 3,
   "metadata": {},
   "outputs": [],
   "source": [
    "data_dic = {\n",
    "     'date' : []\n",
    "    ,'title' : []\n",
    "    ,'content' : []\n",
    "    ,'url' : []\n",
    "}"
   ]
  },
  {
   "cell_type": "code",
   "execution_count": 4,
   "metadata": {},
   "outputs": [],
   "source": [
    "# 현재 번호\n",
    "# 20190502 기준 2008년도 페이징 번호 524\n",
    "current_page = 524\n",
    "# 페이지 이동\n",
    "driver.execute_script(\"goPaging(\"+str(current_page)+\");\")"
   ]
  },
  {
   "cell_type": "code",
   "execution_count": 5,
   "metadata": {},
   "outputs": [],
   "source": [
    "# 다 끝났으면 다음 페이지로 이동하는 모듈\n",
    "def moveNextPage():\n",
    "    global current_page\n",
    "    current_page = current_page - 1\n",
    "    # 페이지 이동\n",
    "    driver.execute_script(\"goPaging(\"+str(current_page)+\");\")"
   ]
  },
  {
   "cell_type": "code",
   "execution_count": 6,
   "metadata": {},
   "outputs": [],
   "source": [
    "def getContent(url_tag):\n",
    "    content = ''\n",
    "    url_tag.find_element_by_css_selector('._sp_each_title').click()\n",
    "    # 최근 열린 탭으로 전환\n",
    "    driver.switch_to.window(driver.window_handles[-1])\n",
    "    try:\n",
    "        content = driver.find_element_by_css_selector('#articleWrap > div.article')\n",
    "    except NoSuchElementException:\n",
    "        print(\" [예외 발생] 표 없음 \")\n",
    "    finally:\n",
    "        # 현재 탭 닫기\n",
    "        driver.close()\n",
    "        # 맨 처음 탭으로 변경(0번 탭)\n",
    "        driver.switch_to.window(driver.window_handles[0])\n",
    "    return content"
   ]
  },
  {
   "cell_type": "code",
   "execution_count": 7,
   "metadata": {},
   "outputs": [
    {
     "name": "stdout",
     "output_type": "stream",
     "text": [
      "1 크롤링 끝1\n"
     ]
    }
   ],
   "source": [
    "# 전체 시작\n",
    "while(True): \n",
    "    page_content = driver.find_elements_by_css_selector('.card_type03 > .card_frame')\n",
    "    for content in reversed(page_content):\n",
    "        # date\n",
    "        data_dic['date'].append(content.find_element_by_css_selector('.date').text)\n",
    "        # 제목 담기\n",
    "        data_dic['title'].append(content.find_element_by_css_selector('.txt').text)\n",
    "        # URL 담기\n",
    "        data_dic['url'].append(content.find_element_by_css_selector('a').get_attribute(\"href\"))\n",
    "        # content\n",
    "#         data_dic['content'].append(getContent(content))\n",
    "        data_dic['content'].append('')\n",
    "    if(current_page == 1):\n",
    "        print('크롤링 끝!')\n",
    "        break\n",
    "    else:\n",
    "        moveNextPage()"
   ]
  },
  {
   "cell_type": "code",
   "execution_count": 8,
   "metadata": {},
   "outputs": [],
   "source": [
    "df = pd.DataFrame.from_dict(data_dic)\n",
    "df.to_csv('농민신문 크롤링.csv', index=False, encoding='utf-8-sig')    "
   ]
  },
  {
   "cell_type": "raw",
   "metadata": {},
   "source": [
    "# 두개 탭 확인\n",
    "print(driver.window_handles)\n",
    "# 최근 열린 탭으로 전환\n",
    "driver.switch_to.window(driver.window_handles[-1])\n",
    "# 로딩 기다리기\n",
    "time.sleep(5)\n",
    "# 현재 탭 닫기\n",
    "driver.close()\n",
    "# 맨 처음 탭으로 변경(0번 탭)\n",
    "driver.switch_to.window(driver.window_handles[0])\n",
    "# 로딩 기다리기\n",
    "time.sleep(5)"
   ]
  },
  {
   "cell_type": "code",
   "execution_count": null,
   "metadata": {},
   "outputs": [],
   "source": []
  }
 ],
 "metadata": {
  "kernelspec": {
   "display_name": "Python 3",
   "language": "python",
   "name": "python3"
  },
  "language_info": {
   "codemirror_mode": {
    "name": "ipython",
    "version": 3
   },
   "file_extension": ".py",
   "mimetype": "text/x-python",
   "name": "python",
   "nbconvert_exporter": "python",
   "pygments_lexer": "ipython3",
   "version": "3.7.3"
  }
 },
 "nbformat": 4,
 "nbformat_minor": 2
}
