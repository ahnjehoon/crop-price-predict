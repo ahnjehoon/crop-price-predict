{
 "cells": [
  {
   "cell_type": "code",
   "execution_count": 1,
   "metadata": {},
   "outputs": [],
   "source": [
    "#경고 끄기\n",
    "import warnings\n",
    "warnings.filterwarnings(action='ignore')"
   ]
  },
  {
   "cell_type": "code",
   "execution_count": 2,
   "metadata": {},
   "outputs": [],
   "source": [
    "import pandas as pd\n",
    "import numpy as np\n",
    "import seaborn as sns\n",
    "import matplotlib.pyplot as plt\n",
    "%matplotlib inline\n",
    "\n",
    "plt.rc('font', family='Malgun Gothic')"
   ]
  },
  {
   "cell_type": "code",
   "execution_count": 3,
   "metadata": {},
   "outputs": [],
   "source": [
    "def getData():\n",
    "    df2008 = pd.read_csv(\"C:/농수산가격데이터/1001배추/2008010120081231.csv\")\n",
    "    df2009 = pd.read_csv(\"C:/농수산가격데이터/1001배추/2009010120091231.csv\")\n",
    "    df2010 = pd.read_csv(\"C:/농수산가격데이터/1001배추/2010010120101231.csv\")\n",
    "    df2011 = pd.read_csv(\"C:/농수산가격데이터/1001배추/2011010120111231.csv\")\n",
    "    df2012 = pd.read_csv(\"C:/농수산가격데이터/1001배추/2012010120121231.csv\")\n",
    "    df2013 = pd.read_csv(\"C:/농수산가격데이터/1001배추/2013010120131231.csv\")\n",
    "    df2014 = pd.read_csv(\"C:/농수산가격데이터/1001배추/2014010120141231.csv\")\n",
    "    df2015 = pd.read_csv(\"C:/농수산가격데이터/1001배추/2015010120151231.csv\")\n",
    "    df2016 = pd.read_csv(\"C:/농수산가격데이터/1001배추/2016010120161231.csv\")\n",
    "    df2017 = pd.read_csv(\"C:/농수산가격데이터/1001배추/2017010120171231.csv\")\n",
    "    df2018 = pd.read_csv(\"C:/농수산가격데이터/1001배추/2018010120181231.csv\")\n",
    "    return pd.concat((df2008, df2009, df2010, df2011, df2012, df2013, df2014, df2015, df2016, df2017, df2018), axis=0)"
   ]
  },
  {
   "cell_type": "code",
   "execution_count": 4,
   "metadata": {},
   "outputs": [],
   "source": [
    "def priceTransform(df):\n",
    "    #Kg당 가격(priceperkg)\n",
    "    #총거래가격(totalprice) = 거래량(delngQy) * 가격(sbidpric)\n",
    "    #총량(totalweight) = 거래단량(delngprut) * 거래량(delngQy) * 단위\n",
    "\n",
    "    df11 = df[(df['stdunitnewcode']==11)]\n",
    "    df12 = df[(df['stdunitnewcode']==12)]\n",
    "    df13 = df[(df['stdunitnewcode']==13)]\n",
    "    df11['priceperkg'] = df11['sbidpric'] / df11['delngprut'] * 1000\n",
    "    df11['totalweight'] = df11['delngprut'] * df11['delngqy'] / 1000\n",
    "    df12['priceperkg'] = df12['sbidpric'] / df12['delngprut']\n",
    "    df12['totalweight'] = df12['delngprut'] * df12['delngqy']\n",
    "    df13['priceperkg'] = df13['sbidpric'] / df13['delngprut'] / 1000\n",
    "    df13['totalweight'] = df13['delngprut'] * df13['delngqy'] * 1000\n",
    "    \n",
    "    df = pd.concat([df11, df12, df13])\n",
    "\n",
    "    df['totalprice'] = df['sbidpric'] * df['delngqy']\n",
    "        \n",
    "    return df"
   ]
  },
  {
   "cell_type": "code",
   "execution_count": 5,
   "metadata": {},
   "outputs": [],
   "source": [
    "df = getData()"
   ]
  },
  {
   "cell_type": "code",
   "execution_count": 6,
   "metadata": {},
   "outputs": [],
   "source": [
    "df = priceTransform(df)"
   ]
  },
  {
   "cell_type": "code",
   "execution_count": 7,
   "metadata": {},
   "outputs": [],
   "source": [
    "kamis1001 = pd.read_csv(r'C:\\crop_data\\1001kamis.csv')"
   ]
  },
  {
   "cell_type": "code",
   "execution_count": 8,
   "metadata": {},
   "outputs": [],
   "source": [
    "# kamis 데이터는 10kg기준이라 kg 단위에서 * 10해줌\n",
    "df['priceper10kg'] = df['priceperkg'].apply(lambda x: x*10)"
   ]
  },
  {
   "cell_type": "code",
   "execution_count": 9,
   "metadata": {},
   "outputs": [],
   "source": [
    "# kamis 데이터를 기준으로 +-30%오차 이상인것은 제외했음\n",
    "def deleteAnomalyPrice(priceper10kg, delngde):\n",
    "    if(kamis1001[kamis1001['date'] == delngde]['avg'].shape[0]):\n",
    "        kamis_price = kamis1001[kamis1001['date'] == delngde]['avg'].values[0]\n",
    "        if((kamis_price*0.7 <= priceper10kg) & (priceper10kg <= kamis_price*1.3)):\n",
    "            return 1\n",
    "    return 0"
   ]
  },
  {
   "cell_type": "code",
   "execution_count": null,
   "metadata": {},
   "outputs": [],
   "source": [
    "df['normal'] = df[['priceper10kg','delngde']].apply(lambda x: deleteAnomalyPrice(x['priceper10kg'], x['delngde']), axis=1)"
   ]
  },
  {
   "cell_type": "code",
   "execution_count": null,
   "metadata": {},
   "outputs": [],
   "source": [
    "df['yyyy']   = df['delngde'].apply(lambda x: str(x)[0:4])\n",
    "df['yyyymm'] = df['delngde'].apply(lambda x: str(x)[0:6])\n",
    "df['delngde'] = df['delngde'].apply(lambda x: int(x))\n",
    "df['yyyy']   = df['yyyy'].apply(lambda x: int(x))\n",
    "df['yyyymm'] = df['yyyymm'].apply(lambda x: int(x))\n",
    "# 정렬\n",
    "df = df.sort_values([\"delngde\"], ascending=[True])"
   ]
  },
  {
   "cell_type": "code",
   "execution_count": null,
   "metadata": {},
   "outputs": [],
   "source": [
    "# aucsecode\n",
    "# 경매 데이터 1 \n",
    "# 수의계약 데이터 2\n",
    "\n",
    "# 11,특\n",
    "# 12,상\n",
    "# 13,보통\n",
    "# 1Z,무등급\n",
    "# df = df[(df['stdqlitynewcode'] == '11')\n",
    "#     | (df['stdqlitynewcode'] == '12')]\n",
    "\n",
    "# 100101,봄배추\n",
    "# 100102,여름배추\n",
    "# 100103,김장(가을)배추\n",
    "# 100104,월동배추\n",
    "# 100105,고냉지배추\n",
    "# 100106,저장배추\n",
    "\n",
    "# 데이터 가공\n",
    "# 가격이 100이하 제거\n",
    "df = df[(df['priceperkg'] >= 100)]\n",
    "\n",
    "# 근거자료\n",
    "# https://www.kamis.or.kr/customer/main/main.do\n",
    "# kamis1001[kamis1001['avg'] < 3000]\n",
    "# 무게가 0인 것 제거\n",
    "df = df[(df['totalweight'] >= 0)]\n",
    "\n",
    "df = df[\n",
    "    (df['aucsecode'] == 1)\n",
    "    & (\n",
    "        (df['stdqlitynewcode'] == '11')\n",
    "        | (df['stdqlitynewcode'] == '12')\n",
    "    )\n",
    "    & (\n",
    "        (df['stdspciesnewcode'] == 100101)\n",
    "            | (df['stdspciesnewcode'] == 100102)\n",
    "            | (df['stdspciesnewcode'] == 100103)\n",
    "            | (df['stdspciesnewcode'] == 100104)\n",
    "            | (df['stdspciesnewcode'] == 100105)\n",
    "            | (df['stdspciesnewcode'] == 100106)\n",
    "    )\n",
    "    & (\n",
    "        (df['whsalmrktcode'] == 110001)\n",
    "            | (df['whsalmrktcode'] == 210001)\n",
    "            | (df['whsalmrktcode'] == 220001)\n",
    "      )\n",
    "     & (df['normal'] == 1)]"
   ]
  },
  {
   "cell_type": "code",
   "execution_count": null,
   "metadata": {},
   "outputs": [],
   "source": [
    "# 2008년 1년치 데이터 제거 전 boxplot\n",
    "f, ax = plt.subplots(figsize=(15, 4))\n",
    "fig = sns.boxplot(x='yyyymm', y='priceper10kg', data=df)"
   ]
  },
  {
   "cell_type": "code",
   "execution_count": null,
   "metadata": {
    "scrolled": true
   },
   "outputs": [],
   "source": [
    "# 2008년 1년치 데이터 제거 후 boxplot\n",
    "f, ax = plt.subplots(figsize=(15, 4))\n",
    "fig = sns.boxplot(x='yyyymm', y='priceper10kg', data=df[(df['yyyy'] != 2008)])"
   ]
  },
  {
   "cell_type": "raw",
   "metadata": {},
   "source": [
    "kamis1001[((20090101 <= kamis1001['date']) & (kamis1001['date'] <= 20090131))]"
   ]
  },
  {
   "cell_type": "raw",
   "metadata": {},
   "source": [
    "df[\n",
    "    #경매구분코드\n",
    "    (df['aucsecode'] == 1)\n",
    "    #날짜\n",
    "    & ((200901 <= df['yyyymm']) & (df['yyyymm'] <= 200901))\n",
    "    #등급\n",
    "    & (df['stdqlitynewnm'] == '특')\n",
    "    #품종코드\n",
    "    & (\n",
    "        (df['stdspciesnewcode'] == 100101)\n",
    "            | (df['stdspciesnewcode'] == 100102)\n",
    "            | (df['stdspciesnewcode'] == 100103)\n",
    "            | (df['stdspciesnewcode'] == 100104)\n",
    "            | (df['stdspciesnewcode'] == 100105)\n",
    "            | (df['stdspciesnewcode'] == 100106)\n",
    "    )\n",
    "    #시장코드\n",
    "    & (\n",
    "        (df['whsalmrktcode'] == 110001)\n",
    "            | (df['whsalmrktcode'] == 210001)\n",
    "            | (df['whsalmrktcode'] == 220001)\n",
    "      )\n",
    "    & (df['normal'] == 1)\n",
    "][['delngde','priceper10kg']].groupby('delngde').mean()"
   ]
  },
  {
   "cell_type": "raw",
   "metadata": {},
   "source": [
    "df[\n",
    "    #경매구분코드\n",
    "    (df['aucsecode'] == 1)\n",
    "    #날짜\n",
    "    & ((200901 <= df['yyyymm']) & (df['yyyymm'] <= 200901))\n",
    "    #등급\n",
    "    & (df['stdqlitynewnm'] == '특')\n",
    "    #품종코드\n",
    "    & (\n",
    "        (df['stdspciesnewcode'] == 100101)\n",
    "            | (df['stdspciesnewcode'] == 100102)\n",
    "            | (df['stdspciesnewcode'] == 100103)\n",
    "            | (df['stdspciesnewcode'] == 100104)\n",
    "            | (df['stdspciesnewcode'] == 100105)\n",
    "            | (df['stdspciesnewcode'] == 100106)\n",
    "    )\n",
    "    #시장코드\n",
    "    & (\n",
    "        (df['whsalmrktcode'] == 110001)\n",
    "            | (df['whsalmrktcode'] == 210001)\n",
    "            | (df['whsalmrktcode'] == 220001)\n",
    "      )\n",
    "    & (df['normal'] == 1)\n",
    "][['delngde','priceper10kg']].groupby('delngde').mean()[['priceper10kg']]"
   ]
  },
  {
   "cell_type": "code",
   "execution_count": null,
   "metadata": {},
   "outputs": [],
   "source": [
    "df[\n",
    "    #경매구분코드\n",
    "    (df['aucsecode'] == 1)\n",
    "    #품종코드\n",
    "    & (\n",
    "        (df['stdspciesnewcode'] == 100101)\n",
    "            | (df['stdspciesnewcode'] == 100102)\n",
    "            | (df['stdspciesnewcode'] == 100103)\n",
    "            | (df['stdspciesnewcode'] == 100104)\n",
    "            | (df['stdspciesnewcode'] == 100105)\n",
    "            | (df['stdspciesnewcode'] == 100106)\n",
    "    )\n",
    "    #시장코드\n",
    "    & (\n",
    "        (df['whsalmrktcode'] == 110001)\n",
    "            | (df['whsalmrktcode'] == 210001)\n",
    "            | (df['whsalmrktcode'] == 220001)\n",
    "      )\n",
    "    & (df['normal'] == 1)\n",
    "].to_csv('1001.csv')"
   ]
  },
  {
   "cell_type": "code",
   "execution_count": null,
   "metadata": {},
   "outputs": [],
   "source": []
  }
 ],
 "metadata": {
  "kernelspec": {
   "display_name": "Python 3",
   "language": "python",
   "name": "python3"
  },
  "language_info": {
   "codemirror_mode": {
    "name": "ipython",
    "version": 3
   },
   "file_extension": ".py",
   "mimetype": "text/x-python",
   "name": "python",
   "nbconvert_exporter": "python",
   "pygments_lexer": "ipython3",
   "version": "3.7.4"
  }
 },
 "nbformat": 4,
 "nbformat_minor": 2
}
